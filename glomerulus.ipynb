{
  "cells": [
    {
      "attachments": {},
      "cell_type": "markdown",
      "metadata": {
        "id": "U2Jnk8EuKpiH"
      },
      "source": [
        "# Glomerulus - MLP model"
      ]
    },
    {
      "cell_type": "code",
      "execution_count": null,
      "metadata": {
        "colab": {
          "base_uri": "https://localhost:8080/"
        },
        "id": "-OY63V075y_u",
        "outputId": "ce3ed8aa-fbd7-4c2b-b8a4-3a14358e1270"
      },
      "outputs": [
        {
          "name": "stdout",
          "output_type": "stream",
          "text": [
            "Archive:  Glomerulus.zip\n",
            "   creating: Glomerulus/\n",
            "   creating: Glomerulus/Normal/\n",
            "   creating: Glomerulus/Normal/teste/\n",
            "   creating: Glomerulus/Normal/teste/PICRO/\n",
            "  inflating: Glomerulus/Normal/teste/PICRO/teste_picro (9).jpg  \n",
            "  inflating: Glomerulus/Normal/teste/PICRO/teste_picro (22).jpg  \n",
            "  inflating: Glomerulus/Normal/teste/PICRO/teste_picro (46).jpg  \n",
            "  inflating: Glomerulus/Normal/teste/PICRO/teste_picro (37).jpg  \n",
            "  inflating: Glomerulus/Normal/teste/PICRO/teste_picro (34).jpg  \n",
            "  inflating: Glomerulus/Normal/teste/PICRO/teste_picro (25).jpg  \n",
            "  inflating: Glomerulus/Normal/teste/PICRO/teste_picro (3).jpg  \n",
            "  inflating: Glomerulus/Normal/teste/PICRO/teste_picro (27).jpg  \n",
            "  inflating: Glomerulus/Normal/teste/PICRO/teste_picro (31).JPG  \n",
            "  inflating: Glomerulus/Normal/teste/PICRO/teste_picro (26).jpg  \n",
            "  inflating: Glomerulus/Normal/teste/PICRO/teste_picro (30).JPG  \n",
            "  inflating: Glomerulus/Normal/teste/PICRO/teste_picro (39).jpg  \n",
            "  inflating: Glomerulus/Normal/teste/PICRO/teste_picro (35).jpg  \n",
            "  inflating: Glomerulus/Normal/teste/PICRO/teste_picro (1).jpg  \n",
            "  inflating: Glomerulus/Normal/teste/PICRO/teste_picro (13).jpg  \n",
            "  inflating: Glomerulus/Normal/teste/PICRO/teste_picro (12).jpg  \n",
            "  inflating: Glomerulus/Normal/teste/PICRO/teste_picro (19).jpg  \n",
            "  inflating: Glomerulus/Normal/teste/PICRO/teste_picro (16).jpg  \n",
            "  inflating: Glomerulus/Normal/teste/PICRO/teste_picro (24).jpg  \n",
            "  inflating: Glomerulus/Normal/teste/PICRO/teste_picro (33).JPG  \n",
            "  inflating: Glomerulus/Normal/teste/PICRO/teste_picro (44).jpg  \n",
            "  inflating: Glomerulus/Normal/teste/PICRO/teste_picro (2).jpg  \n",
            "  inflating: Glomerulus/Normal/teste/PICRO/teste_picro (28).jpg  \n",
            "  inflating: Glomerulus/Normal/teste/PICRO/teste_picro (42).jpg  \n",
            "  inflating: Glomerulus/Normal/teste/PICRO/teste_picro (20).jpg  \n",
            "  inflating: Glomerulus/Normal/teste/PICRO/teste_picro (7).jpg  \n",
            "  inflating: Glomerulus/Normal/teste/PICRO/teste_picro (23).jpg  \n",
            "  inflating: Glomerulus/Normal/teste/PICRO/teste_picro (14).jpg  \n",
            "  inflating: Glomerulus/Normal/teste/PICRO/teste_picro (29).jpg  \n",
            "  inflating: Glomerulus/Normal/teste/PICRO/teste_picro (45).jpg  \n",
            "  inflating: Glomerulus/Normal/teste/PICRO/teste_picro (43).jpg  \n",
            "  inflating: Glomerulus/Normal/teste/PICRO/teste_picro (17).jpg  \n",
            "  inflating: Glomerulus/Normal/teste/PICRO/teste_picro (41).jpg  \n",
            "  inflating: Glomerulus/Normal/teste/PICRO/teste_picro (10).jpg  \n",
            "  inflating: Glomerulus/Normal/teste/PICRO/teste_picro (6).jpg  \n",
            "  inflating: Glomerulus/Normal/teste/PICRO/teste_picro (21).jpg  \n",
            "  inflating: Glomerulus/Normal/teste/PICRO/teste_picro (8).jpg  \n",
            "  inflating: Glomerulus/Normal/teste/PICRO/teste_picro (40).jpg  \n",
            "  inflating: Glomerulus/Normal/teste/PICRO/teste_picro (11).jpg  \n",
            "  inflating: Glomerulus/Normal/teste/PICRO/teste_picro (15).jpg  \n",
            "  inflating: Glomerulus/Normal/teste/PICRO/teste_picro (4).jpg  \n",
            "  inflating: Glomerulus/Normal/teste/PICRO/teste_picro (36).jpg  \n",
            "  inflating: Glomerulus/Normal/teste/PICRO/teste_picro (18).jpg  \n",
            "  inflating: Glomerulus/Normal/teste/PICRO/teste_picro (5).jpg  \n",
            "  inflating: Glomerulus/Normal/teste/PICRO/teste_picro (38).jpg  \n",
            "  inflating: Glomerulus/Normal/teste/PICRO/teste_picro (32).JPG  \n",
            "   creating: Glomerulus/Normal/teste/HE/\n",
            "  inflating: Glomerulus/Normal/teste/HE/teste_he (40).jpg  \n",
            "  inflating: Glomerulus/Normal/teste/HE/teste_he (209).jpg  \n",
            "  inflating: Glomerulus/Normal/teste/HE/teste_he (416).jpg  \n",
            "  inflating: Glomerulus/Normal/teste/HE/teste_he (171).JPG  \n",
            "  inflating: Glomerulus/Normal/teste/HE/teste_he (31).jpg  \n",
            "  inflating: Glomerulus/Normal/teste/HE/teste_he (273).jpg  \n",
            "  inflating: Glomerulus/Normal/teste/HE/teste_he (411).jpg  \n",
            "  inflating: Glomerulus/Normal/teste/HE/teste_he (420).jpg  \n",
            "  inflating: Glomerulus/Normal/teste/HE/teste_he (216).jpg  \n",
            "  inflating: Glomerulus/Normal/teste/HE/teste_he (268).jpg  \n",
            "  inflating: Glomerulus/Normal/teste/HE/teste_he (262).jpg  \n",
            "  inflating: Glomerulus/Normal/teste/HE/teste_he (330).jpg  \n",
            "  inflating: Glomerulus/Normal/teste/HE/teste_he (152).jpg  \n",
            "  inflating: Glomerulus/Normal/teste/HE/teste_he (414).jpg  \n",
            "  inflating: Glomerulus/Normal/teste/HE/teste_he (331).jpg  \n",
            "  inflating: Glomerulus/Normal/teste/HE/teste_he (323).jpg  \n",
            "  inflating: Glomerulus/Normal/teste/HE/teste_he (221).jpg  \n",
            "  inflating: Glomerulus/Normal/teste/HE/teste_he (375).jpg  \n",
            "  inflating: Glomerulus/Normal/teste/HE/teste_he (102).jpg  \n",
            "  inflating: Glomerulus/Normal/teste/HE/teste_he (58).jpg  \n",
            "  inflating: Glomerulus/Normal/teste/HE/teste_he (50).jpg  \n",
            "  inflating: Glomerulus/Normal/teste/HE/teste_he (140).jpg  \n",
            "  inflating: Glomerulus/Normal/teste/HE/teste_he (389).jpg  \n",
            "  inflating: Glomerulus/Normal/teste/HE/teste_he (282).jpg  \n",
            "  inflating: Glomerulus/Normal/teste/HE/teste_he (350).jpg  \n",
            "  inflating: Glomerulus/Normal/teste/HE/teste_he (228).jpg  \n",
            "  inflating: Glomerulus/Normal/teste/HE/teste_he (54).jpg  \n",
            "  inflating: Glomerulus/Normal/teste/HE/teste_he (403).jpg  \n",
            "  inflating: Glomerulus/Normal/teste/HE/teste_he (47).jpg  \n",
            "  inflating: Glomerulus/Normal/teste/HE/teste_he (427).jpg  \n",
            "  inflating: Glomerulus/Normal/teste/HE/teste_he (73).jpg  \n",
            "  inflating: Glomerulus/Normal/teste/HE/teste_he (79).jpg  \n",
            "  inflating: Glomerulus/Normal/teste/HE/teste_he (413).jpg  \n",
            "  inflating: Glomerulus/Normal/teste/HE/teste_he (204).jpg  \n",
            "  inflating: Glomerulus/Normal/teste/HE/teste_he (15).jpg  \n",
            "  inflating: Glomerulus/Normal/teste/HE/teste_he (257).jpg  \n",
            "  inflating: Glomerulus/Normal/teste/HE/teste_he (41).jpg  \n",
            "  inflating: Glomerulus/Normal/teste/HE/teste_he (17).jpg  \n",
            "  inflating: Glomerulus/Normal/teste/HE/teste_he (106).jpg  \n",
            "  inflating: Glomerulus/Normal/teste/HE/teste_he (6).jpg  \n",
            "  inflating: Glomerulus/Normal/teste/HE/teste_he (276).jpg  \n",
            "  inflating: Glomerulus/Normal/teste/HE/teste_he (322).jpg  \n",
            "  inflating: Glomerulus/Normal/teste/HE/teste_he (224).jpg  \n",
            "  inflating: Glomerulus/Normal/teste/HE/teste_he (158).JPG  \n",
            "  inflating: Glomerulus/Normal/teste/HE/teste_he (24).jpg  \n",
            "  inflating: Glomerulus/Normal/teste/HE/teste_he (306).jpg  \n",
            "  inflating: Glomerulus/Normal/teste/HE/teste_he (129).jpg  \n",
            "  inflating: Glomerulus/Normal/teste/HE/teste_he (1).jpg  \n",
            "  inflating: Glomerulus/Normal/teste/HE/teste_he (279).jpg  \n",
            "  inflating: Glomerulus/Normal/teste/HE/teste_he (64).jpg  \n",
            "  inflating: Glomerulus/Normal/teste/HE/teste_he (267).jpg  \n",
            "  inflating: Glomerulus/Normal/teste/HE/teste_he (263).jpg  \n",
            "  inflating: Glomerulus/Normal/teste/HE/teste_he (13).jpg  \n",
            "  inflating: Glomerulus/Normal/teste/HE/teste_he (85).jpg  \n",
            "  inflating: Glomerulus/Normal/teste/HE/teste_he (131).jpg  \n",
            "  inflating: Glomerulus/Normal/teste/HE/teste_he (283).jpg  \n",
            "  inflating: Glomerulus/Normal/teste/HE/teste_he (30).jpg  \n",
            "  inflating: Glomerulus/Normal/teste/HE/teste_he (89).jpg  \n",
            "  inflating: Glomerulus/Normal/teste/HE/teste_he (169).JPG  \n",
            "  inflating: Glomerulus/Normal/teste/HE/teste_he (45).jpg  \n",
            "  inflating: Glomerulus/Normal/teste/HE/teste_he (189).JPG  \n",
            "  inflating: Glomerulus/Normal/teste/HE/teste_he (230).jpg  \n",
            "  inflating: Glomerulus/Normal/teste/HE/teste_he (48).jpg  \n",
            "  inflating: Glomerulus/Normal/teste/HE/teste_he (337).jpg  \n",
            "  inflating: Glomerulus/Normal/teste/HE/teste_he (186).JPG  \n",
            "  inflating: Glomerulus/Normal/teste/HE/teste_he (355).jpg  \n",
            "  inflating: Glomerulus/Normal/teste/HE/teste_he (7).jpg  \n",
            "  inflating: Glomerulus/Normal/teste/HE/teste_he (175).JPG  \n",
            "  inflating: Glomerulus/Normal/teste/HE/teste_he (198).jpg  \n",
            "  inflating: Glomerulus/Normal/teste/HE/teste_he (143).jpg  \n",
            "  inflating: Glomerulus/Normal/teste/HE/teste_he (231).jpg  \n",
            "  inflating: Glomerulus/Normal/teste/HE/teste_he (190).JPG  \n",
            "  inflating: Glomerulus/Normal/teste/HE/teste_he (67).jpg  \n",
            "  inflating: Glomerulus/Normal/teste/HE/teste_he (226).jpg  \n",
            "  inflating: Glomerulus/Normal/teste/HE/teste_he (260).jpg  \n",
            "  inflating: Glomerulus/Normal/teste/HE/teste_he (261).jpg  \n",
            "  inflating: Glomerulus/Normal/teste/HE/teste_he (185).JPG  \n",
            "  inflating: Glomerulus/Normal/teste/HE/teste_he (62).jpg  \n",
            "  inflating: Glomerulus/Normal/teste/HE/teste_he (422).jpg  \n",
            "  inflating: Glomerulus/Normal/teste/HE/teste_he (270).jpg  \n",
            "  inflating: Glomerulus/Normal/teste/HE/teste_he (388).jpg  \n",
            "  inflating: Glomerulus/Normal/teste/HE/teste_he (424).jpg  \n",
            "  inflating: Glomerulus/Normal/teste/HE/teste_he (289).jpg  \n",
            "  inflating: Glomerulus/Normal/teste/HE/teste_he (9).jpg  \n",
            "  inflating: Glomerulus/Normal/teste/HE/teste_he (379).jpg  \n",
            "  inflating: Glomerulus/Normal/teste/HE/teste_he (36).jpg  \n",
            "  inflating: Glomerulus/Normal/teste/HE/teste_he (213).jpg  \n",
            "  inflating: Glomerulus/Normal/teste/HE/teste_he (433).jpg  \n",
            "  inflating: Glomerulus/Normal/teste/HE/teste_he (133).jpg  \n",
            "  inflating: Glomerulus/Normal/teste/HE/teste_he (298).jpg  \n",
            "  inflating: Glomerulus/Normal/teste/HE/teste_he (372).jpg  \n",
            "  inflating: Glomerulus/Normal/teste/HE/teste_he (274).jpg  \n",
            "  inflating: Glomerulus/Normal/teste/HE/teste_he (301).jpg  \n",
            "  inflating: Glomerulus/Normal/teste/HE/teste_he (19).jpg  \n",
            "  inflating: Glomerulus/Normal/teste/HE/teste_he (109).jpg  \n",
            "  inflating: Glomerulus/Normal/teste/HE/teste_he (142).jpg  \n",
            "  inflating: Glomerulus/Normal/teste/HE/teste_he (406).jpg  \n",
            "  inflating: Glomerulus/Normal/teste/HE/teste_he (373).jpg  \n",
            "  inflating: Glomerulus/Normal/teste/HE/teste_he (112).jpg  \n",
            "  inflating: Glomerulus/Normal/teste/HE/teste_he (192).JPG  \n",
            "  inflating: Glomerulus/Normal/teste/HE/teste_he (154).JPG  \n",
            "  inflating: Glomerulus/Normal/teste/HE/teste_he (369).jpg  \n",
            "  inflating: Glomerulus/Normal/teste/HE/teste_he (390).jpg  \n",
            "  inflating: Glomerulus/Normal/teste/HE/teste_he (203).jpg  \n",
            "  inflating: Glomerulus/Normal/teste/HE/teste_he (110).jpg  \n",
            "  inflating: Glomerulus/Normal/teste/HE/teste_he (75).jpg  \n",
            "  inflating: Glomerulus/Normal/teste/HE/teste_he (14).jpg  \n",
            "  inflating: Glomerulus/Normal/teste/HE/teste_he (251).jpg  \n",
            "  inflating: Glomerulus/Normal/teste/HE/teste_he (249).jpg  \n",
            "  inflating: Glomerulus/Normal/teste/HE/teste_he (419).jpg  \n",
            "  inflating: Glomerulus/Normal/teste/HE/teste_he (65).jpg  \n",
            "  inflating: Glomerulus/Normal/teste/HE/teste_he (178).JPG  \n",
            "  inflating: Glomerulus/Normal/teste/HE/teste_he (339).jpg  \n",
            "  inflating: Glomerulus/Normal/teste/HE/teste_he (258).jpg  \n",
            "  inflating: Glomerulus/Normal/teste/HE/teste_he (98).jpg  \n",
            "  inflating: Glomerulus/Normal/teste/HE/teste_he (207).jpg  \n",
            "  inflating: Glomerulus/Normal/teste/HE/teste_he (364).jpg  \n",
            "  inflating: Glomerulus/Normal/teste/HE/teste_he (220).jpg  \n",
            "  inflating: Glomerulus/Normal/teste/HE/teste_he (136).jpg  \n",
            "  inflating: Glomerulus/Normal/teste/HE/teste_he (304).jpg  \n",
            "  inflating: Glomerulus/Normal/teste/HE/teste_he (318).jpg  \n",
            "  inflating: Glomerulus/Normal/teste/HE/teste_he (43).jpg  \n",
            "  inflating: Glomerulus/Normal/teste/HE/teste_he (412).jpg  \n",
            "  inflating: Glomerulus/Normal/teste/HE/teste_he (125).jpg  \n",
            "  inflating: Glomerulus/Normal/teste/HE/teste_he (201).jpg  \n",
            "  inflating: Glomerulus/Normal/teste/HE/teste_he (247).jpg  \n",
            "  inflating: Glomerulus/Normal/teste/HE/teste_he (302).jpg  \n",
            "  inflating: Glomerulus/Normal/teste/HE/teste_he (404).jpg  \n",
            "  inflating: Glomerulus/Normal/teste/HE/teste_he (367).jpg  \n",
            "  inflating: Glomerulus/Normal/teste/HE/teste_he (148).jpg  \n",
            "  inflating: Glomerulus/Normal/teste/HE/teste_he (345).jpg  \n",
            "  inflating: Glomerulus/Normal/teste/HE/teste_he (358).jpg  \n",
            "  inflating: Glomerulus/Normal/teste/HE/teste_he (44).jpg  \n",
            "  inflating: Glomerulus/Normal/teste/HE/teste_he (94).jpg  \n",
            "  inflating: Glomerulus/Normal/teste/HE/teste_he (74).jpg  \n",
            "  inflating: Glomerulus/Normal/teste/HE/teste_he (399).jpg  \n",
            "  inflating: Glomerulus/Normal/teste/HE/teste_he (256).jpg  \n",
            "  inflating: Glomerulus/Normal/teste/HE/teste_he (376).jpg  \n",
            "  inflating: Glomerulus/Normal/teste/HE/teste_he (393).jpg  \n",
            "  inflating: Glomerulus/Normal/teste/HE/teste_he (93).jpg  \n",
            "  inflating: Glomerulus/Normal/teste/HE/teste_he (254).jpg  \n",
            "  inflating: Glomerulus/Normal/teste/HE/teste_he (421).jpg  \n",
            "  inflating: Glomerulus/Normal/teste/HE/teste_he (432).jpg  \n",
            "  inflating: Glomerulus/Normal/teste/HE/teste_he (95).jpg  \n",
            "  inflating: Glomerulus/Normal/teste/HE/teste_he (232).jpg  \n",
            "  inflating: Glomerulus/Normal/teste/HE/teste_he (120).jpg  \n",
            "  inflating: Glomerulus/Normal/teste/HE/teste_he (392).jpg  \n",
            "  inflating: Glomerulus/Normal/teste/HE/teste_he (99).jpg  \n",
            "  inflating: Glomerulus/Normal/teste/HE/teste_he (250).jpg  \n",
            "  inflating: Glomerulus/Normal/teste/HE/teste_he (51).jpg  \n",
            "  inflating: Glomerulus/Normal/teste/HE/teste_he (400).jpg  \n",
            "  inflating: Glomerulus/Normal/teste/HE/teste_he (127).jpg  \n",
            "  inflating: Glomerulus/Normal/teste/HE/teste_he (199).jpg  \n",
            "  inflating: Glomerulus/Normal/teste/HE/teste_he (311).jpg  \n",
            "  inflating: Glomerulus/Normal/teste/HE/teste_he (18).jpg  \n",
            "  inflating: Glomerulus/Normal/teste/HE/teste_he (96).jpg  \n",
            "  inflating: Glomerulus/Normal/teste/HE/teste_he (53).jpg  \n",
            "  inflating: Glomerulus/Normal/teste/HE/teste_he (107).jpg  \n",
            "  inflating: Glomerulus/Normal/teste/HE/teste_he (33).jpg  \n",
            "  inflating: Glomerulus/Normal/teste/HE/teste_he (308).jpg  \n",
            "  inflating: Glomerulus/Normal/teste/HE/teste_he (149).jpg  \n",
            "  inflating: Glomerulus/Normal/teste/HE/teste_he (72).jpg  \n",
            "  inflating: Glomerulus/Normal/teste/HE/teste_he (233).jpg  \n",
            "  inflating: Glomerulus/Normal/teste/HE/teste_he (295).jpg  \n",
            "  inflating: Glomerulus/Normal/teste/HE/teste_he (219).jpg  \n",
            "  inflating: Glomerulus/Normal/teste/HE/teste_he (173).JPG  \n",
            "  inflating: Glomerulus/Normal/teste/HE/teste_he (39).jpg  \n",
            "  inflating: Glomerulus/Normal/teste/HE/teste_he (359).jpg  \n",
            "  inflating: Glomerulus/Normal/teste/HE/teste_he (151).jpg  \n",
            "  inflating: Glomerulus/Normal/teste/HE/teste_he (5).jpg  \n",
            "  inflating: Glomerulus/Normal/teste/HE/teste_he (383).jpg  \n",
            "  inflating: Glomerulus/Normal/teste/HE/teste_he (138).jpg  \n",
            "  inflating: Glomerulus/Normal/teste/HE/teste_he (111).jpg  \n",
            "  inflating: Glomerulus/Normal/teste/HE/teste_he (253).jpg  \n",
            "  inflating: Glomerulus/Normal/teste/HE/teste_he (280).jpg  \n",
            "  inflating: Glomerulus/Normal/teste/HE/teste_he (320).jpg  \n",
            "  inflating: Glomerulus/Normal/teste/HE/teste_he (170).JPG  \n",
            "  inflating: Glomerulus/Normal/teste/HE/teste_he (348).jpg  \n",
            "  inflating: Glomerulus/Normal/teste/HE/teste_he (104).jpg  \n",
            "  inflating: Glomerulus/Normal/teste/HE/teste_he (172).JPG  \n",
            "  inflating: Glomerulus/Normal/teste/HE/teste_he (10).jpg  \n",
            "  inflating: Glomerulus/Normal/teste/HE/teste_he (259).jpg  \n",
            "  inflating: Glomerulus/Normal/teste/HE/teste_he (240).jpg  \n",
            "  inflating: Glomerulus/Normal/teste/HE/teste_he (354).jpg  \n",
            "  inflating: Glomerulus/Normal/teste/HE/teste_he (434).jpg  \n",
            "  inflating: Glomerulus/Normal/teste/HE/teste_he (46).jpg  \n",
            "  inflating: Glomerulus/Normal/teste/HE/teste_he (277).jpg  \n",
            "  inflating: Glomerulus/Normal/teste/HE/teste_he (293).jpg  \n",
            "  inflating: Glomerulus/Normal/teste/HE/teste_he (239).jpg  \n",
            "  inflating: Glomerulus/Normal/teste/HE/teste_he (271).jpg  \n",
            "  inflating: Glomerulus/Normal/teste/HE/teste_he (361).jpg  \n",
            "  inflating: Glomerulus/Normal/teste/HE/teste_he (217).jpg  \n",
            "  inflating: Glomerulus/Normal/teste/HE/teste_he (315).jpg  \n",
            "  inflating: Glomerulus/Normal/teste/HE/teste_he (297).jpg  \n",
            "  inflating: Glomerulus/Normal/teste/HE/teste_he (237).jpg  \n",
            "  inflating: Glomerulus/Normal/teste/HE/teste_he (38).jpg  \n",
            "  inflating: Glomerulus/Normal/teste/HE/teste_he (244).jpg  \n",
            "  inflating: Glomerulus/Normal/teste/HE/teste_he (137).jpg  \n",
            "  inflating: Glomerulus/Normal/teste/HE/teste_he (291).jpg  \n",
            "  inflating: Glomerulus/Normal/teste/HE/teste_he (278).jpg  \n",
            "  inflating: Glomerulus/Normal/teste/HE/teste_he (218).jpg  \n",
            "  inflating: Glomerulus/Normal/teste/HE/teste_he (248).jpg  \n",
            "  inflating: Glomerulus/Normal/teste/HE/teste_he (410).jpg  \n",
            "  inflating: Glomerulus/Normal/teste/HE/teste_he (368).jpg  \n",
            "  inflating: Glomerulus/Normal/teste/HE/teste_he (124).jpg  \n",
            "  inflating: Glomerulus/Normal/teste/HE/teste_he (165).JPG  \n",
            "  inflating: Glomerulus/Normal/teste/HE/teste_he (235).jpg  \n",
            "  inflating: Glomerulus/Normal/teste/HE/teste_he (196).JPG  \n",
            "  inflating: Glomerulus/Normal/teste/HE/teste_he (243).jpg  \n",
            "  inflating: Glomerulus/Normal/teste/HE/teste_he (118).jpg  \n",
            "  inflating: Glomerulus/Normal/teste/HE/teste_he (2).jpg  \n",
            "  inflating: Glomerulus/Normal/teste/HE/teste_he (319).jpg  \n",
            "  inflating: Glomerulus/Normal/teste/HE/teste_he (187).JPG  \n",
            "  inflating: Glomerulus/Normal/teste/HE/teste_he (241).jpg  \n",
            "  inflating: Glomerulus/Normal/teste/HE/teste_he (328).jpg  \n",
            "  inflating: Glomerulus/Normal/teste/HE/teste_he (222).jpg  \n",
            "  inflating: Glomerulus/Normal/teste/HE/teste_he (26).jpg  \n",
            "  inflating: Glomerulus/Normal/teste/HE/teste_he (281).jpg  \n",
            "  inflating: Glomerulus/Normal/teste/HE/teste_he (380).jpg  \n",
            "  inflating: Glomerulus/Normal/teste/HE/teste_he (366).jpg  \n",
            "  inflating: Glomerulus/Normal/teste/HE/teste_he (22).jpg  \n",
            "  inflating: Glomerulus/Normal/teste/HE/teste_he (397).jpg  \n",
            "  inflating: Glomerulus/Normal/teste/HE/teste_he (321).jpg  \n",
            "  inflating: Glomerulus/Normal/teste/HE/teste_he (344).jpg  \n",
            "  inflating: Glomerulus/Normal/teste/HE/teste_he (206).jpg  \n",
            "  inflating: Glomerulus/Normal/teste/HE/teste_he (357).jpg  \n",
            "  inflating: Glomerulus/Normal/teste/HE/teste_he (164).JPG  \n",
            "  inflating: Glomerulus/Normal/teste/HE/teste_he (299).jpg  \n",
            "  inflating: Glomerulus/Normal/teste/HE/teste_he (153).jpg  \n",
            "  inflating: Glomerulus/Normal/teste/HE/teste_he (287).jpg  \n",
            "  inflating: Glomerulus/Normal/teste/HE/teste_he (208).jpg  \n",
            "  inflating: Glomerulus/Normal/teste/HE/teste_he (97).jpg  \n",
            "  inflating: Glomerulus/Normal/teste/HE/teste_he (229).jpg  \n",
            "  inflating: Glomerulus/Normal/teste/HE/teste_he (90).jpg  \n",
            "  inflating: Glomerulus/Normal/teste/HE/teste_he (417).jpg  \n",
            "  inflating: Glomerulus/Normal/teste/HE/teste_he (114).jpg  \n",
            "  inflating: Glomerulus/Normal/teste/HE/teste_he (326).jpg  \n",
            "  inflating: Glomerulus/Normal/teste/HE/teste_he (252).jpg  \n",
            "  inflating: Glomerulus/Normal/teste/HE/teste_he (212).jpg  \n",
            "  inflating: Glomerulus/Normal/teste/HE/teste_he (32).jpg  \n",
            "  inflating: Glomerulus/Normal/teste/HE/teste_he (71).jpg  \n",
            "  inflating: Glomerulus/Normal/teste/HE/teste_he (179).JPG  \n",
            "  inflating: Glomerulus/Normal/teste/HE/teste_he (317).jpg  \n",
            "  inflating: Glomerulus/Normal/teste/HE/teste_he (197).JPG  \n",
            "  inflating: Glomerulus/Normal/teste/HE/teste_he (83).jpg  \n",
            "  inflating: Glomerulus/Normal/teste/HE/teste_he (370).jpg  \n",
            "  inflating: Glomerulus/Normal/teste/HE/teste_he (378).jpg  \n",
            "  inflating: Glomerulus/Normal/teste/HE/teste_he (425).jpg  \n",
            "  inflating: Glomerulus/Normal/teste/HE/teste_he (69).jpg  \n",
            "  inflating: Glomerulus/Normal/teste/HE/teste_he (307).jpg  \n",
            "  inflating: Glomerulus/Normal/teste/HE/teste_he (347).jpg  \n",
            "  inflating: Glomerulus/Normal/teste/HE/teste_he (381).jpg  \n",
            "  inflating: Glomerulus/Normal/teste/HE/teste_he (177).JPG  \n",
            "  inflating: Glomerulus/Normal/teste/HE/teste_he (119).jpg  \n",
            "  inflating: Glomerulus/Normal/teste/HE/teste_he (60).jpg  \n",
            "  inflating: Glomerulus/Normal/teste/HE/teste_he (341).jpg  \n",
            "  inflating: Glomerulus/Normal/teste/HE/teste_he (332).jpg  \n",
            "  inflating: Glomerulus/Normal/teste/HE/teste_he (193).JPG  \n",
            "  inflating: Glomerulus/Normal/teste/HE/teste_he (61).jpg  \n",
            "  inflating: Glomerulus/Normal/teste/HE/teste_he (351).jpg  \n",
            "  inflating: Glomerulus/Normal/teste/HE/teste_he (407).jpg  \n",
            "  inflating: Glomerulus/Normal/teste/HE/teste_he (59).jpg  \n",
            "  inflating: Glomerulus/Normal/teste/HE/teste_he (4).jpg  \n",
            "  inflating: Glomerulus/Normal/teste/HE/teste_he (288).jpg  \n",
            "  inflating: Glomerulus/Normal/teste/HE/teste_he (184).JPG  \n",
            "  inflating: Glomerulus/Normal/teste/HE/teste_he (310).jpg  \n",
            "  inflating: Glomerulus/Normal/teste/HE/teste_he (211).jpg  \n",
            "  inflating: Glomerulus/Normal/teste/HE/teste_he (160).JPG  \n",
            "  inflating: Glomerulus/Normal/teste/HE/teste_he (269).jpg  \n",
            "  inflating: Glomerulus/Normal/teste/HE/teste_he (409).jpg  \n",
            "  inflating: Glomerulus/Normal/teste/HE/teste_he (91).jpg  \n",
            "  inflating: Glomerulus/Normal/teste/HE/teste_he (402).jpg  \n",
            "  inflating: Glomerulus/Normal/teste/HE/teste_he (28).jpg  \n",
            "  inflating: Glomerulus/Normal/teste/HE/teste_he (352).jpg  \n",
            "  inflating: Glomerulus/Normal/teste/HE/teste_he (275).jpg  \n",
            "  inflating: Glomerulus/Normal/teste/HE/teste_he (365).jpg  \n",
            "  inflating: Glomerulus/Normal/teste/HE/teste_he (147).jpg  \n",
            "  inflating: Glomerulus/Normal/teste/HE/teste_he (325).jpg  \n",
            "  inflating: Glomerulus/Normal/teste/HE/teste_he (391).jpg  \n",
            "  inflating: Glomerulus/Normal/teste/HE/teste_he (236).jpg  \n",
            "  inflating: Glomerulus/Normal/teste/HE/teste_he (418).jpg  \n",
            "  inflating: Glomerulus/Normal/teste/HE/teste_he (225).jpg  \n",
            "  inflating: Glomerulus/Normal/teste/HE/teste_he (123).jpg  \n",
            "  inflating: Glomerulus/Normal/teste/HE/teste_he (394).jpg  \n",
            "  inflating: Glomerulus/Normal/teste/HE/teste_he (205).jpg  \n",
            "  inflating: Glomerulus/Normal/teste/HE/teste_he (335).jpg  \n",
            "  inflating: Glomerulus/Normal/teste/HE/teste_he (108).jpg  \n",
            "  inflating: Glomerulus/Normal/teste/HE/teste_he (292).jpg  \n",
            "  inflating: Glomerulus/Normal/teste/HE/teste_he (245).jpg  \n",
            "  inflating: Glomerulus/Normal/teste/HE/teste_he (294).jpg  \n",
            "  inflating: Glomerulus/Normal/teste/HE/teste_he (180).JPG  \n",
            "  inflating: Glomerulus/Normal/teste/HE/teste_he (55).jpg  \n",
            "  inflating: Glomerulus/Normal/teste/HE/teste_he (429).jpg  \n",
            "  inflating: Glomerulus/Normal/teste/HE/teste_he (155).JPG  \n",
            "  inflating: Glomerulus/Normal/teste/HE/teste_he (29).jpg  \n",
            "  inflating: Glomerulus/Normal/teste/HE/teste_he (16).jpg  \n",
            "  inflating: Glomerulus/Normal/teste/HE/teste_he (183).JPG  \n",
            "  inflating: Glomerulus/Normal/teste/HE/teste_he (300).jpg  \n",
            "  inflating: Glomerulus/Normal/teste/HE/teste_he (305).jpg  \n",
            "  inflating: Glomerulus/Normal/teste/HE/teste_he (34).jpg  \n",
            "  inflating: Glomerulus/Normal/teste/HE/teste_he (405).jpg  \n",
            "  inflating: Glomerulus/Normal/teste/HE/teste_he (11).jpg  \n",
            "  inflating: Glomerulus/Normal/teste/HE/teste_he (130).jpg  \n",
            "  inflating: Glomerulus/Normal/teste/HE/teste_he (80).jpg  \n",
            "  inflating: Glomerulus/Normal/teste/HE/teste_he (182).JPG  \n",
            "  inflating: Glomerulus/Normal/teste/HE/teste_he (238).jpg  \n",
            "  inflating: Glomerulus/Normal/teste/HE/teste_he (362).jpg  \n",
            "  inflating: Glomerulus/Normal/teste/HE/teste_he (166).JPG  \n",
            "  inflating: Glomerulus/Normal/teste/HE/teste_he (214).jpg  \n",
            "  inflating: Glomerulus/Normal/teste/HE/teste_he (408).jpg  \n",
            "  inflating: Glomerulus/Normal/teste/HE/teste_he (66).jpg  \n",
            "  inflating: Glomerulus/Normal/teste/HE/teste_he (382).jpg  \n",
            "  inflating: Glomerulus/Normal/teste/HE/teste_he (296).jpg  \n",
            "  inflating: Glomerulus/Normal/teste/HE/teste_he (200).jpg  \n",
            "  inflating: Glomerulus/Normal/teste/HE/teste_he (430).jpg  \n",
            "  inflating: Glomerulus/Normal/teste/HE/teste_he (371).jpg  \n",
            "  inflating: Glomerulus/Normal/teste/HE/teste_he (103).jpg  \n",
            "  inflating: Glomerulus/Normal/teste/HE/teste_he (386).jpg  \n",
            "  inflating: Glomerulus/Normal/teste/HE/teste_he (21).jpg  \n",
            "  inflating: Glomerulus/Normal/teste/HE/teste_he (68).jpg  \n",
            "  inflating: Glomerulus/Normal/teste/HE/teste_he (156).JPG  \n",
            "  inflating: Glomerulus/Normal/teste/HE/teste_he (284).jpg  \n",
            "  inflating: Glomerulus/Normal/teste/HE/teste_he (327).jpg  \n",
            "  inflating: Glomerulus/Normal/teste/HE/teste_he (194).JPG  \n",
            "  inflating: Glomerulus/Normal/teste/HE/teste_he (100).jpg  \n",
            "  inflating: Glomerulus/Normal/teste/HE/teste_he (314).jpg  \n",
            "  inflating: Glomerulus/Normal/teste/HE/teste_he (377).jpg  \n",
            "  inflating: Glomerulus/Normal/teste/HE/teste_he (84).jpg  \n",
            "  inflating: Glomerulus/Normal/teste/HE/teste_he (396).jpg  \n",
            "  inflating: Glomerulus/Normal/teste/HE/teste_he (290).jpg  \n",
            "  inflating: Glomerulus/Normal/teste/HE/teste_he (78).jpg  \n",
            "  inflating: Glomerulus/Normal/teste/HE/teste_he (162).JPG  \n",
            "  inflating: Glomerulus/Normal/teste/HE/teste_he (401).jpg  \n",
            "  inflating: Glomerulus/Normal/teste/HE/teste_he (56).jpg  \n",
            "  inflating: Glomerulus/Normal/teste/HE/teste_he (139).jpg  \n",
            "  inflating: Glomerulus/Normal/teste/HE/teste_he (135).jpg  \n",
            "  inflating: Glomerulus/Normal/teste/HE/teste_he (116).jpg  \n",
            "  inflating: Glomerulus/Normal/teste/HE/teste_he (223).jpg  \n",
            "  inflating: Glomerulus/Normal/teste/HE/teste_he (363).jpg  \n",
            "  inflating: Glomerulus/Normal/teste/HE/teste_he (431).jpg  \n",
            "  inflating: Glomerulus/Normal/teste/HE/teste_he (49).jpg  \n",
            "  inflating: Glomerulus/Normal/teste/HE/teste_he (334).jpg  \n",
            "  inflating: Glomerulus/Normal/teste/HE/teste_he (356).jpg  \n",
            "  inflating: Glomerulus/Normal/teste/HE/teste_he (8).jpg  \n",
            "  inflating: Glomerulus/Normal/teste/HE/teste_he (42).jpg  \n",
            "  inflating: Glomerulus/Normal/teste/HE/teste_he (398).jpg  \n",
            "  inflating: Glomerulus/Normal/teste/HE/teste_he (121).jpg  \n",
            "  inflating: Glomerulus/Normal/teste/HE/teste_he (76).jpg  \n",
            "  inflating: Glomerulus/Normal/teste/HE/teste_he (77).jpg  \n",
            "  inflating: Glomerulus/Normal/teste/HE/teste_he (128).jpg  \n",
            "  inflating: Glomerulus/Normal/teste/HE/teste_he (146).jpg  \n",
            "  inflating: Glomerulus/Normal/teste/HE/teste_he (117).jpg  \n",
            "  inflating: Glomerulus/Normal/teste/HE/teste_he (202).jpg  \n",
            "  inflating: Glomerulus/Normal/teste/HE/teste_he (141).jpg  \n",
            "  inflating: Glomerulus/Normal/teste/HE/teste_he (342).jpg  \n",
            "  inflating: Glomerulus/Normal/teste/HE/teste_he (87).jpg  \n",
            "  inflating: Glomerulus/Normal/teste/HE/teste_he (134).jpg  \n",
            "  inflating: Glomerulus/Normal/teste/HE/teste_he (303).jpg  \n",
            "  inflating: Glomerulus/Normal/teste/HE/teste_he (63).jpg  \n",
            "  inflating: Glomerulus/Normal/teste/HE/teste_he (338).jpg  \n",
            "  inflating: Glomerulus/Normal/teste/HE/teste_he (12).jpg  \n",
            "  inflating: Glomerulus/Normal/teste/HE/teste_he (324).jpg  \n",
            "  inflating: Glomerulus/Normal/teste/HE/teste_he (122).jpg  \n",
            "  inflating: Glomerulus/Normal/teste/HE/teste_he (82).jpg  \n",
            "  inflating: Glomerulus/Normal/teste/HE/teste_he (37).jpg  \n",
            "  inflating: Glomerulus/Normal/teste/HE/teste_he (272).jpg  \n",
            "  inflating: Glomerulus/Normal/teste/HE/teste_he (210).jpg  \n",
            "  inflating: Glomerulus/Normal/teste/HE/teste_he (52).jpg  \n",
            "  inflating: Glomerulus/Normal/teste/HE/teste_he (70).jpg  \n",
            "  inflating: Glomerulus/Normal/teste/HE/teste_he (168).JPG  \n",
            "  inflating: Glomerulus/Normal/teste/HE/teste_he (336).jpg  \n",
            "  inflating: Glomerulus/Normal/teste/HE/teste_he (340).jpg  \n",
            "  inflating: Glomerulus/Normal/teste/HE/teste_he (145).jpg  \n",
            "  inflating: Glomerulus/Normal/teste/HE/teste_he (157).JPG  \n",
            "  inflating: Glomerulus/Normal/teste/HE/teste_he (395).jpg  \n",
            "  inflating: Glomerulus/Normal/teste/HE/teste_he (312).jpg  \n",
            "  inflating: Glomerulus/Normal/teste/HE/teste_he (27).jpg  \n",
            "  inflating: Glomerulus/Normal/teste/HE/teste_he (346).jpg  \n",
            "  inflating: Glomerulus/Normal/teste/HE/teste_he (3).jpg  \n",
            "  inflating: Glomerulus/Normal/teste/HE/teste_he (23).jpg  \n",
            "  inflating: Glomerulus/Normal/teste/HE/teste_he (150).jpg  \n",
            "  inflating: Glomerulus/Normal/teste/HE/teste_he (167).JPG  \n",
            "  inflating: Glomerulus/Normal/teste/HE/teste_he (176).JPG  \n",
            "  inflating: Glomerulus/Normal/teste/HE/teste_he (246).jpg  \n",
            "  inflating: Glomerulus/Normal/teste/HE/teste_he (174).JPG  \n",
            "  inflating: Glomerulus/Normal/teste/HE/teste_he (25).jpg  \n",
            "  inflating: Glomerulus/Normal/teste/HE/teste_he (313).jpg  \n",
            "  inflating: Glomerulus/Normal/teste/HE/teste_he (113).jpg  \n",
            "  inflating: Glomerulus/Normal/teste/HE/teste_he (126).jpg  \n",
            "  inflating: Glomerulus/Normal/teste/HE/teste_he (385).jpg  \n",
            "  inflating: Glomerulus/Normal/teste/HE/teste_he (266).jpg  \n",
            "  inflating: Glomerulus/Normal/teste/HE/teste_he (101).jpg  \n",
            "  inflating: Glomerulus/Normal/teste/HE/teste_he (144).jpg  \n",
            "  inflating: Glomerulus/Normal/teste/HE/teste_he (255).jpg  \n",
            "  inflating: Glomerulus/Normal/teste/HE/teste_he (333).jpg  \n",
            "  inflating: Glomerulus/Normal/teste/HE/teste_he (115).jpg  \n",
            "  inflating: Glomerulus/Normal/teste/HE/teste_he (387).jpg  \n",
            "  inflating: Glomerulus/Normal/teste/HE/teste_he (132).jpg  \n",
            "  inflating: Glomerulus/Normal/teste/HE/teste_he (360).jpg  \n",
            "  inflating: Glomerulus/Normal/teste/HE/teste_he (242).jpg  \n",
            "  inflating: Glomerulus/Normal/teste/HE/teste_he (20).jpg  \n",
            "  inflating: Glomerulus/Normal/teste/HE/teste_he (86).jpg  \n",
            "  inflating: Glomerulus/Normal/teste/HE/teste_he (88).jpg  \n",
            "  inflating: Glomerulus/Normal/teste/HE/teste_he (423).jpg  \n",
            "  inflating: Glomerulus/Normal/teste/HE/teste_he (316).jpg  \n",
            "  inflating: Glomerulus/Normal/teste/HE/teste_he (161).JPG  \n",
            "  inflating: Glomerulus/Normal/teste/HE/teste_he (159).JPG  \n",
            "  inflating: Glomerulus/Normal/teste/HE/teste_he (195).JPG  \n",
            "  inflating: Glomerulus/Normal/teste/HE/teste_he (234).jpg  \n",
            "  inflating: Glomerulus/Normal/teste/HE/teste_he (81).jpg  \n",
            "  inflating: Glomerulus/Normal/teste/HE/teste_he (353).jpg  \n",
            "  inflating: Glomerulus/Normal/teste/HE/teste_he (105).jpg  \n",
            "  inflating: Glomerulus/Normal/teste/HE/teste_he (428).jpg  \n",
            "  inflating: Glomerulus/Normal/teste/HE/teste_he (264).jpg  \n",
            "  inflating: Glomerulus/Normal/teste/HE/teste_he (57).jpg  \n",
            "  inflating: Glomerulus/Normal/teste/HE/teste_he (163).JPG  \n",
            "  inflating: Glomerulus/Normal/teste/HE/teste_he (374).jpg  \n",
            "  inflating: Glomerulus/Normal/teste/HE/teste_he (92).jpg  \n",
            "  inflating: Glomerulus/Normal/teste/HE/teste_he (191).JPG  \n",
            "  inflating: Glomerulus/Normal/teste/HE/teste_he (343).jpg  \n",
            "  inflating: Glomerulus/Normal/teste/HE/teste_he (286).jpg  \n",
            "  inflating: Glomerulus/Normal/teste/HE/teste_he (265).jpg  \n",
            "  inflating: Glomerulus/Normal/teste/HE/teste_he (181).JPG  \n",
            "  inflating: Glomerulus/Normal/teste/HE/teste_he (188).JPG  \n",
            "  inflating: Glomerulus/Normal/teste/HE/teste_he (227).jpg  \n",
            "  inflating: Glomerulus/Normal/teste/HE/teste_he (35).jpg  \n",
            "  inflating: Glomerulus/Normal/teste/HE/teste_he (329).jpg  \n",
            "  inflating: Glomerulus/Normal/teste/HE/teste_he (309).jpg  \n",
            "  inflating: Glomerulus/Normal/teste/HE/teste_he (426).jpg  \n",
            "  inflating: Glomerulus/Normal/teste/HE/teste_he (349).jpg  \n",
            "  inflating: Glomerulus/Normal/teste/HE/teste_he (215).jpg  \n",
            "  inflating: Glomerulus/Normal/teste/HE/teste_he (415).jpg  \n",
            "  inflating: Glomerulus/Normal/teste/HE/teste_he (384).jpg  \n",
            "  inflating: Glomerulus/Normal/teste/HE/teste_he (285).jpg  \n",
            "   creating: Glomerulus/Normal/teste/PAMS/\n",
            "  inflating: Glomerulus/Normal/teste/PAMS/teste_pams (45).jpg  \n",
            "  inflating: Glomerulus/Normal/teste/PAMS/teste_pams (36).jpg  \n",
            "  inflating: Glomerulus/Normal/teste/PAMS/teste_pams (46).jpg  \n",
            "  inflating: Glomerulus/Normal/teste/PAMS/teste_pams (47).jpg  \n",
            "  inflating: Glomerulus/Normal/teste/PAMS/teste_pams (73).jpg  \n",
            "  inflating: Glomerulus/Normal/teste/PAMS/teste_pams (93).jpg  \n",
            "  inflating: Glomerulus/Normal/teste/PAMS/teste_pams (24).jpg  \n",
            "  inflating: Glomerulus/Normal/teste/PAMS/teste_pams (34).jpg  \n",
            "  inflating: Glomerulus/Normal/teste/PAMS/teste_pams (3).jpg  \n",
            "  inflating: Glomerulus/Normal/teste/PAMS/teste_pams (49).JPG  \n",
            "  inflating: Glomerulus/Normal/teste/PAMS/teste_pams (67).JPG  \n",
            "  inflating: Glomerulus/Normal/teste/PAMS/teste_pams (76).jpg  \n",
            "  inflating: Glomerulus/Normal/teste/PAMS/teste_pams (44).jpg  \n",
            "  inflating: Glomerulus/Normal/teste/PAMS/teste_pams (65).JPG  \n",
            "  inflating: Glomerulus/Normal/teste/PAMS/teste_pams (37).jpg  \n",
            "  inflating: Glomerulus/Normal/teste/PAMS/teste_pams (2).jpg  \n",
            "  inflating: Glomerulus/Normal/teste/PAMS/teste_pams (7).jpg  \n",
            "  inflating: Glomerulus/Normal/teste/PAMS/teste_pams (11).jpg  \n",
            "  inflating: Glomerulus/Normal/teste/PAMS/teste_pams (75).jpg  \n",
            "  inflating: Glomerulus/Normal/teste/PAMS/teste_pams (30).jpg  \n",
            "  inflating: Glomerulus/Normal/teste/PAMS/teste_pams (18).jpg  \n",
            "  inflating: Glomerulus/Normal/teste/PAMS/teste_pams (15).jpg  \n",
            "  inflating: Glomerulus/Normal/teste/PAMS/teste_pams (21).jpg  \n",
            "  inflating: Glomerulus/Normal/teste/PAMS/teste_pams (72).jpg  \n",
            "  inflating: Glomerulus/Normal/teste/PAMS/teste_pams (79).jpg  \n",
            "  inflating: Glomerulus/Normal/teste/PAMS/teste_pams (78).jpg  \n",
            "  inflating: Glomerulus/Normal/teste/PAMS/teste_pams (82).jpg  \n",
            "  inflating: Glomerulus/Normal/teste/PAMS/teste_pams (20).jpg  \n",
            "  inflating: Glomerulus/Normal/teste/PAMS/teste_pams (9).jpg  \n",
            "  inflating: Glomerulus/Normal/teste/PAMS/teste_pams (88).jpg  \n",
            "  inflating: Glomerulus/Normal/teste/PAMS/teste_pams (17).jpg  \n",
            "  inflating: Glomerulus/Normal/teste/PAMS/teste_pams (28).jpg  \n",
            "  inflating: Glomerulus/Normal/teste/PAMS/teste_pams (66).JPG  \n",
            "  inflating: Glomerulus/Normal/teste/PAMS/teste_pams (1).jpg  \n",
            "  inflating: Glomerulus/Normal/teste/PAMS/teste_pams (69).jpg  \n",
            "  inflating: Glomerulus/Normal/teste/PAMS/teste_pams (77).jpg  \n",
            "  inflating: Glomerulus/Normal/teste/PAMS/teste_pams (42).jpg  \n",
            "  inflating: Glomerulus/Normal/teste/PAMS/teste_pams (50).jpg  \n",
            "  inflating: Glomerulus/Normal/teste/PAMS/teste_pams (60).JPG  \n",
            "  inflating: Glomerulus/Normal/teste/PAMS/teste_pams (57).jpg  \n",
            "  inflating: Glomerulus/Normal/teste/PAMS/teste_pams (23).jpg  \n",
            "  inflating: Glomerulus/Normal/teste/PAMS/teste_pams (61).JPG  \n",
            "  inflating: Glomerulus/Normal/teste/PAMS/teste_pams (25).jpg  \n",
            "  inflating: Glomerulus/Normal/teste/PAMS/teste_pams (41).jpg  \n",
            "  inflating: Glomerulus/Normal/teste/PAMS/teste_pams (55).jpg  \n",
            "  inflating: Glomerulus/Normal/teste/PAMS/teste_pams (62).JPG  \n",
            "  inflating: Glomerulus/Normal/teste/PAMS/teste_pams (13).jpg  \n",
            "  inflating: Glomerulus/Normal/teste/PAMS/teste_pams (56).jpg  \n",
            "  inflating: Glomerulus/Normal/teste/PAMS/teste_pams (4).jpg  \n",
            "  inflating: Glomerulus/Normal/teste/PAMS/teste_pams (48).jpg  \n",
            "  inflating: Glomerulus/Normal/teste/PAMS/teste_pams (5).jpg  \n",
            "  inflating: Glomerulus/Normal/teste/PAMS/teste_pams (16).jpg  \n",
            "  inflating: Glomerulus/Normal/teste/PAMS/teste_pams (94).jpg  \n",
            "  inflating: Glomerulus/Normal/teste/PAMS/teste_pams (53).jpg  \n",
            "  inflating: Glomerulus/Normal/teste/PAMS/teste_pams (91).jpg  \n",
            "  inflating: Glomerulus/Normal/teste/PAMS/teste_pams (51).jpg  \n",
            "  inflating: Glomerulus/Normal/teste/PAMS/teste_pams (10).jpg  \n",
            "  inflating: Glomerulus/Normal/teste/PAMS/teste_pams (40).jpg  \n",
            "  inflating: Glomerulus/Normal/teste/PAMS/teste_pams (70).jpg  \n",
            "  inflating: Glomerulus/Normal/teste/PAMS/teste_pams (6).jpg  \n",
            "  inflating: Glomerulus/Normal/teste/PAMS/teste_pams (59).JPG  \n",
            "  inflating: Glomerulus/Normal/teste/PAMS/teste_pams (89).jpg  \n",
            "  inflating: Glomerulus/Normal/teste/PAMS/teste_pams (33).jpg  \n",
            "  inflating: Glomerulus/Normal/teste/PAMS/teste_pams (90).jpg  \n",
            "  inflating: Glomerulus/Normal/teste/PAMS/teste_pams (58).JPG  \n",
            "  inflating: Glomerulus/Normal/teste/PAMS/teste_pams (39).jpg  \n",
            "  inflating: Glomerulus/Normal/teste/PAMS/teste_pams (14).jpg  \n",
            "  inflating: Glomerulus/Normal/teste/PAMS/teste_pams (64).JPG  \n",
            "  inflating: Glomerulus/Normal/teste/PAMS/teste_pams (26).jpg  \n",
            "  inflating: Glomerulus/Normal/teste/PAMS/teste_pams (43).jpg  \n",
            "  inflating: Glomerulus/Normal/teste/PAMS/teste_pams (19).jpg  \n",
            "  inflating: Glomerulus/Normal/teste/PAMS/teste_pams (80).jpg  \n",
            "  inflating: Glomerulus/Normal/teste/PAMS/teste_pams (31).jpg  \n",
            "  inflating: Glomerulus/Normal/teste/PAMS/teste_pams (68).jpg  \n",
            "  inflating: Glomerulus/Normal/teste/PAMS/teste_pams (38).jpg  \n",
            "  inflating: Glomerulus/Normal/teste/PAMS/teste_pams (12).jpg  \n",
            "  inflating: Glomerulus/Normal/teste/PAMS/teste_pams (86).jpg  \n",
            "  inflating: Glomerulus/Normal/teste/PAMS/teste_pams (71).jpg  \n",
            "  inflating: Glomerulus/Normal/teste/PAMS/teste_pams (74).jpg  \n",
            "  inflating: Glomerulus/Normal/teste/PAMS/teste_pams (52).jpg  \n",
            "  inflating: Glomerulus/Normal/teste/PAMS/teste_pams (8).jpg  \n",
            "  inflating: Glomerulus/Normal/teste/PAMS/teste_pams (81).jpg  \n",
            "  inflating: Glomerulus/Normal/teste/PAMS/teste_pams (32).jpg  \n",
            "  inflating: Glomerulus/Normal/teste/PAMS/teste_pams (83).jpg  \n",
            "  inflating: Glomerulus/Normal/teste/PAMS/teste_pams (54).jpg  \n",
            "  inflating: Glomerulus/Normal/teste/PAMS/teste_pams (87).jpg  \n",
            "  inflating: Glomerulus/Normal/teste/PAMS/teste_pams (85).jpg  \n",
            "  inflating: Glomerulus/Normal/teste/PAMS/teste_pams (92).jpg  \n",
            "  inflating: Glomerulus/Normal/teste/PAMS/teste_pams (35).jpg  \n",
            "  inflating: Glomerulus/Normal/teste/PAMS/teste_pams (27).jpg  \n",
            "  inflating: Glomerulus/Normal/teste/PAMS/teste_pams (63).JPG  \n",
            "  inflating: Glomerulus/Normal/teste/PAMS/teste_pams (84).jpg  \n",
            "  inflating: Glomerulus/Normal/teste/PAMS/teste_pams (29).jpg  \n",
            "  inflating: Glomerulus/Normal/teste/PAMS/teste_pams (22).jpg  \n",
            "   creating: Glomerulus/Normal/teste/AZAN/\n",
            "  inflating: Glomerulus/Normal/teste/AZAN/teste_azan (3).jpg  \n",
            "  inflating: Glomerulus/Normal/teste/AZAN/teste_azan (45).jpg  \n",
            "  inflating: Glomerulus/Normal/teste/AZAN/teste_azan (2).jpg  \n",
            "  inflating: Glomerulus/Normal/teste/AZAN/teste_azan (53).jpg  \n",
            "  inflating: Glomerulus/Normal/teste/AZAN/teste_azan (14).jpg  \n",
            "  inflating: Glomerulus/Normal/teste/AZAN/teste_azan (52).jpg  \n",
            "  inflating: Glomerulus/Normal/teste/AZAN/teste_azan (48).jpg  \n",
            "  inflating: Glomerulus/Normal/teste/AZAN/teste_azan (1).jpg  \n",
            "  inflating: Glomerulus/Normal/teste/AZAN/teste_azan (56).jpg  \n",
            "  inflating: Glomerulus/Normal/teste/AZAN/teste_azan (54).jpg  \n",
            "  inflating: Glomerulus/Normal/teste/AZAN/teste_azan (57).jpg  \n",
            "  inflating: Glomerulus/Normal/teste/AZAN/teste_azan (20).jpg  \n",
            "  inflating: Glomerulus/Normal/teste/AZAN/teste_azan (30).jpg  \n",
            "  inflating: Glomerulus/Normal/teste/AZAN/teste_azan (4).jpg  \n",
            "  inflating: Glomerulus/Normal/teste/AZAN/teste_azan (63).jpg  \n",
            "  inflating: Glomerulus/Normal/teste/AZAN/teste_azan (38).jpg  \n",
            "  inflating: Glomerulus/Normal/teste/AZAN/teste_azan (37).jpg  \n",
            "  inflating: Glomerulus/Normal/teste/AZAN/teste_azan (10).jpg  \n",
            "  inflating: Glomerulus/Normal/teste/AZAN/teste_azan (44).jpg  \n",
            "  inflating: Glomerulus/Normal/teste/AZAN/teste_azan (60).jpg  \n",
            "  inflating: Glomerulus/Normal/teste/AZAN/teste_azan (40).jpg  \n",
            "  inflating: Glomerulus/Normal/teste/AZAN/teste_azan (49).jpg  \n",
            "  inflating: Glomerulus/Normal/teste/AZAN/teste_azan (50).jpg  \n",
            "  inflating: Glomerulus/Normal/teste/AZAN/teste_azan (43).jpg  \n",
            "  inflating: Glomerulus/Normal/teste/AZAN/teste_azan (62).jpg  \n",
            "  inflating: Glomerulus/Normal/teste/AZAN/teste_azan (41).jpg  \n",
            "  inflating: Glomerulus/Normal/teste/AZAN/teste_azan (31).jpg  \n",
            "  inflating: Glomerulus/Normal/teste/AZAN/teste_azan (18).jpg  \n",
            "  inflating: Glomerulus/Normal/teste/AZAN/teste_azan (19).jpg  \n",
            "  inflating: Glomerulus/Normal/teste/AZAN/teste_azan (7).jpg  \n",
            "  inflating: Glomerulus/Normal/teste/AZAN/teste_azan (35).jpg  \n",
            "  inflating: Glomerulus/Normal/teste/AZAN/teste_azan (26).jpg  \n",
            "  inflating: Glomerulus/Normal/teste/AZAN/teste_azan (46).jpg  \n",
            "  inflating: Glomerulus/Normal/teste/AZAN/teste_azan (33).jpg  \n",
            "  inflating: Glomerulus/Normal/teste/AZAN/teste_azan (28).jpg  \n",
            "  inflating: Glomerulus/Normal/teste/AZAN/teste_azan (25).jpg  \n",
            "  inflating: Glomerulus/Normal/teste/AZAN/teste_azan (32).jpg  \n",
            "  inflating: Glomerulus/Normal/teste/AZAN/teste_azan (21).jpg  \n",
            "  inflating: Glomerulus/Normal/teste/AZAN/teste_azan (9).jpg  \n",
            "  inflating: Glomerulus/Normal/teste/AZAN/teste_azan (5).jpg  \n",
            "  inflating: Glomerulus/Normal/teste/AZAN/teste_azan (34).jpg  \n",
            "  inflating: Glomerulus/Normal/teste/AZAN/teste_azan (12).jpg  \n",
            "  inflating: Glomerulus/Normal/teste/AZAN/teste_azan (22).jpg  \n",
            "  inflating: Glomerulus/Normal/teste/AZAN/teste_azan (16).jpg  \n",
            "  inflating: Glomerulus/Normal/teste/AZAN/teste_azan (24).jpg  \n",
            "  inflating: Glomerulus/Normal/teste/AZAN/teste_azan (36).jpg  \n",
            "  inflating: Glomerulus/Normal/teste/AZAN/teste_azan (11).jpg  \n",
            "  inflating: Glomerulus/Normal/teste/AZAN/teste_azan (6).jpg  \n",
            "  inflating: Glomerulus/Normal/teste/AZAN/teste_azan (29).jpg  \n",
            "  inflating: Glomerulus/Normal/teste/AZAN/teste_azan (13).jpg  \n",
            "  inflating: Glomerulus/Normal/teste/AZAN/teste_azan (51).jpg  \n",
            "  inflating: Glomerulus/Normal/teste/AZAN/teste_azan (42).jpg  \n",
            "  inflating: Glomerulus/Normal/teste/AZAN/teste_azan (17).jpg  \n",
            "  inflating: Glomerulus/Normal/teste/AZAN/teste_azan (58).jpg  \n",
            "  inflating: Glomerulus/Normal/teste/AZAN/teste_azan (61).jpg  \n",
            "  inflating: Glomerulus/Normal/teste/AZAN/teste_azan (8).jpg  \n",
            "  inflating: Glomerulus/Normal/teste/AZAN/teste_azan (59).jpg  \n",
            "  inflating: Glomerulus/Normal/teste/AZAN/teste_azan (27).jpg  \n",
            "  inflating: Glomerulus/Normal/teste/AZAN/teste_azan (39).jpg  \n",
            "  inflating: Glomerulus/Normal/teste/AZAN/teste_azan (47).jpg  \n",
            "  inflating: Glomerulus/Normal/teste/AZAN/teste_azan (15).jpg  \n",
            "  inflating: Glomerulus/Normal/teste/AZAN/teste_azan (55).jpg  \n",
            "  inflating: Glomerulus/Normal/teste/AZAN/teste_azan (23).jpg  \n",
            "   creating: Glomerulus/Normal/teste/PAS/\n",
            "  inflating: Glomerulus/Normal/teste/PAS/teste_pas (114).jpg  \n",
            "  inflating: Glomerulus/Normal/teste/PAS/teste_pas (25).jpg  \n",
            "  inflating: Glomerulus/Normal/teste/PAS/teste_pas (73).jpg  \n",
            "  inflating: Glomerulus/Normal/teste/PAS/teste_pas (3).jpg  \n",
            "  inflating: Glomerulus/Normal/teste/PAS/teste_pas (106).jpg  \n",
            "  inflating: Glomerulus/Normal/teste/PAS/teste_pas (67).jpg  \n",
            "  inflating: Glomerulus/Normal/teste/PAS/teste_pas (135).jpg  \n",
            "  inflating: Glomerulus/Normal/teste/PAS/teste_pas (89).jpg  \n",
            "  inflating: Glomerulus/Normal/teste/PAS/teste_pas (121).jpg  \n",
            "  inflating: Glomerulus/Normal/teste/PAS/teste_pas (92).jpg  \n",
            "  inflating: Glomerulus/Normal/teste/PAS/teste_pas (137).jpg  \n",
            "  inflating: Glomerulus/Normal/teste/PAS/teste_pas (39).jpg  \n",
            "  inflating: Glomerulus/Normal/teste/PAS/teste_pas (98).jpg  \n",
            "  inflating: Glomerulus/Normal/teste/PAS/teste_pas (28).jpg  \n",
            "  inflating: Glomerulus/Normal/teste/PAS/teste_pas (23).jpg  \n",
            "  inflating: Glomerulus/Normal/teste/PAS/teste_pas (68).jpg  \n",
            "  inflating: Glomerulus/Normal/teste/PAS/teste_pas (108).jpg  \n",
            "  inflating: Glomerulus/Normal/teste/PAS/teste_pas (131).jpg  \n",
            "  inflating: Glomerulus/Normal/teste/PAS/teste_pas (141).jpg  \n",
            "  inflating: Glomerulus/Normal/teste/PAS/teste_pas (30).jpg  \n",
            "  inflating: Glomerulus/Normal/teste/PAS/teste_pas (85).jpg  \n",
            "  inflating: Glomerulus/Normal/teste/PAS/teste_pas (104).jpg  \n",
            "  inflating: Glomerulus/Normal/teste/PAS/teste_pas (59).jpg  \n",
            "  inflating: Glomerulus/Normal/teste/PAS/teste_pas (18).jpg  \n",
            "  inflating: Glomerulus/Normal/teste/PAS/teste_pas (88).jpg  \n",
            "  inflating: Glomerulus/Normal/teste/PAS/teste_pas (143).jpg  \n",
            "  inflating: Glomerulus/Normal/teste/PAS/teste_pas (78).jpg  \n",
            "  inflating: Glomerulus/Normal/teste/PAS/teste_pas (118).jpg  \n",
            "  inflating: Glomerulus/Normal/teste/PAS/teste_pas (43).jpg  \n",
            "  inflating: Glomerulus/Normal/teste/PAS/teste_pas (4).jpg  \n",
            "  inflating: Glomerulus/Normal/teste/PAS/teste_pas (119).jpg  \n",
            "  inflating: Glomerulus/Normal/teste/PAS/teste_pas (124).jpg  \n",
            "  inflating: Glomerulus/Normal/teste/PAS/teste_pas (21).jpg  \n",
            "  inflating: Glomerulus/Normal/teste/PAS/teste_pas (123).jpg  \n",
            "  inflating: Glomerulus/Normal/teste/PAS/teste_pas (90).jpg  \n",
            "  inflating: Glomerulus/Normal/teste/PAS/teste_pas (37).jpg  \n",
            "  inflating: Glomerulus/Normal/teste/PAS/teste_pas (136).jpg  \n",
            "  inflating: Glomerulus/Normal/teste/PAS/teste_pas (5).jpg  \n",
            "  inflating: Glomerulus/Normal/teste/PAS/teste_pas (91).jpg  \n",
            "  inflating: Glomerulus/Normal/teste/PAS/teste_pas (130).jpg  \n",
            "  inflating: Glomerulus/Normal/teste/PAS/teste_pas (29).jpg  \n",
            "  inflating: Glomerulus/Normal/teste/PAS/teste_pas (69).jpg  \n",
            "  inflating: Glomerulus/Normal/teste/PAS/teste_pas (55).jpg  \n",
            "  inflating: Glomerulus/Normal/teste/PAS/teste_pas (140).jpg  \n",
            "  inflating: Glomerulus/Normal/teste/PAS/teste_pas (71).jpg  \n",
            "  inflating: Glomerulus/Normal/teste/PAS/teste_pas (77).jpg  \n",
            "  inflating: Glomerulus/Normal/teste/PAS/teste_pas (56).jpg  \n",
            "  inflating: Glomerulus/Normal/teste/PAS/teste_pas (33).jpg  \n",
            "  inflating: Glomerulus/Normal/teste/PAS/teste_pas (128).jpg  \n",
            "  inflating: Glomerulus/Normal/teste/PAS/teste_pas (62).jpg  \n",
            "  inflating: Glomerulus/Normal/teste/PAS/teste_pas (138).jpg  \n",
            "  inflating: Glomerulus/Normal/teste/PAS/teste_pas (87).jpg  \n",
            "  inflating: Glomerulus/Normal/teste/PAS/teste_pas (11).jpg  \n",
            "  inflating: Glomerulus/Normal/teste/PAS/teste_pas (70).jpg  \n",
            "  inflating: Glomerulus/Normal/teste/PAS/teste_pas (35).jpg  \n",
            "  inflating: Glomerulus/Normal/teste/PAS/teste_pas (142).jpg  \n",
            "  inflating: Glomerulus/Normal/teste/PAS/teste_pas (32).jpg  \n",
            "  inflating: Glomerulus/Normal/teste/PAS/teste_pas (51).jpg  \n",
            "  inflating: Glomerulus/Normal/teste/PAS/teste_pas (97).jpg  \n",
            "  inflating: Glomerulus/Normal/teste/PAS/teste_pas (61).jpg  \n",
            "  inflating: Glomerulus/Normal/teste/PAS/teste_pas (2).jpg  \n",
            "  inflating: Glomerulus/Normal/teste/PAS/teste_pas (50).jpg  \n",
            "  inflating: Glomerulus/Normal/teste/PAS/teste_pas (94).jpg  \n",
            "  inflating: Glomerulus/Normal/teste/PAS/teste_pas (9).jpg  \n",
            "  inflating: Glomerulus/Normal/teste/PAS/teste_pas (47).jpg  \n",
            "  inflating: Glomerulus/Normal/teste/PAS/teste_pas (14).jpg  \n",
            "  inflating: Glomerulus/Normal/teste/PAS/teste_pas (42).jpg  \n",
            "  inflating: Glomerulus/Normal/teste/PAS/teste_pas (52).jpg  \n",
            "  inflating: Glomerulus/Normal/teste/PAS/teste_pas (125).jpg  \n",
            "  inflating: Glomerulus/Normal/teste/PAS/teste_pas (57).jpg  \n",
            "  inflating: Glomerulus/Normal/teste/PAS/teste_pas (102).jpg  \n",
            "  inflating: Glomerulus/Normal/teste/PAS/teste_pas (81).jpg  \n",
            "  inflating: Glomerulus/Normal/teste/PAS/teste_pas (115).jpg  \n",
            "  inflating: Glomerulus/Normal/teste/PAS/teste_pas (107).jpg  \n",
            "  inflating: Glomerulus/Normal/teste/PAS/teste_pas (86).jpg  \n",
            "  inflating: Glomerulus/Normal/teste/PAS/teste_pas (75).jpg  \n",
            "  inflating: Glomerulus/Normal/teste/PAS/teste_pas (99).jpg  \n",
            "  inflating: Glomerulus/Normal/teste/PAS/teste_pas (144).jpg  \n",
            "  inflating: Glomerulus/Normal/teste/PAS/teste_pas (58).jpg  \n",
            "  inflating: Glomerulus/Normal/teste/PAS/teste_pas (83).jpg  \n",
            "  inflating: Glomerulus/Normal/teste/PAS/teste_pas (145).jpg  \n",
            "  inflating: Glomerulus/Normal/teste/PAS/teste_pas (132).jpg  \n",
            "  inflating: Glomerulus/Normal/teste/PAS/teste_pas (38).jpg  \n",
            "  inflating: Glomerulus/Normal/teste/PAS/teste_pas (20).jpg  \n",
            "  inflating: Glomerulus/Normal/teste/PAS/teste_pas (19).jpg  \n",
            "  inflating: Glomerulus/Normal/teste/PAS/teste_pas (64).jpg  \n",
            "  inflating: Glomerulus/Normal/teste/PAS/teste_pas (36).jpg  \n",
            "  inflating: Glomerulus/Normal/teste/PAS/teste_pas (96).jpg  \n",
            "  inflating: Glomerulus/Normal/teste/PAS/teste_pas (82).jpg  \n",
            "  inflating: Glomerulus/Normal/teste/PAS/teste_pas (116).jpg  \n",
            "  inflating: Glomerulus/Normal/teste/PAS/teste_pas (122).jpg  \n",
            "  inflating: Glomerulus/Normal/teste/PAS/teste_pas (31).jpg  \n",
            "  inflating: Glomerulus/Normal/teste/PAS/teste_pas (8).jpg  \n",
            "  inflating: Glomerulus/Normal/teste/PAS/teste_pas (15).jpg  \n",
            "  inflating: Glomerulus/Normal/teste/PAS/teste_pas (49).jpg  \n",
            "  inflating: Glomerulus/Normal/teste/PAS/teste_pas (95).jpg  \n",
            "  inflating: Glomerulus/Normal/teste/PAS/teste_pas (6).jpg  \n",
            "  inflating: Glomerulus/Normal/teste/PAS/teste_pas (93).jpg  \n",
            "  inflating: Glomerulus/Normal/teste/PAS/teste_pas (60).jpg  \n",
            "  inflating: Glomerulus/Normal/teste/PAS/teste_pas (103).jpg  \n",
            "  inflating: Glomerulus/Normal/teste/PAS/teste_pas (24).jpg  \n",
            "  inflating: Glomerulus/Normal/teste/PAS/teste_pas (74).jpg  \n",
            "  inflating: Glomerulus/Normal/teste/PAS/teste_pas (66).jpg  \n",
            "  inflating: Glomerulus/Normal/teste/PAS/teste_pas (111).jpg  \n",
            "  inflating: Glomerulus/Normal/teste/PAS/teste_pas (27).jpg  \n",
            "  inflating: Glomerulus/Normal/teste/PAS/teste_pas (100).jpg  \n",
            "  inflating: Glomerulus/Normal/teste/PAS/teste_pas (41).jpg  \n",
            "  inflating: Glomerulus/Normal/teste/PAS/teste_pas (72).jpg  \n",
            "  inflating: Glomerulus/Normal/teste/PAS/teste_pas (112).jpg  \n",
            "  inflating: Glomerulus/Normal/teste/PAS/teste_pas (133).jpg  \n",
            "  inflating: Glomerulus/Normal/teste/PAS/teste_pas (34).jpg  \n",
            "  inflating: Glomerulus/Normal/teste/PAS/teste_pas (10).jpg  \n",
            "  inflating: Glomerulus/Normal/teste/PAS/teste_pas (105).jpg  \n",
            "  inflating: Glomerulus/Normal/teste/PAS/teste_pas (134).jpg  \n",
            "  inflating: Glomerulus/Normal/teste/PAS/teste_pas (53).jpg  \n",
            "  inflating: Glomerulus/Normal/teste/PAS/teste_pas (76).jpg  \n",
            "  inflating: Glomerulus/Normal/teste/PAS/teste_pas (40).jpg  \n",
            "  inflating: Glomerulus/Normal/teste/PAS/teste_pas (17).jpg  \n",
            "  inflating: Glomerulus/Normal/teste/PAS/teste_pas (13).jpg  \n",
            "  inflating: Glomerulus/Normal/teste/PAS/teste_pas (84).jpg  \n",
            "  inflating: Glomerulus/Normal/teste/PAS/teste_pas (65).jpg  \n",
            "  inflating: Glomerulus/Normal/teste/PAS/teste_pas (117).jpg  \n",
            "  inflating: Glomerulus/Normal/teste/PAS/teste_pas (109).jpg  \n",
            "  inflating: Glomerulus/Normal/teste/PAS/teste_pas (22).jpg  \n",
            "  inflating: Glomerulus/Normal/teste/PAS/teste_pas (101).jpg  \n",
            "  inflating: Glomerulus/Normal/teste/PAS/teste_pas (126).jpg  \n",
            "  inflating: Glomerulus/Normal/teste/PAS/teste_pas (26).jpg  \n",
            "  inflating: Glomerulus/Normal/teste/PAS/teste_pas (129).jpg  \n",
            "  inflating: Glomerulus/Normal/teste/PAS/teste_pas (146).jpg  \n",
            "  inflating: Glomerulus/Normal/teste/PAS/teste_pas (54).jpg  \n",
            "  inflating: Glomerulus/Normal/teste/PAS/teste_pas (7).jpg  \n",
            "  inflating: Glomerulus/Normal/teste/PAS/teste_pas (45).jpg  \n",
            "  inflating: Glomerulus/Normal/teste/PAS/teste_pas (63).jpg  \n",
            "  inflating: Glomerulus/Normal/teste/PAS/teste_pas (120).jpg  \n",
            "  inflating: Glomerulus/Normal/teste/PAS/teste_pas (110).jpg  \n",
            "  inflating: Glomerulus/Normal/teste/PAS/teste_pas (139).jpg  \n",
            "  inflating: Glomerulus/Normal/teste/PAS/teste_pas (44).jpg  \n",
            "  inflating: Glomerulus/Normal/teste/PAS/teste_pas (127).jpg  \n",
            "  inflating: Glomerulus/Normal/teste/PAS/teste_pas (80).jpg  \n",
            "  inflating: Glomerulus/Normal/teste/PAS/teste_pas (46).jpg  \n",
            "  inflating: Glomerulus/Normal/teste/PAS/teste_pas (1).jpg  \n",
            "  inflating: Glomerulus/Normal/teste/PAS/teste_pas (16).jpg  \n",
            "  inflating: Glomerulus/Normal/teste/PAS/teste_pas (79).jpg  \n",
            "  inflating: Glomerulus/Normal/teste/PAS/teste_pas (12).jpg  \n",
            "  inflating: Glomerulus/Normal/teste/PAS/teste_pas (113).jpg  \n",
            "  inflating: Glomerulus/Normal/teste/PAS/teste_pas (48).jpg  \n",
            "   creating: Glomerulus/Normal/treino/\n",
            "   creating: Glomerulus/Normal/treino/PICRO/\n",
            "  inflating: Glomerulus/Normal/treino/PICRO/treino_picro (35).jpg  \n",
            "  inflating: Glomerulus/Normal/treino/PICRO/treino_picro (45).jpg  \n",
            "  inflating: Glomerulus/Normal/treino/PICRO/treino_picro (25).jpg  \n",
            "  inflating: Glomerulus/Normal/treino/PICRO/treino_picro (27).jpg  \n",
            "  inflating: Glomerulus/Normal/treino/PICRO/treino_picro (5).jpg  \n",
            "  inflating: Glomerulus/Normal/treino/PICRO/treino_picro (43).jpg  \n",
            "  inflating: Glomerulus/Normal/treino/PICRO/treino_picro (32).jpg  \n",
            "  inflating: Glomerulus/Normal/treino/PICRO/treino_picro (28).jpg  \n",
            "  inflating: Glomerulus/Normal/treino/PICRO/treino_picro (10).jpg  \n",
            "  inflating: Glomerulus/Normal/treino/PICRO/treino_picro (7).jpg  \n",
            "  inflating: Glomerulus/Normal/treino/PICRO/treino_picro (6).jpg  \n",
            "  inflating: Glomerulus/Normal/treino/PICRO/treino_picro (8).jpg  \n",
            "  inflating: Glomerulus/Normal/treino/PICRO/treino_picro (44).jpg  \n",
            "  inflating: Glomerulus/Normal/treino/PICRO/treino_picro (20).jpg  \n",
            "  inflating: Glomerulus/Normal/treino/PICRO/treino_picro (24).jpg  \n",
            "  inflating: Glomerulus/Normal/treino/PICRO/treino_picro (38).jpg  \n",
            "  inflating: Glomerulus/Normal/treino/PICRO/treino_picro (19).jpg  \n",
            "  inflating: Glomerulus/Normal/treino/PICRO/treino_picro (4).jpg  \n",
            "  inflating: Glomerulus/Normal/treino/PICRO/treino_picro (1).jpg  \n",
            "  inflating: Glomerulus/Normal/treino/PICRO/treino_picro (3).jpg  \n",
            "  inflating: Glomerulus/Normal/treino/PICRO/treino_picro (23).jpg  \n",
            "  inflating: Glomerulus/Normal/treino/PICRO/treino_picro (9).jpg  \n",
            "  inflating: Glomerulus/Normal/treino/PICRO/treino_picro (41).jpg  \n",
            "  inflating: Glomerulus/Normal/treino/PICRO/treino_picro (12).jpg  \n",
            "  inflating: Glomerulus/Normal/treino/PICRO/treino_picro (26).jpg  \n",
            "  inflating: Glomerulus/Normal/treino/PICRO/treino_picro (17).jpg  \n",
            "  inflating: Glomerulus/Normal/treino/PICRO/treino_picro (18).jpg  \n",
            "  inflating: Glomerulus/Normal/treino/PICRO/treino_picro (31).jpg  \n",
            "  inflating: Glomerulus/Normal/treino/PICRO/treino_picro (36).jpg  \n",
            "  inflating: Glomerulus/Normal/treino/PICRO/treino_picro (2).jpg  \n",
            "  inflating: Glomerulus/Normal/treino/PICRO/treino_picro (29).jpg  \n",
            "  inflating: Glomerulus/Normal/treino/PICRO/treino_picro (16).jpg  \n",
            "  inflating: Glomerulus/Normal/treino/PICRO/treino_picro (21).jpg  \n",
            "  inflating: Glomerulus/Normal/treino/PICRO/treino_picro (14).jpg  \n",
            "  inflating: Glomerulus/Normal/treino/PICRO/treino_picro (15).jpg  \n",
            "  inflating: Glomerulus/Normal/treino/PICRO/treino_picro (40).jpg  \n",
            "  inflating: Glomerulus/Normal/treino/PICRO/treino_picro (34).jpg  \n",
            "  inflating: Glomerulus/Normal/treino/PICRO/treino_picro (47).jpg  \n",
            "  inflating: Glomerulus/Normal/treino/PICRO/treino_picro (13).jpg  \n",
            "  inflating: Glomerulus/Normal/treino/PICRO/treino_picro (22).jpg  \n",
            "  inflating: Glomerulus/Normal/treino/PICRO/treino_picro (39).jpg  \n",
            "  inflating: Glomerulus/Normal/treino/PICRO/treino_picro (42).jpg  \n",
            "  inflating: Glomerulus/Normal/treino/PICRO/treino_picro (11).jpg  \n",
            "  inflating: Glomerulus/Normal/treino/PICRO/treino_picro (33).jpg  \n",
            "  inflating: Glomerulus/Normal/treino/PICRO/treino_picro (30).jpg  \n",
            "  inflating: Glomerulus/Normal/treino/PICRO/treino_picro (37).jpg  \n",
            "  inflating: Glomerulus/Normal/treino/PICRO/treino_picro (46).jpg  \n",
            "   creating: Glomerulus/Normal/treino/HE/\n",
            "  inflating: Glomerulus/Normal/treino/HE/treino_he (107).jpg  \n",
            "  inflating: Glomerulus/Normal/treino/HE/treino_he (385).jpg  \n",
            "  inflating: Glomerulus/Normal/treino/HE/treino_he (191).jpg  \n",
            "  inflating: Glomerulus/Normal/treino/HE/treino_he (214).jpg  \n",
            "  inflating: Glomerulus/Normal/treino/HE/treino_he (147).jpg  \n",
            "  inflating: Glomerulus/Normal/treino/HE/treino_he (222).jpg  \n",
            "  inflating: Glomerulus/Normal/treino/HE/treino_he (309).jpg  \n",
            "  inflating: Glomerulus/Normal/treino/HE/treino_he (194).jpg  \n",
            "  inflating: Glomerulus/Normal/treino/HE/treino_he (348).jpg  \n",
            "  inflating: Glomerulus/Normal/treino/HE/treino_he (288).jpg  \n",
            "  inflating: Glomerulus/Normal/treino/HE/treino_he (48).jpg  \n",
            "  inflating: Glomerulus/Normal/treino/HE/treino_he (209).jpg  \n",
            "  inflating: Glomerulus/Normal/treino/HE/treino_he (140).jpg  \n",
            "  inflating: Glomerulus/Normal/treino/HE/treino_he (98).jpg  \n",
            "  inflating: Glomerulus/Normal/treino/HE/treino_he (111).jpg  \n",
            "  inflating: Glomerulus/Normal/treino/HE/treino_he (427).jpg  \n",
            "  inflating: Glomerulus/Normal/treino/HE/treino_he (33).jpg  \n",
            "  inflating: Glomerulus/Normal/treino/HE/treino_he (207).jpg  \n",
            "  inflating: Glomerulus/Normal/treino/HE/treino_he (397).jpg  \n",
            "  inflating: Glomerulus/Normal/treino/HE/treino_he (164).jpg  \n",
            "  inflating: Glomerulus/Normal/treino/HE/treino_he (12).jpg  \n",
            "  inflating: Glomerulus/Normal/treino/HE/treino_he (7).jpg  \n",
            "  inflating: Glomerulus/Normal/treino/HE/treino_he (26).jpg  \n",
            "  inflating: Glomerulus/Normal/treino/HE/treino_he (360).jpg  \n",
            "  inflating: Glomerulus/Normal/treino/HE/treino_he (78).jpg  \n",
            "  inflating: Glomerulus/Normal/treino/HE/treino_he (285).jpg  \n",
            "  inflating: Glomerulus/Normal/treino/HE/treino_he (35).jpg  \n",
            "  inflating: Glomerulus/Normal/treino/HE/treino_he (216).jpg  \n",
            "  inflating: Glomerulus/Normal/treino/HE/treino_he (396).jpg  \n",
            "  inflating: Glomerulus/Normal/treino/HE/treino_he (368).jpg  \n",
            "  inflating: Glomerulus/Normal/treino/HE/treino_he (50).jpg  \n",
            "  inflating: Glomerulus/Normal/treino/HE/treino_he (237).jpg  \n",
            "  inflating: Glomerulus/Normal/treino/HE/treino_he (418).jpg  \n",
            "  inflating: Glomerulus/Normal/treino/HE/treino_he (92).jpg  \n",
            "  inflating: Glomerulus/Normal/treino/HE/treino_he (289).jpg  \n",
            "  inflating: Glomerulus/Normal/treino/HE/treino_he (186).jpg  \n",
            "  inflating: Glomerulus/Normal/treino/HE/treino_he (123).jpg  \n",
            "  inflating: Glomerulus/Normal/treino/HE/treino_he (280).jpg  \n",
            "  inflating: Glomerulus/Normal/treino/HE/treino_he (259).jpg  \n",
            "  inflating: Glomerulus/Normal/treino/HE/treino_he (320).jpg  \n",
            "  inflating: Glomerulus/Normal/treino/HE/treino_he (37).jpg  \n",
            "  inflating: Glomerulus/Normal/treino/HE/treino_he (210).jpg  \n",
            "  inflating: Glomerulus/Normal/treino/HE/treino_he (318).jpg  \n",
            "  inflating: Glomerulus/Normal/treino/HE/treino_he (93).jpg  \n",
            "  inflating: Glomerulus/Normal/treino/HE/treino_he (219).jpg  \n",
            "  inflating: Glomerulus/Normal/treino/HE/treino_he (374).jpg  \n",
            "  inflating: Glomerulus/Normal/treino/HE/treino_he (298).jpg  \n",
            "  inflating: Glomerulus/Normal/treino/HE/treino_he (387).jpg  \n",
            "  inflating: Glomerulus/Normal/treino/HE/treino_he (391).jpg  \n",
            "  inflating: Glomerulus/Normal/treino/HE/treino_he (273).jpg  \n",
            "  inflating: Glomerulus/Normal/treino/HE/treino_he (60).jpg  \n",
            "  inflating: Glomerulus/Normal/treino/HE/treino_he (66).jpg  \n",
            "  inflating: Glomerulus/Normal/treino/HE/treino_he (86).jpg  \n",
            "  inflating: Glomerulus/Normal/treino/HE/treino_he (350).jpg  \n",
            "  inflating: Glomerulus/Normal/treino/HE/treino_he (332).jpg  \n",
            "  inflating: Glomerulus/Normal/treino/HE/treino_he (40).jpg  \n",
            "  inflating: Glomerulus/Normal/treino/HE/treino_he (18).jpg  \n",
            "  inflating: Glomerulus/Normal/treino/HE/treino_he (201).jpg  \n",
            "  inflating: Glomerulus/Normal/treino/HE/treino_he (257).jpg  \n",
            "  inflating: Glomerulus/Normal/treino/HE/treino_he (166).jpg  \n",
            "  inflating: Glomerulus/Normal/treino/HE/treino_he (334).jpg  \n",
            "  inflating: Glomerulus/Normal/treino/HE/treino_he (426).jpg  \n",
            "  inflating: Glomerulus/Normal/treino/HE/treino_he (232).jpg  \n",
            "  inflating: Glomerulus/Normal/treino/HE/treino_he (176).jpg  \n",
            "  inflating: Glomerulus/Normal/treino/HE/treino_he (260).jpg  \n",
            "  inflating: Glomerulus/Normal/treino/HE/treino_he (15).jpg  \n",
            "  inflating: Glomerulus/Normal/treino/HE/treino_he (286).jpg  \n",
            "  inflating: Glomerulus/Normal/treino/HE/treino_he (180).jpg  \n",
            "  inflating: Glomerulus/Normal/treino/HE/treino_he (178).jpg  \n",
            "  inflating: Glomerulus/Normal/treino/HE/treino_he (358).jpg  \n",
            "  inflating: Glomerulus/Normal/treino/HE/treino_he (85).jpg  \n",
            "  inflating: Glomerulus/Normal/treino/HE/treino_he (6).jpg  \n",
            "  inflating: Glomerulus/Normal/treino/HE/treino_he (211).jpg  \n",
            "  inflating: Glomerulus/Normal/treino/HE/treino_he (253).jpg  \n",
            "  inflating: Glomerulus/Normal/treino/HE/treino_he (197).jpg  \n",
            "  inflating: Glomerulus/Normal/treino/HE/treino_he (383).jpg  \n",
            "  inflating: Glomerulus/Normal/treino/HE/treino_he (170).jpg  \n",
            "  inflating: Glomerulus/Normal/treino/HE/treino_he (310).jpg  \n",
            "  inflating: Glomerulus/Normal/treino/HE/treino_he (252).jpg  \n",
            "  inflating: Glomerulus/Normal/treino/HE/treino_he (117).jpg  \n",
            "  inflating: Glomerulus/Normal/treino/HE/treino_he (76).jpg  \n",
            "  inflating: Glomerulus/Normal/treino/HE/treino_he (239).jpg  \n",
            "  inflating: Glomerulus/Normal/treino/HE/treino_he (199).jpg  \n",
            "  inflating: Glomerulus/Normal/treino/HE/treino_he (9).jpg  \n",
            "  inflating: Glomerulus/Normal/treino/HE/treino_he (120).jpg  \n",
            "  inflating: Glomerulus/Normal/treino/HE/treino_he (326).jpg  \n",
            "  inflating: Glomerulus/Normal/treino/HE/treino_he (154).jpg  \n",
            "  inflating: Glomerulus/Normal/treino/HE/treino_he (422).jpg  \n",
            "  inflating: Glomerulus/Normal/treino/HE/treino_he (195).jpg  \n",
            "  inflating: Glomerulus/Normal/treino/HE/treino_he (302).jpg  \n",
            "  inflating: Glomerulus/Normal/treino/HE/treino_he (282).jpg  \n",
            "  inflating: Glomerulus/Normal/treino/HE/treino_he (51).jpg  \n",
            "  inflating: Glomerulus/Normal/treino/HE/treino_he (278).jpg  \n",
            "  inflating: Glomerulus/Normal/treino/HE/treino_he (116).jpg  \n",
            "  inflating: Glomerulus/Normal/treino/HE/treino_he (248).jpg  \n",
            "  inflating: Glomerulus/Normal/treino/HE/treino_he (425).jpg  \n",
            "  inflating: Glomerulus/Normal/treino/HE/treino_he (283).jpg  \n",
            "  inflating: Glomerulus/Normal/treino/HE/treino_he (377).jpg  \n",
            "  inflating: Glomerulus/Normal/treino/HE/treino_he (133).jpg  \n",
            "  inflating: Glomerulus/Normal/treino/HE/treino_he (132).jpg  \n",
            "  inflating: Glomerulus/Normal/treino/HE/treino_he (363).jpg  \n",
            "  inflating: Glomerulus/Normal/treino/HE/treino_he (316).jpg  \n",
            "  inflating: Glomerulus/Normal/treino/HE/treino_he (234).jpg  \n",
            "  inflating: Glomerulus/Normal/treino/HE/treino_he (373).jpg  \n",
            "  inflating: Glomerulus/Normal/treino/HE/treino_he (206).jpg  \n",
            "  inflating: Glomerulus/Normal/treino/HE/treino_he (69).jpg  \n",
            "  inflating: Glomerulus/Normal/treino/HE/treino_he (45).jpg  \n",
            "  inflating: Glomerulus/Normal/treino/HE/treino_he (41).jpg  \n",
            "  inflating: Glomerulus/Normal/treino/HE/treino_he (284).jpg  \n",
            "  inflating: Glomerulus/Normal/treino/HE/treino_he (126).jpg  \n",
            "  inflating: Glomerulus/Normal/treino/HE/treino_he (169).jpg  \n",
            "  inflating: Glomerulus/Normal/treino/HE/treino_he (167).jpg  \n",
            "  inflating: Glomerulus/Normal/treino/HE/treino_he (161).jpg  \n",
            "  inflating: Glomerulus/Normal/treino/HE/treino_he (372).jpg  \n",
            "  inflating: Glomerulus/Normal/treino/HE/treino_he (142).jpg  \n",
            "  inflating: Glomerulus/Normal/treino/HE/treino_he (54).jpg  \n",
            "  inflating: Glomerulus/Normal/treino/HE/treino_he (240).jpg  \n",
            "  inflating: Glomerulus/Normal/treino/HE/treino_he (32).jpg  \n",
            "  inflating: Glomerulus/Normal/treino/HE/treino_he (227).jpg  \n",
            "  inflating: Glomerulus/Normal/treino/HE/treino_he (416).jpg  \n",
            "  inflating: Glomerulus/Normal/treino/HE/treino_he (386).jpg  \n",
            "  inflating: Glomerulus/Normal/treino/HE/treino_he (94).jpg  \n",
            "  inflating: Glomerulus/Normal/treino/HE/treino_he (228).jpg  \n",
            "  inflating: Glomerulus/Normal/treino/HE/treino_he (250).jpg  \n",
            "  inflating: Glomerulus/Normal/treino/HE/treino_he (81).jpg  \n",
            "  inflating: Glomerulus/Normal/treino/HE/treino_he (256).jpg  \n",
            "  inflating: Glomerulus/Normal/treino/HE/treino_he (410).jpg  \n",
            "  inflating: Glomerulus/Normal/treino/HE/treino_he (82).jpg  \n",
            "  inflating: Glomerulus/Normal/treino/HE/treino_he (230).jpg  \n",
            "  inflating: Glomerulus/Normal/treino/HE/treino_he (341).jpg  \n",
            "  inflating: Glomerulus/Normal/treino/HE/treino_he (229).jpg  \n",
            "  inflating: Glomerulus/Normal/treino/HE/treino_he (323).jpg  \n",
            "  inflating: Glomerulus/Normal/treino/HE/treino_he (225).jpg  \n",
            "  inflating: Glomerulus/Normal/treino/HE/treino_he (297).jpg  \n",
            "  inflating: Glomerulus/Normal/treino/HE/treino_he (293).jpg  \n",
            "  inflating: Glomerulus/Normal/treino/HE/treino_he (38).jpg  \n",
            "  inflating: Glomerulus/Normal/treino/HE/treino_he (247).jpg  \n",
            "  inflating: Glomerulus/Normal/treino/HE/treino_he (144).jpg  \n",
            "  inflating: Glomerulus/Normal/treino/HE/treino_he (306).jpg  \n",
            "  inflating: Glomerulus/Normal/treino/HE/treino_he (415).jpg  \n",
            "  inflating: Glomerulus/Normal/treino/HE/treino_he (221).jpg  \n",
            "  inflating: Glomerulus/Normal/treino/HE/treino_he (313).jpg  \n",
            "  inflating: Glomerulus/Normal/treino/HE/treino_he (307).jpg  \n",
            "  inflating: Glomerulus/Normal/treino/HE/treino_he (1).jpg  \n",
            "  inflating: Glomerulus/Normal/treino/HE/treino_he (292).jpg  \n",
            "  inflating: Glomerulus/Normal/treino/HE/treino_he (322).jpg  \n",
            "  inflating: Glomerulus/Normal/treino/HE/treino_he (44).jpg  \n",
            "  inflating: Glomerulus/Normal/treino/HE/treino_he (265).jpg  \n",
            "  inflating: Glomerulus/Normal/treino/HE/treino_he (311).jpg  \n",
            "  inflating: Glomerulus/Normal/treino/HE/treino_he (388).jpg  \n",
            "  inflating: Glomerulus/Normal/treino/HE/treino_he (380).jpg  \n",
            "  inflating: Glomerulus/Normal/treino/HE/treino_he (355).jpg  \n",
            "  inflating: Glomerulus/Normal/treino/HE/treino_he (431).jpg  \n",
            "  inflating: Glomerulus/Normal/treino/HE/treino_he (55).jpg  \n",
            "  inflating: Glomerulus/Normal/treino/HE/treino_he (287).jpg  \n",
            "  inflating: Glomerulus/Normal/treino/HE/treino_he (46).jpg  \n",
            "  inflating: Glomerulus/Normal/treino/HE/treino_he (224).jpg  \n",
            "  inflating: Glomerulus/Normal/treino/HE/treino_he (274).jpg  \n",
            "  inflating: Glomerulus/Normal/treino/HE/treino_he (414).jpg  \n",
            "  inflating: Glomerulus/Normal/treino/HE/treino_he (304).jpg  \n",
            "  inflating: Glomerulus/Normal/treino/HE/treino_he (402).jpg  \n",
            "  inflating: Glomerulus/Normal/treino/HE/treino_he (330).jpg  \n",
            "  inflating: Glomerulus/Normal/treino/HE/treino_he (135).jpg  \n",
            "  inflating: Glomerulus/Normal/treino/HE/treino_he (235).jpg  \n",
            "  inflating: Glomerulus/Normal/treino/HE/treino_he (279).jpg  \n",
            "  inflating: Glomerulus/Normal/treino/HE/treino_he (215).jpg  \n",
            "  inflating: Glomerulus/Normal/treino/HE/treino_he (88).jpg  \n",
            "  inflating: Glomerulus/Normal/treino/HE/treino_he (200).jpg  \n",
            "  inflating: Glomerulus/Normal/treino/HE/treino_he (2).jpg  \n",
            "  inflating: Glomerulus/Normal/treino/HE/treino_he (244).jpg  \n",
            "  inflating: Glomerulus/Normal/treino/HE/treino_he (97).jpg  \n",
            "  inflating: Glomerulus/Normal/treino/HE/treino_he (317).jpg  \n",
            "  inflating: Glomerulus/Normal/treino/HE/treino_he (179).jpg  \n",
            "  inflating: Glomerulus/Normal/treino/HE/treino_he (407).jpg  \n",
            "  inflating: Glomerulus/Normal/treino/HE/treino_he (433).jpg  \n",
            "  inflating: Glomerulus/Normal/treino/HE/treino_he (119).jpg  \n",
            "  inflating: Glomerulus/Normal/treino/HE/treino_he (242).jpg  \n",
            "  inflating: Glomerulus/Normal/treino/HE/treino_he (403).jpg  \n",
            "  inflating: Glomerulus/Normal/treino/HE/treino_he (145).jpg  \n",
            "  inflating: Glomerulus/Normal/treino/HE/treino_he (329).jpg  \n",
            "  inflating: Glomerulus/Normal/treino/HE/treino_he (39).jpg  \n",
            "  inflating: Glomerulus/Normal/treino/HE/treino_he (75).jpg  \n",
            "  inflating: Glomerulus/Normal/treino/HE/treino_he (249).jpg  \n",
            "  inflating: Glomerulus/Normal/treino/HE/treino_he (301).jpg  \n",
            "  inflating: Glomerulus/Normal/treino/HE/treino_he (346).jpg  \n",
            "  inflating: Glomerulus/Normal/treino/HE/treino_he (294).jpg  \n",
            "  inflating: Glomerulus/Normal/treino/HE/treino_he (158).jpg  \n",
            "  inflating: Glomerulus/Normal/treino/HE/treino_he (370).jpg  \n",
            "  inflating: Glomerulus/Normal/treino/HE/treino_he (202).jpg  \n",
            "  inflating: Glomerulus/Normal/treino/HE/treino_he (181).jpg  \n",
            "  inflating: Glomerulus/Normal/treino/HE/treino_he (130).jpg  \n",
            "  inflating: Glomerulus/Normal/treino/HE/treino_he (351).jpg  \n",
            "  inflating: Glomerulus/Normal/treino/HE/treino_he (291).jpg  \n",
            "  inflating: Glomerulus/Normal/treino/HE/treino_he (251).jpg  \n",
            "  inflating: Glomerulus/Normal/treino/HE/treino_he (101).jpg  \n",
            "  inflating: Glomerulus/Normal/treino/HE/treino_he (263).jpg  \n",
            "  inflating: Glomerulus/Normal/treino/HE/treino_he (394).jpg  \n",
            "  inflating: Glomerulus/Normal/treino/HE/treino_he (43).jpg  \n",
            "  inflating: Glomerulus/Normal/treino/HE/treino_he (67).jpg  \n",
            "  inflating: Glomerulus/Normal/treino/HE/treino_he (87).jpg  \n",
            "  inflating: Glomerulus/Normal/treino/HE/treino_he (405).jpg  \n",
            "  inflating: Glomerulus/Normal/treino/HE/treino_he (3).jpg  \n",
            "  inflating: Glomerulus/Normal/treino/HE/treino_he (375).jpg  \n",
            "  inflating: Glomerulus/Normal/treino/HE/treino_he (198).jpg  \n",
            "  inflating: Glomerulus/Normal/treino/HE/treino_he (419).jpg  \n",
            "  inflating: Glomerulus/Normal/treino/HE/treino_he (189).jpg  \n",
            "  inflating: Glomerulus/Normal/treino/HE/treino_he (121).jpg  \n",
            "  inflating: Glomerulus/Normal/treino/HE/treino_he (65).jpg  \n",
            "  inflating: Glomerulus/Normal/treino/HE/treino_he (400).jpg  \n",
            "  inflating: Glomerulus/Normal/treino/HE/treino_he (376).jpg  \n",
            "  inflating: Glomerulus/Normal/treino/HE/treino_he (192).jpg  \n",
            "  inflating: Glomerulus/Normal/treino/HE/treino_he (124).jpg  \n",
            "  inflating: Glomerulus/Normal/treino/HE/treino_he (115).jpg  \n",
            "  inflating: Glomerulus/Normal/treino/HE/treino_he (231).jpg  \n",
            "  inflating: Glomerulus/Normal/treino/HE/treino_he (319).jpg  \n",
            "  inflating: Glomerulus/Normal/treino/HE/treino_he (148).jpg  \n",
            "  inflating: Glomerulus/Normal/treino/HE/treino_he (406).jpg  \n",
            "  inflating: Glomerulus/Normal/treino/HE/treino_he (175).jpg  \n",
            "  inflating: Glomerulus/Normal/treino/HE/treino_he (30).jpg  \n",
            "  inflating: Glomerulus/Normal/treino/HE/treino_he (243).jpg  \n",
            "  inflating: Glomerulus/Normal/treino/HE/treino_he (70).jpg  \n",
            "  inflating: Glomerulus/Normal/treino/HE/treino_he (29).jpg  \n",
            "  inflating: Glomerulus/Normal/treino/HE/treino_he (139).jpg  \n",
            "  inflating: Glomerulus/Normal/treino/HE/treino_he (420).jpg  \n",
            "  inflating: Glomerulus/Normal/treino/HE/treino_he (378).jpg  \n",
            "  inflating: Glomerulus/Normal/treino/HE/treino_he (8).jpg  \n",
            "  inflating: Glomerulus/Normal/treino/HE/treino_he (281).jpg  \n",
            "  inflating: Glomerulus/Normal/treino/HE/treino_he (371).jpg  \n",
            "  inflating: Glomerulus/Normal/treino/HE/treino_he (36).jpg  \n",
            "  inflating: Glomerulus/Normal/treino/HE/treino_he (84).jpg  \n",
            "  inflating: Glomerulus/Normal/treino/HE/treino_he (217).jpg  \n",
            "  inflating: Glomerulus/Normal/treino/HE/treino_he (114).jpg  \n",
            "  inflating: Glomerulus/Normal/treino/HE/treino_he (63).jpg  \n",
            "  inflating: Glomerulus/Normal/treino/HE/treino_he (226).jpg  \n",
            "  inflating: Glomerulus/Normal/treino/HE/treino_he (16).jpg  \n",
            "  inflating: Glomerulus/Normal/treino/HE/treino_he (13).jpg  \n",
            "  inflating: Glomerulus/Normal/treino/HE/treino_he (112).jpg  \n",
            "  inflating: Glomerulus/Normal/treino/HE/treino_he (105).jpg  \n",
            "  inflating: Glomerulus/Normal/treino/HE/treino_he (290).jpg  \n",
            "  inflating: Glomerulus/Normal/treino/HE/treino_he (188).jpg  \n",
            "  inflating: Glomerulus/Normal/treino/HE/treino_he (354).jpg  \n",
            "  inflating: Glomerulus/Normal/treino/HE/treino_he (74).jpg  \n",
            "  inflating: Glomerulus/Normal/treino/HE/treino_he (150).jpg  \n",
            "  inflating: Glomerulus/Normal/treino/HE/treino_he (151).jpg  \n",
            "  inflating: Glomerulus/Normal/treino/HE/treino_he (113).jpg  \n",
            "  inflating: Glomerulus/Normal/treino/HE/treino_he (238).jpg  \n",
            "  inflating: Glomerulus/Normal/treino/HE/treino_he (25).jpg  \n",
            "  inflating: Glomerulus/Normal/treino/HE/treino_he (432).jpg  \n",
            "  inflating: Glomerulus/Normal/treino/HE/treino_he (430).jpg  \n",
            "  inflating: Glomerulus/Normal/treino/HE/treino_he (168).jpg  \n",
            "  inflating: Glomerulus/Normal/treino/HE/treino_he (24).jpg  \n",
            "  inflating: Glomerulus/Normal/treino/HE/treino_he (276).jpg  \n",
            "  inflating: Glomerulus/Normal/treino/HE/treino_he (382).jpg  \n",
            "  inflating: Glomerulus/Normal/treino/HE/treino_he (315).jpg  \n",
            "  inflating: Glomerulus/Normal/treino/HE/treino_he (342).jpg  \n",
            "  inflating: Glomerulus/Normal/treino/HE/treino_he (392).jpg  \n",
            "  inflating: Glomerulus/Normal/treino/HE/treino_he (22).jpg  \n",
            "  inflating: Glomerulus/Normal/treino/HE/treino_he (203).jpg  \n",
            "  inflating: Glomerulus/Normal/treino/HE/treino_he (365).jpg  \n",
            "  inflating: Glomerulus/Normal/treino/HE/treino_he (303).jpg  \n",
            "  inflating: Glomerulus/Normal/treino/HE/treino_he (296).jpg  \n",
            "  inflating: Glomerulus/Normal/treino/HE/treino_he (71).jpg  \n",
            "  inflating: Glomerulus/Normal/treino/HE/treino_he (157).jpg  \n",
            "  inflating: Glomerulus/Normal/treino/HE/treino_he (79).jpg  \n",
            "  inflating: Glomerulus/Normal/treino/HE/treino_he (137).jpg  \n",
            "  inflating: Glomerulus/Normal/treino/HE/treino_he (80).jpg  \n",
            "  inflating: Glomerulus/Normal/treino/HE/treino_he (277).jpg  \n",
            "  inflating: Glomerulus/Normal/treino/HE/treino_he (174).jpg  \n",
            "  inflating: Glomerulus/Normal/treino/HE/treino_he (344).jpg  \n",
            "  inflating: Glomerulus/Normal/treino/HE/treino_he (184).jpg  \n",
            "  inflating: Glomerulus/Normal/treino/HE/treino_he (99).jpg  \n",
            "  inflating: Glomerulus/Normal/treino/HE/treino_he (245).jpg  \n",
            "  inflating: Glomerulus/Normal/treino/HE/treino_he (359).jpg  \n",
            "  inflating: Glomerulus/Normal/treino/HE/treino_he (58).jpg  \n",
            "  inflating: Glomerulus/Normal/treino/HE/treino_he (212).jpg  \n",
            "  inflating: Glomerulus/Normal/treino/HE/treino_he (338).jpg  \n",
            "  inflating: Glomerulus/Normal/treino/HE/treino_he (53).jpg  \n",
            "  inflating: Glomerulus/Normal/treino/HE/treino_he (42).jpg  \n",
            "  inflating: Glomerulus/Normal/treino/HE/treino_he (11).jpg  \n",
            "  inflating: Glomerulus/Normal/treino/HE/treino_he (127).jpg  \n",
            "  inflating: Glomerulus/Normal/treino/HE/treino_he (267).jpg  \n",
            "  inflating: Glomerulus/Normal/treino/HE/treino_he (389).jpg  \n",
            "  inflating: Glomerulus/Normal/treino/HE/treino_he (434).jpg  \n",
            "  inflating: Glomerulus/Normal/treino/HE/treino_he (162).jpg  \n",
            "  inflating: Glomerulus/Normal/treino/HE/treino_he (125).jpg  \n",
            "  inflating: Glomerulus/Normal/treino/HE/treino_he (49).jpg  \n",
            "  inflating: Glomerulus/Normal/treino/HE/treino_he (52).jpg  \n",
            "  inflating: Glomerulus/Normal/treino/HE/treino_he (208).jpg  \n",
            "  inflating: Glomerulus/Normal/treino/HE/treino_he (90).jpg  \n",
            "  inflating: Glomerulus/Normal/treino/HE/treino_he (401).jpg  \n",
            "  inflating: Glomerulus/Normal/treino/HE/treino_he (149).jpg  \n",
            "  inflating: Glomerulus/Normal/treino/HE/treino_he (300).jpg  \n",
            "  inflating: Glomerulus/Normal/treino/HE/treino_he (59).jpg  \n",
            "  inflating: Glomerulus/Normal/treino/HE/treino_he (269).jpg  \n",
            "  inflating: Glomerulus/Normal/treino/HE/treino_he (100).jpg  \n",
            "  inflating: Glomerulus/Normal/treino/HE/treino_he (349).jpg  \n",
            "  inflating: Glomerulus/Normal/treino/HE/treino_he (23).jpg  \n",
            "  inflating: Glomerulus/Normal/treino/HE/treino_he (172).jpg  \n",
            "  inflating: Glomerulus/Normal/treino/HE/treino_he (177).jpg  \n",
            "  inflating: Glomerulus/Normal/treino/HE/treino_he (218).jpg  \n",
            "  inflating: Glomerulus/Normal/treino/HE/treino_he (89).jpg  \n",
            "  inflating: Glomerulus/Normal/treino/HE/treino_he (236).jpg  \n",
            "  inflating: Glomerulus/Normal/treino/HE/treino_he (193).jpg  \n",
            "  inflating: Glomerulus/Normal/treino/HE/treino_he (411).jpg  \n",
            "  inflating: Glomerulus/Normal/treino/HE/treino_he (143).jpg  \n",
            "  inflating: Glomerulus/Normal/treino/HE/treino_he (314).jpg  \n",
            "  inflating: Glomerulus/Normal/treino/HE/treino_he (187).jpg  \n",
            "  inflating: Glomerulus/Normal/treino/HE/treino_he (366).jpg  \n",
            "  inflating: Glomerulus/Normal/treino/HE/treino_he (241).jpg  \n",
            "  inflating: Glomerulus/Normal/treino/HE/treino_he (271).jpg  \n",
            "  inflating: Glomerulus/Normal/treino/HE/treino_he (345).jpg  \n",
            "  inflating: Glomerulus/Normal/treino/HE/treino_he (413).jpg  \n",
            "  inflating: Glomerulus/Normal/treino/HE/treino_he (205).jpg  \n",
            "  inflating: Glomerulus/Normal/treino/HE/treino_he (213).jpg  \n",
            "  inflating: Glomerulus/Normal/treino/HE/treino_he (128).jpg  \n",
            "  inflating: Glomerulus/Normal/treino/HE/treino_he (409).jpg  \n",
            "  inflating: Glomerulus/Normal/treino/HE/treino_he (182).jpg  \n",
            "  inflating: Glomerulus/Normal/treino/HE/treino_he (156).jpg  \n",
            "  inflating: Glomerulus/Normal/treino/HE/treino_he (361).jpg  \n",
            "  inflating: Glomerulus/Normal/treino/HE/treino_he (27).jpg  \n",
            "  inflating: Glomerulus/Normal/treino/HE/treino_he (423).jpg  \n",
            "  inflating: Glomerulus/Normal/treino/HE/treino_he (28).jpg  \n",
            "  inflating: Glomerulus/Normal/treino/HE/treino_he (428).jpg  \n",
            "  inflating: Glomerulus/Normal/treino/HE/treino_he (190).jpg  \n",
            "  inflating: Glomerulus/Normal/treino/HE/treino_he (321).jpg  \n",
            "  inflating: Glomerulus/Normal/treino/HE/treino_he (268).jpg  \n",
            "  inflating: Glomerulus/Normal/treino/HE/treino_he (299).jpg  \n",
            "  inflating: Glomerulus/Normal/treino/HE/treino_he (159).jpg  \n",
            "  inflating: Glomerulus/Normal/treino/HE/treino_he (68).jpg  \n",
            "  inflating: Glomerulus/Normal/treino/HE/treino_he (102).jpg  \n",
            "  inflating: Glomerulus/Normal/treino/HE/treino_he (56).jpg  \n",
            "  inflating: Glomerulus/Normal/treino/HE/treino_he (108).jpg  \n",
            "  inflating: Glomerulus/Normal/treino/HE/treino_he (393).jpg  \n",
            "  inflating: Glomerulus/Normal/treino/HE/treino_he (336).jpg  \n",
            "  inflating: Glomerulus/Normal/treino/HE/treino_he (408).jpg  \n",
            "  inflating: Glomerulus/Normal/treino/HE/treino_he (95).jpg  \n",
            "  inflating: Glomerulus/Normal/treino/HE/treino_he (118).jpg  \n",
            "  inflating: Glomerulus/Normal/treino/HE/treino_he (381).jpg  \n",
            "  inflating: Glomerulus/Normal/treino/HE/treino_he (103).jpg  \n",
            "  inflating: Glomerulus/Normal/treino/HE/treino_he (266).jpg  \n",
            "  inflating: Glomerulus/Normal/treino/HE/treino_he (390).jpg  \n",
            "  inflating: Glomerulus/Normal/treino/HE/treino_he (31).jpg  \n",
            "  inflating: Glomerulus/Normal/treino/HE/treino_he (160).jpg  \n",
            "  inflating: Glomerulus/Normal/treino/HE/treino_he (340).jpg  \n",
            "  inflating: Glomerulus/Normal/treino/HE/treino_he (10).jpg  \n",
            "  inflating: Glomerulus/Normal/treino/HE/treino_he (255).jpg  \n",
            "  inflating: Glomerulus/Normal/treino/HE/treino_he (34).jpg  \n",
            "  inflating: Glomerulus/Normal/treino/HE/treino_he (96).jpg  \n",
            "  inflating: Glomerulus/Normal/treino/HE/treino_he (424).jpg  \n",
            "  inflating: Glomerulus/Normal/treino/HE/treino_he (435).jpg  \n",
            "  inflating: Glomerulus/Normal/treino/HE/treino_he (254).jpg  \n",
            "  inflating: Glomerulus/Normal/treino/HE/treino_he (384).jpg  \n",
            "  inflating: Glomerulus/Normal/treino/HE/treino_he (258).jpg  \n",
            "  inflating: Glomerulus/Normal/treino/HE/treino_he (325).jpg  \n",
            "  inflating: Glomerulus/Normal/treino/HE/treino_he (308).jpg  \n",
            "  inflating: Glomerulus/Normal/treino/HE/treino_he (417).jpg  \n",
            "  inflating: Glomerulus/Normal/treino/HE/treino_he (134).jpg  \n",
            "  inflating: Glomerulus/Normal/treino/HE/treino_he (91).jpg  \n",
            "  inflating: Glomerulus/Normal/treino/HE/treino_he (47).jpg  \n",
            "  inflating: Glomerulus/Normal/treino/HE/treino_he (398).jpg  \n",
            "  inflating: Glomerulus/Normal/treino/HE/treino_he (204).jpg  \n",
            "  inflating: Glomerulus/Normal/treino/HE/treino_he (138).jpg  \n",
            "  inflating: Glomerulus/Normal/treino/HE/treino_he (4).jpg  \n",
            "  inflating: Glomerulus/Normal/treino/HE/treino_he (131).jpg  \n",
            "  inflating: Glomerulus/Normal/treino/HE/treino_he (64).jpg  \n",
            "  inflating: Glomerulus/Normal/treino/HE/treino_he (412).jpg  \n",
            "  inflating: Glomerulus/Normal/treino/HE/treino_he (17).jpg  \n",
            "  inflating: Glomerulus/Normal/treino/HE/treino_he (312).jpg  \n",
            "  inflating: Glomerulus/Normal/treino/HE/treino_he (136).jpg  \n",
            "  inflating: Glomerulus/Normal/treino/HE/treino_he (352).jpg  \n",
            "  inflating: Glomerulus/Normal/treino/HE/treino_he (163).jpg  \n",
            "  inflating: Glomerulus/Normal/treino/HE/treino_he (129).jpg  \n",
            "  inflating: Glomerulus/Normal/treino/HE/treino_he (333).jpg  \n",
            "  inflating: Glomerulus/Normal/treino/HE/treino_he (305).jpg  \n",
            "  inflating: Glomerulus/Normal/treino/HE/treino_he (62).jpg  \n",
            "  inflating: Glomerulus/Normal/treino/HE/treino_he (20).jpg  \n",
            "  inflating: Glomerulus/Normal/treino/HE/treino_he (21).jpg  \n",
            "  inflating: Glomerulus/Normal/treino/HE/treino_he (72).jpg  \n",
            "  inflating: Glomerulus/Normal/treino/HE/treino_he (356).jpg  \n",
            "  inflating: Glomerulus/Normal/treino/HE/treino_he (106).jpg  \n",
            "  inflating: Glomerulus/Normal/treino/HE/treino_he (343).jpg  \n",
            "  inflating: Glomerulus/Normal/treino/HE/treino_he (73).jpg  \n",
            "  inflating: Glomerulus/Normal/treino/HE/treino_he (183).jpg  \n",
            "  inflating: Glomerulus/Normal/treino/HE/treino_he (104).jpg  \n",
            "  inflating: Glomerulus/Normal/treino/HE/treino_he (272).jpg  \n",
            "  inflating: Glomerulus/Normal/treino/HE/treino_he (324).jpg  \n",
            "  inflating: Glomerulus/Normal/treino/HE/treino_he (357).jpg  \n",
            "  inflating: Glomerulus/Normal/treino/HE/treino_he (399).jpg  \n",
            "  inflating: Glomerulus/Normal/treino/HE/treino_he (335).jpg  \n",
            "  inflating: Glomerulus/Normal/treino/HE/treino_he (362).jpg  \n",
            "  inflating: Glomerulus/Normal/treino/HE/treino_he (152).jpg  \n",
            "  inflating: Glomerulus/Normal/treino/HE/treino_he (262).jpg  \n",
            "  inflating: Glomerulus/Normal/treino/HE/treino_he (185).jpg  \n",
            "  inflating: Glomerulus/Normal/treino/HE/treino_he (141).jpg  \n",
            "  inflating: Glomerulus/Normal/treino/HE/treino_he (367).jpg  \n",
            "  inflating: Glomerulus/Normal/treino/HE/treino_he (295).jpg  \n",
            "  inflating: Glomerulus/Normal/treino/HE/treino_he (275).jpg  \n",
            "  inflating: Glomerulus/Normal/treino/HE/treino_he (122).jpg  \n",
            "  inflating: Glomerulus/Normal/treino/HE/treino_he (220).jpg  \n",
            "  inflating: Glomerulus/Normal/treino/HE/treino_he (153).jpg  \n",
            "  inflating: Glomerulus/Normal/treino/HE/treino_he (379).jpg  \n",
            "  inflating: Glomerulus/Normal/treino/HE/treino_he (395).jpg  \n",
            "  inflating: Glomerulus/Normal/treino/HE/treino_he (146).jpg  \n",
            "  inflating: Glomerulus/Normal/treino/HE/treino_he (5).jpg  \n",
            "  inflating: Glomerulus/Normal/treino/HE/treino_he (429).jpg  \n",
            "  inflating: Glomerulus/Normal/treino/HE/treino_he (77).jpg  \n",
            "  inflating: Glomerulus/Normal/treino/HE/treino_he (270).jpg  \n",
            "  inflating: Glomerulus/Normal/treino/HE/treino_he (109).jpg  \n",
            "  inflating: Glomerulus/Normal/treino/HE/treino_he (83).jpg  \n",
            "  inflating: Glomerulus/Normal/treino/HE/treino_he (261).jpg  \n",
            "  inflating: Glomerulus/Normal/treino/HE/treino_he (171).jpg  \n",
            "  inflating: Glomerulus/Normal/treino/HE/treino_he (364).jpg  \n",
            "  inflating: Glomerulus/Normal/treino/HE/treino_he (223).jpg  \n",
            "  inflating: Glomerulus/Normal/treino/HE/treino_he (196).jpg  \n",
            "  inflating: Glomerulus/Normal/treino/HE/treino_he (327).jpg  \n",
            "  inflating: Glomerulus/Normal/treino/HE/treino_he (339).jpg  \n",
            "  inflating: Glomerulus/Normal/treino/HE/treino_he (264).jpg  \n",
            "  inflating: Glomerulus/Normal/treino/HE/treino_he (246).jpg  \n",
            "  inflating: Glomerulus/Normal/treino/HE/treino_he (404).jpg  \n",
            "  inflating: Glomerulus/Normal/treino/HE/treino_he (369).jpg  \n",
            "  inflating: Glomerulus/Normal/treino/HE/treino_he (14).jpg  \n",
            "  inflating: Glomerulus/Normal/treino/HE/treino_he (421).jpg  \n",
            "  inflating: Glomerulus/Normal/treino/HE/treino_he (155).jpg  \n",
            "  inflating: Glomerulus/Normal/treino/HE/treino_he (328).jpg  \n",
            "  inflating: Glomerulus/Normal/treino/HE/treino_he (331).jpg  \n",
            "  inflating: Glomerulus/Normal/treino/HE/treino_he (165).jpg  \n",
            "  inflating: Glomerulus/Normal/treino/HE/treino_he (19).jpg  \n",
            "  inflating: Glomerulus/Normal/treino/HE/treino_he (337).jpg  \n",
            "  inflating: Glomerulus/Normal/treino/HE/treino_he (233).jpg  \n",
            "  inflating: Glomerulus/Normal/treino/HE/treino_he (347).jpg  \n",
            "  inflating: Glomerulus/Normal/treino/HE/treino_he (173).jpg  \n",
            "  inflating: Glomerulus/Normal/treino/HE/treino_he (353).jpg  \n",
            "  inflating: Glomerulus/Normal/treino/HE/treino_he (61).jpg  \n",
            "  inflating: Glomerulus/Normal/treino/HE/treino_he (110).jpg  \n",
            "  inflating: Glomerulus/Normal/treino/HE/treino_he (57).jpg  \n",
            "   creating: Glomerulus/Normal/treino/PAMS/\n",
            "  inflating: Glomerulus/Normal/treino/PAMS/treino_pams (71).jpg  \n",
            "  inflating: Glomerulus/Normal/treino/PAMS/treino_pams (36).jpg  \n",
            "  inflating: Glomerulus/Normal/treino/PAMS/treino_pams (72).jpg  \n",
            "  inflating: Glomerulus/Normal/treino/PAMS/treino_pams (53).jpg  \n",
            "  inflating: Glomerulus/Normal/treino/PAMS/treino_pams (74).jpg  \n",
            "  inflating: Glomerulus/Normal/treino/PAMS/treino_pams (54).jpg  \n",
            "  inflating: Glomerulus/Normal/treino/PAMS/treino_pams (73).jpg  \n",
            "  inflating: Glomerulus/Normal/treino/PAMS/treino_pams (21).jpg  \n",
            "  inflating: Glomerulus/Normal/treino/PAMS/treino_pams (77).jpg  \n",
            "  inflating: Glomerulus/Normal/treino/PAMS/treino_pams (62).jpg  \n",
            "  inflating: Glomerulus/Normal/treino/PAMS/treino_pams (11).jpg  \n",
            "  inflating: Glomerulus/Normal/treino/PAMS/treino_pams (86).jpg  \n",
            "  inflating: Glomerulus/Normal/treino/PAMS/treino_pams (6).jpg  \n",
            "  inflating: Glomerulus/Normal/treino/PAMS/treino_pams (68).jpg  \n",
            "  inflating: Glomerulus/Normal/treino/PAMS/treino_pams (41).jpg  \n",
            "  inflating: Glomerulus/Normal/treino/PAMS/treino_pams (76).jpg  \n",
            "  inflating: Glomerulus/Normal/treino/PAMS/treino_pams (79).jpg  \n",
            "  inflating: Glomerulus/Normal/treino/PAMS/treino_pams (45).jpg  \n",
            "  inflating: Glomerulus/Normal/treino/PAMS/treino_pams (24).jpg  \n",
            "  inflating: Glomerulus/Normal/treino/PAMS/treino_pams (37).jpg  \n",
            "  inflating: Glomerulus/Normal/treino/PAMS/treino_pams (43).jpg  \n",
            "  inflating: Glomerulus/Normal/treino/PAMS/treino_pams (56).jpg  \n",
            "  inflating: Glomerulus/Normal/treino/PAMS/treino_pams (93).jpg  \n",
            "  inflating: Glomerulus/Normal/treino/PAMS/treino_pams (1).jpg  \n",
            "  inflating: Glomerulus/Normal/treino/PAMS/treino_pams (69).jpg  \n",
            "  inflating: Glomerulus/Normal/treino/PAMS/treino_pams (20).jpg  \n",
            "  inflating: Glomerulus/Normal/treino/PAMS/treino_pams (66).jpg  \n",
            "  inflating: Glomerulus/Normal/treino/PAMS/treino_pams (25).jpg  \n",
            "  inflating: Glomerulus/Normal/treino/PAMS/treino_pams (90).jpg  \n",
            "  inflating: Glomerulus/Normal/treino/PAMS/treino_pams (46).jpg  \n",
            "  inflating: Glomerulus/Normal/treino/PAMS/treino_pams (70).jpg  \n",
            "  inflating: Glomerulus/Normal/treino/PAMS/treino_pams (15).jpg  \n",
            "  inflating: Glomerulus/Normal/treino/PAMS/treino_pams (87).jpg  \n",
            "  inflating: Glomerulus/Normal/treino/PAMS/treino_pams (47).jpg  \n",
            "  inflating: Glomerulus/Normal/treino/PAMS/treino_pams (10).jpg  \n",
            "  inflating: Glomerulus/Normal/treino/PAMS/treino_pams (39).jpg  \n",
            "  inflating: Glomerulus/Normal/treino/PAMS/treino_pams (88).jpg  \n",
            "  inflating: Glomerulus/Normal/treino/PAMS/treino_pams (17).jpg  \n",
            "  inflating: Glomerulus/Normal/treino/PAMS/treino_pams (18).jpg  \n",
            "  inflating: Glomerulus/Normal/treino/PAMS/treino_pams (91).jpg  \n",
            "  inflating: Glomerulus/Normal/treino/PAMS/treino_pams (22).jpg  \n",
            "  inflating: Glomerulus/Normal/treino/PAMS/treino_pams (75).jpg  \n",
            "  inflating: Glomerulus/Normal/treino/PAMS/treino_pams (28).jpg  \n",
            "  inflating: Glomerulus/Normal/treino/PAMS/treino_pams (57).jpg  \n",
            "  inflating: Glomerulus/Normal/treino/PAMS/treino_pams (52).jpg  \n",
            "  inflating: Glomerulus/Normal/treino/PAMS/treino_pams (38).jpg  \n",
            "  inflating: Glomerulus/Normal/treino/PAMS/treino_pams (32).jpg  \n",
            "  inflating: Glomerulus/Normal/treino/PAMS/treino_pams (55).jpg  \n",
            "  inflating: Glomerulus/Normal/treino/PAMS/treino_pams (3).jpg  \n",
            "  inflating: Glomerulus/Normal/treino/PAMS/treino_pams (7).jpg  \n",
            "  inflating: Glomerulus/Normal/treino/PAMS/treino_pams (35).jpg  \n",
            "  inflating: Glomerulus/Normal/treino/PAMS/treino_pams (85).jpg  \n",
            "  inflating: Glomerulus/Normal/treino/PAMS/treino_pams (29).jpg  \n",
            "  inflating: Glomerulus/Normal/treino/PAMS/treino_pams (95).jpg  \n",
            "  inflating: Glomerulus/Normal/treino/PAMS/treino_pams (65).jpg  \n",
            "  inflating: Glomerulus/Normal/treino/PAMS/treino_pams (34).jpg  \n",
            "  inflating: Glomerulus/Normal/treino/PAMS/treino_pams (63).jpg  \n",
            "  inflating: Glomerulus/Normal/treino/PAMS/treino_pams (8).jpg  \n",
            "  inflating: Glomerulus/Normal/treino/PAMS/treino_pams (5).jpg  \n",
            "  inflating: Glomerulus/Normal/treino/PAMS/treino_pams (44).jpg  \n",
            "  inflating: Glomerulus/Normal/treino/PAMS/treino_pams (48).jpg  \n",
            "  inflating: Glomerulus/Normal/treino/PAMS/treino_pams (50).jpg  \n",
            "  inflating: Glomerulus/Normal/treino/PAMS/treino_pams (80).jpg  \n",
            "  inflating: Glomerulus/Normal/treino/PAMS/treino_pams (14).jpg  \n",
            "  inflating: Glomerulus/Normal/treino/PAMS/treino_pams (60).jpg  \n",
            "  inflating: Glomerulus/Normal/treino/PAMS/treino_pams (26).jpg  \n",
            "  inflating: Glomerulus/Normal/treino/PAMS/treino_pams (31).jpg  \n",
            "  inflating: Glomerulus/Normal/treino/PAMS/treino_pams (27).jpg  \n",
            "  inflating: Glomerulus/Normal/treino/PAMS/treino_pams (81).jpg  \n",
            "  inflating: Glomerulus/Normal/treino/PAMS/treino_pams (30).jpg  \n",
            "  inflating: Glomerulus/Normal/treino/PAMS/treino_pams (67).jpg  \n",
            "  inflating: Glomerulus/Normal/treino/PAMS/treino_pams (83).jpg  \n",
            "  inflating: Glomerulus/Normal/treino/PAMS/treino_pams (19).jpg  \n",
            "  inflating: Glomerulus/Normal/treino/PAMS/treino_pams (33).jpg  \n",
            "  inflating: Glomerulus/Normal/treino/PAMS/treino_pams (16).jpg  \n",
            "  inflating: Glomerulus/Normal/treino/PAMS/treino_pams (61).jpg  \n",
            "  inflating: Glomerulus/Normal/treino/PAMS/treino_pams (42).jpg  \n",
            "  inflating: Glomerulus/Normal/treino/PAMS/treino_pams (64).jpg  \n",
            "  inflating: Glomerulus/Normal/treino/PAMS/treino_pams (4).jpg  \n",
            "  inflating: Glomerulus/Normal/treino/PAMS/treino_pams (9).jpg  \n",
            "  inflating: Glomerulus/Normal/treino/PAMS/treino_pams (23).jpg  \n",
            "  inflating: Glomerulus/Normal/treino/PAMS/treino_pams (40).jpg  \n",
            "  inflating: Glomerulus/Normal/treino/PAMS/treino_pams (82).jpg  \n",
            "  inflating: Glomerulus/Normal/treino/PAMS/treino_pams (58).jpg  \n",
            "  inflating: Glomerulus/Normal/treino/PAMS/treino_pams (84).jpg  \n",
            "  inflating: Glomerulus/Normal/treino/PAMS/treino_pams (13).jpg  \n",
            "  inflating: Glomerulus/Normal/treino/PAMS/treino_pams (51).jpg  \n",
            "  inflating: Glomerulus/Normal/treino/PAMS/treino_pams (92).jpg  \n",
            "  inflating: Glomerulus/Normal/treino/PAMS/treino_pams (94).jpg  \n",
            "  inflating: Glomerulus/Normal/treino/PAMS/treino_pams (49).jpg  \n",
            "  inflating: Glomerulus/Normal/treino/PAMS/treino_pams (59).jpg  \n",
            "  inflating: Glomerulus/Normal/treino/PAMS/treino_pams (89).jpg  \n",
            "  inflating: Glomerulus/Normal/treino/PAMS/treino_pams (78).jpg  \n",
            "  inflating: Glomerulus/Normal/treino/PAMS/treino_pams (12).jpg  \n",
            "  inflating: Glomerulus/Normal/treino/PAMS/treino_pams (2).jpg  \n",
            "   creating: Glomerulus/Normal/treino/AZAN/\n",
            "  inflating: Glomerulus/Normal/treino/AZAN/treino_azan (12).jpg  \n",
            "  inflating: Glomerulus/Normal/treino/AZAN/treino_azan (25).jpg  \n",
            "  inflating: Glomerulus/Normal/treino/AZAN/treino_azan (59).jpg  \n",
            "  inflating: Glomerulus/Normal/treino/AZAN/treino_azan (60).jpg  \n",
            "  inflating: Glomerulus/Normal/treino/AZAN/treino_azan (7).jpg  \n",
            "  inflating: Glomerulus/Normal/treino/AZAN/treino_azan (63).jpg  \n",
            "  inflating: Glomerulus/Normal/treino/AZAN/treino_azan (17).jpg  \n",
            "  inflating: Glomerulus/Normal/treino/AZAN/treino_azan (29).jpg  \n",
            "  inflating: Glomerulus/Normal/treino/AZAN/treino_azan (26).jpg  \n",
            "  inflating: Glomerulus/Normal/treino/AZAN/treino_azan (21).jpg  \n",
            "  inflating: Glomerulus/Normal/treino/AZAN/treino_azan (62).jpg  \n",
            "  inflating: Glomerulus/Normal/treino/AZAN/treino_azan (3).JPG  \n",
            "  inflating: Glomerulus/Normal/treino/AZAN/treino_azan (13).jpg  \n",
            "  inflating: Glomerulus/Normal/treino/AZAN/treino_azan (48).jpg  \n",
            "  inflating: Glomerulus/Normal/treino/AZAN/treino_azan (54).jpg  \n",
            "  inflating: Glomerulus/Normal/treino/AZAN/treino_azan (19).jpg  \n",
            "  inflating: Glomerulus/Normal/treino/AZAN/treino_azan (33).jpg  \n",
            "  inflating: Glomerulus/Normal/treino/AZAN/treino_azan (51).jpg  \n",
            "  inflating: Glomerulus/Normal/treino/AZAN/treino_azan (27).jpg  \n",
            "  inflating: Glomerulus/Normal/treino/AZAN/treino_azan (24).jpg  \n",
            "  inflating: Glomerulus/Normal/treino/AZAN/treino_azan (38).jpg  \n",
            "  inflating: Glomerulus/Normal/treino/AZAN/treino_azan (45).jpg  \n",
            "  inflating: Glomerulus/Normal/treino/AZAN/treino_azan (10).jpg  \n",
            "  inflating: Glomerulus/Normal/treino/AZAN/treino_azan (47).jpg  \n",
            "  inflating: Glomerulus/Normal/treino/AZAN/treino_azan (4).JPG  \n",
            "  inflating: Glomerulus/Normal/treino/AZAN/treino_azan (56).jpg  \n",
            "  inflating: Glomerulus/Normal/treino/AZAN/treino_azan (32).jpg  \n",
            "  inflating: Glomerulus/Normal/treino/AZAN/treino_azan (14).jpg  \n",
            "  inflating: Glomerulus/Normal/treino/AZAN/treino_azan (49).jpg  \n",
            "  inflating: Glomerulus/Normal/treino/AZAN/treino_azan (46).jpg  \n",
            "  inflating: Glomerulus/Normal/treino/AZAN/treino_azan (23).jpg  \n",
            "  inflating: Glomerulus/Normal/treino/AZAN/treino_azan (53).jpg  \n",
            "  inflating: Glomerulus/Normal/treino/AZAN/treino_azan (20).jpg  \n",
            "  inflating: Glomerulus/Normal/treino/AZAN/treino_azan (36).jpg  \n",
            "  inflating: Glomerulus/Normal/treino/AZAN/treino_azan (18).jpg  \n",
            "  inflating: Glomerulus/Normal/treino/AZAN/treino_azan (37).jpg  \n",
            "  inflating: Glomerulus/Normal/treino/AZAN/treino_azan (1).JPG  \n",
            "  inflating: Glomerulus/Normal/treino/AZAN/treino_azan (22).jpg  \n",
            "  inflating: Glomerulus/Normal/treino/AZAN/treino_azan (57).jpg  \n",
            "  inflating: Glomerulus/Normal/treino/AZAN/treino_azan (30).jpg  \n",
            "  inflating: Glomerulus/Normal/treino/AZAN/treino_azan (39).jpg  \n",
            "  inflating: Glomerulus/Normal/treino/AZAN/treino_azan (11).jpg  \n",
            "  inflating: Glomerulus/Normal/treino/AZAN/treino_azan (31).jpg  \n",
            "  inflating: Glomerulus/Normal/treino/AZAN/treino_azan (5).JPG  \n",
            "  inflating: Glomerulus/Normal/treino/AZAN/treino_azan (35).jpg  \n",
            "  inflating: Glomerulus/Normal/treino/AZAN/treino_azan (34).jpg  \n",
            "  inflating: Glomerulus/Normal/treino/AZAN/treino_azan (15).jpg  \n",
            "  inflating: Glomerulus/Normal/treino/AZAN/treino_azan (43).jpg  \n",
            "  inflating: Glomerulus/Normal/treino/AZAN/treino_azan (9).jpg  \n",
            "  inflating: Glomerulus/Normal/treino/AZAN/treino_azan (2).JPG  \n",
            "  inflating: Glomerulus/Normal/treino/AZAN/treino_azan (58).jpg  \n",
            "  inflating: Glomerulus/Normal/treino/AZAN/treino_azan (40).jpg  \n",
            "  inflating: Glomerulus/Normal/treino/AZAN/treino_azan (55).jpg  \n",
            "  inflating: Glomerulus/Normal/treino/AZAN/treino_azan (6).JPG  \n",
            "  inflating: Glomerulus/Normal/treino/AZAN/treino_azan (50).jpg  \n",
            "  inflating: Glomerulus/Normal/treino/AZAN/treino_azan (8).jpg  \n",
            "  inflating: Glomerulus/Normal/treino/AZAN/treino_azan (28).jpg  \n",
            "  inflating: Glomerulus/Normal/treino/AZAN/treino_azan (44).jpg  \n",
            "  inflating: Glomerulus/Normal/treino/AZAN/treino_azan (41).jpg  \n",
            "  inflating: Glomerulus/Normal/treino/AZAN/treino_azan (16).jpg  \n",
            "  inflating: Glomerulus/Normal/treino/AZAN/treino_azan (42).jpg  \n",
            "  inflating: Glomerulus/Normal/treino/AZAN/treino_azan (52).jpg  \n",
            "  inflating: Glomerulus/Normal/treino/AZAN/treino_azan (61).jpg  \n",
            "   creating: Glomerulus/Normal/treino/PAS/\n",
            "  inflating: Glomerulus/Normal/treino/PAS/treino_pas (75).jpg  \n",
            "  inflating: Glomerulus/Normal/treino/PAS/treino_pas (73).jpg  \n",
            "  inflating: Glomerulus/Normal/treino/PAS/treino_pas (23).JPG  \n",
            "  inflating: Glomerulus/Normal/treino/PAS/treino_pas (49).jpg  \n",
            "  inflating: Glomerulus/Normal/treino/PAS/treino_pas (36).jpg  \n",
            "  inflating: Glomerulus/Normal/treino/PAS/treino_pas (88).jpg  \n",
            "  inflating: Glomerulus/Normal/treino/PAS/treino_pas (54).jpg  \n",
            "  inflating: Glomerulus/Normal/treino/PAS/treino_pas (15).JPG  \n",
            "  inflating: Glomerulus/Normal/treino/PAS/treino_pas (64).jpg  \n",
            "  inflating: Glomerulus/Normal/treino/PAS/treino_pas (89).jpg  \n",
            "  inflating: Glomerulus/Normal/treino/PAS/treino_pas (25).JPG  \n",
            "  inflating: Glomerulus/Normal/treino/PAS/treino_pas (97).jpg  \n",
            "  inflating: Glomerulus/Normal/treino/PAS/treino_pas (14).JPG  \n",
            "  inflating: Glomerulus/Normal/treino/PAS/treino_pas (132).jpg  \n",
            "  inflating: Glomerulus/Normal/treino/PAS/treino_pas (31).jpg  \n",
            "  inflating: Glomerulus/Normal/treino/PAS/treino_pas (19).JPG  \n",
            "  inflating: Glomerulus/Normal/treino/PAS/treino_pas (123).jpg  \n",
            "  inflating: Glomerulus/Normal/treino/PAS/treino_pas (147).jpg  \n",
            "  inflating: Glomerulus/Normal/treino/PAS/treino_pas (100).jpg  \n",
            "  inflating: Glomerulus/Normal/treino/PAS/treino_pas (52).jpg  \n",
            "  inflating: Glomerulus/Normal/treino/PAS/treino_pas (136).jpg  \n",
            "  inflating: Glomerulus/Normal/treino/PAS/treino_pas (82).jpg  \n",
            "  inflating: Glomerulus/Normal/treino/PAS/treino_pas (16).JPG  \n",
            "  inflating: Glomerulus/Normal/treino/PAS/treino_pas (109).jpg  \n",
            "  inflating: Glomerulus/Normal/treino/PAS/treino_pas (18).JPG  \n",
            "  inflating: Glomerulus/Normal/treino/PAS/treino_pas (9).JPG  \n",
            "  inflating: Glomerulus/Normal/treino/PAS/treino_pas (133).jpg  \n",
            "  inflating: Glomerulus/Normal/treino/PAS/treino_pas (41).jpg  \n",
            "  inflating: Glomerulus/Normal/treino/PAS/treino_pas (1).JPG  \n",
            "  inflating: Glomerulus/Normal/treino/PAS/treino_pas (67).jpg  \n",
            "  inflating: Glomerulus/Normal/treino/PAS/treino_pas (35).jpg  \n",
            "  inflating: Glomerulus/Normal/treino/PAS/treino_pas (30).JPG  \n",
            "  inflating: Glomerulus/Normal/treino/PAS/treino_pas (145).jpg  \n",
            "  inflating: Glomerulus/Normal/treino/PAS/treino_pas (43).jpg  \n",
            "  inflating: Glomerulus/Normal/treino/PAS/treino_pas (106).jpg  \n",
            "  inflating: Glomerulus/Normal/treino/PAS/treino_pas (114).jpg  \n",
            "  inflating: Glomerulus/Normal/treino/PAS/treino_pas (120).jpg  \n",
            "  inflating: Glomerulus/Normal/treino/PAS/treino_pas (55).jpg  \n",
            "  inflating: Glomerulus/Normal/treino/PAS/treino_pas (96).jpg  \n",
            "  inflating: Glomerulus/Normal/treino/PAS/treino_pas (112).jpg  \n",
            "  inflating: Glomerulus/Normal/treino/PAS/treino_pas (117).jpg  \n",
            "  inflating: Glomerulus/Normal/treino/PAS/treino_pas (57).jpg  \n",
            "  inflating: Glomerulus/Normal/treino/PAS/treino_pas (95).jpg  \n",
            "  inflating: Glomerulus/Normal/treino/PAS/treino_pas (113).jpg  \n",
            "  inflating: Glomerulus/Normal/treino/PAS/treino_pas (99).jpg  \n",
            "  inflating: Glomerulus/Normal/treino/PAS/treino_pas (59).jpg  \n",
            "  inflating: Glomerulus/Normal/treino/PAS/treino_pas (98).jpg  \n",
            "  inflating: Glomerulus/Normal/treino/PAS/treino_pas (122).jpg  \n",
            "  inflating: Glomerulus/Normal/treino/PAS/treino_pas (38).jpg  \n",
            "  inflating: Glomerulus/Normal/treino/PAS/treino_pas (2).JPG  \n",
            "  inflating: Glomerulus/Normal/treino/PAS/treino_pas (92).jpg  \n",
            "  inflating: Glomerulus/Normal/treino/PAS/treino_pas (86).jpg  \n",
            "  inflating: Glomerulus/Normal/treino/PAS/treino_pas (124).jpg  \n",
            "  inflating: Glomerulus/Normal/treino/PAS/treino_pas (66).jpg  \n",
            "  inflating: Glomerulus/Normal/treino/PAS/treino_pas (6).JPG  \n",
            "  inflating: Glomerulus/Normal/treino/PAS/treino_pas (39).jpg  \n",
            "  inflating: Glomerulus/Normal/treino/PAS/treino_pas (51).jpg  \n",
            "  inflating: Glomerulus/Normal/treino/PAS/treino_pas (7).JPG  \n",
            "  inflating: Glomerulus/Normal/treino/PAS/treino_pas (134).jpg  \n",
            "  inflating: Glomerulus/Normal/treino/PAS/treino_pas (139).jpg  \n",
            "  inflating: Glomerulus/Normal/treino/PAS/treino_pas (3).JPG  \n",
            "  inflating: Glomerulus/Normal/treino/PAS/treino_pas (105).jpg  \n",
            "  inflating: Glomerulus/Normal/treino/PAS/treino_pas (144).jpg  \n",
            "  inflating: Glomerulus/Normal/treino/PAS/treino_pas (142).jpg  \n",
            "  inflating: Glomerulus/Normal/treino/PAS/treino_pas (58).jpg  \n",
            "  inflating: Glomerulus/Normal/treino/PAS/treino_pas (11).JPG  \n",
            "  inflating: Glomerulus/Normal/treino/PAS/treino_pas (56).jpg  \n",
            "  inflating: Glomerulus/Normal/treino/PAS/treino_pas (24).JPG  \n",
            "  inflating: Glomerulus/Normal/treino/PAS/treino_pas (44).jpg  \n",
            "  inflating: Glomerulus/Normal/treino/PAS/treino_pas (90).jpg  \n",
            "  inflating: Glomerulus/Normal/treino/PAS/treino_pas (126).jpg  \n",
            "  inflating: Glomerulus/Normal/treino/PAS/treino_pas (137).jpg  \n",
            "  inflating: Glomerulus/Normal/treino/PAS/treino_pas (63).jpg  \n",
            "  inflating: Glomerulus/Normal/treino/PAS/treino_pas (74).jpg  \n",
            "  inflating: Glomerulus/Normal/treino/PAS/treino_pas (21).JPG  \n",
            "  inflating: Glomerulus/Normal/treino/PAS/treino_pas (48).jpg  \n",
            "  inflating: Glomerulus/Normal/treino/PAS/treino_pas (107).jpg  \n",
            "  inflating: Glomerulus/Normal/treino/PAS/treino_pas (68).jpg  \n",
            "  inflating: Glomerulus/Normal/treino/PAS/treino_pas (115).jpg  \n",
            "  inflating: Glomerulus/Normal/treino/PAS/treino_pas (103).jpg  \n",
            "  inflating: Glomerulus/Normal/treino/PAS/treino_pas (61).jpg  \n",
            "  inflating: Glomerulus/Normal/treino/PAS/treino_pas (62).jpg  \n",
            "  inflating: Glomerulus/Normal/treino/PAS/treino_pas (119).jpg  \n",
            "  inflating: Glomerulus/Normal/treino/PAS/treino_pas (70).jpg  \n",
            "  inflating: Glomerulus/Normal/treino/PAS/treino_pas (33).jpg  \n",
            "  inflating: Glomerulus/Normal/treino/PAS/treino_pas (116).jpg  \n",
            "  inflating: Glomerulus/Normal/treino/PAS/treino_pas (121).jpg  \n",
            "  inflating: Glomerulus/Normal/treino/PAS/treino_pas (83).jpg  \n",
            "  inflating: Glomerulus/Normal/treino/PAS/treino_pas (80).jpg  \n",
            "  inflating: Glomerulus/Normal/treino/PAS/treino_pas (118).jpg  \n",
            "  inflating: Glomerulus/Normal/treino/PAS/treino_pas (143).jpg  \n",
            "  inflating: Glomerulus/Normal/treino/PAS/treino_pas (72).jpg  \n",
            "  inflating: Glomerulus/Normal/treino/PAS/treino_pas (17).JPG  \n",
            "  inflating: Glomerulus/Normal/treino/PAS/treino_pas (20).JPG  \n",
            "  inflating: Glomerulus/Normal/treino/PAS/treino_pas (78).jpg  \n",
            "  inflating: Glomerulus/Normal/treino/PAS/treino_pas (60).jpg  \n",
            "  inflating: Glomerulus/Normal/treino/PAS/treino_pas (108).jpg  \n",
            "  inflating: Glomerulus/Normal/treino/PAS/treino_pas (128).jpg  \n",
            "  inflating: Glomerulus/Normal/treino/PAS/treino_pas (141).jpg  \n",
            "  inflating: Glomerulus/Normal/treino/PAS/treino_pas (104).jpg  \n",
            "  inflating: Glomerulus/Normal/treino/PAS/treino_pas (91).jpg  \n",
            "  inflating: Glomerulus/Normal/treino/PAS/treino_pas (111).jpg  \n",
            "  inflating: Glomerulus/Normal/treino/PAS/treino_pas (22).JPG  \n",
            "  inflating: Glomerulus/Normal/treino/PAS/treino_pas (81).jpg  \n",
            "  inflating: Glomerulus/Normal/treino/PAS/treino_pas (42).jpg  \n",
            "  inflating: Glomerulus/Normal/treino/PAS/treino_pas (130).jpg  \n",
            "  inflating: Glomerulus/Normal/treino/PAS/treino_pas (77).jpg  \n",
            "  inflating: Glomerulus/Normal/treino/PAS/treino_pas (138).jpg  \n",
            "  inflating: Glomerulus/Normal/treino/PAS/treino_pas (110).jpg  \n",
            "  inflating: Glomerulus/Normal/treino/PAS/treino_pas (79).jpg  \n",
            "  inflating: Glomerulus/Normal/treino/PAS/treino_pas (29).JPG  \n",
            "  inflating: Glomerulus/Normal/treino/PAS/treino_pas (131).jpg  \n",
            "  inflating: Glomerulus/Normal/treino/PAS/treino_pas (76).jpg  \n",
            "  inflating: Glomerulus/Normal/treino/PAS/treino_pas (127).jpg  \n",
            "  inflating: Glomerulus/Normal/treino/PAS/treino_pas (69).jpg  \n",
            "  inflating: Glomerulus/Normal/treino/PAS/treino_pas (47).jpg  \n",
            "  inflating: Glomerulus/Normal/treino/PAS/treino_pas (13).JPG  \n",
            "  inflating: Glomerulus/Normal/treino/PAS/treino_pas (93).jpg  \n",
            "  inflating: Glomerulus/Normal/treino/PAS/treino_pas (84).jpg  \n",
            "  inflating: Glomerulus/Normal/treino/PAS/treino_pas (50).jpg  \n",
            "  inflating: Glomerulus/Normal/treino/PAS/treino_pas (101).jpg  \n",
            "  inflating: Glomerulus/Normal/treino/PAS/treino_pas (37).jpg  \n",
            "  inflating: Glomerulus/Normal/treino/PAS/treino_pas (65).jpg  \n",
            "  inflating: Glomerulus/Normal/treino/PAS/treino_pas (26).JPG  \n",
            "  inflating: Glomerulus/Normal/treino/PAS/treino_pas (129).jpg  \n",
            "  inflating: Glomerulus/Normal/treino/PAS/treino_pas (53).jpg  \n",
            "  inflating: Glomerulus/Normal/treino/PAS/treino_pas (85).jpg  \n",
            "  inflating: Glomerulus/Normal/treino/PAS/treino_pas (71).jpg  \n",
            "  inflating: Glomerulus/Normal/treino/PAS/treino_pas (40).jpg  \n",
            "  inflating: Glomerulus/Normal/treino/PAS/treino_pas (46).jpg  \n",
            "  inflating: Glomerulus/Normal/treino/PAS/treino_pas (27).JPG  \n",
            "  inflating: Glomerulus/Normal/treino/PAS/treino_pas (94).jpg  \n",
            "  inflating: Glomerulus/Normal/treino/PAS/treino_pas (140).jpg  \n",
            "  inflating: Glomerulus/Normal/treino/PAS/treino_pas (34).jpg  \n",
            "  inflating: Glomerulus/Normal/treino/PAS/treino_pas (135).jpg  \n",
            "  inflating: Glomerulus/Normal/treino/PAS/treino_pas (5).JPG  \n",
            "  inflating: Glomerulus/Normal/treino/PAS/treino_pas (32).jpg  \n",
            "  inflating: Glomerulus/Normal/treino/PAS/treino_pas (12).JPG  \n",
            "  inflating: Glomerulus/Normal/treino/PAS/treino_pas (146).jpg  \n",
            "  inflating: Glomerulus/Normal/treino/PAS/treino_pas (87).jpg  \n",
            "  inflating: Glomerulus/Normal/treino/PAS/treino_pas (125).jpg  \n",
            "  inflating: Glomerulus/Normal/treino/PAS/treino_pas (8).JPG  \n",
            "  inflating: Glomerulus/Normal/treino/PAS/treino_pas (4).JPG  \n",
            "  inflating: Glomerulus/Normal/treino/PAS/treino_pas (45).jpg  \n",
            "  inflating: Glomerulus/Normal/treino/PAS/treino_pas (10).JPG  \n",
            "  inflating: Glomerulus/Normal/treino/PAS/treino_pas (102).jpg  \n",
            "  inflating: Glomerulus/Normal/treino/PAS/treino_pas (28).JPG  \n",
            "   creating: Glomerulus/Crescente/\n",
            "   creating: Glomerulus/Crescente/teste/\n",
            "   creating: Glomerulus/Crescente/teste/PICRO/\n",
            "  inflating: Glomerulus/Crescente/teste/PICRO/teste_picro (9).jpg  \n",
            "  inflating: Glomerulus/Crescente/teste/PICRO/teste_picro (22).jpg  \n",
            "  inflating: Glomerulus/Crescente/teste/PICRO/teste_picro (37).jpg  \n",
            "  inflating: Glomerulus/Crescente/teste/PICRO/teste_picro (34).jpg  \n",
            "  inflating: Glomerulus/Crescente/teste/PICRO/teste_picro (25).jpg  \n",
            "  inflating: Glomerulus/Crescente/teste/PICRO/teste_picro (3).jpg  \n",
            "  inflating: Glomerulus/Crescente/teste/PICRO/teste_picro (27).jpg  \n",
            "  inflating: Glomerulus/Crescente/teste/PICRO/teste_picro (41).JPG  \n",
            "  inflating: Glomerulus/Crescente/teste/PICRO/teste_picro (26).jpg  \n",
            "  inflating: Glomerulus/Crescente/teste/PICRO/teste_picro (33).jpg  \n",
            "  inflating: Glomerulus/Crescente/teste/PICRO/teste_picro (39).jpg  \n",
            "  inflating: Glomerulus/Crescente/teste/PICRO/teste_picro (35).jpg  \n",
            "  inflating: Glomerulus/Crescente/teste/PICRO/teste_picro (1).jpg  \n",
            "  inflating: Glomerulus/Crescente/teste/PICRO/teste_picro (13).jpg  \n",
            "  inflating: Glomerulus/Crescente/teste/PICRO/teste_picro (12).jpg  \n",
            "  inflating: Glomerulus/Crescente/teste/PICRO/teste_picro (19).jpg  \n",
            "  inflating: Glomerulus/Crescente/teste/PICRO/teste_picro (16).jpg  \n",
            "  inflating: Glomerulus/Crescente/teste/PICRO/teste_picro (24).jpg  \n",
            "  inflating: Glomerulus/Crescente/teste/PICRO/teste_picro (44).jpg  \n",
            "  inflating: Glomerulus/Crescente/teste/PICRO/teste_picro (2).jpg  \n",
            "  inflating: Glomerulus/Crescente/teste/PICRO/teste_picro (28).jpg  \n",
            "  inflating: Glomerulus/Crescente/teste/PICRO/teste_picro (42).jpg  \n",
            "  inflating: Glomerulus/Crescente/teste/PICRO/teste_picro (20).jpg  \n",
            "  inflating: Glomerulus/Crescente/teste/PICRO/teste_picro (7).jpg  \n",
            "  inflating: Glomerulus/Crescente/teste/PICRO/teste_picro (23).jpg  \n",
            "  inflating: Glomerulus/Crescente/teste/PICRO/teste_picro (14).jpg  \n",
            "  inflating: Glomerulus/Crescente/teste/PICRO/teste_picro (29).jpg  \n",
            "  inflating: Glomerulus/Crescente/teste/PICRO/teste_picro (32).jpg  \n",
            "  inflating: Glomerulus/Crescente/teste/PICRO/teste_picro (43).jpg  \n",
            "  inflating: Glomerulus/Crescente/teste/PICRO/teste_picro (30).jpg  \n",
            "  inflating: Glomerulus/Crescente/teste/PICRO/teste_picro (40).JPG  \n",
            "  inflating: Glomerulus/Crescente/teste/PICRO/teste_picro (31).jpg  \n",
            "  inflating: Glomerulus/Crescente/teste/PICRO/teste_picro (17).jpg  \n",
            "  inflating: Glomerulus/Crescente/teste/PICRO/teste_picro (10).jpg  \n",
            "  inflating: Glomerulus/Crescente/teste/PICRO/teste_picro (6).jpg  \n",
            "  inflating: Glomerulus/Crescente/teste/PICRO/teste_picro (21).jpg  \n",
            "  inflating: Glomerulus/Crescente/teste/PICRO/teste_picro (8).jpg  \n",
            "  inflating: Glomerulus/Crescente/teste/PICRO/teste_picro (11).jpg  \n",
            "  inflating: Glomerulus/Crescente/teste/PICRO/teste_picro (15).jpg  \n",
            "  inflating: Glomerulus/Crescente/teste/PICRO/teste_picro (4).jpg  \n",
            "  inflating: Glomerulus/Crescente/teste/PICRO/teste_picro (36).jpg  \n",
            "  inflating: Glomerulus/Crescente/teste/PICRO/teste_picro (18).jpg  \n",
            "  inflating: Glomerulus/Crescente/teste/PICRO/teste_picro (5).jpg  \n",
            "  inflating: Glomerulus/Crescente/teste/PICRO/teste_picro (38).jpg  \n",
            "   creating: Glomerulus/Crescente/teste/HE/\n",
            "  inflating: Glomerulus/Crescente/teste/HE/teste_he (40).jpg  \n",
            "  inflating: Glomerulus/Crescente/teste/HE/teste_he (209).jpg  \n",
            "  inflating: Glomerulus/Crescente/teste/HE/teste_he (31).jpg  \n",
            "  inflating: Glomerulus/Crescente/teste/HE/teste_he (216).jpg  \n",
            "  inflating: Glomerulus/Crescente/teste/HE/teste_he (152).jpg  \n",
            "  inflating: Glomerulus/Crescente/teste/HE/teste_he (222).JPG  \n",
            "  inflating: Glomerulus/Crescente/teste/HE/teste_he (160).jpg  \n",
            "  inflating: Glomerulus/Crescente/teste/HE/teste_he (190).jpg  \n",
            "  inflating: Glomerulus/Crescente/teste/HE/teste_he (102).jpg  \n",
            "  inflating: Glomerulus/Crescente/teste/HE/teste_he (58).jpg  \n",
            "  inflating: Glomerulus/Crescente/teste/HE/teste_he (50).jpg  \n",
            "  inflating: Glomerulus/Crescente/teste/HE/teste_he (140).jpg  \n",
            "  inflating: Glomerulus/Crescente/teste/HE/teste_he (224).JPG  \n",
            "  inflating: Glomerulus/Crescente/teste/HE/teste_he (228).jpg  \n",
            "  inflating: Glomerulus/Crescente/teste/HE/teste_he (54).jpg  \n",
            "  inflating: Glomerulus/Crescente/teste/HE/teste_he (167).jpg  \n",
            "  inflating: Glomerulus/Crescente/teste/HE/teste_he (47).jpg  \n",
            "  inflating: Glomerulus/Crescente/teste/HE/teste_he (73).jpg  \n",
            "  inflating: Glomerulus/Crescente/teste/HE/teste_he (79).jpg  \n",
            "  inflating: Glomerulus/Crescente/teste/HE/teste_he (178).jpg  \n",
            "  inflating: Glomerulus/Crescente/teste/HE/teste_he (204).jpg  \n",
            "  inflating: Glomerulus/Crescente/teste/HE/teste_he (15).jpg  \n",
            "  inflating: Glomerulus/Crescente/teste/HE/teste_he (41).jpg  \n",
            "  inflating: Glomerulus/Crescente/teste/HE/teste_he (17).jpg  \n",
            "  inflating: Glomerulus/Crescente/teste/HE/teste_he (106).jpg  \n",
            "  inflating: Glomerulus/Crescente/teste/HE/teste_he (6).jpg  \n",
            "  inflating: Glomerulus/Crescente/teste/HE/teste_he (163).jpg  \n",
            "  inflating: Glomerulus/Crescente/teste/HE/teste_he (24).jpg  \n",
            "  inflating: Glomerulus/Crescente/teste/HE/teste_he (194).jpg  \n",
            "  inflating: Glomerulus/Crescente/teste/HE/teste_he (129).jpg  \n",
            "  inflating: Glomerulus/Crescente/teste/HE/teste_he (1).jpg  \n",
            "  inflating: Glomerulus/Crescente/teste/HE/teste_he (64).jpg  \n",
            "  inflating: Glomerulus/Crescente/teste/HE/teste_he (13).jpg  \n",
            "  inflating: Glomerulus/Crescente/teste/HE/teste_he (166).jpg  \n",
            "  inflating: Glomerulus/Crescente/teste/HE/teste_he (188).jpg  \n",
            "  inflating: Glomerulus/Crescente/teste/HE/teste_he (85).jpg  \n",
            "  inflating: Glomerulus/Crescente/teste/HE/teste_he (131).jpg  \n",
            "  inflating: Glomerulus/Crescente/teste/HE/teste_he (170).jpg  \n",
            "  inflating: Glomerulus/Crescente/teste/HE/teste_he (30).jpg  \n",
            "  inflating: Glomerulus/Crescente/teste/HE/teste_he (89).jpg  \n",
            "  inflating: Glomerulus/Crescente/teste/HE/teste_he (45).jpg  \n",
            "  inflating: Glomerulus/Crescente/teste/HE/teste_he (176).jpg  \n",
            "  inflating: Glomerulus/Crescente/teste/HE/teste_he (230).jpg  \n",
            "  inflating: Glomerulus/Crescente/teste/HE/teste_he (48).jpg  \n",
            "  inflating: Glomerulus/Crescente/teste/HE/teste_he (7).jpg  \n",
            "  inflating: Glomerulus/Crescente/teste/HE/teste_he (158).jpg  \n",
            "  inflating: Glomerulus/Crescente/teste/HE/teste_he (198).jpg  \n",
            "  inflating: Glomerulus/Crescente/teste/HE/teste_he (143).jpg  \n",
            "  inflating: Glomerulus/Crescente/teste/HE/teste_he (231).jpg  \n",
            "  inflating: Glomerulus/Crescente/teste/HE/teste_he (67).jpg  \n",
            "  inflating: Glomerulus/Crescente/teste/HE/teste_he (226).jpg  \n",
            "  inflating: Glomerulus/Crescente/teste/HE/teste_he (62).jpg  \n",
            "  inflating: Glomerulus/Crescente/teste/HE/teste_he (159).jpg  \n",
            "  inflating: Glomerulus/Crescente/teste/HE/teste_he (172).jpg  \n",
            "  inflating: Glomerulus/Crescente/teste/HE/teste_he (9).jpg  \n",
            "  inflating: Glomerulus/Crescente/teste/HE/teste_he (36).jpg  \n",
            "  inflating: Glomerulus/Crescente/teste/HE/teste_he (213).jpg  \n",
            "  inflating: Glomerulus/Crescente/teste/HE/teste_he (133).jpg  \n",
            "  inflating: Glomerulus/Crescente/teste/HE/teste_he (19).jpg  \n",
            "  inflating: Glomerulus/Crescente/teste/HE/teste_he (187).jpg  \n",
            "  inflating: Glomerulus/Crescente/teste/HE/teste_he (109).jpg  \n",
            "  inflating: Glomerulus/Crescente/teste/HE/teste_he (142).jpg  \n",
            "  inflating: Glomerulus/Crescente/teste/HE/teste_he (112).jpg  \n",
            "  inflating: Glomerulus/Crescente/teste/HE/teste_he (157).jpg  \n",
            "  inflating: Glomerulus/Crescente/teste/HE/teste_he (203).jpg  \n",
            "  inflating: Glomerulus/Crescente/teste/HE/teste_he (110).jpg  \n",
            "  inflating: Glomerulus/Crescente/teste/HE/teste_he (75).jpg  \n",
            "  inflating: Glomerulus/Crescente/teste/HE/teste_he (14).jpg  \n",
            "  inflating: Glomerulus/Crescente/teste/HE/teste_he (65).jpg  \n",
            "  inflating: Glomerulus/Crescente/teste/HE/teste_he (173).jpg  \n",
            "  inflating: Glomerulus/Crescente/teste/HE/teste_he (98).jpg  \n",
            "  inflating: Glomerulus/Crescente/teste/HE/teste_he (207).jpg  \n",
            "  inflating: Glomerulus/Crescente/teste/HE/teste_he (220).jpg  \n",
            "  inflating: Glomerulus/Crescente/teste/HE/teste_he (136).jpg  \n",
            "  inflating: Glomerulus/Crescente/teste/HE/teste_he (43).jpg  \n",
            "  inflating: Glomerulus/Crescente/teste/HE/teste_he (125).jpg  \n",
            "  inflating: Glomerulus/Crescente/teste/HE/teste_he (201).jpg  \n",
            "  inflating: Glomerulus/Crescente/teste/HE/teste_he (148).jpg  \n",
            "  inflating: Glomerulus/Crescente/teste/HE/teste_he (182).jpg  \n",
            "  inflating: Glomerulus/Crescente/teste/HE/teste_he (196).jpg  \n",
            "  inflating: Glomerulus/Crescente/teste/HE/teste_he (44).jpg  \n",
            "  inflating: Glomerulus/Crescente/teste/HE/teste_he (94).jpg  \n",
            "  inflating: Glomerulus/Crescente/teste/HE/teste_he (74).jpg  \n",
            "  inflating: Glomerulus/Crescente/teste/HE/teste_he (171).jpg  \n",
            "  inflating: Glomerulus/Crescente/teste/HE/teste_he (93).jpg  \n",
            "  inflating: Glomerulus/Crescente/teste/HE/teste_he (95).jpg  \n",
            "  inflating: Glomerulus/Crescente/teste/HE/teste_he (232).jpg  \n",
            "  inflating: Glomerulus/Crescente/teste/HE/teste_he (120).jpg  \n",
            "  inflating: Glomerulus/Crescente/teste/HE/teste_he (99).jpg  \n",
            "  inflating: Glomerulus/Crescente/teste/HE/teste_he (51).jpg  \n",
            "  inflating: Glomerulus/Crescente/teste/HE/teste_he (127).jpg  \n",
            "  inflating: Glomerulus/Crescente/teste/HE/teste_he (199).jpg  \n",
            "  inflating: Glomerulus/Crescente/teste/HE/teste_he (18).jpg  \n",
            "  inflating: Glomerulus/Crescente/teste/HE/teste_he (96).jpg  \n",
            "  inflating: Glomerulus/Crescente/teste/HE/teste_he (53).jpg  \n",
            "  inflating: Glomerulus/Crescente/teste/HE/teste_he (107).jpg  \n",
            "  inflating: Glomerulus/Crescente/teste/HE/teste_he (33).jpg  \n",
            "  inflating: Glomerulus/Crescente/teste/HE/teste_he (149).jpg  \n",
            "  inflating: Glomerulus/Crescente/teste/HE/teste_he (72).jpg  \n",
            "  inflating: Glomerulus/Crescente/teste/HE/teste_he (162).jpg  \n",
            "  inflating: Glomerulus/Crescente/teste/HE/teste_he (233).jpg  \n",
            "  inflating: Glomerulus/Crescente/teste/HE/teste_he (219).jpg  \n",
            "  inflating: Glomerulus/Crescente/teste/HE/teste_he (39).jpg  \n",
            "  inflating: Glomerulus/Crescente/teste/HE/teste_he (151).jpg  \n",
            "  inflating: Glomerulus/Crescente/teste/HE/teste_he (5).jpg  \n",
            "  inflating: Glomerulus/Crescente/teste/HE/teste_he (138).jpg  \n",
            "  inflating: Glomerulus/Crescente/teste/HE/teste_he (111).jpg  \n",
            "  inflating: Glomerulus/Crescente/teste/HE/teste_he (177).jpg  \n",
            "  inflating: Glomerulus/Crescente/teste/HE/teste_he (104).jpg  \n",
            "  inflating: Glomerulus/Crescente/teste/HE/teste_he (10).jpg  \n",
            "  inflating: Glomerulus/Crescente/teste/HE/teste_he (46).jpg  \n",
            "  inflating: Glomerulus/Crescente/teste/HE/teste_he (217).jpg  \n",
            "  inflating: Glomerulus/Crescente/teste/HE/teste_he (38).jpg  \n",
            "  inflating: Glomerulus/Crescente/teste/HE/teste_he (164).jpg  \n",
            "  inflating: Glomerulus/Crescente/teste/HE/teste_he (137).jpg  \n",
            "  inflating: Glomerulus/Crescente/teste/HE/teste_he (218).jpg  \n",
            "  inflating: Glomerulus/Crescente/teste/HE/teste_he (124).jpg  \n",
            "  inflating: Glomerulus/Crescente/teste/HE/teste_he (118).jpg  \n",
            "  inflating: Glomerulus/Crescente/teste/HE/teste_he (2).jpg  \n",
            "  inflating: Glomerulus/Crescente/teste/HE/teste_he (26).jpg  \n",
            "  inflating: Glomerulus/Crescente/teste/HE/teste_he (184).jpg  \n",
            "  inflating: Glomerulus/Crescente/teste/HE/teste_he (193).jpg  \n",
            "  inflating: Glomerulus/Crescente/teste/HE/teste_he (165).jpg  \n",
            "  inflating: Glomerulus/Crescente/teste/HE/teste_he (22).jpg  \n",
            "  inflating: Glomerulus/Crescente/teste/HE/teste_he (156).jpg  \n",
            "  inflating: Glomerulus/Crescente/teste/HE/teste_he (206).jpg  \n",
            "  inflating: Glomerulus/Crescente/teste/HE/teste_he (153).jpg  \n",
            "  inflating: Glomerulus/Crescente/teste/HE/teste_he (208).jpg  \n",
            "  inflating: Glomerulus/Crescente/teste/HE/teste_he (97).jpg  \n",
            "  inflating: Glomerulus/Crescente/teste/HE/teste_he (229).jpg  \n",
            "  inflating: Glomerulus/Crescente/teste/HE/teste_he (90).jpg  \n",
            "  inflating: Glomerulus/Crescente/teste/HE/teste_he (114).jpg  \n",
            "  inflating: Glomerulus/Crescente/teste/HE/teste_he (212).jpg  \n",
            "  inflating: Glomerulus/Crescente/teste/HE/teste_he (32).jpg  \n",
            "  inflating: Glomerulus/Crescente/teste/HE/teste_he (71).jpg  \n",
            "  inflating: Glomerulus/Crescente/teste/HE/teste_he (83).jpg  \n",
            "  inflating: Glomerulus/Crescente/teste/HE/teste_he (221).JPG  \n",
            "  inflating: Glomerulus/Crescente/teste/HE/teste_he (191).jpg  \n",
            "  inflating: Glomerulus/Crescente/teste/HE/teste_he (69).jpg  \n",
            "  inflating: Glomerulus/Crescente/teste/HE/teste_he (119).jpg  \n",
            "  inflating: Glomerulus/Crescente/teste/HE/teste_he (60).jpg  \n",
            "  inflating: Glomerulus/Crescente/teste/HE/teste_he (61).jpg  \n",
            "  inflating: Glomerulus/Crescente/teste/HE/teste_he (59).jpg  \n",
            "  inflating: Glomerulus/Crescente/teste/HE/teste_he (4).jpg  \n",
            "  inflating: Glomerulus/Crescente/teste/HE/teste_he (211).jpg  \n",
            "  inflating: Glomerulus/Crescente/teste/HE/teste_he (155).jpg  \n",
            "  inflating: Glomerulus/Crescente/teste/HE/teste_he (91).jpg  \n",
            "  inflating: Glomerulus/Crescente/teste/HE/teste_he (28).jpg  \n",
            "  inflating: Glomerulus/Crescente/teste/HE/teste_he (147).jpg  \n",
            "  inflating: Glomerulus/Crescente/teste/HE/teste_he (225).jpg  \n",
            "  inflating: Glomerulus/Crescente/teste/HE/teste_he (123).jpg  \n",
            "  inflating: Glomerulus/Crescente/teste/HE/teste_he (205).jpg  \n",
            "  inflating: Glomerulus/Crescente/teste/HE/teste_he (108).jpg  \n",
            "  inflating: Glomerulus/Crescente/teste/HE/teste_he (55).jpg  \n",
            "  inflating: Glomerulus/Crescente/teste/HE/teste_he (185).jpg  \n",
            "  inflating: Glomerulus/Crescente/teste/HE/teste_he (29).jpg  \n",
            "  inflating: Glomerulus/Crescente/teste/HE/teste_he (16).jpg  \n",
            "  inflating: Glomerulus/Crescente/teste/HE/teste_he (34).jpg  \n",
            "  inflating: Glomerulus/Crescente/teste/HE/teste_he (11).jpg  \n",
            "  inflating: Glomerulus/Crescente/teste/HE/teste_he (130).jpg  \n",
            "  inflating: Glomerulus/Crescente/teste/HE/teste_he (180).jpg  \n",
            "  inflating: Glomerulus/Crescente/teste/HE/teste_he (80).jpg  \n",
            "  inflating: Glomerulus/Crescente/teste/HE/teste_he (214).jpg  \n",
            "  inflating: Glomerulus/Crescente/teste/HE/teste_he (66).jpg  \n",
            "  inflating: Glomerulus/Crescente/teste/HE/teste_he (161).jpg  \n",
            "  inflating: Glomerulus/Crescente/teste/HE/teste_he (192).jpg  \n",
            "  inflating: Glomerulus/Crescente/teste/HE/teste_he (200).jpg  \n",
            "  inflating: Glomerulus/Crescente/teste/HE/teste_he (103).jpg  \n",
            "  inflating: Glomerulus/Crescente/teste/HE/teste_he (21).jpg  \n",
            "  inflating: Glomerulus/Crescente/teste/HE/teste_he (68).jpg  \n",
            "  inflating: Glomerulus/Crescente/teste/HE/teste_he (100).jpg  \n",
            "  inflating: Glomerulus/Crescente/teste/HE/teste_he (84).jpg  \n",
            "  inflating: Glomerulus/Crescente/teste/HE/teste_he (78).jpg  \n",
            "  inflating: Glomerulus/Crescente/teste/HE/teste_he (56).jpg  \n",
            "  inflating: Glomerulus/Crescente/teste/HE/teste_he (139).jpg  \n",
            "  inflating: Glomerulus/Crescente/teste/HE/teste_he (135).jpg  \n",
            "  inflating: Glomerulus/Crescente/teste/HE/teste_he (197).jpg  \n",
            "  inflating: Glomerulus/Crescente/teste/HE/teste_he (116).jpg  \n",
            "  inflating: Glomerulus/Crescente/teste/HE/teste_he (49).jpg  \n",
            "  inflating: Glomerulus/Crescente/teste/HE/teste_he (174).jpg  \n",
            "  inflating: Glomerulus/Crescente/teste/HE/teste_he (8).jpg  \n",
            "  inflating: Glomerulus/Crescente/teste/HE/teste_he (42).jpg  \n",
            "  inflating: Glomerulus/Crescente/teste/HE/teste_he (121).jpg  \n",
            "  inflating: Glomerulus/Crescente/teste/HE/teste_he (76).jpg  \n",
            "  inflating: Glomerulus/Crescente/teste/HE/teste_he (77).jpg  \n",
            "  inflating: Glomerulus/Crescente/teste/HE/teste_he (128).jpg  \n",
            "  inflating: Glomerulus/Crescente/teste/HE/teste_he (146).jpg  \n",
            "  inflating: Glomerulus/Crescente/teste/HE/teste_he (117).jpg  \n",
            "  inflating: Glomerulus/Crescente/teste/HE/teste_he (202).jpg  \n",
            "  inflating: Glomerulus/Crescente/teste/HE/teste_he (141).jpg  \n",
            "  inflating: Glomerulus/Crescente/teste/HE/teste_he (195).jpg  \n",
            "  inflating: Glomerulus/Crescente/teste/HE/teste_he (87).jpg  \n",
            "  inflating: Glomerulus/Crescente/teste/HE/teste_he (134).jpg  \n",
            "  inflating: Glomerulus/Crescente/teste/HE/teste_he (63).jpg  \n",
            "  inflating: Glomerulus/Crescente/teste/HE/teste_he (169).jpg  \n",
            "  inflating: Glomerulus/Crescente/teste/HE/teste_he (12).jpg  \n",
            "  inflating: Glomerulus/Crescente/teste/HE/teste_he (189).jpg  \n",
            "  inflating: Glomerulus/Crescente/teste/HE/teste_he (122).jpg  \n",
            "  inflating: Glomerulus/Crescente/teste/HE/teste_he (82).jpg  \n",
            "  inflating: Glomerulus/Crescente/teste/HE/teste_he (37).jpg  \n",
            "  inflating: Glomerulus/Crescente/teste/HE/teste_he (183).jpg  \n",
            "  inflating: Glomerulus/Crescente/teste/HE/teste_he (210).jpg  \n",
            "  inflating: Glomerulus/Crescente/teste/HE/teste_he (52).jpg  \n",
            "  inflating: Glomerulus/Crescente/teste/HE/teste_he (70).jpg  \n",
            "  inflating: Glomerulus/Crescente/teste/HE/teste_he (145).jpg  \n",
            "  inflating: Glomerulus/Crescente/teste/HE/teste_he (27).jpg  \n",
            "  inflating: Glomerulus/Crescente/teste/HE/teste_he (3).jpg  \n",
            "  inflating: Glomerulus/Crescente/teste/HE/teste_he (23).jpg  \n",
            "  inflating: Glomerulus/Crescente/teste/HE/teste_he (150).jpg  \n",
            "  inflating: Glomerulus/Crescente/teste/HE/teste_he (25).jpg  \n",
            "  inflating: Glomerulus/Crescente/teste/HE/teste_he (113).jpg  \n",
            "  inflating: Glomerulus/Crescente/teste/HE/teste_he (126).jpg  \n",
            "  inflating: Glomerulus/Crescente/teste/HE/teste_he (101).jpg  \n",
            "  inflating: Glomerulus/Crescente/teste/HE/teste_he (144).jpg  \n",
            "  inflating: Glomerulus/Crescente/teste/HE/teste_he (115).jpg  \n",
            "  inflating: Glomerulus/Crescente/teste/HE/teste_he (179).jpg  \n",
            "  inflating: Glomerulus/Crescente/teste/HE/teste_he (132).jpg  \n",
            "  inflating: Glomerulus/Crescente/teste/HE/teste_he (20).jpg  \n",
            "  inflating: Glomerulus/Crescente/teste/HE/teste_he (86).jpg  \n",
            "  inflating: Glomerulus/Crescente/teste/HE/teste_he (88).jpg  \n",
            "  inflating: Glomerulus/Crescente/teste/HE/teste_he (186).jpg  \n",
            "  inflating: Glomerulus/Crescente/teste/HE/teste_he (168).jpg  \n",
            "  inflating: Glomerulus/Crescente/teste/HE/teste_he (154).jpg  \n",
            "  inflating: Glomerulus/Crescente/teste/HE/teste_he (81).jpg  \n",
            "  inflating: Glomerulus/Crescente/teste/HE/teste_he (175).jpg  \n",
            "  inflating: Glomerulus/Crescente/teste/HE/teste_he (105).jpg  \n",
            "  inflating: Glomerulus/Crescente/teste/HE/teste_he (57).jpg  \n",
            "  inflating: Glomerulus/Crescente/teste/HE/teste_he (92).jpg  \n",
            "  inflating: Glomerulus/Crescente/teste/HE/teste_he (227).jpg  \n",
            "  inflating: Glomerulus/Crescente/teste/HE/teste_he (181).jpg  \n",
            "  inflating: Glomerulus/Crescente/teste/HE/teste_he (35).jpg  \n",
            "  inflating: Glomerulus/Crescente/teste/HE/teste_he (223).JPG  \n",
            "  inflating: Glomerulus/Crescente/teste/HE/teste_he (215).jpg  \n",
            "   creating: Glomerulus/Crescente/teste/PAMS/\n",
            "  inflating: Glomerulus/Crescente/teste/PAMS/teste_pams (45).jpg  \n",
            "  inflating: Glomerulus/Crescente/teste/PAMS/teste_pams (36).jpg  \n",
            "  inflating: Glomerulus/Crescente/teste/PAMS/teste_pams (46).jpg  \n",
            "  inflating: Glomerulus/Crescente/teste/PAMS/teste_pams (47).jpg  \n",
            "  inflating: Glomerulus/Crescente/teste/PAMS/teste_pams (73).jpg  \n",
            "  inflating: Glomerulus/Crescente/teste/PAMS/teste_pams (24).jpg  \n",
            "  inflating: Glomerulus/Crescente/teste/PAMS/teste_pams (34).jpg  \n",
            "  inflating: Glomerulus/Crescente/teste/PAMS/teste_pams (3).jpg  \n",
            "  inflating: Glomerulus/Crescente/teste/PAMS/teste_pams (76).jpg  \n",
            "  inflating: Glomerulus/Crescente/teste/PAMS/teste_pams (44).jpg  \n",
            "  inflating: Glomerulus/Crescente/teste/PAMS/teste_pams (37).jpg  \n",
            "  inflating: Glomerulus/Crescente/teste/PAMS/teste_pams (2).jpg  \n",
            "  inflating: Glomerulus/Crescente/teste/PAMS/teste_pams (7).jpg  \n",
            "  inflating: Glomerulus/Crescente/teste/PAMS/teste_pams (11).jpg  \n",
            "  inflating: Glomerulus/Crescente/teste/PAMS/teste_pams (75).jpg  \n",
            "  inflating: Glomerulus/Crescente/teste/PAMS/teste_pams (30).jpg  \n",
            "  inflating: Glomerulus/Crescente/teste/PAMS/teste_pams (18).jpg  \n",
            "  inflating: Glomerulus/Crescente/teste/PAMS/teste_pams (15).jpg  \n",
            "  inflating: Glomerulus/Crescente/teste/PAMS/teste_pams (21).jpg  \n",
            "  inflating: Glomerulus/Crescente/teste/PAMS/teste_pams (72).jpg  \n",
            "  inflating: Glomerulus/Crescente/teste/PAMS/teste_pams (62).jpg  \n",
            "  inflating: Glomerulus/Crescente/teste/PAMS/teste_pams (65).jpg  \n",
            "  inflating: Glomerulus/Crescente/teste/PAMS/teste_pams (78).jpg  \n",
            "  inflating: Glomerulus/Crescente/teste/PAMS/teste_pams (61).jpg  \n",
            "  inflating: Glomerulus/Crescente/teste/PAMS/teste_pams (63).jpg  \n",
            "  inflating: Glomerulus/Crescente/teste/PAMS/teste_pams (20).jpg  \n",
            "  inflating: Glomerulus/Crescente/teste/PAMS/teste_pams (9).jpg  \n",
            "  inflating: Glomerulus/Crescente/teste/PAMS/teste_pams (17).jpg  \n",
            "  inflating: Glomerulus/Crescente/teste/PAMS/teste_pams (28).jpg  \n",
            "  inflating: Glomerulus/Crescente/teste/PAMS/teste_pams (1).jpg  \n",
            "  inflating: Glomerulus/Crescente/teste/PAMS/teste_pams (77).jpg  \n",
            "  inflating: Glomerulus/Crescente/teste/PAMS/teste_pams (58).jpg  \n",
            "  inflating: Glomerulus/Crescente/teste/PAMS/teste_pams (42).jpg  \n",
            "  inflating: Glomerulus/Crescente/teste/PAMS/teste_pams (50).jpg  \n",
            "  inflating: Glomerulus/Crescente/teste/PAMS/teste_pams (66).jpg  \n",
            "  inflating: Glomerulus/Crescente/teste/PAMS/teste_pams (69).JPG  \n",
            "  inflating: Glomerulus/Crescente/teste/PAMS/teste_pams (57).jpg  \n",
            "  inflating: Glomerulus/Crescente/teste/PAMS/teste_pams (23).jpg  \n",
            "  inflating: Glomerulus/Crescente/teste/PAMS/teste_pams (25).jpg  \n",
            "  inflating: Glomerulus/Crescente/teste/PAMS/teste_pams (41).jpg  \n",
            "  inflating: Glomerulus/Crescente/teste/PAMS/teste_pams (49).jpg  \n",
            "  inflating: Glomerulus/Crescente/teste/PAMS/teste_pams (55).jpg  \n",
            "  inflating: Glomerulus/Crescente/teste/PAMS/teste_pams (13).jpg  \n",
            "  inflating: Glomerulus/Crescente/teste/PAMS/teste_pams (70).JPG  \n",
            "  inflating: Glomerulus/Crescente/teste/PAMS/teste_pams (56).jpg  \n",
            "  inflating: Glomerulus/Crescente/teste/PAMS/teste_pams (67).jpg  \n",
            "  inflating: Glomerulus/Crescente/teste/PAMS/teste_pams (4).jpg  \n",
            "  inflating: Glomerulus/Crescente/teste/PAMS/teste_pams (48).jpg  \n",
            "  inflating: Glomerulus/Crescente/teste/PAMS/teste_pams (5).jpg  \n",
            "  inflating: Glomerulus/Crescente/teste/PAMS/teste_pams (16).jpg  \n",
            "  inflating: Glomerulus/Crescente/teste/PAMS/teste_pams (53).jpg  \n",
            "  inflating: Glomerulus/Crescente/teste/PAMS/teste_pams (51).jpg  \n",
            "  inflating: Glomerulus/Crescente/teste/PAMS/teste_pams (10).jpg  \n",
            "  inflating: Glomerulus/Crescente/teste/PAMS/teste_pams (40).jpg  \n",
            "  inflating: Glomerulus/Crescente/teste/PAMS/teste_pams (59).jpg  \n",
            "  inflating: Glomerulus/Crescente/teste/PAMS/teste_pams (6).jpg  \n",
            "  inflating: Glomerulus/Crescente/teste/PAMS/teste_pams (33).jpg  \n",
            "  inflating: Glomerulus/Crescente/teste/PAMS/teste_pams (39).jpg  \n",
            "  inflating: Glomerulus/Crescente/teste/PAMS/teste_pams (14).jpg  \n",
            "  inflating: Glomerulus/Crescente/teste/PAMS/teste_pams (26).jpg  \n",
            "  inflating: Glomerulus/Crescente/teste/PAMS/teste_pams (71).JPG  \n",
            "  inflating: Glomerulus/Crescente/teste/PAMS/teste_pams (43).jpg  \n",
            "  inflating: Glomerulus/Crescente/teste/PAMS/teste_pams (19).jpg  \n",
            "  inflating: Glomerulus/Crescente/teste/PAMS/teste_pams (31).jpg  \n",
            "  inflating: Glomerulus/Crescente/teste/PAMS/teste_pams (68).jpg  \n",
            "  inflating: Glomerulus/Crescente/teste/PAMS/teste_pams (38).jpg  \n",
            "  inflating: Glomerulus/Crescente/teste/PAMS/teste_pams (12).jpg  \n",
            "  inflating: Glomerulus/Crescente/teste/PAMS/teste_pams (74).jpg  \n",
            "  inflating: Glomerulus/Crescente/teste/PAMS/teste_pams (52).jpg  \n",
            "  inflating: Glomerulus/Crescente/teste/PAMS/teste_pams (8).jpg  \n",
            "  inflating: Glomerulus/Crescente/teste/PAMS/teste_pams (32).jpg  \n",
            "  inflating: Glomerulus/Crescente/teste/PAMS/teste_pams (54).jpg  \n",
            "  inflating: Glomerulus/Crescente/teste/PAMS/teste_pams (60).jpg  \n",
            "  inflating: Glomerulus/Crescente/teste/PAMS/teste_pams (35).jpg  \n",
            "  inflating: Glomerulus/Crescente/teste/PAMS/teste_pams (27).jpg  \n",
            "  inflating: Glomerulus/Crescente/teste/PAMS/teste_pams (29).jpg  \n",
            "  inflating: Glomerulus/Crescente/teste/PAMS/teste_pams (22).jpg  \n",
            "  inflating: Glomerulus/Crescente/teste/PAMS/teste_pams (64).jpg  \n",
            "   creating: Glomerulus/Crescente/teste/AZAN/\n",
            "  inflating: Glomerulus/Crescente/teste/AZAN/teste_azan (3).jpg  \n",
            "  inflating: Glomerulus/Crescente/teste/AZAN/teste_azan (45).jpg  \n",
            "  inflating: Glomerulus/Crescente/teste/AZAN/teste_azan (2).jpg  \n",
            "  inflating: Glomerulus/Crescente/teste/AZAN/teste_azan (53).jpg  \n",
            "  inflating: Glomerulus/Crescente/teste/AZAN/teste_azan (14).jpg  \n",
            "  inflating: Glomerulus/Crescente/teste/AZAN/teste_azan (52).jpg  \n",
            "  inflating: Glomerulus/Crescente/teste/AZAN/teste_azan (48).jpg  \n",
            "  inflating: Glomerulus/Crescente/teste/AZAN/teste_azan (1).jpg  \n",
            "  inflating: Glomerulus/Crescente/teste/AZAN/teste_azan (56).jpg  \n",
            "  inflating: Glomerulus/Crescente/teste/AZAN/teste_azan (54).jpg  \n",
            "  inflating: Glomerulus/Crescente/teste/AZAN/teste_azan (20).jpg  \n",
            "  inflating: Glomerulus/Crescente/teste/AZAN/teste_azan (30).jpg  \n",
            "  inflating: Glomerulus/Crescente/teste/AZAN/teste_azan (4).jpg  \n",
            "  inflating: Glomerulus/Crescente/teste/AZAN/teste_azan (38).jpg  \n",
            "  inflating: Glomerulus/Crescente/teste/AZAN/teste_azan (37).jpg  \n",
            "  inflating: Glomerulus/Crescente/teste/AZAN/teste_azan (10).jpg  \n",
            "  inflating: Glomerulus/Crescente/teste/AZAN/teste_azan (44).jpg  \n",
            "  inflating: Glomerulus/Crescente/teste/AZAN/teste_azan (60).jpg  \n",
            "  inflating: Glomerulus/Crescente/teste/AZAN/teste_azan (40).jpg  \n",
            "  inflating: Glomerulus/Crescente/teste/AZAN/teste_azan (49).jpg  \n",
            "  inflating: Glomerulus/Crescente/teste/AZAN/teste_azan (50).jpg  \n",
            "  inflating: Glomerulus/Crescente/teste/AZAN/teste_azan (43).jpg  \n",
            "  inflating: Glomerulus/Crescente/teste/AZAN/teste_azan (41).jpg  \n",
            "  inflating: Glomerulus/Crescente/teste/AZAN/teste_azan (31).jpg  \n",
            "  inflating: Glomerulus/Crescente/teste/AZAN/teste_azan (18).jpg  \n",
            "  inflating: Glomerulus/Crescente/teste/AZAN/teste_azan (19).jpg  \n",
            "  inflating: Glomerulus/Crescente/teste/AZAN/teste_azan (7).jpg  \n",
            "  inflating: Glomerulus/Crescente/teste/AZAN/teste_azan (35).jpg  \n",
            "  inflating: Glomerulus/Crescente/teste/AZAN/teste_azan (26).jpg  \n",
            "  inflating: Glomerulus/Crescente/teste/AZAN/teste_azan (46).jpg  \n",
            "  inflating: Glomerulus/Crescente/teste/AZAN/teste_azan (33).jpg  \n",
            "  inflating: Glomerulus/Crescente/teste/AZAN/teste_azan (28).jpg  \n",
            "  inflating: Glomerulus/Crescente/teste/AZAN/teste_azan (57).JPG  \n",
            "  inflating: Glomerulus/Crescente/teste/AZAN/teste_azan (25).jpg  \n",
            "  inflating: Glomerulus/Crescente/teste/AZAN/teste_azan (32).jpg  \n",
            "  inflating: Glomerulus/Crescente/teste/AZAN/teste_azan (21).jpg  \n",
            "  inflating: Glomerulus/Crescente/teste/AZAN/teste_azan (9).jpg  \n",
            "  inflating: Glomerulus/Crescente/teste/AZAN/teste_azan (5).jpg  \n",
            "  inflating: Glomerulus/Crescente/teste/AZAN/teste_azan (34).jpg  \n",
            "  inflating: Glomerulus/Crescente/teste/AZAN/teste_azan (12).jpg  \n",
            "  inflating: Glomerulus/Crescente/teste/AZAN/teste_azan (22).jpg  \n",
            "  inflating: Glomerulus/Crescente/teste/AZAN/teste_azan (16).jpg  \n",
            "  inflating: Glomerulus/Crescente/teste/AZAN/teste_azan (24).jpg  \n",
            "  inflating: Glomerulus/Crescente/teste/AZAN/teste_azan (36).jpg  \n",
            "  inflating: Glomerulus/Crescente/teste/AZAN/teste_azan (11).jpg  \n",
            "  inflating: Glomerulus/Crescente/teste/AZAN/teste_azan (6).jpg  \n",
            "  inflating: Glomerulus/Crescente/teste/AZAN/teste_azan (29).jpg  \n",
            "  inflating: Glomerulus/Crescente/teste/AZAN/teste_azan (13).jpg  \n",
            "  inflating: Glomerulus/Crescente/teste/AZAN/teste_azan (51).jpg  \n",
            "  inflating: Glomerulus/Crescente/teste/AZAN/teste_azan (42).jpg  \n",
            "  inflating: Glomerulus/Crescente/teste/AZAN/teste_azan (17).jpg  \n",
            "  inflating: Glomerulus/Crescente/teste/AZAN/teste_azan (61).jpg  \n",
            "  inflating: Glomerulus/Crescente/teste/AZAN/teste_azan (8).jpg  \n",
            "  inflating: Glomerulus/Crescente/teste/AZAN/teste_azan (59).jpg  \n",
            "  inflating: Glomerulus/Crescente/teste/AZAN/teste_azan (27).jpg  \n",
            "  inflating: Glomerulus/Crescente/teste/AZAN/teste_azan (39).jpg  \n",
            "  inflating: Glomerulus/Crescente/teste/AZAN/teste_azan (47).jpg  \n",
            "  inflating: Glomerulus/Crescente/teste/AZAN/teste_azan (15).jpg  \n",
            "  inflating: Glomerulus/Crescente/teste/AZAN/teste_azan (55).jpg  \n",
            "  inflating: Glomerulus/Crescente/teste/AZAN/teste_azan (58).JPG  \n",
            "  inflating: Glomerulus/Crescente/teste/AZAN/teste_azan (23).jpg  \n",
            "   creating: Glomerulus/Crescente/teste/PAS/\n",
            "  inflating: Glomerulus/Crescente/teste/PAS/teste_pas (114).jpg  \n",
            "  inflating: Glomerulus/Crescente/teste/PAS/teste_pas (25).jpg  \n",
            "  inflating: Glomerulus/Crescente/teste/PAS/teste_pas (73).jpg  \n",
            "  inflating: Glomerulus/Crescente/teste/PAS/teste_pas (3).jpg  \n",
            "  inflating: Glomerulus/Crescente/teste/PAS/teste_pas (106).jpg  \n",
            "  inflating: Glomerulus/Crescente/teste/PAS/teste_pas (67).jpg  \n",
            "  inflating: Glomerulus/Crescente/teste/PAS/teste_pas (135).jpg  \n",
            "  inflating: Glomerulus/Crescente/teste/PAS/teste_pas (89).jpg  \n",
            "  inflating: Glomerulus/Crescente/teste/PAS/teste_pas (121).jpg  \n",
            "  inflating: Glomerulus/Crescente/teste/PAS/teste_pas (92).jpg  \n",
            "  inflating: Glomerulus/Crescente/teste/PAS/teste_pas (137).jpg  \n",
            "  inflating: Glomerulus/Crescente/teste/PAS/teste_pas (39).jpg  \n",
            "  inflating: Glomerulus/Crescente/teste/PAS/teste_pas (148).jpg  \n",
            "  inflating: Glomerulus/Crescente/teste/PAS/teste_pas (98).jpg  \n",
            "  inflating: Glomerulus/Crescente/teste/PAS/teste_pas (28).jpg  \n",
            "  inflating: Glomerulus/Crescente/teste/PAS/teste_pas (23).jpg  \n",
            "  inflating: Glomerulus/Crescente/teste/PAS/teste_pas (68).jpg  \n",
            "  inflating: Glomerulus/Crescente/teste/PAS/teste_pas (161).JPG  \n",
            "  inflating: Glomerulus/Crescente/teste/PAS/teste_pas (108).jpg  \n",
            "  inflating: Glomerulus/Crescente/teste/PAS/teste_pas (131).jpg  \n",
            "  inflating: Glomerulus/Crescente/teste/PAS/teste_pas (141).jpg  \n",
            "  inflating: Glomerulus/Crescente/teste/PAS/teste_pas (30).jpg  \n",
            "  inflating: Glomerulus/Crescente/teste/PAS/teste_pas (165).jpg  \n",
            "  inflating: Glomerulus/Crescente/teste/PAS/teste_pas (85).jpg  \n",
            "  inflating: Glomerulus/Crescente/teste/PAS/teste_pas (164).JPG  \n",
            "  inflating: Glomerulus/Crescente/teste/PAS/teste_pas (104).jpg  \n",
            "  inflating: Glomerulus/Crescente/teste/PAS/teste_pas (59).jpg  \n",
            "  inflating: Glomerulus/Crescente/teste/PAS/teste_pas (18).jpg  \n",
            "  inflating: Glomerulus/Crescente/teste/PAS/teste_pas (88).jpg  \n",
            "  inflating: Glomerulus/Crescente/teste/PAS/teste_pas (143).jpg  \n",
            "  inflating: Glomerulus/Crescente/teste/PAS/teste_pas (78).jpg  \n",
            "  inflating: Glomerulus/Crescente/teste/PAS/teste_pas (118).jpg  \n",
            "  inflating: Glomerulus/Crescente/teste/PAS/teste_pas (43).jpg  \n",
            "  inflating: Glomerulus/Crescente/teste/PAS/teste_pas (151).jpg  \n",
            "  inflating: Glomerulus/Crescente/teste/PAS/teste_pas (4).jpg  \n",
            "  inflating: Glomerulus/Crescente/teste/PAS/teste_pas (119).jpg  \n",
            "  inflating: Glomerulus/Crescente/teste/PAS/teste_pas (124).jpg  \n",
            "  inflating: Glomerulus/Crescente/teste/PAS/teste_pas (21).jpg  \n",
            "  inflating: Glomerulus/Crescente/teste/PAS/teste_pas (123).jpg  \n",
            "  inflating: Glomerulus/Crescente/teste/PAS/teste_pas (155).JPG  \n",
            "  inflating: Glomerulus/Crescente/teste/PAS/teste_pas (160).JPG  \n",
            "  inflating: Glomerulus/Crescente/teste/PAS/teste_pas (90).jpg  \n",
            "  inflating: Glomerulus/Crescente/teste/PAS/teste_pas (37).jpg  \n",
            "  inflating: Glomerulus/Crescente/teste/PAS/teste_pas (147).jpg  \n",
            "  inflating: Glomerulus/Crescente/teste/PAS/teste_pas (136).jpg  \n",
            "  inflating: Glomerulus/Crescente/teste/PAS/teste_pas (159).JPG  \n",
            "  inflating: Glomerulus/Crescente/teste/PAS/teste_pas (168).jpg  \n",
            "  inflating: Glomerulus/Crescente/teste/PAS/teste_pas (5).jpg  \n",
            "  inflating: Glomerulus/Crescente/teste/PAS/teste_pas (91).jpg  \n",
            "  inflating: Glomerulus/Crescente/teste/PAS/teste_pas (130).jpg  \n",
            "  inflating: Glomerulus/Crescente/teste/PAS/teste_pas (29).jpg  \n",
            "  inflating: Glomerulus/Crescente/teste/PAS/teste_pas (152).JPG  \n",
            "  inflating: Glomerulus/Crescente/teste/PAS/teste_pas (166).jpg  \n",
            "  inflating: Glomerulus/Crescente/teste/PAS/teste_pas (69).jpg  \n",
            "  inflating: Glomerulus/Crescente/teste/PAS/teste_pas (55).jpg  \n",
            "  inflating: Glomerulus/Crescente/teste/PAS/teste_pas (140).jpg  \n",
            "  inflating: Glomerulus/Crescente/teste/PAS/teste_pas (71).jpg  \n",
            "  inflating: Glomerulus/Crescente/teste/PAS/teste_pas (77).jpg  \n",
            "  inflating: Glomerulus/Crescente/teste/PAS/teste_pas (157).JPG  \n",
            "  inflating: Glomerulus/Crescente/teste/PAS/teste_pas (56).jpg  \n",
            "  inflating: Glomerulus/Crescente/teste/PAS/teste_pas (33).jpg  \n",
            "  inflating: Glomerulus/Crescente/teste/PAS/teste_pas (128).jpg  \n",
            "  inflating: Glomerulus/Crescente/teste/PAS/teste_pas (62).jpg  \n",
            "  inflating: Glomerulus/Crescente/teste/PAS/teste_pas (138).jpg  \n",
            "  inflating: Glomerulus/Crescente/teste/PAS/teste_pas (175).jpg  \n",
            "  inflating: Glomerulus/Crescente/teste/PAS/teste_pas (87).jpg  \n",
            "  inflating: Glomerulus/Crescente/teste/PAS/teste_pas (11).jpg  \n",
            "  inflating: Glomerulus/Crescente/teste/PAS/teste_pas (70).jpg  \n",
            "  inflating: Glomerulus/Crescente/teste/PAS/teste_pas (35).jpg  \n",
            "  inflating: Glomerulus/Crescente/teste/PAS/teste_pas (142).jpg  \n",
            "  inflating: Glomerulus/Crescente/teste/PAS/teste_pas (32).jpg  \n",
            "  inflating: Glomerulus/Crescente/teste/PAS/teste_pas (51).jpg  \n",
            "  inflating: Glomerulus/Crescente/teste/PAS/teste_pas (97).jpg  \n",
            "  inflating: Glomerulus/Crescente/teste/PAS/teste_pas (174).jpg  \n",
            "  inflating: Glomerulus/Crescente/teste/PAS/teste_pas (61).jpg  \n",
            "  inflating: Glomerulus/Crescente/teste/PAS/teste_pas (167).jpg  \n",
            "  inflating: Glomerulus/Crescente/teste/PAS/teste_pas (2).jpg  \n",
            "  inflating: Glomerulus/Crescente/teste/PAS/teste_pas (50).jpg  \n",
            "  inflating: Glomerulus/Crescente/teste/PAS/teste_pas (94).jpg  \n",
            "  inflating: Glomerulus/Crescente/teste/PAS/teste_pas (9).jpg  \n",
            "  inflating: Glomerulus/Crescente/teste/PAS/teste_pas (156).JPG  \n",
            "  inflating: Glomerulus/Crescente/teste/PAS/teste_pas (47).jpg  \n",
            "  inflating: Glomerulus/Crescente/teste/PAS/teste_pas (14).jpg  \n",
            "  inflating: Glomerulus/Crescente/teste/PAS/teste_pas (42).jpg  \n",
            "  inflating: Glomerulus/Crescente/teste/PAS/teste_pas (177).jpg  \n",
            "  inflating: Glomerulus/Crescente/teste/PAS/teste_pas (149).jpg  \n",
            "  inflating: Glomerulus/Crescente/teste/PAS/teste_pas (52).jpg  \n",
            "  inflating: Glomerulus/Crescente/teste/PAS/teste_pas (125).jpg  \n",
            "  inflating: Glomerulus/Crescente/teste/PAS/teste_pas (57).jpg  \n",
            "  inflating: Glomerulus/Crescente/teste/PAS/teste_pas (102).jpg  \n",
            "  inflating: Glomerulus/Crescente/teste/PAS/teste_pas (81).jpg  \n",
            "  inflating: Glomerulus/Crescente/teste/PAS/teste_pas (115).jpg  \n",
            "  inflating: Glomerulus/Crescente/teste/PAS/teste_pas (107).jpg  \n",
            "  inflating: Glomerulus/Crescente/teste/PAS/teste_pas (86).jpg  \n",
            "  inflating: Glomerulus/Crescente/teste/PAS/teste_pas (173).jpg  \n",
            "  inflating: Glomerulus/Crescente/teste/PAS/teste_pas (75).jpg  \n",
            "  inflating: Glomerulus/Crescente/teste/PAS/teste_pas (99).jpg  \n",
            "  inflating: Glomerulus/Crescente/teste/PAS/teste_pas (144).jpg  \n",
            "  inflating: Glomerulus/Crescente/teste/PAS/teste_pas (58).jpg  \n",
            "  inflating: Glomerulus/Crescente/teste/PAS/teste_pas (83).jpg  \n",
            "  inflating: Glomerulus/Crescente/teste/PAS/teste_pas (145).jpg  \n",
            "  inflating: Glomerulus/Crescente/teste/PAS/teste_pas (132).jpg  \n",
            "  inflating: Glomerulus/Crescente/teste/PAS/teste_pas (38).jpg  \n",
            "  inflating: Glomerulus/Crescente/teste/PAS/teste_pas (20).jpg  \n",
            "  inflating: Glomerulus/Crescente/teste/PAS/teste_pas (19).jpg  \n",
            "  inflating: Glomerulus/Crescente/teste/PAS/teste_pas (64).jpg  \n",
            "  inflating: Glomerulus/Crescente/teste/PAS/teste_pas (36).jpg  \n",
            "  inflating: Glomerulus/Crescente/teste/PAS/teste_pas (176).jpg  \n",
            "  inflating: Glomerulus/Crescente/teste/PAS/teste_pas (96).jpg  \n",
            "  inflating: Glomerulus/Crescente/teste/PAS/teste_pas (82).jpg  \n",
            "  inflating: Glomerulus/Crescente/teste/PAS/teste_pas (116).jpg  \n",
            "  inflating: Glomerulus/Crescente/teste/PAS/teste_pas (122).jpg  \n",
            "  inflating: Glomerulus/Crescente/teste/PAS/teste_pas (31).jpg  \n",
            "  inflating: Glomerulus/Crescente/teste/PAS/teste_pas (8).jpg  \n",
            "  inflating: Glomerulus/Crescente/teste/PAS/teste_pas (171).jpg  \n",
            "  inflating: Glomerulus/Crescente/teste/PAS/teste_pas (15).jpg  \n",
            "  inflating: Glomerulus/Crescente/teste/PAS/teste_pas (49).jpg  \n",
            "  inflating: Glomerulus/Crescente/teste/PAS/teste_pas (95).jpg  \n",
            "  inflating: Glomerulus/Crescente/teste/PAS/teste_pas (6).jpg  \n",
            "  inflating: Glomerulus/Crescente/teste/PAS/teste_pas (93).jpg  \n",
            "  inflating: Glomerulus/Crescente/teste/PAS/teste_pas (60).jpg  \n",
            "  inflating: Glomerulus/Crescente/teste/PAS/teste_pas (103).jpg  \n",
            "  inflating: Glomerulus/Crescente/teste/PAS/teste_pas (24).jpg  \n",
            "  inflating: Glomerulus/Crescente/teste/PAS/teste_pas (74).jpg  \n",
            "  inflating: Glomerulus/Crescente/teste/PAS/teste_pas (66).jpg  \n",
            "  inflating: Glomerulus/Crescente/teste/PAS/teste_pas (111).jpg  \n",
            "  inflating: Glomerulus/Crescente/teste/PAS/teste_pas (27).jpg  \n",
            "  inflating: Glomerulus/Crescente/teste/PAS/teste_pas (170).jpg  \n",
            "  inflating: Glomerulus/Crescente/teste/PAS/teste_pas (150).jpg  \n",
            "  inflating: Glomerulus/Crescente/teste/PAS/teste_pas (100).jpg  \n",
            "  inflating: Glomerulus/Crescente/teste/PAS/teste_pas (41).jpg  \n",
            "  inflating: Glomerulus/Crescente/teste/PAS/teste_pas (72).jpg  \n",
            "  inflating: Glomerulus/Crescente/teste/PAS/teste_pas (112).jpg  \n",
            "  inflating: Glomerulus/Crescente/teste/PAS/teste_pas (133).jpg  \n",
            "  inflating: Glomerulus/Crescente/teste/PAS/teste_pas (34).jpg  \n",
            "  inflating: Glomerulus/Crescente/teste/PAS/teste_pas (10).jpg  \n",
            "  inflating: Glomerulus/Crescente/teste/PAS/teste_pas (105).jpg  \n",
            "  inflating: Glomerulus/Crescente/teste/PAS/teste_pas (134).jpg  \n",
            "  inflating: Glomerulus/Crescente/teste/PAS/teste_pas (53).jpg  \n",
            "  inflating: Glomerulus/Crescente/teste/PAS/teste_pas (172).jpg  \n",
            "  inflating: Glomerulus/Crescente/teste/PAS/teste_pas (76).jpg  \n",
            "  inflating: Glomerulus/Crescente/teste/PAS/teste_pas (169).jpg  \n",
            "  inflating: Glomerulus/Crescente/teste/PAS/teste_pas (40).jpg  \n",
            "  inflating: Glomerulus/Crescente/teste/PAS/teste_pas (17).jpg  \n",
            "  inflating: Glomerulus/Crescente/teste/PAS/teste_pas (158).JPG  \n",
            "  inflating: Glomerulus/Crescente/teste/PAS/teste_pas (13).jpg  \n",
            "  inflating: Glomerulus/Crescente/teste/PAS/teste_pas (84).jpg  \n",
            "  inflating: Glomerulus/Crescente/teste/PAS/teste_pas (65).jpg  \n",
            "  inflating: Glomerulus/Crescente/teste/PAS/teste_pas (117).jpg  \n",
            "  inflating: Glomerulus/Crescente/teste/PAS/teste_pas (109).jpg  \n",
            "  inflating: Glomerulus/Crescente/teste/PAS/teste_pas (22).jpg  \n",
            "  inflating: Glomerulus/Crescente/teste/PAS/teste_pas (101).jpg  \n",
            "  inflating: Glomerulus/Crescente/teste/PAS/teste_pas (126).jpg  \n",
            "  inflating: Glomerulus/Crescente/teste/PAS/teste_pas (26).jpg  \n",
            "  inflating: Glomerulus/Crescente/teste/PAS/teste_pas (129).jpg  \n",
            "  inflating: Glomerulus/Crescente/teste/PAS/teste_pas (146).jpg  \n",
            "  inflating: Glomerulus/Crescente/teste/PAS/teste_pas (54).jpg  \n",
            "  inflating: Glomerulus/Crescente/teste/PAS/teste_pas (7).jpg  \n",
            "  inflating: Glomerulus/Crescente/teste/PAS/teste_pas (45).jpg  \n",
            "  inflating: Glomerulus/Crescente/teste/PAS/teste_pas (163).JPG  \n",
            "  inflating: Glomerulus/Crescente/teste/PAS/teste_pas (63).jpg  \n",
            "  inflating: Glomerulus/Crescente/teste/PAS/teste_pas (120).jpg  \n",
            "  inflating: Glomerulus/Crescente/teste/PAS/teste_pas (153).JPG  \n",
            "  inflating: Glomerulus/Crescente/teste/PAS/teste_pas (154).JPG  \n",
            "  inflating: Glomerulus/Crescente/teste/PAS/teste_pas (110).jpg  \n",
            "  inflating: Glomerulus/Crescente/teste/PAS/teste_pas (139).jpg  \n",
            "  inflating: Glomerulus/Crescente/teste/PAS/teste_pas (162).JPG  \n",
            "  inflating: Glomerulus/Crescente/teste/PAS/teste_pas (44).jpg  \n",
            "  inflating: Glomerulus/Crescente/teste/PAS/teste_pas (127).jpg  \n",
            "  inflating: Glomerulus/Crescente/teste/PAS/teste_pas (80).jpg  \n",
            "  inflating: Glomerulus/Crescente/teste/PAS/teste_pas (46).jpg  \n",
            "  inflating: Glomerulus/Crescente/teste/PAS/teste_pas (1).jpg  \n",
            "  inflating: Glomerulus/Crescente/teste/PAS/teste_pas (16).jpg  \n",
            "  inflating: Glomerulus/Crescente/teste/PAS/teste_pas (79).jpg  \n",
            "  inflating: Glomerulus/Crescente/teste/PAS/teste_pas (12).jpg  \n",
            "  inflating: Glomerulus/Crescente/teste/PAS/teste_pas (113).jpg  \n",
            "  inflating: Glomerulus/Crescente/teste/PAS/teste_pas (48).jpg  \n",
            "   creating: Glomerulus/Crescente/treino/\n",
            "   creating: Glomerulus/Crescente/treino/PICRO/\n",
            "  inflating: Glomerulus/Crescente/treino/PICRO/treino_picro (35).jpg  \n",
            "  inflating: Glomerulus/Crescente/treino/PICRO/treino_picro (25).jpg  \n",
            "  inflating: Glomerulus/Crescente/treino/PICRO/treino_picro (27).jpg  \n",
            "  inflating: Glomerulus/Crescente/treino/PICRO/treino_picro (5).jpg  \n",
            "  inflating: Glomerulus/Crescente/treino/PICRO/treino_picro (43).jpg  \n",
            "  inflating: Glomerulus/Crescente/treino/PICRO/treino_picro (32).jpg  \n",
            "  inflating: Glomerulus/Crescente/treino/PICRO/treino_picro (28).jpg  \n",
            "  inflating: Glomerulus/Crescente/treino/PICRO/treino_picro (10).jpg  \n",
            "  inflating: Glomerulus/Crescente/treino/PICRO/treino_picro (7).jpg  \n",
            "  inflating: Glomerulus/Crescente/treino/PICRO/treino_picro (6).jpg  \n",
            "  inflating: Glomerulus/Crescente/treino/PICRO/treino_picro (8).jpg  \n",
            "  inflating: Glomerulus/Crescente/treino/PICRO/treino_picro (44).jpg  \n",
            "  inflating: Glomerulus/Crescente/treino/PICRO/treino_picro (20).jpg  \n",
            "  inflating: Glomerulus/Crescente/treino/PICRO/treino_picro (24).jpg  \n",
            "  inflating: Glomerulus/Crescente/treino/PICRO/treino_picro (38).jpg  \n",
            "  inflating: Glomerulus/Crescente/treino/PICRO/treino_picro (19).jpg  \n",
            "  inflating: Glomerulus/Crescente/treino/PICRO/treino_picro (4).jpg  \n",
            "  inflating: Glomerulus/Crescente/treino/PICRO/treino_picro (1).jpg  \n",
            "  inflating: Glomerulus/Crescente/treino/PICRO/treino_picro (3).jpg  \n",
            "  inflating: Glomerulus/Crescente/treino/PICRO/treino_picro (23).jpg  \n",
            "  inflating: Glomerulus/Crescente/treino/PICRO/treino_picro (9).jpg  \n",
            "  inflating: Glomerulus/Crescente/treino/PICRO/treino_picro (41).jpg  \n",
            "  inflating: Glomerulus/Crescente/treino/PICRO/treino_picro (12).jpg  \n",
            "  inflating: Glomerulus/Crescente/treino/PICRO/treino_picro (26).jpg  \n",
            "  inflating: Glomerulus/Crescente/treino/PICRO/treino_picro (17).jpg  \n",
            "  inflating: Glomerulus/Crescente/treino/PICRO/treino_picro (18).jpg  \n",
            "  inflating: Glomerulus/Crescente/treino/PICRO/treino_picro (31).jpg  \n",
            "  inflating: Glomerulus/Crescente/treino/PICRO/treino_picro (36).jpg  \n",
            "  inflating: Glomerulus/Crescente/treino/PICRO/treino_picro (2).jpg  \n",
            "  inflating: Glomerulus/Crescente/treino/PICRO/treino_picro (29).jpg  \n",
            "  inflating: Glomerulus/Crescente/treino/PICRO/treino_picro (16).jpg  \n",
            "  inflating: Glomerulus/Crescente/treino/PICRO/treino_picro (21).jpg  \n",
            "  inflating: Glomerulus/Crescente/treino/PICRO/treino_picro (14).jpg  \n",
            "  inflating: Glomerulus/Crescente/treino/PICRO/treino_picro (15).jpg  \n",
            "  inflating: Glomerulus/Crescente/treino/PICRO/treino_picro (40).jpg  \n",
            "  inflating: Glomerulus/Crescente/treino/PICRO/treino_picro (34).jpg  \n",
            "  inflating: Glomerulus/Crescente/treino/PICRO/treino_picro (13).jpg  \n",
            "  inflating: Glomerulus/Crescente/treino/PICRO/treino_picro (22).jpg  \n",
            "  inflating: Glomerulus/Crescente/treino/PICRO/treino_picro (39).jpg  \n",
            "  inflating: Glomerulus/Crescente/treino/PICRO/treino_picro (42).jpg  \n",
            "  inflating: Glomerulus/Crescente/treino/PICRO/treino_picro (11).jpg  \n",
            "  inflating: Glomerulus/Crescente/treino/PICRO/treino_picro (33).jpg  \n",
            "  inflating: Glomerulus/Crescente/treino/PICRO/treino_picro (30).jpg  \n",
            "  inflating: Glomerulus/Crescente/treino/PICRO/treino_picro (37).jpg  \n",
            "   creating: Glomerulus/Crescente/treino/HE/\n",
            "  inflating: Glomerulus/Crescente/treino/HE/treino_he (107).jpg  \n",
            "  inflating: Glomerulus/Crescente/treino/HE/treino_he (191).jpg  \n",
            "  inflating: Glomerulus/Crescente/treino/HE/treino_he (214).jpg  \n",
            "  inflating: Glomerulus/Crescente/treino/HE/treino_he (147).jpg  \n",
            "  inflating: Glomerulus/Crescente/treino/HE/treino_he (222).jpg  \n",
            "  inflating: Glomerulus/Crescente/treino/HE/treino_he (194).jpg  \n",
            "  inflating: Glomerulus/Crescente/treino/HE/treino_he (48).jpg  \n",
            "  inflating: Glomerulus/Crescente/treino/HE/treino_he (209).jpg  \n",
            "  inflating: Glomerulus/Crescente/treino/HE/treino_he (140).jpg  \n",
            "  inflating: Glomerulus/Crescente/treino/HE/treino_he (98).jpg  \n",
            "  inflating: Glomerulus/Crescente/treino/HE/treino_he (111).jpg  \n",
            "  inflating: Glomerulus/Crescente/treino/HE/treino_he (33).jpg  \n",
            "  inflating: Glomerulus/Crescente/treino/HE/treino_he (207).jpg  \n",
            "  inflating: Glomerulus/Crescente/treino/HE/treino_he (164).jpg  \n",
            "  inflating: Glomerulus/Crescente/treino/HE/treino_he (12).jpg  \n",
            "  inflating: Glomerulus/Crescente/treino/HE/treino_he (7).jpg  \n",
            "  inflating: Glomerulus/Crescente/treino/HE/treino_he (26).jpg  \n",
            "  inflating: Glomerulus/Crescente/treino/HE/treino_he (78).jpg  \n",
            "  inflating: Glomerulus/Crescente/treino/HE/treino_he (35).jpg  \n",
            "  inflating: Glomerulus/Crescente/treino/HE/treino_he (216).jpg  \n",
            "  inflating: Glomerulus/Crescente/treino/HE/treino_he (50).jpg  \n",
            "  inflating: Glomerulus/Crescente/treino/HE/treino_he (92).jpg  \n",
            "  inflating: Glomerulus/Crescente/treino/HE/treino_he (186).jpg  \n",
            "  inflating: Glomerulus/Crescente/treino/HE/treino_he (123).jpg  \n",
            "  inflating: Glomerulus/Crescente/treino/HE/treino_he (37).jpg  \n",
            "  inflating: Glomerulus/Crescente/treino/HE/treino_he (210).jpg  \n",
            "  inflating: Glomerulus/Crescente/treino/HE/treino_he (93).jpg  \n",
            "  inflating: Glomerulus/Crescente/treino/HE/treino_he (219).jpg  \n",
            "  inflating: Glomerulus/Crescente/treino/HE/treino_he (60).jpg  \n",
            "  inflating: Glomerulus/Crescente/treino/HE/treino_he (66).jpg  \n",
            "  inflating: Glomerulus/Crescente/treino/HE/treino_he (86).jpg  \n",
            "  inflating: Glomerulus/Crescente/treino/HE/treino_he (40).jpg  \n",
            "  inflating: Glomerulus/Crescente/treino/HE/treino_he (18).jpg  \n",
            "  inflating: Glomerulus/Crescente/treino/HE/treino_he (201).jpg  \n",
            "  inflating: Glomerulus/Crescente/treino/HE/treino_he (166).jpg  \n",
            "  inflating: Glomerulus/Crescente/treino/HE/treino_he (232).jpg  \n",
            "  inflating: Glomerulus/Crescente/treino/HE/treino_he (176).jpg  \n",
            "  inflating: Glomerulus/Crescente/treino/HE/treino_he (15).jpg  \n",
            "  inflating: Glomerulus/Crescente/treino/HE/treino_he (180).jpg  \n",
            "  inflating: Glomerulus/Crescente/treino/HE/treino_he (178).jpg  \n",
            "  inflating: Glomerulus/Crescente/treino/HE/treino_he (85).jpg  \n",
            "  inflating: Glomerulus/Crescente/treino/HE/treino_he (6).jpg  \n",
            "  inflating: Glomerulus/Crescente/treino/HE/treino_he (211).jpg  \n",
            "  inflating: Glomerulus/Crescente/treino/HE/treino_he (197).jpg  \n",
            "  inflating: Glomerulus/Crescente/treino/HE/treino_he (170).jpg  \n",
            "  inflating: Glomerulus/Crescente/treino/HE/treino_he (117).jpg  \n",
            "  inflating: Glomerulus/Crescente/treino/HE/treino_he (76).jpg  \n",
            "  inflating: Glomerulus/Crescente/treino/HE/treino_he (199).jpg  \n",
            "  inflating: Glomerulus/Crescente/treino/HE/treino_he (9).jpg  \n",
            "  inflating: Glomerulus/Crescente/treino/HE/treino_he (120).jpg  \n",
            "  inflating: Glomerulus/Crescente/treino/HE/treino_he (154).jpg  \n",
            "  inflating: Glomerulus/Crescente/treino/HE/treino_he (195).jpg  \n",
            "  inflating: Glomerulus/Crescente/treino/HE/treino_he (51).jpg  \n",
            "  inflating: Glomerulus/Crescente/treino/HE/treino_he (116).jpg  \n",
            "  inflating: Glomerulus/Crescente/treino/HE/treino_he (133).jpg  \n",
            "  inflating: Glomerulus/Crescente/treino/HE/treino_he (132).jpg  \n",
            "  inflating: Glomerulus/Crescente/treino/HE/treino_he (234).jpg  \n",
            "  inflating: Glomerulus/Crescente/treino/HE/treino_he (206).jpg  \n",
            "  inflating: Glomerulus/Crescente/treino/HE/treino_he (69).jpg  \n",
            "  inflating: Glomerulus/Crescente/treino/HE/treino_he (45).jpg  \n",
            "  inflating: Glomerulus/Crescente/treino/HE/treino_he (41).jpg  \n",
            "  inflating: Glomerulus/Crescente/treino/HE/treino_he (126).jpg  \n",
            "  inflating: Glomerulus/Crescente/treino/HE/treino_he (169).jpg  \n",
            "  inflating: Glomerulus/Crescente/treino/HE/treino_he (167).jpg  \n",
            "  inflating: Glomerulus/Crescente/treino/HE/treino_he (161).jpg  \n",
            "  inflating: Glomerulus/Crescente/treino/HE/treino_he (142).jpg  \n",
            "  inflating: Glomerulus/Crescente/treino/HE/treino_he (54).jpg  \n",
            "  inflating: Glomerulus/Crescente/treino/HE/treino_he (32).jpg  \n",
            "  inflating: Glomerulus/Crescente/treino/HE/treino_he (227).jpg  \n",
            "  inflating: Glomerulus/Crescente/treino/HE/treino_he (94).jpg  \n",
            "  inflating: Glomerulus/Crescente/treino/HE/treino_he (228).jpg  \n",
            "  inflating: Glomerulus/Crescente/treino/HE/treino_he (81).jpg  \n",
            "  inflating: Glomerulus/Crescente/treino/HE/treino_he (82).jpg  \n",
            "  inflating: Glomerulus/Crescente/treino/HE/treino_he (230).jpg  \n",
            "  inflating: Glomerulus/Crescente/treino/HE/treino_he (229).jpg  \n",
            "  inflating: Glomerulus/Crescente/treino/HE/treino_he (225).jpg  \n",
            "  inflating: Glomerulus/Crescente/treino/HE/treino_he (38).jpg  \n",
            "  inflating: Glomerulus/Crescente/treino/HE/treino_he (144).jpg  \n",
            "  inflating: Glomerulus/Crescente/treino/HE/treino_he (221).jpg  \n",
            "  inflating: Glomerulus/Crescente/treino/HE/treino_he (1).jpg  \n",
            "  inflating: Glomerulus/Crescente/treino/HE/treino_he (44).jpg  \n",
            "  inflating: Glomerulus/Crescente/treino/HE/treino_he (55).jpg  \n",
            "  inflating: Glomerulus/Crescente/treino/HE/treino_he (46).jpg  \n",
            "  inflating: Glomerulus/Crescente/treino/HE/treino_he (224).jpg  \n",
            "  inflating: Glomerulus/Crescente/treino/HE/treino_he (135).jpg  \n",
            "  inflating: Glomerulus/Crescente/treino/HE/treino_he (215).jpg  \n",
            "  inflating: Glomerulus/Crescente/treino/HE/treino_he (88).jpg  \n",
            "  inflating: Glomerulus/Crescente/treino/HE/treino_he (200).jpg  \n",
            "  inflating: Glomerulus/Crescente/treino/HE/treino_he (2).jpg  \n",
            "  inflating: Glomerulus/Crescente/treino/HE/treino_he (97).jpg  \n",
            "  inflating: Glomerulus/Crescente/treino/HE/treino_he (179).jpg  \n",
            "  inflating: Glomerulus/Crescente/treino/HE/treino_he (119).jpg  \n",
            "  inflating: Glomerulus/Crescente/treino/HE/treino_he (145).jpg  \n",
            "  inflating: Glomerulus/Crescente/treino/HE/treino_he (39).jpg  \n",
            "  inflating: Glomerulus/Crescente/treino/HE/treino_he (75).jpg  \n",
            "  inflating: Glomerulus/Crescente/treino/HE/treino_he (158).jpg  \n",
            "  inflating: Glomerulus/Crescente/treino/HE/treino_he (202).jpg  \n",
            "  inflating: Glomerulus/Crescente/treino/HE/treino_he (181).jpg  \n",
            "  inflating: Glomerulus/Crescente/treino/HE/treino_he (130).jpg  \n",
            "  inflating: Glomerulus/Crescente/treino/HE/treino_he (101).jpg  \n",
            "  inflating: Glomerulus/Crescente/treino/HE/treino_he (43).jpg  \n",
            "  inflating: Glomerulus/Crescente/treino/HE/treino_he (67).jpg  \n",
            "  inflating: Glomerulus/Crescente/treino/HE/treino_he (87).jpg  \n",
            "  inflating: Glomerulus/Crescente/treino/HE/treino_he (3).jpg  \n",
            "  inflating: Glomerulus/Crescente/treino/HE/treino_he (198).jpg  \n",
            "  inflating: Glomerulus/Crescente/treino/HE/treino_he (189).jpg  \n",
            "  inflating: Glomerulus/Crescente/treino/HE/treino_he (121).jpg  \n",
            "  inflating: Glomerulus/Crescente/treino/HE/treino_he (65).jpg  \n",
            "  inflating: Glomerulus/Crescente/treino/HE/treino_he (192).jpg  \n",
            "  inflating: Glomerulus/Crescente/treino/HE/treino_he (124).jpg  \n",
            "  inflating: Glomerulus/Crescente/treino/HE/treino_he (115).jpg  \n",
            "  inflating: Glomerulus/Crescente/treino/HE/treino_he (231).jpg  \n",
            "  inflating: Glomerulus/Crescente/treino/HE/treino_he (148).jpg  \n",
            "  inflating: Glomerulus/Crescente/treino/HE/treino_he (175).jpg  \n",
            "  inflating: Glomerulus/Crescente/treino/HE/treino_he (30).jpg  \n",
            "  inflating: Glomerulus/Crescente/treino/HE/treino_he (70).jpg  \n",
            "  inflating: Glomerulus/Crescente/treino/HE/treino_he (29).jpg  \n",
            "  inflating: Glomerulus/Crescente/treino/HE/treino_he (139).jpg  \n",
            "  inflating: Glomerulus/Crescente/treino/HE/treino_he (8).jpg  \n",
            "  inflating: Glomerulus/Crescente/treino/HE/treino_he (36).jpg  \n",
            "  inflating: Glomerulus/Crescente/treino/HE/treino_he (84).jpg  \n",
            "  inflating: Glomerulus/Crescente/treino/HE/treino_he (217).jpg  \n",
            "  inflating: Glomerulus/Crescente/treino/HE/treino_he (114).jpg  \n",
            "  inflating: Glomerulus/Crescente/treino/HE/treino_he (63).jpg  \n",
            "  inflating: Glomerulus/Crescente/treino/HE/treino_he (226).jpg  \n",
            "  inflating: Glomerulus/Crescente/treino/HE/treino_he (16).jpg  \n",
            "  inflating: Glomerulus/Crescente/treino/HE/treino_he (13).jpg  \n",
            "  inflating: Glomerulus/Crescente/treino/HE/treino_he (112).jpg  \n",
            "  inflating: Glomerulus/Crescente/treino/HE/treino_he (105).jpg  \n",
            "  inflating: Glomerulus/Crescente/treino/HE/treino_he (188).jpg  \n",
            "  inflating: Glomerulus/Crescente/treino/HE/treino_he (74).jpg  \n",
            "  inflating: Glomerulus/Crescente/treino/HE/treino_he (150).jpg  \n",
            "  inflating: Glomerulus/Crescente/treino/HE/treino_he (151).jpg  \n",
            "  inflating: Glomerulus/Crescente/treino/HE/treino_he (113).jpg  \n",
            "  inflating: Glomerulus/Crescente/treino/HE/treino_he (25).jpg  \n",
            "  inflating: Glomerulus/Crescente/treino/HE/treino_he (168).jpg  \n",
            "  inflating: Glomerulus/Crescente/treino/HE/treino_he (24).jpg  \n",
            "  inflating: Glomerulus/Crescente/treino/HE/treino_he (22).jpg  \n",
            "  inflating: Glomerulus/Crescente/treino/HE/treino_he (203).jpg  \n",
            "  inflating: Glomerulus/Crescente/treino/HE/treino_he (71).jpg  \n",
            "  inflating: Glomerulus/Crescente/treino/HE/treino_he (157).jpg  \n",
            "  inflating: Glomerulus/Crescente/treino/HE/treino_he (79).jpg  \n",
            "  inflating: Glomerulus/Crescente/treino/HE/treino_he (137).jpg  \n",
            "  inflating: Glomerulus/Crescente/treino/HE/treino_he (80).jpg  \n",
            "  inflating: Glomerulus/Crescente/treino/HE/treino_he (174).jpg  \n",
            "  inflating: Glomerulus/Crescente/treino/HE/treino_he (184).jpg  \n",
            "  inflating: Glomerulus/Crescente/treino/HE/treino_he (99).jpg  \n",
            "  inflating: Glomerulus/Crescente/treino/HE/treino_he (58).jpg  \n",
            "  inflating: Glomerulus/Crescente/treino/HE/treino_he (212).jpg  \n",
            "  inflating: Glomerulus/Crescente/treino/HE/treino_he (53).jpg  \n",
            "  inflating: Glomerulus/Crescente/treino/HE/treino_he (42).jpg  \n",
            "  inflating: Glomerulus/Crescente/treino/HE/treino_he (11).jpg  \n",
            "  inflating: Glomerulus/Crescente/treino/HE/treino_he (127).jpg  \n",
            "  inflating: Glomerulus/Crescente/treino/HE/treino_he (162).jpg  \n",
            "  inflating: Glomerulus/Crescente/treino/HE/treino_he (125).jpg  \n",
            "  inflating: Glomerulus/Crescente/treino/HE/treino_he (49).jpg  \n",
            "  inflating: Glomerulus/Crescente/treino/HE/treino_he (52).jpg  \n",
            "  inflating: Glomerulus/Crescente/treino/HE/treino_he (208).jpg  \n",
            "  inflating: Glomerulus/Crescente/treino/HE/treino_he (90).jpg  \n",
            "  inflating: Glomerulus/Crescente/treino/HE/treino_he (149).jpg  \n",
            "  inflating: Glomerulus/Crescente/treino/HE/treino_he (59).jpg  \n",
            "  inflating: Glomerulus/Crescente/treino/HE/treino_he (100).jpg  \n",
            "  inflating: Glomerulus/Crescente/treino/HE/treino_he (23).jpg  \n",
            "  inflating: Glomerulus/Crescente/treino/HE/treino_he (172).jpg  \n",
            "  inflating: Glomerulus/Crescente/treino/HE/treino_he (177).jpg  \n",
            "  inflating: Glomerulus/Crescente/treino/HE/treino_he (218).jpg  \n",
            "  inflating: Glomerulus/Crescente/treino/HE/treino_he (89).jpg  \n",
            "  inflating: Glomerulus/Crescente/treino/HE/treino_he (193).jpg  \n",
            "  inflating: Glomerulus/Crescente/treino/HE/treino_he (143).jpg  \n",
            "  inflating: Glomerulus/Crescente/treino/HE/treino_he (187).jpg  \n",
            "  inflating: Glomerulus/Crescente/treino/HE/treino_he (205).jpg  \n",
            "  inflating: Glomerulus/Crescente/treino/HE/treino_he (213).jpg  \n",
            "  inflating: Glomerulus/Crescente/treino/HE/treino_he (128).jpg  \n",
            "  inflating: Glomerulus/Crescente/treino/HE/treino_he (182).jpg  \n",
            "  inflating: Glomerulus/Crescente/treino/HE/treino_he (156).jpg  \n",
            "  inflating: Glomerulus/Crescente/treino/HE/treino_he (27).jpg  \n",
            "  inflating: Glomerulus/Crescente/treino/HE/treino_he (28).jpg  \n",
            "  inflating: Glomerulus/Crescente/treino/HE/treino_he (190).jpg  \n",
            "  inflating: Glomerulus/Crescente/treino/HE/treino_he (159).jpg  \n",
            "  inflating: Glomerulus/Crescente/treino/HE/treino_he (68).jpg  \n",
            "  inflating: Glomerulus/Crescente/treino/HE/treino_he (102).jpg  \n",
            "  inflating: Glomerulus/Crescente/treino/HE/treino_he (56).jpg  \n",
            "  inflating: Glomerulus/Crescente/treino/HE/treino_he (108).jpg  \n",
            "  inflating: Glomerulus/Crescente/treino/HE/treino_he (95).jpg  \n",
            "  inflating: Glomerulus/Crescente/treino/HE/treino_he (118).jpg  \n",
            "  inflating: Glomerulus/Crescente/treino/HE/treino_he (103).jpg  \n",
            "  inflating: Glomerulus/Crescente/treino/HE/treino_he (31).jpg  \n",
            "  inflating: Glomerulus/Crescente/treino/HE/treino_he (160).jpg  \n",
            "  inflating: Glomerulus/Crescente/treino/HE/treino_he (10).jpg  \n",
            "  inflating: Glomerulus/Crescente/treino/HE/treino_he (34).jpg  \n",
            "  inflating: Glomerulus/Crescente/treino/HE/treino_he (96).jpg  \n",
            "  inflating: Glomerulus/Crescente/treino/HE/treino_he (134).jpg  \n",
            "  inflating: Glomerulus/Crescente/treino/HE/treino_he (91).jpg  \n",
            "  inflating: Glomerulus/Crescente/treino/HE/treino_he (47).jpg  \n",
            "  inflating: Glomerulus/Crescente/treino/HE/treino_he (204).jpg  \n",
            "  inflating: Glomerulus/Crescente/treino/HE/treino_he (138).jpg  \n",
            "  inflating: Glomerulus/Crescente/treino/HE/treino_he (4).jpg  \n",
            "  inflating: Glomerulus/Crescente/treino/HE/treino_he (131).jpg  \n",
            "  inflating: Glomerulus/Crescente/treino/HE/treino_he (64).jpg  \n",
            "  inflating: Glomerulus/Crescente/treino/HE/treino_he (17).jpg  \n",
            "  inflating: Glomerulus/Crescente/treino/HE/treino_he (136).jpg  \n",
            "  inflating: Glomerulus/Crescente/treino/HE/treino_he (163).jpg  \n",
            "  inflating: Glomerulus/Crescente/treino/HE/treino_he (129).jpg  \n",
            "  inflating: Glomerulus/Crescente/treino/HE/treino_he (62).jpg  \n",
            "  inflating: Glomerulus/Crescente/treino/HE/treino_he (20).jpg  \n",
            "  inflating: Glomerulus/Crescente/treino/HE/treino_he (21).jpg  \n",
            "  inflating: Glomerulus/Crescente/treino/HE/treino_he (72).jpg  \n",
            "  inflating: Glomerulus/Crescente/treino/HE/treino_he (106).jpg  \n",
            "  inflating: Glomerulus/Crescente/treino/HE/treino_he (73).jpg  \n",
            "  inflating: Glomerulus/Crescente/treino/HE/treino_he (183).jpg  \n",
            "  inflating: Glomerulus/Crescente/treino/HE/treino_he (104).jpg  \n",
            "  inflating: Glomerulus/Crescente/treino/HE/treino_he (152).jpg  \n",
            "  inflating: Glomerulus/Crescente/treino/HE/treino_he (185).jpg  \n",
            "  inflating: Glomerulus/Crescente/treino/HE/treino_he (141).jpg  \n",
            "  inflating: Glomerulus/Crescente/treino/HE/treino_he (122).jpg  \n",
            "  inflating: Glomerulus/Crescente/treino/HE/treino_he (220).jpg  \n",
            "  inflating: Glomerulus/Crescente/treino/HE/treino_he (153).jpg  \n",
            "  inflating: Glomerulus/Crescente/treino/HE/treino_he (146).jpg  \n",
            "  inflating: Glomerulus/Crescente/treino/HE/treino_he (5).jpg  \n",
            "  inflating: Glomerulus/Crescente/treino/HE/treino_he (77).jpg  \n",
            "  inflating: Glomerulus/Crescente/treino/HE/treino_he (109).jpg  \n",
            "  inflating: Glomerulus/Crescente/treino/HE/treino_he (83).jpg  \n",
            "  inflating: Glomerulus/Crescente/treino/HE/treino_he (171).jpg  \n",
            "  inflating: Glomerulus/Crescente/treino/HE/treino_he (223).jpg  \n",
            "  inflating: Glomerulus/Crescente/treino/HE/treino_he (196).jpg  \n",
            "  inflating: Glomerulus/Crescente/treino/HE/treino_he (14).jpg  \n",
            "  inflating: Glomerulus/Crescente/treino/HE/treino_he (155).jpg  \n",
            "  inflating: Glomerulus/Crescente/treino/HE/treino_he (165).jpg  \n",
            "  inflating: Glomerulus/Crescente/treino/HE/treino_he (19).jpg  \n",
            "  inflating: Glomerulus/Crescente/treino/HE/treino_he (233).jpg  \n",
            "  inflating: Glomerulus/Crescente/treino/HE/treino_he (173).jpg  \n",
            "  inflating: Glomerulus/Crescente/treino/HE/treino_he (61).jpg  \n",
            "  inflating: Glomerulus/Crescente/treino/HE/treino_he (110).jpg  \n",
            "  inflating: Glomerulus/Crescente/treino/HE/treino_he (57).jpg  \n",
            "   creating: Glomerulus/Crescente/treino/PAMS/\n",
            "  inflating: Glomerulus/Crescente/treino/PAMS/treino_pams (71).jpg  \n",
            "  inflating: Glomerulus/Crescente/treino/PAMS/treino_pams (36).jpg  \n",
            "  inflating: Glomerulus/Crescente/treino/PAMS/treino_pams (72).jpg  \n",
            "  inflating: Glomerulus/Crescente/treino/PAMS/treino_pams (53).jpg  \n",
            "  inflating: Glomerulus/Crescente/treino/PAMS/treino_pams (74).jpg  \n",
            "  inflating: Glomerulus/Crescente/treino/PAMS/treino_pams (54).jpg  \n",
            "  inflating: Glomerulus/Crescente/treino/PAMS/treino_pams (73).jpg  \n",
            "  inflating: Glomerulus/Crescente/treino/PAMS/treino_pams (21).jpg  \n",
            "  inflating: Glomerulus/Crescente/treino/PAMS/treino_pams (77).jpg  \n",
            "  inflating: Glomerulus/Crescente/treino/PAMS/treino_pams (62).jpg  \n",
            "  inflating: Glomerulus/Crescente/treino/PAMS/treino_pams (11).jpg  \n",
            "  inflating: Glomerulus/Crescente/treino/PAMS/treino_pams (6).jpg  \n",
            "  inflating: Glomerulus/Crescente/treino/PAMS/treino_pams (68).jpg  \n",
            "  inflating: Glomerulus/Crescente/treino/PAMS/treino_pams (41).jpg  \n",
            "  inflating: Glomerulus/Crescente/treino/PAMS/treino_pams (76).jpg  \n",
            "  inflating: Glomerulus/Crescente/treino/PAMS/treino_pams (79).jpg  \n",
            "  inflating: Glomerulus/Crescente/treino/PAMS/treino_pams (45).jpg  \n",
            "  inflating: Glomerulus/Crescente/treino/PAMS/treino_pams (24).jpg  \n",
            "  inflating: Glomerulus/Crescente/treino/PAMS/treino_pams (37).jpg  \n",
            "  inflating: Glomerulus/Crescente/treino/PAMS/treino_pams (43).jpg  \n",
            "  inflating: Glomerulus/Crescente/treino/PAMS/treino_pams (56).jpg  \n",
            "  inflating: Glomerulus/Crescente/treino/PAMS/treino_pams (1).jpg  \n",
            "  inflating: Glomerulus/Crescente/treino/PAMS/treino_pams (69).jpg  \n",
            "  inflating: Glomerulus/Crescente/treino/PAMS/treino_pams (20).jpg  \n",
            "  inflating: Glomerulus/Crescente/treino/PAMS/treino_pams (66).jpg  \n",
            "  inflating: Glomerulus/Crescente/treino/PAMS/treino_pams (25).jpg  \n",
            "  inflating: Glomerulus/Crescente/treino/PAMS/treino_pams (46).jpg  \n",
            "  inflating: Glomerulus/Crescente/treino/PAMS/treino_pams (70).jpg  \n",
            "  inflating: Glomerulus/Crescente/treino/PAMS/treino_pams (15).jpg  \n",
            "  inflating: Glomerulus/Crescente/treino/PAMS/treino_pams (47).jpg  \n",
            "  inflating: Glomerulus/Crescente/treino/PAMS/treino_pams (10).jpg  \n",
            "  inflating: Glomerulus/Crescente/treino/PAMS/treino_pams (39).jpg  \n",
            "  inflating: Glomerulus/Crescente/treino/PAMS/treino_pams (17).jpg  \n",
            "  inflating: Glomerulus/Crescente/treino/PAMS/treino_pams (18).jpg  \n",
            "  inflating: Glomerulus/Crescente/treino/PAMS/treino_pams (22).jpg  \n",
            "  inflating: Glomerulus/Crescente/treino/PAMS/treino_pams (75).jpg  \n",
            "  inflating: Glomerulus/Crescente/treino/PAMS/treino_pams (28).jpg  \n",
            "  inflating: Glomerulus/Crescente/treino/PAMS/treino_pams (57).jpg  \n",
            "  inflating: Glomerulus/Crescente/treino/PAMS/treino_pams (52).jpg  \n",
            "  inflating: Glomerulus/Crescente/treino/PAMS/treino_pams (38).jpg  \n",
            "  inflating: Glomerulus/Crescente/treino/PAMS/treino_pams (32).jpg  \n",
            "  inflating: Glomerulus/Crescente/treino/PAMS/treino_pams (55).jpg  \n",
            "  inflating: Glomerulus/Crescente/treino/PAMS/treino_pams (3).jpg  \n",
            "  inflating: Glomerulus/Crescente/treino/PAMS/treino_pams (7).jpg  \n",
            "  inflating: Glomerulus/Crescente/treino/PAMS/treino_pams (35).jpg  \n",
            "  inflating: Glomerulus/Crescente/treino/PAMS/treino_pams (29).jpg  \n",
            "  inflating: Glomerulus/Crescente/treino/PAMS/treino_pams (65).jpg  \n",
            "  inflating: Glomerulus/Crescente/treino/PAMS/treino_pams (34).jpg  \n",
            "  inflating: Glomerulus/Crescente/treino/PAMS/treino_pams (63).jpg  \n",
            "  inflating: Glomerulus/Crescente/treino/PAMS/treino_pams (8).jpg  \n",
            "  inflating: Glomerulus/Crescente/treino/PAMS/treino_pams (5).jpg  \n",
            "  inflating: Glomerulus/Crescente/treino/PAMS/treino_pams (44).jpg  \n",
            "  inflating: Glomerulus/Crescente/treino/PAMS/treino_pams (48).jpg  \n",
            "  inflating: Glomerulus/Crescente/treino/PAMS/treino_pams (50).jpg  \n",
            "  inflating: Glomerulus/Crescente/treino/PAMS/treino_pams (14).jpg  \n",
            "  inflating: Glomerulus/Crescente/treino/PAMS/treino_pams (60).jpg  \n",
            "  inflating: Glomerulus/Crescente/treino/PAMS/treino_pams (26).jpg  \n",
            "  inflating: Glomerulus/Crescente/treino/PAMS/treino_pams (31).jpg  \n",
            "  inflating: Glomerulus/Crescente/treino/PAMS/treino_pams (27).jpg  \n",
            "  inflating: Glomerulus/Crescente/treino/PAMS/treino_pams (30).jpg  \n",
            "  inflating: Glomerulus/Crescente/treino/PAMS/treino_pams (67).jpg  \n",
            "  inflating: Glomerulus/Crescente/treino/PAMS/treino_pams (19).jpg  \n",
            "  inflating: Glomerulus/Crescente/treino/PAMS/treino_pams (33).jpg  \n",
            "  inflating: Glomerulus/Crescente/treino/PAMS/treino_pams (16).jpg  \n",
            "  inflating: Glomerulus/Crescente/treino/PAMS/treino_pams (61).jpg  \n",
            "  inflating: Glomerulus/Crescente/treino/PAMS/treino_pams (42).jpg  \n",
            "  inflating: Glomerulus/Crescente/treino/PAMS/treino_pams (64).jpg  \n",
            "  inflating: Glomerulus/Crescente/treino/PAMS/treino_pams (4).jpg  \n",
            "  inflating: Glomerulus/Crescente/treino/PAMS/treino_pams (9).jpg  \n",
            "  inflating: Glomerulus/Crescente/treino/PAMS/treino_pams (23).jpg  \n",
            "  inflating: Glomerulus/Crescente/treino/PAMS/treino_pams (40).jpg  \n",
            "  inflating: Glomerulus/Crescente/treino/PAMS/treino_pams (58).jpg  \n",
            "  inflating: Glomerulus/Crescente/treino/PAMS/treino_pams (13).jpg  \n",
            "  inflating: Glomerulus/Crescente/treino/PAMS/treino_pams (51).jpg  \n",
            "  inflating: Glomerulus/Crescente/treino/PAMS/treino_pams (49).jpg  \n",
            "  inflating: Glomerulus/Crescente/treino/PAMS/treino_pams (59).jpg  \n",
            "  inflating: Glomerulus/Crescente/treino/PAMS/treino_pams (78).jpg  \n",
            "  inflating: Glomerulus/Crescente/treino/PAMS/treino_pams (12).jpg  \n",
            "  inflating: Glomerulus/Crescente/treino/PAMS/treino_pams (2).jpg  \n",
            "   creating: Glomerulus/Crescente/treino/AZAN/\n",
            "  inflating: Glomerulus/Crescente/treino/AZAN/treino_azan (2).jpg  \n",
            "  inflating: Glomerulus/Crescente/treino/AZAN/treino_azan (12).jpg  \n",
            "  inflating: Glomerulus/Crescente/treino/AZAN/treino_azan (25).jpg  \n",
            "  inflating: Glomerulus/Crescente/treino/AZAN/treino_azan (59).jpg  \n",
            "  inflating: Glomerulus/Crescente/treino/AZAN/treino_azan (60).jpg  \n",
            "  inflating: Glomerulus/Crescente/treino/AZAN/treino_azan (7).jpg  \n",
            "  inflating: Glomerulus/Crescente/treino/AZAN/treino_azan (17).jpg  \n",
            "  inflating: Glomerulus/Crescente/treino/AZAN/treino_azan (29).jpg  \n",
            "  inflating: Glomerulus/Crescente/treino/AZAN/treino_azan (26).jpg  \n",
            "  inflating: Glomerulus/Crescente/treino/AZAN/treino_azan (21).jpg  \n",
            "  inflating: Glomerulus/Crescente/treino/AZAN/treino_azan (4).jpg  \n",
            "  inflating: Glomerulus/Crescente/treino/AZAN/treino_azan (13).jpg  \n",
            "  inflating: Glomerulus/Crescente/treino/AZAN/treino_azan (48).jpg  \n",
            "  inflating: Glomerulus/Crescente/treino/AZAN/treino_azan (5).jpg  \n",
            "  inflating: Glomerulus/Crescente/treino/AZAN/treino_azan (54).jpg  \n",
            "  inflating: Glomerulus/Crescente/treino/AZAN/treino_azan (19).jpg  \n",
            "  inflating: Glomerulus/Crescente/treino/AZAN/treino_azan (33).jpg  \n",
            "  inflating: Glomerulus/Crescente/treino/AZAN/treino_azan (51).jpg  \n",
            "  inflating: Glomerulus/Crescente/treino/AZAN/treino_azan (1).jpg  \n",
            "  inflating: Glomerulus/Crescente/treino/AZAN/treino_azan (27).jpg  \n",
            "  inflating: Glomerulus/Crescente/treino/AZAN/treino_azan (24).jpg  \n",
            "  inflating: Glomerulus/Crescente/treino/AZAN/treino_azan (38).jpg  \n",
            "  inflating: Glomerulus/Crescente/treino/AZAN/treino_azan (45).jpg  \n",
            "  inflating: Glomerulus/Crescente/treino/AZAN/treino_azan (10).jpg  \n",
            "  inflating: Glomerulus/Crescente/treino/AZAN/treino_azan (47).jpg  \n",
            "  inflating: Glomerulus/Crescente/treino/AZAN/treino_azan (56).jpg  \n",
            "  inflating: Glomerulus/Crescente/treino/AZAN/treino_azan (32).jpg  \n",
            "  inflating: Glomerulus/Crescente/treino/AZAN/treino_azan (14).jpg  \n",
            "  inflating: Glomerulus/Crescente/treino/AZAN/treino_azan (49).jpg  \n",
            "  inflating: Glomerulus/Crescente/treino/AZAN/treino_azan (46).jpg  \n",
            "  inflating: Glomerulus/Crescente/treino/AZAN/treino_azan (23).jpg  \n",
            "  inflating: Glomerulus/Crescente/treino/AZAN/treino_azan (53).jpg  \n",
            "  inflating: Glomerulus/Crescente/treino/AZAN/treino_azan (20).jpg  \n",
            "  inflating: Glomerulus/Crescente/treino/AZAN/treino_azan (36).jpg  \n",
            "  inflating: Glomerulus/Crescente/treino/AZAN/treino_azan (18).jpg  \n",
            "  inflating: Glomerulus/Crescente/treino/AZAN/treino_azan (37).jpg  \n",
            "  inflating: Glomerulus/Crescente/treino/AZAN/treino_azan (22).jpg  \n",
            "  inflating: Glomerulus/Crescente/treino/AZAN/treino_azan (57).jpg  \n",
            "  inflating: Glomerulus/Crescente/treino/AZAN/treino_azan (6).jpg  \n",
            "  inflating: Glomerulus/Crescente/treino/AZAN/treino_azan (30).jpg  \n",
            "  inflating: Glomerulus/Crescente/treino/AZAN/treino_azan (39).jpg  \n",
            "  inflating: Glomerulus/Crescente/treino/AZAN/treino_azan (11).jpg  \n",
            "  inflating: Glomerulus/Crescente/treino/AZAN/treino_azan (31).jpg  \n",
            "  inflating: Glomerulus/Crescente/treino/AZAN/treino_azan (35).jpg  \n",
            "  inflating: Glomerulus/Crescente/treino/AZAN/treino_azan (34).jpg  \n",
            "  inflating: Glomerulus/Crescente/treino/AZAN/treino_azan (15).jpg  \n",
            "  inflating: Glomerulus/Crescente/treino/AZAN/treino_azan (43).jpg  \n",
            "  inflating: Glomerulus/Crescente/treino/AZAN/treino_azan (9).jpg  \n",
            "  inflating: Glomerulus/Crescente/treino/AZAN/treino_azan (58).jpg  \n",
            "  inflating: Glomerulus/Crescente/treino/AZAN/treino_azan (40).jpg  \n",
            "  inflating: Glomerulus/Crescente/treino/AZAN/treino_azan (55).jpg  \n",
            "  inflating: Glomerulus/Crescente/treino/AZAN/treino_azan (50).jpg  \n",
            "  inflating: Glomerulus/Crescente/treino/AZAN/treino_azan (8).jpg  \n",
            "  inflating: Glomerulus/Crescente/treino/AZAN/treino_azan (3).jpg  \n",
            "  inflating: Glomerulus/Crescente/treino/AZAN/treino_azan (28).jpg  \n",
            "  inflating: Glomerulus/Crescente/treino/AZAN/treino_azan (44).jpg  \n",
            "  inflating: Glomerulus/Crescente/treino/AZAN/treino_azan (41).jpg  \n",
            "  inflating: Glomerulus/Crescente/treino/AZAN/treino_azan (16).jpg  \n",
            "  inflating: Glomerulus/Crescente/treino/AZAN/treino_azan (42).jpg  \n",
            "  inflating: Glomerulus/Crescente/treino/AZAN/treino_azan (52).jpg  \n",
            "  inflating: Glomerulus/Crescente/treino/AZAN/treino_azan (61).jpg  \n",
            "   creating: Glomerulus/Crescente/treino/PAS/\n",
            "  inflating: Glomerulus/Crescente/treino/PAS/treino_pas (18).jpg  \n",
            "  inflating: Glomerulus/Crescente/treino/PAS/treino_pas (75).jpg  \n",
            "  inflating: Glomerulus/Crescente/treino/PAS/treino_pas (73).jpg  \n",
            "  inflating: Glomerulus/Crescente/treino/PAS/treino_pas (157).jpg  \n",
            "  inflating: Glomerulus/Crescente/treino/PAS/treino_pas (148).jpg  \n",
            "  inflating: Glomerulus/Crescente/treino/PAS/treino_pas (49).jpg  \n",
            "  inflating: Glomerulus/Crescente/treino/PAS/treino_pas (36).jpg  \n",
            "  inflating: Glomerulus/Crescente/treino/PAS/treino_pas (88).jpg  \n",
            "  inflating: Glomerulus/Crescente/treino/PAS/treino_pas (54).jpg  \n",
            "  inflating: Glomerulus/Crescente/treino/PAS/treino_pas (30).jpg  \n",
            "  inflating: Glomerulus/Crescente/treino/PAS/treino_pas (64).jpg  \n",
            "  inflating: Glomerulus/Crescente/treino/PAS/treino_pas (155).jpg  \n",
            "  inflating: Glomerulus/Crescente/treino/PAS/treino_pas (89).jpg  \n",
            "  inflating: Glomerulus/Crescente/treino/PAS/treino_pas (97).jpg  \n",
            "  inflating: Glomerulus/Crescente/treino/PAS/treino_pas (132).jpg  \n",
            "  inflating: Glomerulus/Crescente/treino/PAS/treino_pas (31).jpg  \n",
            "  inflating: Glomerulus/Crescente/treino/PAS/treino_pas (123).jpg  \n",
            "  inflating: Glomerulus/Crescente/treino/PAS/treino_pas (15).jpg  \n",
            "  inflating: Glomerulus/Crescente/treino/PAS/treino_pas (165).jpg  \n",
            "  inflating: Glomerulus/Crescente/treino/PAS/treino_pas (147).jpg  \n",
            "  inflating: Glomerulus/Crescente/treino/PAS/treino_pas (100).jpg  \n",
            "  inflating: Glomerulus/Crescente/treino/PAS/treino_pas (52).jpg  \n",
            "  inflating: Glomerulus/Crescente/treino/PAS/treino_pas (136).jpg  \n",
            "  inflating: Glomerulus/Crescente/treino/PAS/treino_pas (12).jpg  \n",
            "  inflating: Glomerulus/Crescente/treino/PAS/treino_pas (82).jpg  \n",
            "  inflating: Glomerulus/Crescente/treino/PAS/treino_pas (176).jpg  \n",
            "  inflating: Glomerulus/Crescente/treino/PAS/treino_pas (6).jpg  \n",
            "  inflating: Glomerulus/Crescente/treino/PAS/treino_pas (109).jpg  \n",
            "  inflating: Glomerulus/Crescente/treino/PAS/treino_pas (175).jpg  \n",
            "  inflating: Glomerulus/Crescente/treino/PAS/treino_pas (4).jpg  \n",
            "  inflating: Glomerulus/Crescente/treino/PAS/treino_pas (11).jpg  \n",
            "  inflating: Glomerulus/Crescente/treino/PAS/treino_pas (170).jpg  \n",
            "  inflating: Glomerulus/Crescente/treino/PAS/treino_pas (133).jpg  \n",
            "  inflating: Glomerulus/Crescente/treino/PAS/treino_pas (41).jpg  \n",
            "  inflating: Glomerulus/Crescente/treino/PAS/treino_pas (10).jpg  \n",
            "  inflating: Glomerulus/Crescente/treino/PAS/treino_pas (67).jpg  \n",
            "  inflating: Glomerulus/Crescente/treino/PAS/treino_pas (159).jpg  \n",
            "  inflating: Glomerulus/Crescente/treino/PAS/treino_pas (35).jpg  \n",
            "  inflating: Glomerulus/Crescente/treino/PAS/treino_pas (145).jpg  \n",
            "  inflating: Glomerulus/Crescente/treino/PAS/treino_pas (43).jpg  \n",
            "  inflating: Glomerulus/Crescente/treino/PAS/treino_pas (161).jpg  \n",
            "  inflating: Glomerulus/Crescente/treino/PAS/treino_pas (149).jpg  \n",
            "  inflating: Glomerulus/Crescente/treino/PAS/treino_pas (13).jpg  \n",
            "  inflating: Glomerulus/Crescente/treino/PAS/treino_pas (106).jpg  \n",
            "  inflating: Glomerulus/Crescente/treino/PAS/treino_pas (114).jpg  \n",
            "  inflating: Glomerulus/Crescente/treino/PAS/treino_pas (120).jpg  \n",
            "  inflating: Glomerulus/Crescente/treino/PAS/treino_pas (55).jpg  \n",
            "  inflating: Glomerulus/Crescente/treino/PAS/treino_pas (20).jpg  \n",
            "  inflating: Glomerulus/Crescente/treino/PAS/treino_pas (96).jpg  \n",
            "  inflating: Glomerulus/Crescente/treino/PAS/treino_pas (112).jpg  \n",
            "  inflating: Glomerulus/Crescente/treino/PAS/treino_pas (24).jpg  \n",
            "  inflating: Glomerulus/Crescente/treino/PAS/treino_pas (153).jpg  \n",
            "  inflating: Glomerulus/Crescente/treino/PAS/treino_pas (117).jpg  \n",
            "  inflating: Glomerulus/Crescente/treino/PAS/treino_pas (57).jpg  \n",
            "  inflating: Glomerulus/Crescente/treino/PAS/treino_pas (95).jpg  \n",
            "  inflating: Glomerulus/Crescente/treino/PAS/treino_pas (113).jpg  \n",
            "  inflating: Glomerulus/Crescente/treino/PAS/treino_pas (99).jpg  \n",
            "  inflating: Glomerulus/Crescente/treino/PAS/treino_pas (59).jpg  \n",
            "  inflating: Glomerulus/Crescente/treino/PAS/treino_pas (98).jpg  \n",
            "  inflating: Glomerulus/Crescente/treino/PAS/treino_pas (122).jpg  \n",
            "  inflating: Glomerulus/Crescente/treino/PAS/treino_pas (38).jpg  \n",
            "  inflating: Glomerulus/Crescente/treino/PAS/treino_pas (28).jpg  \n",
            "  inflating: Glomerulus/Crescente/treino/PAS/treino_pas (23).jpg  \n",
            "  inflating: Glomerulus/Crescente/treino/PAS/treino_pas (163).jpg  \n",
            "  inflating: Glomerulus/Crescente/treino/PAS/treino_pas (166).jpg  \n",
            "  inflating: Glomerulus/Crescente/treino/PAS/treino_pas (92).jpg  \n",
            "  inflating: Glomerulus/Crescente/treino/PAS/treino_pas (156).jpg  \n",
            "  inflating: Glomerulus/Crescente/treino/PAS/treino_pas (21).jpg  \n",
            "  inflating: Glomerulus/Crescente/treino/PAS/treino_pas (86).jpg  \n",
            "  inflating: Glomerulus/Crescente/treino/PAS/treino_pas (124).jpg  \n",
            "  inflating: Glomerulus/Crescente/treino/PAS/treino_pas (66).jpg  \n",
            "  inflating: Glomerulus/Crescente/treino/PAS/treino_pas (160).jpg  \n",
            "  inflating: Glomerulus/Crescente/treino/PAS/treino_pas (39).jpg  \n",
            "  inflating: Glomerulus/Crescente/treino/PAS/treino_pas (51).jpg  \n",
            "  inflating: Glomerulus/Crescente/treino/PAS/treino_pas (134).jpg  \n",
            "  inflating: Glomerulus/Crescente/treino/PAS/treino_pas (139).jpg  \n",
            "  inflating: Glomerulus/Crescente/treino/PAS/treino_pas (7).jpg  \n",
            "  inflating: Glomerulus/Crescente/treino/PAS/treino_pas (105).jpg  \n",
            "  inflating: Glomerulus/Crescente/treino/PAS/treino_pas (2).jpg  \n",
            "  inflating: Glomerulus/Crescente/treino/PAS/treino_pas (144).jpg  \n",
            "  inflating: Glomerulus/Crescente/treino/PAS/treino_pas (142).jpg  \n",
            "  inflating: Glomerulus/Crescente/treino/PAS/treino_pas (58).jpg  \n",
            "  inflating: Glomerulus/Crescente/treino/PAS/treino_pas (56).jpg  \n",
            "  inflating: Glomerulus/Crescente/treino/PAS/treino_pas (44).jpg  \n",
            "  inflating: Glomerulus/Crescente/treino/PAS/treino_pas (90).jpg  \n",
            "  inflating: Glomerulus/Crescente/treino/PAS/treino_pas (5).jpg  \n",
            "  inflating: Glomerulus/Crescente/treino/PAS/treino_pas (126).jpg  \n",
            "  inflating: Glomerulus/Crescente/treino/PAS/treino_pas (137).jpg  \n",
            "  inflating: Glomerulus/Crescente/treino/PAS/treino_pas (63).jpg  \n",
            "  inflating: Glomerulus/Crescente/treino/PAS/treino_pas (74).jpg  \n",
            "  inflating: Glomerulus/Crescente/treino/PAS/treino_pas (22).jpg  \n",
            "  inflating: Glomerulus/Crescente/treino/PAS/treino_pas (16).jpg  \n",
            "  inflating: Glomerulus/Crescente/treino/PAS/treino_pas (48).jpg  \n",
            "  inflating: Glomerulus/Crescente/treino/PAS/treino_pas (107).jpg  \n",
            "  inflating: Glomerulus/Crescente/treino/PAS/treino_pas (150).jpg  \n",
            "  inflating: Glomerulus/Crescente/treino/PAS/treino_pas (68).jpg  \n",
            "  inflating: Glomerulus/Crescente/treino/PAS/treino_pas (115).jpg  \n",
            "  inflating: Glomerulus/Crescente/treino/PAS/treino_pas (103).jpg  \n",
            "  inflating: Glomerulus/Crescente/treino/PAS/treino_pas (61).jpg  \n",
            "  inflating: Glomerulus/Crescente/treino/PAS/treino_pas (62).jpg  \n",
            "  inflating: Glomerulus/Crescente/treino/PAS/treino_pas (25).jpg  \n",
            "  inflating: Glomerulus/Crescente/treino/PAS/treino_pas (119).jpg  \n",
            "  inflating: Glomerulus/Crescente/treino/PAS/treino_pas (70).jpg  \n",
            "  inflating: Glomerulus/Crescente/treino/PAS/treino_pas (33).jpg  \n",
            "  inflating: Glomerulus/Crescente/treino/PAS/treino_pas (116).jpg  \n",
            "  inflating: Glomerulus/Crescente/treino/PAS/treino_pas (121).jpg  \n",
            "  inflating: Glomerulus/Crescente/treino/PAS/treino_pas (162).jpg  \n",
            "  inflating: Glomerulus/Crescente/treino/PAS/treino_pas (83).jpg  \n",
            "  inflating: Glomerulus/Crescente/treino/PAS/treino_pas (80).jpg  \n",
            "  inflating: Glomerulus/Crescente/treino/PAS/treino_pas (158).jpg  \n",
            "  inflating: Glomerulus/Crescente/treino/PAS/treino_pas (118).jpg  \n",
            "  inflating: Glomerulus/Crescente/treino/PAS/treino_pas (143).jpg  \n",
            "  inflating: Glomerulus/Crescente/treino/PAS/treino_pas (72).jpg  \n",
            "  inflating: Glomerulus/Crescente/treino/PAS/treino_pas (78).jpg  \n",
            "  inflating: Glomerulus/Crescente/treino/PAS/treino_pas (17).jpg  \n",
            "  inflating: Glomerulus/Crescente/treino/PAS/treino_pas (154).jpg  \n",
            "  inflating: Glomerulus/Crescente/treino/PAS/treino_pas (60).jpg  \n",
            "  inflating: Glomerulus/Crescente/treino/PAS/treino_pas (108).jpg  \n",
            "  inflating: Glomerulus/Crescente/treino/PAS/treino_pas (128).jpg  \n",
            "  inflating: Glomerulus/Crescente/treino/PAS/treino_pas (151).jpg  \n",
            "  inflating: Glomerulus/Crescente/treino/PAS/treino_pas (141).jpg  \n",
            "  inflating: Glomerulus/Crescente/treino/PAS/treino_pas (104).jpg  \n",
            "  inflating: Glomerulus/Crescente/treino/PAS/treino_pas (91).jpg  \n",
            "  inflating: Glomerulus/Crescente/treino/PAS/treino_pas (111).jpg  \n",
            "  inflating: Glomerulus/Crescente/treino/PAS/treino_pas (172).jpg  \n",
            "  inflating: Glomerulus/Crescente/treino/PAS/treino_pas (81).jpg  \n",
            "  inflating: Glomerulus/Crescente/treino/PAS/treino_pas (42).jpg  \n",
            "  inflating: Glomerulus/Crescente/treino/PAS/treino_pas (130).jpg  \n",
            "  inflating: Glomerulus/Crescente/treino/PAS/treino_pas (77).jpg  \n",
            "  inflating: Glomerulus/Crescente/treino/PAS/treino_pas (8).jpg  \n",
            "  inflating: Glomerulus/Crescente/treino/PAS/treino_pas (138).jpg  \n",
            "  inflating: Glomerulus/Crescente/treino/PAS/treino_pas (110).jpg  \n",
            "  inflating: Glomerulus/Crescente/treino/PAS/treino_pas (79).jpg  \n",
            "  inflating: Glomerulus/Crescente/treino/PAS/treino_pas (9).jpg  \n",
            "  inflating: Glomerulus/Crescente/treino/PAS/treino_pas (171).jpg  \n",
            "  inflating: Glomerulus/Crescente/treino/PAS/treino_pas (168).jpg  \n",
            "  inflating: Glomerulus/Crescente/treino/PAS/treino_pas (131).jpg  \n",
            "  inflating: Glomerulus/Crescente/treino/PAS/treino_pas (3).jpg  \n",
            "  inflating: Glomerulus/Crescente/treino/PAS/treino_pas (76).jpg  \n",
            "  inflating: Glomerulus/Crescente/treino/PAS/treino_pas (127).jpg  \n",
            "  inflating: Glomerulus/Crescente/treino/PAS/treino_pas (69).jpg  \n",
            "  inflating: Glomerulus/Crescente/treino/PAS/treino_pas (1).jpg  \n",
            "  inflating: Glomerulus/Crescente/treino/PAS/treino_pas (47).jpg  \n",
            "  inflating: Glomerulus/Crescente/treino/PAS/treino_pas (26).jpg  \n",
            "  inflating: Glomerulus/Crescente/treino/PAS/treino_pas (93).jpg  \n",
            "  inflating: Glomerulus/Crescente/treino/PAS/treino_pas (84).jpg  \n",
            "  inflating: Glomerulus/Crescente/treino/PAS/treino_pas (50).jpg  \n",
            "  inflating: Glomerulus/Crescente/treino/PAS/treino_pas (101).jpg  \n",
            "  inflating: Glomerulus/Crescente/treino/PAS/treino_pas (37).jpg  \n",
            "  inflating: Glomerulus/Crescente/treino/PAS/treino_pas (65).jpg  \n",
            "  inflating: Glomerulus/Crescente/treino/PAS/treino_pas (174).jpg  \n",
            "  inflating: Glomerulus/Crescente/treino/PAS/treino_pas (14).jpg  \n",
            "  inflating: Glomerulus/Crescente/treino/PAS/treino_pas (173).jpg  \n",
            "  inflating: Glomerulus/Crescente/treino/PAS/treino_pas (129).jpg  \n",
            "  inflating: Glomerulus/Crescente/treino/PAS/treino_pas (53).jpg  \n",
            "  inflating: Glomerulus/Crescente/treino/PAS/treino_pas (85).jpg  \n",
            "  inflating: Glomerulus/Crescente/treino/PAS/treino_pas (71).jpg  \n",
            "  inflating: Glomerulus/Crescente/treino/PAS/treino_pas (19).jpg  \n",
            "  inflating: Glomerulus/Crescente/treino/PAS/treino_pas (40).jpg  \n",
            "  inflating: Glomerulus/Crescente/treino/PAS/treino_pas (177).jpg  \n",
            "  inflating: Glomerulus/Crescente/treino/PAS/treino_pas (46).jpg  \n",
            "  inflating: Glomerulus/Crescente/treino/PAS/treino_pas (27).jpg  \n",
            "  inflating: Glomerulus/Crescente/treino/PAS/treino_pas (94).jpg  \n",
            "  inflating: Glomerulus/Crescente/treino/PAS/treino_pas (169).jpg  \n",
            "  inflating: Glomerulus/Crescente/treino/PAS/treino_pas (140).jpg  \n",
            "  inflating: Glomerulus/Crescente/treino/PAS/treino_pas (34).jpg  \n",
            "  inflating: Glomerulus/Crescente/treino/PAS/treino_pas (29).jpg  \n",
            "  inflating: Glomerulus/Crescente/treino/PAS/treino_pas (135).jpg  \n",
            "  inflating: Glomerulus/Crescente/treino/PAS/treino_pas (32).jpg  \n",
            "  inflating: Glomerulus/Crescente/treino/PAS/treino_pas (146).jpg  \n",
            "  inflating: Glomerulus/Crescente/treino/PAS/treino_pas (87).jpg  \n",
            "  inflating: Glomerulus/Crescente/treino/PAS/treino_pas (125).jpg  \n",
            "  inflating: Glomerulus/Crescente/treino/PAS/treino_pas (152).jpg  \n",
            "  inflating: Glomerulus/Crescente/treino/PAS/treino_pas (164).jpg  \n",
            "  inflating: Glomerulus/Crescente/treino/PAS/treino_pas (45).jpg  \n",
            "  inflating: Glomerulus/Crescente/treino/PAS/treino_pas (167).jpg  \n",
            "  inflating: Glomerulus/Crescente/treino/PAS/treino_pas (178).jpg  \n",
            "  inflating: Glomerulus/Crescente/treino/PAS/treino_pas (102).jpg  \n"
          ]
        },
        {
          "data": {
            "text/plain": []
          },
          "execution_count": 3,
          "metadata": {},
          "output_type": "execute_result"
        }
      ],
      "source": [
        "%%shell\n",
        "\n",
        "# Dataset (from drive: should be faster than uploading manually?)\n",
        "# see https://stackoverflow.com/questions/67360001/copy-files-from-a-mounted-google-drive-to-a-local-google-colab-session\n",
        "if [ ! -d \"Glomerulus\" ] ; then\n",
        "    cp /path/to/zipped/dataset Glomerulus.zip\n",
        "    # force overwrite with -o (has to go before zipfile name)\n",
        "    unzip -o Glomerulus.zip\n",
        "fi"
      ]
    },
    {
      "cell_type": "code",
      "execution_count": null,
      "metadata": {
        "colab": {
          "base_uri": "https://localhost:8080/"
        },
        "id": "MoKfi_PGLFPp",
        "outputId": "89746f29-c4e5-447c-9c00-9df2ca7c1410"
      },
      "outputs": [
        {
          "data": {
            "text/plain": []
          },
          "execution_count": 4,
          "metadata": {},
          "output_type": "execute_result"
        }
      ],
      "source": [
        "%%shell\n",
        "\n",
        "if [ ! -d \"train_data\" ] ; then\n",
        "    cp -r /path/to/train_data_folder train_data\n",
        "fi\n",
        "if [ ! -d \"test_data\" ] ; then\n",
        "    cp -r /path/to/test_data_folder test_data\n",
        "fi"
      ]
    },
    {
      "attachments": {},
      "cell_type": "markdown",
      "metadata": {
        "id": "1u0EKJZB5y_3"
      },
      "source": [
        "# Glomerulus - Classification Models (binary)"
      ]
    },
    {
      "cell_type": "code",
      "execution_count": null,
      "metadata": {
        "id": "efvRs61i5y_5"
      },
      "outputs": [],
      "source": [
        "# from tqdm.notebook import trange, tqdm\n",
        "# !jupyter nbextension enable --py widgetsnbextension\n",
        "## for making tqdm progress bars work in notebook\n",
        "## see https://stackoverflow.com/questions/67998191/importerror-iprogress-not-found-please-update-jupyter-and-ipywidgets-although\n",
        "\n",
        "from tqdm import tqdm\n",
        "import os, sys\n",
        "import numpy as np\n",
        "import torch\n",
        "from torch.utils.data import DataLoader\n",
        "import torch.nn as nn\n",
        "import torchvision.datasets\n",
        "from torch.utils.tensorboard import SummaryWriter\n",
        "from datetime import datetime"
      ]
    },
    {
      "attachments": {},
      "cell_type": "markdown",
      "metadata": {
        "id": "X_53WOIn5y_6"
      },
      "source": [
        " ## Dataset and dataloader"
      ]
    },
    {
      "cell_type": "code",
      "execution_count": null,
      "metadata": {
        "id": "hYzFyWB15y_7"
      },
      "outputs": [],
      "source": [
        "class_names = (\"Normal\", \"Crescente\")\n",
        "name_dataset = \"Glomerulus\"\n",
        "name_features = [\"LBP\", \"contrast\", \"sobel\"]\n",
        "train_folder = \"train_data\"\n",
        "test_folder = \"test_data\""
      ]
    },
    {
      "attachments": {},
      "cell_type": "markdown",
      "metadata": {
        "id": "h-jypfaP5y_8"
      },
      "source": [
        " In this section we break down the `.npy` large files into separate files per image.\n",
        "\n",
        "\n",
        " Let $N$ be the number of images in the dataset (2759). The `.npy` file structure is the following:\n",
        "\n",
        " 1.  The GLCM feature is a tensor of $N \\times 256 \\times 256 \\times 5$ entries, flattened to a matrix $N \\times (256 \\cdot 256 \\cdot 5)$\n",
        " 2.  The Sobel features is a tensor of $N \\times 768 \\times 1024$, flattened to a matrix of $N \\times (768 \\cdot 1024)$\n",
        " 3.  The contrast features is a tensor of $N \\times 5$ (one value for each of the 5 GLCM offsets). However, probably only the first filter is relevant (i.e the first column)\n",
        " 4.  The LBP features is a tensor of $N \\times 768 \\times 1024$, flattened to a matrix of $N \\times (768 \\cdot 1024)$"
      ]
    },
    {
      "attachments": {},
      "cell_type": "markdown",
      "metadata": {
        "id": "t9IhpBK85y_-"
      },
      "source": [
        " Now, we create a dataset that will be able to load all these `.npz`/`.npy` files and use them."
      ]
    },
    {
      "cell_type": "code",
      "execution_count": null,
      "metadata": {
        "colab": {
          "base_uri": "https://localhost:8080/"
        },
        "id": "wQ-shvfo5y_-",
        "outputId": "14970369-032d-4723-fcb5-e3f7e55e536f"
      },
      "outputs": [
        {
          "name": "stdout",
          "output_type": "stream",
          "text": [
            "Working with total of 9645 training images\n",
            "Working with total of 9549 test images\n"
          ]
        }
      ],
      "source": [
        "def loader(filepath: str):\n",
        "    a = np.load(filepath)\n",
        "    torch_tensor = torch.from_numpy(a[\"flat\"])\n",
        "    return torch_tensor.to(torch.float32) ## NOTE model params use float32 by default\n",
        "\n",
        "## TODO differentiate train and test folders\n",
        "\n",
        "train_dataset = torchvision.datasets.DatasetFolder(\n",
        "    train_folder, loader = loader,\n",
        "    extensions=(\"npy\", \"npz\"),\n",
        "    target_transform=lambda x : torch.tensor(x, dtype=torch.float32))\n",
        "\n",
        "test_dataset = torchvision.datasets.DatasetFolder(\n",
        "    test_folder, loader = loader,\n",
        "    extensions=(\"npy\", \"npz\"),\n",
        "    target_transform=lambda x : torch.tensor(x, dtype=torch.float32))\n",
        "\n",
        "print(f\"Working with total of {len(train_dataset)} training images\")\n",
        "print(f\"Working with total of {len(test_dataset)} test images\")\n",
        "\n",
        "## test the dataloader\n",
        "# dummy_loader = DataLoader(train_dataset, batch_size=1, num_workers=0, shuffle=True)\n",
        "# feat, label = next(iter(dummy_loader))\n",
        "\n",
        "# print(f\"Feature={feat}\", f\"of shape={feat.shape} and label {label}\", sep=\"\\n\")\n"
      ]
    },
    {
      "attachments": {},
      "cell_type": "markdown",
      "metadata": {
        "id": "T8PN4xIN5y__"
      },
      "source": [
        " # MLP"
      ]
    },
    {
      "attachments": {},
      "cell_type": "markdown",
      "metadata": {
        "id": "ElzQgaVx5y__"
      },
      "source": [
        " ## Parameters"
      ]
    },
    {
      "cell_type": "code",
      "execution_count": null,
      "metadata": {
        "colab": {
          "base_uri": "https://localhost:8080/"
        },
        "id": "Pj0slOT55y__",
        "outputId": "a6c30272-01b5-4f95-e105-96c3773fe72b"
      },
      "outputs": [
        {
          "name": "stdout",
          "output_type": "stream",
          "text": [
            "Running on cuda\n"
          ]
        }
      ],
      "source": [
        "## IMG size\n",
        "IMG_SIZE = (192, 256)\n",
        "NUM_FILTERS_CONTRAST = 5\n",
        "\n",
        "## loading\n",
        "batch_size = 64\n",
        "num_workers = 0\n",
        "device = \"cuda\" if torch.cuda.is_available() else \"cpu\"\n",
        "print(f\"Running on {device}\")\n",
        "shuffle=True\n",
        "\n",
        "## model\n",
        "feat_dim = 2 * IMG_SIZE[0] * IMG_SIZE[1] + NUM_FILTERS_CONTRAST\n",
        "layers = [32, 512, 1024, 128]\n",
        "dropouts = [0.4, 0.1, 0.3, 0.3, 0.1]\n",
        "leak = 0.02\n",
        "\n",
        "epochs = 100\n",
        "\n",
        "lr = 3e-4\n",
        "weight_decay = 1e-4 ## L2 penalty\n",
        "sgd_momentum = 1e-3\n",
        "optimizer_name = \"sgd\"\n",
        "criterion = torch.nn.BCELoss(reduction='mean') ## batch sum\n",
        "\n",
        "## roc\n",
        "roc_resolution = 1000\n",
        "pr_resolution = 1000\n",
        "\n",
        "model_name = \"model1\"\n",
        "\n",
        "## saving\n",
        "model_folder = f\"{model_name}\"\n",
        "log_path = f\"{model_name}/log_mlp_\" + model_name + \"_\" + str(datetime.now()) + \".txt\"\n",
        "plot_path = [\n",
        "    f\"{model_name}/plot_train_mlp_\" + model_name + \"_\" + str(datetime.now()) + \".pdf\",\n",
        "    f\"{model_name}/plot_test_mlp_\" + model_name + \"_\" + str(datetime.now()) + \".pdf\",\n",
        "    f\"{model_name}/plot_both_mlp_\" + model_name + \"_\" + str(datetime.now()) + \".pdf\"\n",
        "]\n",
        "\n",
        "roc_path = f\"{model_name}/roc_mlp_\" + model_name + \"_\" + str(datetime.now()) + \".pdf\"\n",
        "pr_path = f\"{model_name}/pr_path_\" + model_name + \"_\" + str(datetime.now()) + \".pdf\"\n",
        "\n",
        "checkpoint_path = f\"{model_name}/checkpoint\" + model_name + \"_\" + str(datetime.now()) + \".pth.tar\"\n",
        "## TODO : early stopping?\n"
      ]
    },
    {
      "attachments": {},
      "cell_type": "markdown",
      "metadata": {
        "id": "ci1jHASN5y__"
      },
      "source": [
        "## Meters"
      ]
    },
    {
      "cell_type": "code",
      "execution_count": null,
      "metadata": {
        "id": "jJZBH3WU5zAC"
      },
      "outputs": [],
      "source": [
        "class Meter:\n",
        "    def __init__(self):\n",
        "        self.TP : int = 0\n",
        "        self.TN : int = 0\n",
        "        self.FP : int = 0\n",
        "        self.FN : int = 0\n",
        "        self.total : int = 0\n",
        "        self.history : dict[str, list[float]] = {\n",
        "            \"acc\": [],\n",
        "            \"precision\": [],\n",
        "            \"recall\": [],\n",
        "            \"specificity\": [],\n",
        "            \"f1_score\": []\n",
        "        }\n",
        "\n",
        "    def reset(self, del_history = False):\n",
        "        self.TP = 0\n",
        "        self.TN = 0\n",
        "        self.FP = 0\n",
        "        self.FN = 0\n",
        "        self.total = 0\n",
        "        if del_history:\n",
        "            self.history = {\n",
        "                \"acc\": [],\n",
        "                \"precision\": [],\n",
        "                \"recall\": [],\n",
        "                \"specificity\": [],\n",
        "                \"f1_score\": []\n",
        "            }\n",
        "\n",
        "    def update(self,\n",
        "               out: torch.Tensor,\n",
        "               labels: torch.Tensor,\n",
        "               threshold: float = 0.5):\n",
        "        \"\"\"\n",
        "        We consider by default that probabilities exactly 0.5 correspond to label 0\n",
        "        \"\"\"\n",
        "        ## TODO is this float comparison 100% safe?\n",
        "        with torch.no_grad():\n",
        "            hard_out = out > threshold\n",
        "            self.TP += torch.sum((hard_out == 1.0) * (labels == 1.0)).item()\n",
        "            self.TN += torch.sum((hard_out == 0.0) * (labels == 0.0)).item()\n",
        "            self.FP += torch.sum((hard_out == 1.0) * (labels == 0.0)).item()\n",
        "            self.FN += torch.sum((hard_out == 0.0) * (labels == 1.0)).item()\n",
        "        self.total += len(labels)\n",
        "\n",
        "    def save_epoch(self, reset=True):\n",
        "        self.history[\"acc\"].append(self.acc())\n",
        "        self.history[\"precision\"].append(self.precision())\n",
        "        self.history[\"recall\"].append(self.recall())\n",
        "        self.history[\"specificity\"].append(self.specificity())\n",
        "        self.history[\"f1_score\"].append(self.f1_score())\n",
        "        if reset:\n",
        "            self.reset(del_history=False)\n",
        "\n",
        "    def acc(self):\n",
        "        return (self.TP + self.TN) / self.total\n",
        "\n",
        "    def precision(self):\n",
        "        \"\"\"\n",
        "        Positive predictive value (PPV)\n",
        "        -- proportion of true positives to output positives\n",
        "        \"\"\"\n",
        "        try:\n",
        "            return (self.TP) / (self.TP + self.FP)\n",
        "        except ZeroDivisionError:\n",
        "            return float('inf')\n",
        "\n",
        "    def recall(self):\n",
        "        \"\"\"\n",
        "        True positive rate (TPV)\n",
        "        -- how many of actual positives were identified\n",
        "        \"\"\"\n",
        "        try:\n",
        "            return (self.TP) / (self.TP + self.FN)\n",
        "        except ZeroDivisionError:\n",
        "            return float('inf')\n",
        "\n",
        "    def specificity(self):\n",
        "        \"\"\"\n",
        "        True negative rate (TNV)\n",
        "        -- how many negatives were identified\n",
        "        \"\"\"\n",
        "        try:\n",
        "            return (self.TN) / (self.TN + self.FP)\n",
        "        except ZeroDivisionError:\n",
        "            return float('inf')\n",
        "\n",
        "    def f1_score(self):\n",
        "        \"\"\"\n",
        "        Harmonic mean of precision and sensitivity/recall:\n",
        "        F1 = 2 / (1/precision + 1/recall)\n",
        "        F1 = (2 * precision * recall) / (precision + recall)\n",
        "        \"\"\"\n",
        "        try:\n",
        "            P = self.precision()\n",
        "            R = self.recall()\n",
        "            return (2 * P * R) / (P + R)\n",
        "        except ZeroDivisionError:\n",
        "            return float('inf')"
      ]
    },
    {
      "attachments": {},
      "cell_type": "markdown",
      "metadata": {
        "id": "MIPWAoVoilV5"
      },
      "source": [
        "## Writers"
      ]
    },
    {
      "cell_type": "code",
      "execution_count": null,
      "metadata": {
        "id": "ZNzWBdUbikhU"
      },
      "outputs": [],
      "source": [
        "class Writer:\n",
        "    def __init__(self, log_path: str, *, overwrite : bool = False):\n",
        "        if overwrite:\n",
        "            self.file = open(log_path, \"w\") ## w, not a (append)\n",
        "            ## -> overwrites existing content\n",
        "        else:\n",
        "            self.file = open(log_path, \"a\")\n",
        "\n",
        "    ##'loss/train (average per element)', avg_loss, i\n",
        "    def add_scalar(\n",
        "        self,\n",
        "        label: str,\n",
        "        metric: float,\n",
        "        epoch: int\n",
        "    ):\n",
        "        self.file.write(f\"Epoch {epoch}: {label}: {metric}\\n\")\n",
        "\n",
        "    def print_info(\n",
        "        self,\n",
        "        meter: Meter,\n",
        "        epoch: int,\n",
        "        mode: str = \"train\",\n",
        "        *,\n",
        "        verbose : bool = True,\n",
        "        inference: bool = False\n",
        "    ):\n",
        "        self.file.write(80 * \"-\" + \"\\n\")\n",
        "        if not inference:\n",
        "            if verbose:\n",
        "                print(f\"Epoch {epoch}\")\n",
        "            self.file.write(f\"Epoch {epoch}\\n\")\n",
        "        if verbose:\n",
        "            print(80 * \"-\")\n",
        "            print(f\"acc/{mode}: {meter.acc()}\")\n",
        "            print(f\"precision/{mode}: {meter.precision()}\")\n",
        "            print(f\"recall/{mode}: {meter.recall()}\")\n",
        "            print(f\"spec/{mode}: {meter.specificity()}\")\n",
        "            print(f\"f1/{mode}: {meter.f1_score()}\")\n",
        "            print(80 * \"-\")\n",
        "        self.add_scalar(f\"acc/{mode}\", meter.acc(), epoch)\n",
        "        self.add_scalar(f\"precision/{mode}\", meter.precision(), epoch)\n",
        "        self.add_scalar(f\"recall/{mode}\", meter.recall(), epoch)\n",
        "        self.add_scalar(f\"specificity/{mode}\", meter.specificity(), epoch)\n",
        "        self.add_scalar(f\"f1/{mode}\", meter.f1_score(), epoch)\n",
        "        self.file.write(80 * \"-\" + \"\\n\")\n",
        "\n",
        "    def end_writer(self):\n",
        "        self.file.close()"
      ]
    },
    {
      "attachments": {},
      "cell_type": "markdown",
      "metadata": {
        "id": "lLAT14oU5zAD"
      },
      "source": [
        " ## Training"
      ]
    },
    {
      "cell_type": "code",
      "execution_count": null,
      "metadata": {
        "id": "bInrAI0P5zAE"
      },
      "outputs": [],
      "source": [
        "class MLP(nn.Module):\n",
        "    def __init__(self,\n",
        "                 feat_dim: int,\n",
        "                 layers: list,\n",
        "                 dropouts: list,\n",
        "                 leak: float = 0.02,\n",
        "                 use_batch_norm: bool = True):\n",
        "        super().__init__()\n",
        "\n",
        "        self.dropouts = dropouts\n",
        "        self.ext_layers = [feat_dim] + layers\n",
        "        ## for each hidden layer i there is a dropout in the connection\n",
        "        ## (i - 1) -> i, and there is a final dropout from the final hidden\n",
        "        ## to the output layer\n",
        "        assert len(layers) + 1 == len(dropouts)\n",
        "\n",
        "        ## TODO add customizable batch normalization or instance normalization\n",
        "        self.model = nn.ModuleList()\n",
        "        self.model.append(nn.BatchNorm1d(feat_dim))\n",
        "        for i in range(len(self.ext_layers) - 1):\n",
        "            self.model.append(nn.Linear(self.ext_layers[i], self.ext_layers[i + 1]))\n",
        "            self.model.append(nn.Dropout(self.dropouts[i]))\n",
        "            self.model.append(nn.LeakyReLU(negative_slope=leak, inplace=True))\n",
        "            if use_batch_norm:\n",
        "                self.model.append(nn.BatchNorm1d(self.ext_layers[i + 1]))\n",
        "        self.model.append(nn.Linear(self.ext_layers[-1], 1))\n",
        "        self.model.append(nn.Dropout(self.dropouts[-1]))\n",
        "        self.model.append(nn.Sigmoid())\n",
        "\n",
        "    def forward(self, feat: torch.Tensor) -> torch.Tensor:\n",
        "        for layer in self.model:\n",
        "            feat = layer(feat)\n",
        "        return feat.flatten()"
      ]
    },
    {
      "cell_type": "code",
      "execution_count": null,
      "metadata": {
        "id": "B0xK6lSg5zAF"
      },
      "outputs": [],
      "source": [
        "def train_loop(model: MLP,\n",
        "               trainloader: torch.utils.data.DataLoader,\n",
        "               val_loader: torch.utils.data.DataLoader,\n",
        "               epochs: int,\n",
        "               criterion,\n",
        "               optim,\n",
        "               device : str,\n",
        "               checkpoint_path: str,\n",
        "               log_path: str,\n",
        "               *,\n",
        "               validation = True,\n",
        "               scheduler: torch.optim.lr_scheduler = None):\n",
        "\n",
        "    ## create model folder\n",
        "    model_folder = \"/\".join(checkpoint_path.split(\"/\")[:-1])\n",
        "    if (not os.path.isdir(model_folder)):\n",
        "        os.mkdir(model_folder)\n",
        "\n",
        "    writer = Writer(log_path, overwrite=True)\n",
        "    test_writer = Writer(log_path, overwrite=False)\n",
        "    min_loss : float = float('inf')\n",
        "    best_epoch = 0\n",
        "    meter = Meter()\n",
        "    test_meter = Meter()\n",
        "\n",
        "    model = model.to(device)\n",
        "    writer.file.write(\"\\n\".join([80 * \"-\", str(model), 80 * \"-\"]))\n",
        "    print(\"\\n\".join([80 * \"-\", str(model), 80 * \"-\"]))\n",
        "\n",
        "\n",
        "    for i in range(1, epochs + 1):\n",
        "        model.train() ## training mode\n",
        "        running_loss = 0.0\n",
        "        batch_cnt = 0\n",
        "\n",
        "        for j, (feat, label) in tqdm(enumerate(trainloader), total=len(trainloader)):\n",
        "            optim.zero_grad()\n",
        "            model.zero_grad()\n",
        "            feat = feat.to(device)\n",
        "            label = label.to(device)\n",
        "            out = model(feat)\n",
        "\n",
        "            loss = criterion(out, label)\n",
        "            running_loss += loss.item()\n",
        "\n",
        "            loss.backward()\n",
        "            optim.step()\n",
        "            batch_cnt += 1\n",
        "            meter.update(out, label)\n",
        "\n",
        "        avg_loss = running_loss / batch_cnt\n",
        "        writer.add_scalar('loss/train (average per element)', avg_loss, i)\n",
        "        if avg_loss < min_loss:\n",
        "            print(f\"Loss reduced from {min_loss} to {avg_loss} ({i}/{epochs})\")\n",
        "            min_loss = avg_loss\n",
        "            best_epoch = i\n",
        "            print(f\"Saving checkpoint to {checkpoint_path}\")\n",
        "            torch.save(model.state_dict(), checkpoint_path)\n",
        "\n",
        "        writer.print_info(meter, i, mode=\"train\")\n",
        "        meter.save_epoch()\n",
        "\n",
        "        ## validation\n",
        "        if validation:\n",
        "            model.eval() ## validation mode\n",
        "            with torch.no_grad():\n",
        "                for feat, label in tqdm(testloader, total=len(testloader)):\n",
        "                    feat = feat.to(device)\n",
        "                    label = label.to(device)\n",
        "                    out = model(feat)\n",
        "                    test_meter.update(out, label)\n",
        "            test_writer.print_info(test_meter, i, mode=\"test\")\n",
        "            if scheduler is not None:\n",
        "                scheduler.step(test_meter.f1_score())\n",
        "            test_meter.save_epoch() ## has to come last!\n",
        "\n",
        "    if log_path is not None:\n",
        "        writer.end_writer()\n",
        "        test_writer.end_writer()\n",
        "\n",
        "    return meter, test_meter"
      ]
    },
    {
      "attachments": {},
      "cell_type": "markdown",
      "metadata": {
        "id": "nENB5vAP5zAF"
      },
      "source": [
        " ### Initializating training process"
      ]
    },
    {
      "cell_type": "code",
      "execution_count": null,
      "metadata": {
        "colab": {
          "base_uri": "https://localhost:8080/"
        },
        "id": "_PQAdr5J5zAF",
        "outputId": "eda3f3c7-f80e-4982-fc17-3f87084d4698"
      },
      "outputs": [
        {
          "name": "stdout",
          "output_type": "stream",
          "text": [
            "MLP(\n",
            "  (model): ModuleList(\n",
            "    (0): BatchNorm1d(98309, eps=1e-05, momentum=0.1, affine=True, track_running_stats=True)\n",
            "    (1): Linear(in_features=98309, out_features=32, bias=True)\n",
            "    (2): Dropout(p=0.4, inplace=False)\n",
            "    (3): LeakyReLU(negative_slope=0.02, inplace=True)\n",
            "    (4): BatchNorm1d(32, eps=1e-05, momentum=0.1, affine=True, track_running_stats=True)\n",
            "    (5): Linear(in_features=32, out_features=512, bias=True)\n",
            "    (6): Dropout(p=0.1, inplace=False)\n",
            "    (7): LeakyReLU(negative_slope=0.02, inplace=True)\n",
            "    (8): BatchNorm1d(512, eps=1e-05, momentum=0.1, affine=True, track_running_stats=True)\n",
            "    (9): Linear(in_features=512, out_features=1024, bias=True)\n",
            "    (10): Dropout(p=0.3, inplace=False)\n",
            "    (11): LeakyReLU(negative_slope=0.02, inplace=True)\n",
            "    (12): BatchNorm1d(1024, eps=1e-05, momentum=0.1, affine=True, track_running_stats=True)\n",
            "    (13): Linear(in_features=1024, out_features=128, bias=True)\n",
            "    (14): Dropout(p=0.3, inplace=False)\n",
            "    (15): LeakyReLU(negative_slope=0.02, inplace=True)\n",
            "    (16): BatchNorm1d(128, eps=1e-05, momentum=0.1, affine=True, track_running_stats=True)\n",
            "    (17): Linear(in_features=128, out_features=1, bias=True)\n",
            "    (18): Dropout(p=0.1, inplace=False)\n",
            "    (19): Sigmoid()\n",
            "  )\n",
            ")\n"
          ]
        }
      ],
      "source": [
        "model = MLP(feat_dim, layers, dropouts, leak, use_batch_norm=True)\n",
        "trainloader = DataLoader(train_dataset,\n",
        "                          batch_size=batch_size,\n",
        "                          shuffle=shuffle,\n",
        "                          num_workers=num_workers)\n",
        "testloader = DataLoader(test_dataset,\n",
        "                        batch_size=batch_size,\n",
        "                        shuffle=shuffle,\n",
        "                        num_workers=num_workers)\n",
        "\n",
        "if (optimizer_name == 'adam'):\n",
        "    optim = torch.optim.Adam(model.parameters(), lr=lr, weight_decay=weight_decay)\n",
        "elif (optimizer_name == 'sgd'):\n",
        "    optim = torch.optim.SGD(model.parameters(), lr=lr, weight_decay=weight_decay, momentum=sgd_momentum)\n",
        "else: ## default: adam\n",
        "    optim = torch.optim.Adam(model.parameters(), lr=lr)\n",
        "\n",
        "scheduler = torch.optim.lr_scheduler.ReduceLROnPlateau(optim, 'max', min_lr = lr / 3)\n",
        "\n",
        "print(model)"
      ]
    },
    {
      "cell_type": "code",
      "execution_count": null,
      "metadata": {
        "colab": {
          "base_uri": "https://localhost:8080/"
        },
        "id": "wk1rxndDET9g",
        "outputId": "bd96e9c2-4905-4a6f-ebf8-fc0eacb06732"
      },
      "outputs": [
        {
          "name": "stdout",
          "output_type": "stream",
          "text": [
            "--------------------------------------------------------------------------------\n",
            "MLP(\n",
            "  (model): ModuleList(\n",
            "    (0): BatchNorm1d(98309, eps=1e-05, momentum=0.1, affine=True, track_running_stats=True)\n",
            "    (1): Linear(in_features=98309, out_features=32, bias=True)\n",
            "    (2): Dropout(p=0.4, inplace=False)\n",
            "    (3): LeakyReLU(negative_slope=0.02, inplace=True)\n",
            "    (4): BatchNorm1d(32, eps=1e-05, momentum=0.1, affine=True, track_running_stats=True)\n",
            "    (5): Linear(in_features=32, out_features=512, bias=True)\n",
            "    (6): Dropout(p=0.1, inplace=False)\n",
            "    (7): LeakyReLU(negative_slope=0.02, inplace=True)\n",
            "    (8): BatchNorm1d(512, eps=1e-05, momentum=0.1, affine=True, track_running_stats=True)\n",
            "    (9): Linear(in_features=512, out_features=1024, bias=True)\n",
            "    (10): Dropout(p=0.3, inplace=False)\n",
            "    (11): LeakyReLU(negative_slope=0.02, inplace=True)\n",
            "    (12): BatchNorm1d(1024, eps=1e-05, momentum=0.1, affine=True, track_running_stats=True)\n",
            "    (13): Linear(in_features=1024, out_features=128, bias=True)\n",
            "    (14): Dropout(p=0.3, inplace=False)\n",
            "    (15): LeakyReLU(negative_slope=0.02, inplace=True)\n",
            "    (16): BatchNorm1d(128, eps=1e-05, momentum=0.1, affine=True, track_running_stats=True)\n",
            "    (17): Linear(in_features=128, out_features=1, bias=True)\n",
            "    (18): Dropout(p=0.1, inplace=False)\n",
            "    (19): Sigmoid()\n",
            "  )\n",
            ")\n",
            "--------------------------------------------------------------------------------\n"
          ]
        },
        {
          "name": "stderr",
          "output_type": "stream",
          "text": [
            "100%|██████████| 151/151 [00:50<00:00,  3.00it/s]\n"
          ]
        },
        {
          "name": "stdout",
          "output_type": "stream",
          "text": [
            "Loss reduced from inf to 0.7135883407876981 (1/100)\n",
            "Saving checkpoint to /content/drive/MyDrive/4o-SEMESTRE/IC0009/pratica4/model7/checkpointmodel7_2023-10-28 15:39:53.399344.pth.tar\n",
            "Epoch 1\n",
            "--------------------------------------------------------------------------------\n",
            "acc/train: 0.5153965785381026\n",
            "precision/train: 0.6105960264900663\n",
            "recall/train: 0.41840624432746415\n",
            "spec/train: 0.6445841392649904\n",
            "f1/train: 0.49655320982335205\n",
            "--------------------------------------------------------------------------------\n"
          ]
        },
        {
          "name": "stderr",
          "output_type": "stream",
          "text": [
            "100%|██████████| 150/150 [00:46<00:00,  3.24it/s]\n"
          ]
        },
        {
          "name": "stdout",
          "output_type": "stream",
          "text": [
            "Epoch 1\n",
            "--------------------------------------------------------------------------------\n",
            "acc/test: 0.5461304848675254\n",
            "precision/test: 0.6726417866588305\n",
            "recall/test: 0.4155019059720457\n",
            "spec/test: 0.7242574257425742\n",
            "f1/test: 0.5136894075403948\n",
            "--------------------------------------------------------------------------------\n"
          ]
        },
        {
          "name": "stderr",
          "output_type": "stream",
          "text": [
            "100%|██████████| 151/151 [00:34<00:00,  4.32it/s]\n"
          ]
        },
        {
          "name": "stdout",
          "output_type": "stream",
          "text": [
            "Loss reduced from 0.7135883407876981 to 0.6665082214683886 (2/100)\n",
            "Saving checkpoint to /content/drive/MyDrive/4o-SEMESTRE/IC0009/pratica4/model7/checkpointmodel7_2023-10-28 15:39:53.399344.pth.tar\n",
            "Epoch 2\n",
            "--------------------------------------------------------------------------------\n",
            "acc/train: 0.5796785899429756\n",
            "precision/train: 0.6854448126433852\n",
            "recall/train: 0.4881103648575059\n",
            "spec/train: 0.7016441005802708\n",
            "f1/train: 0.5701865988125531\n",
            "--------------------------------------------------------------------------------\n"
          ]
        },
        {
          "name": "stderr",
          "output_type": "stream",
          "text": [
            "100%|██████████| 150/150 [00:34<00:00,  4.36it/s]\n"
          ]
        },
        {
          "name": "stdout",
          "output_type": "stream",
          "text": [
            "Epoch 2\n",
            "--------------------------------------------------------------------------------\n",
            "acc/test: 0.609487904492617\n",
            "precision/test: 0.796469020652898\n",
            "recall/test: 0.4340170629878381\n",
            "spec/test: 0.8487623762376237\n",
            "f1/test: 0.5618611209023617\n",
            "--------------------------------------------------------------------------------\n"
          ]
        },
        {
          "name": "stderr",
          "output_type": "stream",
          "text": [
            "100%|██████████| 151/151 [00:35<00:00,  4.31it/s]\n"
          ]
        },
        {
          "name": "stdout",
          "output_type": "stream",
          "text": [
            "Loss reduced from 0.6665082214683886 to 0.6101794590223704 (3/100)\n",
            "Saving checkpoint to /content/drive/MyDrive/4o-SEMESTRE/IC0009/pratica4/model7/checkpointmodel7_2023-10-28 15:39:53.399344.pth.tar\n",
            "Epoch 3\n",
            "--------------------------------------------------------------------------------\n",
            "acc/train: 0.6496630378434421\n",
            "precision/train: 0.764662027833002\n",
            "recall/train: 0.5585405699764022\n",
            "spec/train: 0.7710348162475822\n",
            "f1/train: 0.6455470470995489\n",
            "--------------------------------------------------------------------------------\n"
          ]
        },
        {
          "name": "stderr",
          "output_type": "stream",
          "text": [
            "100%|██████████| 150/150 [00:32<00:00,  4.58it/s]\n"
          ]
        },
        {
          "name": "stdout",
          "output_type": "stream",
          "text": [
            "Epoch 3\n",
            "--------------------------------------------------------------------------------\n",
            "acc/test: 0.6662477746360875\n",
            "precision/test: 0.7960224375318715\n",
            "recall/test: 0.5667090216010165\n",
            "spec/test: 0.801980198019802\n",
            "f1/test: 0.6620718905736402\n",
            "--------------------------------------------------------------------------------\n"
          ]
        },
        {
          "name": "stderr",
          "output_type": "stream",
          "text": [
            "100%|██████████| 151/151 [00:33<00:00,  4.45it/s]\n"
          ]
        },
        {
          "name": "stdout",
          "output_type": "stream",
          "text": [
            "Loss reduced from 0.6101794590223704 to 0.5535368125959738 (4/100)\n",
            "Saving checkpoint to /content/drive/MyDrive/4o-SEMESTRE/IC0009/pratica4/model7/checkpointmodel7_2023-10-28 15:39:53.399344.pth.tar\n",
            "Epoch 4\n",
            "--------------------------------------------------------------------------------\n",
            "acc/train: 0.7053395541731468\n",
            "precision/train: 0.8265980896399706\n",
            "recall/train: 0.6126338718460701\n",
            "spec/train: 0.8288201160541586\n",
            "f1/train: 0.7037114261884905\n",
            "--------------------------------------------------------------------------------\n"
          ]
        },
        {
          "name": "stderr",
          "output_type": "stream",
          "text": [
            "100%|██████████| 150/150 [00:34<00:00,  4.37it/s]\n"
          ]
        },
        {
          "name": "stdout",
          "output_type": "stream",
          "text": [
            "Epoch 4\n",
            "--------------------------------------------------------------------------------\n",
            "acc/test: 0.6846790239815688\n",
            "precision/test: 0.8033025740650801\n",
            "recall/test: 0.6004719549827555\n",
            "spec/test: 0.7995049504950495\n",
            "f1/test: 0.6872338215435754\n",
            "--------------------------------------------------------------------------------\n"
          ]
        },
        {
          "name": "stderr",
          "output_type": "stream",
          "text": [
            "100%|██████████| 151/151 [00:33<00:00,  4.44it/s]\n"
          ]
        },
        {
          "name": "stdout",
          "output_type": "stream",
          "text": [
            "Loss reduced from 0.5535368125959738 to 0.4968211254141978 (5/100)\n",
            "Saving checkpoint to /content/drive/MyDrive/4o-SEMESTRE/IC0009/pratica4/model7/checkpointmodel7_2023-10-28 15:39:53.399344.pth.tar\n",
            "Epoch 5\n",
            "--------------------------------------------------------------------------------\n",
            "acc/train: 0.7646448937273198\n",
            "precision/train: 0.8853200095170116\n",
            "recall/train: 0.6754401887819931\n",
            "spec/train: 0.8834622823984526\n",
            "f1/train: 0.7662685337726524\n",
            "--------------------------------------------------------------------------------\n"
          ]
        },
        {
          "name": "stderr",
          "output_type": "stream",
          "text": [
            "100%|██████████| 150/150 [00:33<00:00,  4.48it/s]\n"
          ]
        },
        {
          "name": "stdout",
          "output_type": "stream",
          "text": [
            "Epoch 5\n",
            "--------------------------------------------------------------------------------\n",
            "acc/test: 0.7106503298774741\n",
            "precision/test: 0.8162137263933671\n",
            "recall/test: 0.643310945725177\n",
            "spec/test: 0.8024752475247525\n",
            "f1/test: 0.7195208608263122\n",
            "--------------------------------------------------------------------------------\n"
          ]
        },
        {
          "name": "stderr",
          "output_type": "stream",
          "text": [
            "100%|██████████| 151/151 [00:34<00:00,  4.38it/s]\n"
          ]
        },
        {
          "name": "stdout",
          "output_type": "stream",
          "text": [
            "Loss reduced from 0.4968211254141978 to 0.4413230993495082 (6/100)\n",
            "Saving checkpoint to /content/drive/MyDrive/4o-SEMESTRE/IC0009/pratica4/model7/checkpointmodel7_2023-10-28 15:39:53.399344.pth.tar\n",
            "Epoch 6\n",
            "--------------------------------------------------------------------------------\n",
            "acc/train: 0.8054950751684811\n",
            "precision/train: 0.9138755980861244\n",
            "recall/train: 0.7280813214739518\n",
            "spec/train: 0.9086073500967118\n",
            "f1/train: 0.8104667609618105\n",
            "--------------------------------------------------------------------------------\n"
          ]
        },
        {
          "name": "stderr",
          "output_type": "stream",
          "text": [
            "100%|██████████| 150/150 [00:32<00:00,  4.61it/s]\n"
          ]
        },
        {
          "name": "stdout",
          "output_type": "stream",
          "text": [
            "Epoch 6\n",
            "--------------------------------------------------------------------------------\n",
            "acc/test: 0.7249973819248089\n",
            "precision/test: 0.7860686644175432\n",
            "recall/test: 0.7190052641132691\n",
            "spec/test: 0.7331683168316832\n",
            "f1/test: 0.7510428517254455\n",
            "--------------------------------------------------------------------------------\n"
          ]
        },
        {
          "name": "stderr",
          "output_type": "stream",
          "text": [
            "100%|██████████| 151/151 [00:34<00:00,  4.34it/s]\n"
          ]
        },
        {
          "name": "stdout",
          "output_type": "stream",
          "text": [
            "Loss reduced from 0.4413230993495082 to 0.3932988027863155 (7/100)\n",
            "Saving checkpoint to /content/drive/MyDrive/4o-SEMESTRE/IC0009/pratica4/model7/checkpointmodel7_2023-10-28 15:39:53.399344.pth.tar\n",
            "Epoch 7\n",
            "--------------------------------------------------------------------------------\n",
            "acc/train: 0.8393986521513738\n",
            "precision/train: 0.9398045313194135\n",
            "recall/train: 0.7680159738609548\n",
            "spec/train: 0.934477756286267\n",
            "f1/train: 0.8452702027769453\n",
            "--------------------------------------------------------------------------------\n"
          ]
        },
        {
          "name": "stderr",
          "output_type": "stream",
          "text": [
            "100%|██████████| 150/150 [00:32<00:00,  4.55it/s]\n"
          ]
        },
        {
          "name": "stdout",
          "output_type": "stream",
          "text": [
            "Epoch 7\n",
            "--------------------------------------------------------------------------------\n",
            "acc/test: 0.7304429783223374\n",
            "precision/test: 0.8064314053038213\n",
            "recall/test: 0.7010346705391178\n",
            "spec/test: 0.7705445544554456\n",
            "f1/test: 0.7500485531171103\n",
            "--------------------------------------------------------------------------------\n"
          ]
        },
        {
          "name": "stderr",
          "output_type": "stream",
          "text": [
            "100%|██████████| 151/151 [00:33<00:00,  4.45it/s]\n"
          ]
        },
        {
          "name": "stdout",
          "output_type": "stream",
          "text": [
            "Loss reduced from 0.3932988027863155 to 0.35880174601314874 (8/100)\n",
            "Saving checkpoint to /content/drive/MyDrive/4o-SEMESTRE/IC0009/pratica4/model7/checkpointmodel7_2023-10-28 15:39:53.399344.pth.tar\n",
            "Epoch 8\n",
            "--------------------------------------------------------------------------------\n",
            "acc/train: 0.8530844997407984\n",
            "precision/train: 0.9447826086956522\n",
            "recall/train: 0.7888909057905246\n",
            "spec/train: 0.938588007736944\n",
            "f1/train: 0.8598278761499654\n",
            "--------------------------------------------------------------------------------\n"
          ]
        },
        {
          "name": "stderr",
          "output_type": "stream",
          "text": [
            "100%|██████████| 150/150 [00:36<00:00,  4.15it/s]\n"
          ]
        },
        {
          "name": "stdout",
          "output_type": "stream",
          "text": [
            "Epoch 8\n",
            "--------------------------------------------------------------------------------\n",
            "acc/test: 0.7279296261388627\n",
            "precision/test: 0.8007852862161604\n",
            "recall/test: 0.7033944454528953\n",
            "spec/test: 0.7613861386138614\n",
            "f1/test: 0.7489369926555857\n",
            "--------------------------------------------------------------------------------\n"
          ]
        },
        {
          "name": "stderr",
          "output_type": "stream",
          "text": [
            "100%|██████████| 151/151 [00:34<00:00,  4.43it/s]\n"
          ]
        },
        {
          "name": "stdout",
          "output_type": "stream",
          "text": [
            "Loss reduced from 0.35880174601314874 to 0.3242581965315421 (9/100)\n",
            "Saving checkpoint to /content/drive/MyDrive/4o-SEMESTRE/IC0009/pratica4/model7/checkpointmodel7_2023-10-28 15:39:53.399344.pth.tar\n",
            "Epoch 9\n",
            "--------------------------------------------------------------------------------\n",
            "acc/train: 0.8752721617418352\n",
            "precision/train: 0.9658156642146257\n",
            "recall/train: 0.8103104011617354\n",
            "spec/train: 0.9617988394584139\n",
            "f1/train: 0.8812555522653244\n",
            "--------------------------------------------------------------------------------\n"
          ]
        },
        {
          "name": "stderr",
          "output_type": "stream",
          "text": [
            "100%|██████████| 150/150 [00:33<00:00,  4.46it/s]\n"
          ]
        },
        {
          "name": "stdout",
          "output_type": "stream",
          "text": [
            "Epoch 9\n",
            "--------------------------------------------------------------------------------\n",
            "acc/test: 0.7322232694522987\n",
            "precision/test: 0.7985436893203883\n",
            "recall/test: 0.7166454891994918\n",
            "spec/test: 0.7534653465346535\n",
            "f1/test: 0.7553812302688223\n",
            "--------------------------------------------------------------------------------\n"
          ]
        },
        {
          "name": "stderr",
          "output_type": "stream",
          "text": [
            "100%|██████████| 151/151 [00:34<00:00,  4.38it/s]\n"
          ]
        },
        {
          "name": "stdout",
          "output_type": "stream",
          "text": [
            "Loss reduced from 0.3242581965315421 to 0.29098623379176813 (10/100)\n",
            "Saving checkpoint to /content/drive/MyDrive/4o-SEMESTRE/IC0009/pratica4/model7/checkpointmodel7_2023-10-28 15:39:53.399344.pth.tar\n",
            "Epoch 10\n",
            "--------------------------------------------------------------------------------\n",
            "acc/train: 0.8910316226023847\n",
            "precision/train: 0.9750639386189258\n",
            "recall/train: 0.8304592485024506\n",
            "spec/train: 0.9717117988394585\n",
            "f1/train: 0.8969708852073326\n",
            "--------------------------------------------------------------------------------\n"
          ]
        },
        {
          "name": "stderr",
          "output_type": "stream",
          "text": [
            "100%|██████████| 150/150 [00:32<00:00,  4.63it/s]\n"
          ]
        },
        {
          "name": "stdout",
          "output_type": "stream",
          "text": [
            "Epoch 10\n",
            "--------------------------------------------------------------------------------\n",
            "acc/test: 0.7292910252382448\n",
            "precision/test: 0.774915381722452\n",
            "recall/test: 0.7480486476674533\n",
            "spec/test: 0.7037128712871287\n",
            "f1/test: 0.76124503555925\n",
            "--------------------------------------------------------------------------------\n"
          ]
        },
        {
          "name": "stderr",
          "output_type": "stream",
          "text": [
            "100%|██████████| 151/151 [00:33<00:00,  4.46it/s]\n"
          ]
        },
        {
          "name": "stdout",
          "output_type": "stream",
          "text": [
            "Loss reduced from 0.29098623379176813 to 0.2671985046950397 (11/100)\n",
            "Saving checkpoint to /content/drive/MyDrive/4o-SEMESTRE/IC0009/pratica4/model7/checkpointmodel7_2023-10-28 15:39:53.399344.pth.tar\n",
            "Epoch 11\n",
            "--------------------------------------------------------------------------------\n",
            "acc/train: 0.9000518403317781\n",
            "precision/train: 0.9769150052465897\n",
            "recall/train: 0.8449809402795425\n",
            "spec/train: 0.973404255319149\n",
            "f1/train: 0.906170916877555\n",
            "--------------------------------------------------------------------------------\n"
          ]
        },
        {
          "name": "stderr",
          "output_type": "stream",
          "text": [
            "100%|██████████| 150/150 [00:33<00:00,  4.45it/s]\n"
          ]
        },
        {
          "name": "stdout",
          "output_type": "stream",
          "text": [
            "Epoch 11\n",
            "--------------------------------------------------------------------------------\n",
            "acc/test: 0.7345271756204839\n",
            "precision/test: 0.7896377093883912\n",
            "recall/test: 0.7358867308041387\n",
            "spec/test: 0.7326732673267327\n",
            "f1/test: 0.76181527764728\n",
            "--------------------------------------------------------------------------------\n"
          ]
        },
        {
          "name": "stderr",
          "output_type": "stream",
          "text": [
            "100%|██████████| 151/151 [00:34<00:00,  4.44it/s]\n"
          ]
        },
        {
          "name": "stdout",
          "output_type": "stream",
          "text": [
            "Loss reduced from 0.2671985046950397 to 0.2492090210022516 (12/100)\n",
            "Saving checkpoint to /content/drive/MyDrive/4o-SEMESTRE/IC0009/pratica4/model7/checkpointmodel7_2023-10-28 15:39:53.399344.pth.tar\n",
            "Epoch 12\n",
            "--------------------------------------------------------------------------------\n",
            "acc/train: 0.9051321928460342\n",
            "precision/train: 0.982563025210084\n",
            "recall/train: 0.8489744055182429\n",
            "spec/train: 0.9799323017408124\n",
            "f1/train: 0.9108968740870581\n",
            "--------------------------------------------------------------------------------\n"
          ]
        },
        {
          "name": "stderr",
          "output_type": "stream",
          "text": [
            "100%|██████████| 150/150 [00:33<00:00,  4.46it/s]\n"
          ]
        },
        {
          "name": "stdout",
          "output_type": "stream",
          "text": [
            "Epoch 12\n",
            "--------------------------------------------------------------------------------\n",
            "acc/test: 0.7270918420777045\n",
            "precision/test: 0.7643416499726826\n",
            "recall/test: 0.7618442548556907\n",
            "spec/test: 0.6797029702970298\n",
            "f1/test: 0.7630909090909092\n",
            "--------------------------------------------------------------------------------\n"
          ]
        },
        {
          "name": "stderr",
          "output_type": "stream",
          "text": [
            "100%|██████████| 151/151 [00:34<00:00,  4.42it/s]\n"
          ]
        },
        {
          "name": "stdout",
          "output_type": "stream",
          "text": [
            "Loss reduced from 0.2492090210022516 to 0.2316927947350685 (13/100)\n",
            "Saving checkpoint to /content/drive/MyDrive/4o-SEMESTRE/IC0009/pratica4/model7/checkpointmodel7_2023-10-28 15:39:53.399344.pth.tar\n",
            "Epoch 13\n",
            "--------------------------------------------------------------------------------\n",
            "acc/train: 0.9170554691550026\n",
            "precision/train: 0.9845647252521095\n",
            "recall/train: 0.8683971682701035\n",
            "spec/train: 0.9818665377176016\n",
            "f1/train: 0.9228395061728395\n",
            "--------------------------------------------------------------------------------\n"
          ]
        },
        {
          "name": "stderr",
          "output_type": "stream",
          "text": [
            "100%|██████████| 150/150 [00:32<00:00,  4.55it/s]\n"
          ]
        },
        {
          "name": "stdout",
          "output_type": "stream",
          "text": [
            "Epoch 13\n",
            "--------------------------------------------------------------------------------\n",
            "acc/test: 0.7280343491465074\n",
            "precision/test: 0.7684365781710915\n",
            "recall/test: 0.7565801415864948\n",
            "spec/test: 0.689108910891089\n",
            "f1/test: 0.7624622701911642\n",
            "--------------------------------------------------------------------------------\n"
          ]
        },
        {
          "name": "stderr",
          "output_type": "stream",
          "text": [
            "100%|██████████| 151/151 [00:34<00:00,  4.38it/s]\n"
          ]
        },
        {
          "name": "stdout",
          "output_type": "stream",
          "text": [
            "Loss reduced from 0.2316927947350685 to 0.21657160871865733 (14/100)\n",
            "Saving checkpoint to /content/drive/MyDrive/4o-SEMESTRE/IC0009/pratica4/model7/checkpointmodel7_2023-10-28 15:39:53.399344.pth.tar\n",
            "Epoch 14\n",
            "--------------------------------------------------------------------------------\n",
            "acc/train: 0.9174701918092276\n",
            "precision/train: 0.9877872076174705\n",
            "recall/train: 0.8662189145035397\n",
            "spec/train: 0.9857350096711799\n",
            "f1/train: 0.9230174081237911\n",
            "--------------------------------------------------------------------------------\n"
          ]
        },
        {
          "name": "stderr",
          "output_type": "stream",
          "text": [
            "100%|██████████| 150/150 [00:34<00:00,  4.38it/s]\n"
          ]
        },
        {
          "name": "stdout",
          "output_type": "stream",
          "text": [
            "Epoch 14\n",
            "--------------------------------------------------------------------------------\n",
            "acc/test: 0.727301288092994\n",
            "precision/test: 0.761100125831386\n",
            "recall/test: 0.7685605373025958\n",
            "spec/test: 0.6710396039603961\n",
            "f1/test: 0.7648121387283238\n",
            "--------------------------------------------------------------------------------\n"
          ]
        },
        {
          "name": "stderr",
          "output_type": "stream",
          "text": [
            "100%|██████████| 151/151 [00:33<00:00,  4.46it/s]\n"
          ]
        },
        {
          "name": "stdout",
          "output_type": "stream",
          "text": [
            "Loss reduced from 0.21657160871865733 to 0.20665448163913575 (15/100)\n",
            "Saving checkpoint to /content/drive/MyDrive/4o-SEMESTRE/IC0009/pratica4/model7/checkpointmodel7_2023-10-28 15:39:53.399344.pth.tar\n",
            "Epoch 15\n",
            "--------------------------------------------------------------------------------\n",
            "acc/train: 0.9203732503888025\n",
            "precision/train: 0.9908883826879271\n",
            "recall/train: 0.8685786894173171\n",
            "spec/train: 0.9893617021276596\n",
            "f1/train: 0.9257109692396981\n",
            "--------------------------------------------------------------------------------\n"
          ]
        },
        {
          "name": "stderr",
          "output_type": "stream",
          "text": [
            "100%|██████████| 150/150 [00:34<00:00,  4.37it/s]\n"
          ]
        },
        {
          "name": "stdout",
          "output_type": "stream",
          "text": [
            "Epoch 15\n",
            "--------------------------------------------------------------------------------\n",
            "acc/test: 0.7299193632841136\n",
            "precision/test: 0.7746531683539557\n",
            "recall/test: 0.7500453802868035\n",
            "spec/test: 0.7024752475247524\n",
            "f1/test: 0.7621506963017615\n",
            "--------------------------------------------------------------------------------\n"
          ]
        },
        {
          "name": "stderr",
          "output_type": "stream",
          "text": [
            "100%|██████████| 151/151 [00:33<00:00,  4.51it/s]\n"
          ]
        },
        {
          "name": "stdout",
          "output_type": "stream",
          "text": [
            "Loss reduced from 0.20665448163913575 to 0.1991334631052238 (16/100)\n",
            "Saving checkpoint to /content/drive/MyDrive/4o-SEMESTRE/IC0009/pratica4/model7/checkpointmodel7_2023-10-28 15:39:53.399344.pth.tar\n",
            "Epoch 16\n",
            "--------------------------------------------------------------------------------\n",
            "acc/train: 0.9182996371176776\n",
            "precision/train: 0.9904425514232288\n",
            "recall/train: 0.8653113087674714\n",
            "spec/train: 0.9888781431334622\n",
            "f1/train: 0.9236582057740749\n",
            "--------------------------------------------------------------------------------\n"
          ]
        },
        {
          "name": "stderr",
          "output_type": "stream",
          "text": [
            "100%|██████████| 150/150 [00:32<00:00,  4.57it/s]\n"
          ]
        },
        {
          "name": "stdout",
          "output_type": "stream",
          "text": [
            "Epoch 16\n",
            "--------------------------------------------------------------------------------\n",
            "acc/test: 0.7355744056969317\n",
            "precision/test: 0.7573301138323559\n",
            "recall/test: 0.7970593574151389\n",
            "spec/test: 0.6517326732673268\n",
            "f1/test: 0.7766870080481117\n",
            "--------------------------------------------------------------------------------\n"
          ]
        },
        {
          "name": "stderr",
          "output_type": "stream",
          "text": [
            "100%|██████████| 151/151 [00:34<00:00,  4.43it/s]\n"
          ]
        },
        {
          "name": "stdout",
          "output_type": "stream",
          "text": [
            "Loss reduced from 0.1991334631052238 to 0.1902756356936417 (17/100)\n",
            "Saving checkpoint to /content/drive/MyDrive/4o-SEMESTRE/IC0009/pratica4/model7/checkpointmodel7_2023-10-28 15:39:53.399344.pth.tar\n",
            "Epoch 17\n",
            "--------------------------------------------------------------------------------\n",
            "acc/train: 0.9248315189217211\n",
            "precision/train: 0.991170431211499\n",
            "recall/train: 0.8762025776002904\n",
            "spec/train: 0.9896034816247582\n",
            "f1/train: 0.9301474130455728\n",
            "--------------------------------------------------------------------------------\n"
          ]
        },
        {
          "name": "stderr",
          "output_type": "stream",
          "text": [
            "100%|██████████| 150/150 [00:32<00:00,  4.65it/s]\n"
          ]
        },
        {
          "name": "stdout",
          "output_type": "stream",
          "text": [
            "Epoch 17\n",
            "--------------------------------------------------------------------------------\n",
            "acc/test: 0.7287674102000209\n",
            "precision/test: 0.7778412335808109\n",
            "recall/test: 0.7416954075149755\n",
            "spec/test: 0.7111386138613861\n",
            "f1/test: 0.7593384129343989\n",
            "--------------------------------------------------------------------------------\n"
          ]
        },
        {
          "name": "stderr",
          "output_type": "stream",
          "text": [
            "100%|██████████| 151/151 [00:33<00:00,  4.46it/s]\n"
          ]
        },
        {
          "name": "stdout",
          "output_type": "stream",
          "text": [
            "Loss reduced from 0.1902756356936417 to 0.1769315701052053 (18/100)\n",
            "Saving checkpoint to /content/drive/MyDrive/4o-SEMESTRE/IC0009/pratica4/model7/checkpointmodel7_2023-10-28 15:39:53.399344.pth.tar\n",
            "Epoch 18\n",
            "--------------------------------------------------------------------------------\n",
            "acc/train: 0.9212026956972524\n",
            "precision/train: 0.9915131442765474\n",
            "recall/train: 0.8694862951533854\n",
            "spec/train: 0.9900870406189555\n",
            "f1/train: 0.9264990328820116\n",
            "--------------------------------------------------------------------------------\n"
          ]
        },
        {
          "name": "stderr",
          "output_type": "stream",
          "text": [
            "100%|██████████| 150/150 [00:33<00:00,  4.52it/s]\n"
          ]
        },
        {
          "name": "stdout",
          "output_type": "stream",
          "text": [
            "Epoch 18\n",
            "--------------------------------------------------------------------------------\n",
            "acc/test: 0.7359932977275108\n",
            "precision/test: 0.7714389534883721\n",
            "recall/test: 0.7707387910691595\n",
            "spec/test: 0.6886138613861386\n",
            "f1/test: 0.7710887133387814\n",
            "--------------------------------------------------------------------------------\n"
          ]
        },
        {
          "name": "stderr",
          "output_type": "stream",
          "text": [
            "100%|██████████| 151/151 [00:33<00:00,  4.49it/s]\n"
          ]
        },
        {
          "name": "stdout",
          "output_type": "stream",
          "text": [
            "Loss reduced from 0.1769315701052053 to 0.1701817579123358 (19/100)\n",
            "Saving checkpoint to /content/drive/MyDrive/4o-SEMESTRE/IC0009/pratica4/model7/checkpointmodel7_2023-10-28 15:39:53.399344.pth.tar\n",
            "Epoch 19\n",
            "--------------------------------------------------------------------------------\n",
            "acc/train: 0.928564022809746\n",
            "precision/train: 0.9912352221769262\n",
            "recall/train: 0.8827373388999818\n",
            "spec/train: 0.9896034816247582\n",
            "f1/train: 0.9338454152664426\n",
            "--------------------------------------------------------------------------------\n"
          ]
        },
        {
          "name": "stderr",
          "output_type": "stream",
          "text": [
            "100%|██████████| 150/150 [00:33<00:00,  4.53it/s]\n"
          ]
        },
        {
          "name": "stdout",
          "output_type": "stream",
          "text": [
            "Epoch 19\n",
            "--------------------------------------------------------------------------------\n",
            "acc/test: 0.7331657765211017\n",
            "precision/test: 0.7735082209495658\n",
            "recall/test: 0.7600290433835541\n",
            "spec/test: 0.6965346534653465\n",
            "f1/test: 0.766709393883904\n",
            "--------------------------------------------------------------------------------\n"
          ]
        },
        {
          "name": "stderr",
          "output_type": "stream",
          "text": [
            "100%|██████████| 151/151 [00:34<00:00,  4.43it/s]\n"
          ]
        },
        {
          "name": "stdout",
          "output_type": "stream",
          "text": [
            "Loss reduced from 0.1701817579123358 to 0.16290015372022099 (20/100)\n",
            "Saving checkpoint to /content/drive/MyDrive/4o-SEMESTRE/IC0009/pratica4/model7/checkpointmodel7_2023-10-28 15:39:53.399344.pth.tar\n",
            "Epoch 20\n",
            "--------------------------------------------------------------------------------\n",
            "acc/train: 0.9284603421461898\n",
            "precision/train: 0.995068830901993\n",
            "recall/train: 0.8791069159557089\n",
            "spec/train: 0.9941972920696325\n",
            "f1/train: 0.9335003855050116\n",
            "--------------------------------------------------------------------------------\n"
          ]
        },
        {
          "name": "stderr",
          "output_type": "stream",
          "text": [
            "100%|██████████| 150/150 [00:33<00:00,  4.48it/s]\n"
          ]
        },
        {
          "name": "stdout",
          "output_type": "stream",
          "text": [
            "Epoch 20\n",
            "--------------------------------------------------------------------------------\n",
            "acc/test: 0.7283485181694418\n",
            "precision/test: 0.744916820702403\n",
            "recall/test: 0.8046832455981122\n",
            "spec/test: 0.6242574257425743\n",
            "f1/test: 0.7736474694589878\n",
            "--------------------------------------------------------------------------------\n"
          ]
        },
        {
          "name": "stderr",
          "output_type": "stream",
          "text": [
            "100%|██████████| 151/151 [00:34<00:00,  4.34it/s]\n"
          ]
        },
        {
          "name": "stdout",
          "output_type": "stream",
          "text": [
            "Loss reduced from 0.16290015372022099 to 0.15849264197989016 (21/100)\n",
            "Saving checkpoint to /content/drive/MyDrive/4o-SEMESTRE/IC0009/pratica4/model7/checkpointmodel7_2023-10-28 15:39:53.399344.pth.tar\n",
            "Epoch 21\n",
            "--------------------------------------------------------------------------------\n",
            "acc/train: 0.9316744427164334\n",
            "precision/train: 0.9953022875816994\n",
            "recall/train: 0.8845525503721183\n",
            "spec/train: 0.9944390715667312\n",
            "f1/train: 0.9366650648726573\n",
            "--------------------------------------------------------------------------------\n"
          ]
        },
        {
          "name": "stderr",
          "output_type": "stream",
          "text": [
            "100%|██████████| 150/150 [00:34<00:00,  4.39it/s]\n"
          ]
        },
        {
          "name": "stdout",
          "output_type": "stream",
          "text": [
            "Epoch 21\n",
            "--------------------------------------------------------------------------------\n",
            "acc/test: 0.7311760393758509\n",
            "precision/test: 0.7572577824414131\n",
            "recall/test: 0.7859865674351062\n",
            "spec/test: 0.6564356435643565\n",
            "f1/test: 0.7713547697514919\n",
            "--------------------------------------------------------------------------------\n"
          ]
        },
        {
          "name": "stderr",
          "output_type": "stream",
          "text": [
            "100%|██████████| 151/151 [00:33<00:00,  4.49it/s]\n"
          ]
        },
        {
          "name": "stdout",
          "output_type": "stream",
          "text": [
            "Loss reduced from 0.15849264197989016 to 0.1549641483568198 (22/100)\n",
            "Saving checkpoint to /content/drive/MyDrive/4o-SEMESTRE/IC0009/pratica4/model7/checkpointmodel7_2023-10-28 15:39:53.399344.pth.tar\n",
            "Epoch 22\n",
            "--------------------------------------------------------------------------------\n",
            "acc/train: 0.9324002073613271\n",
            "precision/train: 0.9934972566551514\n",
            "recall/train: 0.8874568887275368\n",
            "spec/train: 0.9922630560928434\n",
            "f1/train: 0.9374880153403644\n",
            "--------------------------------------------------------------------------------\n"
          ]
        },
        {
          "name": "stderr",
          "output_type": "stream",
          "text": [
            "100%|██████████| 150/150 [00:33<00:00,  4.51it/s]\n"
          ]
        },
        {
          "name": "stdout",
          "output_type": "stream",
          "text": [
            "Epoch 22\n",
            "--------------------------------------------------------------------------------\n",
            "acc/test: 0.7316996544140748\n",
            "precision/test: 0.7531352001374334\n",
            "recall/test: 0.7957887093846433\n",
            "spec/test: 0.6443069306930693\n",
            "f1/test: 0.7738746690203001\n",
            "--------------------------------------------------------------------------------\n"
          ]
        },
        {
          "name": "stderr",
          "output_type": "stream",
          "text": [
            "100%|██████████| 151/151 [00:34<00:00,  4.39it/s]\n"
          ]
        },
        {
          "name": "stdout",
          "output_type": "stream",
          "text": [
            "Loss reduced from 0.1549641483568198 to 0.15456696130976771 (23/100)\n",
            "Saving checkpoint to /content/drive/MyDrive/4o-SEMESTRE/IC0009/pratica4/model7/checkpointmodel7_2023-10-28 15:39:53.399344.pth.tar\n",
            "Epoch 23\n",
            "--------------------------------------------------------------------------------\n",
            "acc/train: 0.9298081907724209\n",
            "precision/train: 0.9958949096880131\n",
            "recall/train: 0.8807406062806317\n",
            "spec/train: 0.995164410058027\n",
            "f1/train: 0.9347847028224641\n",
            "--------------------------------------------------------------------------------\n"
          ]
        },
        {
          "name": "stderr",
          "output_type": "stream",
          "text": [
            "100%|██████████| 150/150 [00:32<00:00,  4.62it/s]\n"
          ]
        },
        {
          "name": "stdout",
          "output_type": "stream",
          "text": [
            "Epoch 23\n",
            "--------------------------------------------------------------------------------\n",
            "acc/test: 0.7304429783223374\n",
            "precision/test: 0.7575917149376865\n",
            "recall/test: 0.7834452713741151\n",
            "spec/test: 0.6581683168316832\n",
            "f1/test: 0.7703016241299303\n",
            "--------------------------------------------------------------------------------\n"
          ]
        },
        {
          "name": "stderr",
          "output_type": "stream",
          "text": [
            "100%|██████████| 151/151 [00:34<00:00,  4.40it/s]\n"
          ]
        },
        {
          "name": "stdout",
          "output_type": "stream",
          "text": [
            "Loss reduced from 0.15456696130976771 to 0.14389123254461794 (24/100)\n",
            "Saving checkpoint to /content/drive/MyDrive/4o-SEMESTRE/IC0009/pratica4/model7/checkpointmodel7_2023-10-28 15:39:53.399344.pth.tar\n",
            "Epoch 24\n",
            "--------------------------------------------------------------------------------\n",
            "acc/train: 0.936547433903577\n",
            "precision/train: 0.9949464321811199\n",
            "recall/train: 0.8934470865855872\n",
            "spec/train: 0.9939555125725339\n",
            "f1/train: 0.941469013006886\n",
            "--------------------------------------------------------------------------------\n"
          ]
        },
        {
          "name": "stderr",
          "output_type": "stream",
          "text": [
            "100%|██████████| 150/150 [00:32<00:00,  4.58it/s]\n"
          ]
        },
        {
          "name": "stdout",
          "output_type": "stream",
          "text": [
            "Epoch 24\n",
            "--------------------------------------------------------------------------------\n",
            "acc/test: 0.7253115509477432\n",
            "precision/test: 0.7369458128078817\n",
            "recall/test: 0.8146669086948629\n",
            "spec/test: 0.6034653465346534\n",
            "f1/test: 0.7738598155013363\n",
            "--------------------------------------------------------------------------------\n"
          ]
        },
        {
          "name": "stderr",
          "output_type": "stream",
          "text": [
            "100%|██████████| 151/151 [00:33<00:00,  4.48it/s]\n"
          ]
        },
        {
          "name": "stdout",
          "output_type": "stream",
          "text": [
            "Loss reduced from 0.14389123254461794 to 0.13598635925954541 (25/100)\n",
            "Saving checkpoint to /content/drive/MyDrive/4o-SEMESTRE/IC0009/pratica4/model7/checkpointmodel7_2023-10-28 15:39:53.399344.pth.tar\n",
            "Epoch 25\n",
            "--------------------------------------------------------------------------------\n",
            "acc/train: 0.9399688958009331\n",
            "precision/train: 0.9965753424657534\n",
            "recall/train: 0.8979851152659285\n",
            "spec/train: 0.995889748549323\n",
            "f1/train: 0.9447149813806932\n",
            "--------------------------------------------------------------------------------\n"
          ]
        },
        {
          "name": "stderr",
          "output_type": "stream",
          "text": [
            "100%|██████████| 150/150 [00:33<00:00,  4.45it/s]\n"
          ]
        },
        {
          "name": "stdout",
          "output_type": "stream",
          "text": [
            "Epoch 25\n",
            "--------------------------------------------------------------------------------\n",
            "acc/test: 0.725939888993612\n",
            "precision/test: 0.7431069266980498\n",
            "recall/test: 0.8023234706843347\n",
            "spec/test: 0.6217821782178218\n",
            "f1/test: 0.7715806930260977\n",
            "--------------------------------------------------------------------------------\n"
          ]
        },
        {
          "name": "stderr",
          "output_type": "stream",
          "text": [
            "100%|██████████| 151/151 [00:34<00:00,  4.34it/s]\n"
          ]
        },
        {
          "name": "stdout",
          "output_type": "stream",
          "text": [
            "Loss reduced from 0.13598635925954541 to 0.13571164875433145 (26/100)\n",
            "Saving checkpoint to /content/drive/MyDrive/4o-SEMESTRE/IC0009/pratica4/model7/checkpointmodel7_2023-10-28 15:39:53.399344.pth.tar\n",
            "Epoch 26\n",
            "--------------------------------------------------------------------------------\n",
            "acc/train: 0.9303265940902021\n",
            "precision/train: 0.9946819390468399\n",
            "recall/train: 0.8827373388999818\n",
            "spec/train: 0.9937137330754352\n",
            "f1/train: 0.9353721869590307\n",
            "--------------------------------------------------------------------------------\n"
          ]
        },
        {
          "name": "stderr",
          "output_type": "stream",
          "text": [
            "100%|██████████| 150/150 [00:33<00:00,  4.42it/s]\n"
          ]
        },
        {
          "name": "stdout",
          "output_type": "stream",
          "text": [
            "Epoch 26\n",
            "--------------------------------------------------------------------------------\n",
            "acc/test: 0.7276154571159283\n",
            "precision/test: 0.7621709340064912\n",
            "recall/test: 0.7672898892721002\n",
            "spec/test: 0.6735148514851486\n",
            "f1/test: 0.7647218453188602\n",
            "--------------------------------------------------------------------------------\n"
          ]
        },
        {
          "name": "stderr",
          "output_type": "stream",
          "text": [
            "100%|██████████| 151/151 [00:34<00:00,  4.37it/s]\n"
          ]
        },
        {
          "name": "stdout",
          "output_type": "stream",
          "text": [
            "Loss reduced from 0.13571164875433145 to 0.1296818619532301 (27/100)\n",
            "Saving checkpoint to /content/drive/MyDrive/4o-SEMESTRE/IC0009/pratica4/model7/checkpointmodel7_2023-10-28 15:39:53.399344.pth.tar\n",
            "Epoch 27\n",
            "--------------------------------------------------------------------------------\n",
            "acc/train: 0.9371695178849144\n",
            "precision/train: 0.9961546245699251\n",
            "recall/train: 0.8934470865855872\n",
            "spec/train: 0.9954061895551257\n",
            "f1/train: 0.9420095693779904\n",
            "--------------------------------------------------------------------------------\n"
          ]
        },
        {
          "name": "stderr",
          "output_type": "stream",
          "text": [
            "100%|██████████| 150/150 [00:32<00:00,  4.57it/s]\n"
          ]
        },
        {
          "name": "stdout",
          "output_type": "stream",
          "text": [
            "Epoch 27\n",
            "--------------------------------------------------------------------------------\n",
            "acc/test: 0.7289768562153105\n",
            "precision/test: 0.7442716173273123\n",
            "recall/test: 0.8077691051007443\n",
            "spec/test: 0.6215346534653465\n",
            "f1/test: 0.7747214484679665\n",
            "--------------------------------------------------------------------------------\n"
          ]
        },
        {
          "name": "stderr",
          "output_type": "stream",
          "text": [
            "100%|██████████| 151/151 [00:34<00:00,  4.40it/s]\n"
          ]
        },
        {
          "name": "stdout",
          "output_type": "stream",
          "text": [
            "Loss reduced from 0.1296818619532301 to 0.12741035358696584 (28/100)\n",
            "Saving checkpoint to /content/drive/MyDrive/4o-SEMESTRE/IC0009/pratica4/model7/checkpointmodel7_2023-10-28 15:39:53.399344.pth.tar\n",
            "Epoch 28\n",
            "--------------------------------------------------------------------------------\n",
            "acc/train: 0.9367547952306895\n",
            "precision/train: 0.9941496873108735\n",
            "recall/train: 0.8945362134688691\n",
            "spec/train: 0.9929883945841392\n",
            "f1/train: 0.9417160328683357\n",
            "--------------------------------------------------------------------------------\n"
          ]
        },
        {
          "name": "stderr",
          "output_type": "stream",
          "text": [
            "100%|██████████| 150/150 [00:33<00:00,  4.54it/s]\n"
          ]
        },
        {
          "name": "stdout",
          "output_type": "stream",
          "text": [
            "Epoch 28\n",
            "--------------------------------------------------------------------------------\n",
            "acc/test: 0.7271965650853492\n",
            "precision/test: 0.7516464471403813\n",
            "recall/test: 0.7872572154656018\n",
            "spec/test: 0.6452970297029703\n",
            "f1/test: 0.7690398084936608\n",
            "--------------------------------------------------------------------------------\n"
          ]
        },
        {
          "name": "stderr",
          "output_type": "stream",
          "text": [
            "100%|██████████| 151/151 [00:33<00:00,  4.49it/s]\n"
          ]
        },
        {
          "name": "stdout",
          "output_type": "stream",
          "text": [
            "Epoch 29\n",
            "--------------------------------------------------------------------------------\n",
            "acc/train: 0.9337480559875583\n",
            "precision/train: 0.9965334420880914\n",
            "recall/train: 0.8870938464331095\n",
            "spec/train: 0.995889748549323\n",
            "f1/train: 0.9386343993085566\n",
            "--------------------------------------------------------------------------------\n"
          ]
        },
        {
          "name": "stderr",
          "output_type": "stream",
          "text": [
            "100%|██████████| 150/150 [00:33<00:00,  4.47it/s]\n"
          ]
        },
        {
          "name": "stdout",
          "output_type": "stream",
          "text": [
            "Epoch 29\n",
            "--------------------------------------------------------------------------------\n",
            "acc/test: 0.7261493350089014\n",
            "precision/test: 0.7383855024711697\n",
            "recall/test: 0.813577781811581\n",
            "spec/test: 0.6069306930693069\n",
            "f1/test: 0.7741601174540115\n",
            "--------------------------------------------------------------------------------\n"
          ]
        },
        {
          "name": "stderr",
          "output_type": "stream",
          "text": [
            "100%|██████████| 151/151 [00:33<00:00,  4.45it/s]\n"
          ]
        },
        {
          "name": "stdout",
          "output_type": "stream",
          "text": [
            "Epoch 30\n",
            "--------------------------------------------------------------------------------\n",
            "acc/train: 0.9356143079315707\n",
            "precision/train: 0.9965461194636327\n",
            "recall/train: 0.8903612270829552\n",
            "spec/train: 0.995889748549323\n",
            "f1/train: 0.9404659188955997\n",
            "--------------------------------------------------------------------------------\n"
          ]
        },
        {
          "name": "stderr",
          "output_type": "stream",
          "text": [
            "100%|██████████| 150/150 [00:32<00:00,  4.58it/s]\n"
          ]
        },
        {
          "name": "stdout",
          "output_type": "stream",
          "text": [
            "Epoch 30\n",
            "--------------------------------------------------------------------------------\n",
            "acc/test: 0.7246832129018745\n",
            "precision/test: 0.7360655737704918\n",
            "recall/test: 0.8150299509892902\n",
            "spec/test: 0.6014851485148515\n",
            "f1/test: 0.7735377724179516\n",
            "--------------------------------------------------------------------------------\n"
          ]
        },
        {
          "name": "stderr",
          "output_type": "stream",
          "text": [
            "100%|██████████| 151/151 [00:35<00:00,  4.29it/s]\n"
          ]
        },
        {
          "name": "stdout",
          "output_type": "stream",
          "text": [
            "Epoch 31\n",
            "--------------------------------------------------------------------------------\n",
            "acc/train: 0.9351995852773458\n",
            "precision/train: 0.9989783408255006\n",
            "recall/train: 0.8874568887275368\n",
            "spec/train: 0.9987911025145068\n",
            "f1/train: 0.9399211765836778\n",
            "--------------------------------------------------------------------------------\n"
          ]
        },
        {
          "name": "stderr",
          "output_type": "stream",
          "text": [
            "100%|██████████| 150/150 [00:34<00:00,  4.32it/s]\n"
          ]
        },
        {
          "name": "stdout",
          "output_type": "stream",
          "text": [
            "Epoch 31\n",
            "--------------------------------------------------------------------------------\n",
            "acc/test: 0.7242643208712954\n",
            "precision/test: 0.7663949610967025\n",
            "recall/test: 0.7509529860228716\n",
            "spec/test: 0.6878712871287128\n",
            "f1/test: 0.7585953974511782\n",
            "--------------------------------------------------------------------------------\n"
          ]
        },
        {
          "name": "stderr",
          "output_type": "stream",
          "text": [
            "100%|██████████| 151/151 [00:35<00:00,  4.28it/s]\n"
          ]
        },
        {
          "name": "stdout",
          "output_type": "stream",
          "text": [
            "Epoch 32\n",
            "--------------------------------------------------------------------------------\n",
            "acc/train: 0.9385173665111457\n",
            "precision/train: 0.9959644874899112\n",
            "recall/train: 0.8959883826465783\n",
            "spec/train: 0.995164410058027\n",
            "f1/train: 0.9433349259436216\n",
            "--------------------------------------------------------------------------------\n"
          ]
        },
        {
          "name": "stderr",
          "output_type": "stream",
          "text": [
            "100%|██████████| 150/150 [00:33<00:00,  4.47it/s]\n"
          ]
        },
        {
          "name": "stdout",
          "output_type": "stream",
          "text": [
            "Epoch 32\n",
            "--------------------------------------------------------------------------------\n",
            "acc/test: 0.7227981987642685\n",
            "precision/test: 0.7473211199446941\n",
            "recall/test: 0.7848974405518243\n",
            "spec/test: 0.6381188118811881\n",
            "f1/test: 0.7656485170429393\n",
            "--------------------------------------------------------------------------------\n"
          ]
        },
        {
          "name": "stderr",
          "output_type": "stream",
          "text": [
            "100%|██████████| 151/151 [00:33<00:00,  4.48it/s]\n"
          ]
        },
        {
          "name": "stdout",
          "output_type": "stream",
          "text": [
            "Loss reduced from 0.12741035358696584 to 0.12318513974152653 (33/100)\n",
            "Saving checkpoint to /content/drive/MyDrive/4o-SEMESTRE/IC0009/pratica4/model7/checkpointmodel7_2023-10-28 15:39:53.399344.pth.tar\n",
            "Epoch 33\n",
            "--------------------------------------------------------------------------------\n",
            "acc/train: 0.9376879212026957\n",
            "precision/train: 0.9961585119288314\n",
            "recall/train: 0.8943546923216554\n",
            "spec/train: 0.9954061895551257\n",
            "f1/train: 0.9425155428024868\n",
            "--------------------------------------------------------------------------------\n"
          ]
        },
        {
          "name": "stderr",
          "output_type": "stream",
          "text": [
            "100%|██████████| 150/150 [00:33<00:00,  4.51it/s]\n"
          ]
        },
        {
          "name": "stdout",
          "output_type": "stream",
          "text": [
            "Epoch 33\n",
            "--------------------------------------------------------------------------------\n",
            "acc/test: 0.7252068279400984\n",
            "precision/test: 0.7375267577803392\n",
            "recall/test: 0.8130332183699401\n",
            "spec/test: 0.6054455445544554\n",
            "f1/test: 0.773441547228458\n",
            "--------------------------------------------------------------------------------\n"
          ]
        },
        {
          "name": "stderr",
          "output_type": "stream",
          "text": [
            "100%|██████████| 151/151 [00:34<00:00,  4.39it/s]\n"
          ]
        },
        {
          "name": "stdout",
          "output_type": "stream",
          "text": [
            "Epoch 34\n",
            "--------------------------------------------------------------------------------\n",
            "acc/train: 0.9401762571280456\n",
            "precision/train: 0.9965767217076118\n",
            "recall/train: 0.8983481575603558\n",
            "spec/train: 0.995889748549323\n",
            "f1/train: 0.9449164677804296\n",
            "--------------------------------------------------------------------------------\n"
          ]
        },
        {
          "name": "stderr",
          "output_type": "stream",
          "text": [
            "100%|██████████| 150/150 [00:32<00:00,  4.59it/s]\n"
          ]
        },
        {
          "name": "stdout",
          "output_type": "stream",
          "text": [
            "Epoch 34\n",
            "--------------------------------------------------------------------------------\n",
            "acc/test: 0.7291863022306001\n",
            "precision/test: 0.7743570489956824\n",
            "recall/test: 0.7487747322563079\n",
            "spec/test: 0.7024752475247524\n",
            "f1/test: 0.7613510520487264\n",
            "--------------------------------------------------------------------------------\n"
          ]
        },
        {
          "name": "stderr",
          "output_type": "stream",
          "text": [
            "100%|██████████| 151/151 [00:34<00:00,  4.43it/s]\n"
          ]
        },
        {
          "name": "stdout",
          "output_type": "stream",
          "text": [
            "Epoch 35\n",
            "--------------------------------------------------------------------------------\n",
            "acc/train: 0.9394504924831519\n",
            "precision/train: 0.9971734302442964\n",
            "recall/train: 0.8965329460882193\n",
            "spec/train: 0.996615087040619\n",
            "f1/train: 0.9441789332823551\n",
            "--------------------------------------------------------------------------------\n"
          ]
        },
        {
          "name": "stderr",
          "output_type": "stream",
          "text": [
            "100%|██████████| 150/150 [00:32<00:00,  4.58it/s]\n"
          ]
        },
        {
          "name": "stdout",
          "output_type": "stream",
          "text": [
            "Epoch 35\n",
            "--------------------------------------------------------------------------------\n",
            "acc/test: 0.7265682270394805\n",
            "precision/test: 0.764512595837897\n",
            "recall/test: 0.7602105645307679\n",
            "spec/test: 0.6806930693069307\n",
            "f1/test: 0.7623555110585237\n",
            "--------------------------------------------------------------------------------\n"
          ]
        },
        {
          "name": "stderr",
          "output_type": "stream",
          "text": [
            "100%|██████████| 151/151 [00:33<00:00,  4.45it/s]\n"
          ]
        },
        {
          "name": "stdout",
          "output_type": "stream",
          "text": [
            "Epoch 36\n",
            "--------------------------------------------------------------------------------\n",
            "acc/train: 0.9315707620528771\n",
            "precision/train: 0.9953013278855976\n",
            "recall/train: 0.8843710292249047\n",
            "spec/train: 0.9944390715667312\n",
            "f1/train: 0.936562860438293\n",
            "--------------------------------------------------------------------------------\n"
          ]
        },
        {
          "name": "stderr",
          "output_type": "stream",
          "text": [
            "100%|██████████| 150/150 [00:33<00:00,  4.44it/s]\n"
          ]
        },
        {
          "name": "stdout",
          "output_type": "stream",
          "text": [
            "Epoch 36\n",
            "--------------------------------------------------------------------------------\n",
            "acc/test: 0.7215415226725311\n",
            "precision/test: 0.7309562398703403\n",
            "recall/test: 0.8186603739335633\n",
            "spec/test: 0.5891089108910891\n",
            "f1/test: 0.7723263978080315\n",
            "--------------------------------------------------------------------------------\n"
          ]
        },
        {
          "name": "stderr",
          "output_type": "stream",
          "text": [
            "100%|██████████| 151/151 [00:34<00:00,  4.38it/s]\n"
          ]
        },
        {
          "name": "stdout",
          "output_type": "stream",
          "text": [
            "Loss reduced from 0.12318513974152653 to 0.12159232676818671 (37/100)\n",
            "Saving checkpoint to /content/drive/MyDrive/4o-SEMESTRE/IC0009/pratica4/model7/checkpointmodel7_2023-10-28 15:39:53.399344.pth.tar\n",
            "Epoch 37\n",
            "--------------------------------------------------------------------------------\n",
            "acc/train: 0.9401762571280456\n",
            "precision/train: 0.9965767217076118\n",
            "recall/train: 0.8983481575603558\n",
            "spec/train: 0.995889748549323\n",
            "f1/train: 0.9449164677804296\n",
            "--------------------------------------------------------------------------------\n"
          ]
        },
        {
          "name": "stderr",
          "output_type": "stream",
          "text": [
            "100%|██████████| 150/150 [00:34<00:00,  4.31it/s]\n"
          ]
        },
        {
          "name": "stdout",
          "output_type": "stream",
          "text": [
            "Epoch 37\n",
            "--------------------------------------------------------------------------------\n",
            "acc/test: 0.7237407058330715\n",
            "precision/test: 0.7510932307154102\n",
            "recall/test: 0.7794518061354148\n",
            "spec/test: 0.6477722772277228\n",
            "f1/test: 0.7650097986816319\n",
            "--------------------------------------------------------------------------------\n"
          ]
        },
        {
          "name": "stderr",
          "output_type": "stream",
          "text": [
            "100%|██████████| 151/151 [00:34<00:00,  4.35it/s]\n"
          ]
        },
        {
          "name": "stdout",
          "output_type": "stream",
          "text": [
            "Epoch 38\n",
            "--------------------------------------------------------------------------------\n",
            "acc/train: 0.936962156557802\n",
            "precision/train: 0.9979678927047348\n",
            "recall/train: 0.8914503539662371\n",
            "spec/train: 0.9975822050290135\n",
            "f1/train: 0.9417066155321189\n",
            "--------------------------------------------------------------------------------\n"
          ]
        },
        {
          "name": "stderr",
          "output_type": "stream",
          "text": [
            "100%|██████████| 150/150 [00:33<00:00,  4.46it/s]\n"
          ]
        },
        {
          "name": "stdout",
          "output_type": "stream",
          "text": [
            "Epoch 38\n",
            "--------------------------------------------------------------------------------\n",
            "acc/test: 0.7221698607183998\n",
            "precision/test: 0.7410533423362593\n",
            "recall/test: 0.7968778362679252\n",
            "spec/test: 0.6202970297029703\n",
            "f1/test: 0.7679524184378553\n",
            "--------------------------------------------------------------------------------\n"
          ]
        },
        {
          "name": "stderr",
          "output_type": "stream",
          "text": [
            "100%|██████████| 151/151 [00:34<00:00,  4.44it/s]\n"
          ]
        },
        {
          "name": "stdout",
          "output_type": "stream",
          "text": [
            "Loss reduced from 0.12159232676818671 to 0.11990099323802436 (39/100)\n",
            "Saving checkpoint to /content/drive/MyDrive/4o-SEMESTRE/IC0009/pratica4/model7/checkpointmodel7_2023-10-28 15:39:53.399344.pth.tar\n",
            "Epoch 39\n",
            "--------------------------------------------------------------------------------\n",
            "acc/train: 0.9393468118195957\n",
            "precision/train: 0.9979773462783171\n",
            "recall/train: 0.895625340352151\n",
            "spec/train: 0.9975822050290135\n",
            "f1/train: 0.9440352052042477\n",
            "--------------------------------------------------------------------------------\n"
          ]
        },
        {
          "name": "stderr",
          "output_type": "stream",
          "text": [
            "100%|██████████| 150/150 [00:32<00:00,  4.56it/s]\n"
          ]
        },
        {
          "name": "stdout",
          "output_type": "stream",
          "text": [
            "Epoch 39\n",
            "--------------------------------------------------------------------------------\n",
            "acc/test: 0.7246832129018745\n",
            "precision/test: 0.7434077079107505\n",
            "recall/test: 0.7983300054456344\n",
            "spec/test: 0.6242574257425743\n",
            "f1/test: 0.769890590809628\n",
            "--------------------------------------------------------------------------------\n"
          ]
        },
        {
          "name": "stderr",
          "output_type": "stream",
          "text": [
            "100%|██████████| 151/151 [00:33<00:00,  4.53it/s]\n"
          ]
        },
        {
          "name": "stdout",
          "output_type": "stream",
          "text": [
            "Epoch 40\n",
            "--------------------------------------------------------------------------------\n",
            "acc/train: 0.9355106272680145\n",
            "precision/train: 0.9973539588845919\n",
            "recall/train: 0.8894536213468869\n",
            "spec/train: 0.9968568665377177\n",
            "f1/train: 0.9403185568988678\n",
            "--------------------------------------------------------------------------------\n"
          ]
        },
        {
          "name": "stderr",
          "output_type": "stream",
          "text": [
            "100%|██████████| 150/150 [00:32<00:00,  4.55it/s]\n"
          ]
        },
        {
          "name": "stdout",
          "output_type": "stream",
          "text": [
            "Epoch 40\n",
            "--------------------------------------------------------------------------------\n",
            "acc/test: 0.7242643208712954\n",
            "precision/test: 0.7408710217755444\n",
            "recall/test: 0.8028680341259756\n",
            "spec/test: 0.6170792079207921\n",
            "f1/test: 0.7706246188692395\n",
            "--------------------------------------------------------------------------------\n"
          ]
        },
        {
          "name": "stderr",
          "output_type": "stream",
          "text": [
            "100%|██████████| 151/151 [00:34<00:00,  4.39it/s]\n"
          ]
        },
        {
          "name": "stdout",
          "output_type": "stream",
          "text": [
            "Epoch 41\n",
            "--------------------------------------------------------------------------------\n",
            "acc/train: 0.9375842405391395\n",
            "precision/train: 0.9973646868031624\n",
            "recall/train: 0.89308404429116\n",
            "spec/train: 0.9968568665377177\n",
            "f1/train: 0.9423482091553342\n",
            "--------------------------------------------------------------------------------\n"
          ]
        },
        {
          "name": "stderr",
          "output_type": "stream",
          "text": [
            "100%|██████████| 150/150 [00:33<00:00,  4.50it/s]\n"
          ]
        },
        {
          "name": "stdout",
          "output_type": "stream",
          "text": [
            "Epoch 41\n",
            "--------------------------------------------------------------------------------\n",
            "acc/test: 0.7205990156037282\n",
            "precision/test: 0.7304883985072205\n",
            "recall/test: 0.8172082047558541\n",
            "spec/test: 0.5888613861386138\n",
            "f1/test: 0.771418779986292\n",
            "--------------------------------------------------------------------------------\n"
          ]
        },
        {
          "name": "stderr",
          "output_type": "stream",
          "text": [
            "100%|██████████| 151/151 [00:35<00:00,  4.29it/s]\n"
          ]
        },
        {
          "name": "stdout",
          "output_type": "stream",
          "text": [
            "Loss reduced from 0.11990099323802436 to 0.11980610395109417 (42/100)\n",
            "Saving checkpoint to /content/drive/MyDrive/4o-SEMESTRE/IC0009/pratica4/model7/checkpointmodel7_2023-10-28 15:39:53.399344.pth.tar\n",
            "Epoch 42\n",
            "--------------------------------------------------------------------------------\n",
            "acc/train: 0.9401762571280456\n",
            "precision/train: 0.9971774193548387\n",
            "recall/train: 0.8978035941187148\n",
            "spec/train: 0.996615087040619\n",
            "f1/train: 0.9448848982710861\n",
            "--------------------------------------------------------------------------------\n"
          ]
        },
        {
          "name": "stderr",
          "output_type": "stream",
          "text": [
            "100%|██████████| 150/150 [00:33<00:00,  4.43it/s]\n"
          ]
        },
        {
          "name": "stdout",
          "output_type": "stream",
          "text": [
            "Epoch 42\n",
            "--------------------------------------------------------------------------------\n",
            "acc/test: 0.7264635040318358\n",
            "precision/test: 0.7468052479127619\n",
            "recall/test: 0.7956071882374297\n",
            "spec/test: 0.6321782178217822\n",
            "f1/test: 0.7704341712075936\n",
            "--------------------------------------------------------------------------------\n"
          ]
        },
        {
          "name": "stderr",
          "output_type": "stream",
          "text": [
            "100%|██████████| 151/151 [00:34<00:00,  4.39it/s]\n"
          ]
        },
        {
          "name": "stdout",
          "output_type": "stream",
          "text": [
            "Loss reduced from 0.11980610395109417 to 0.11560727463455389 (43/100)\n",
            "Saving checkpoint to /content/drive/MyDrive/4o-SEMESTRE/IC0009/pratica4/model7/checkpointmodel7_2023-10-28 15:39:53.399344.pth.tar\n",
            "Epoch 43\n",
            "--------------------------------------------------------------------------------\n",
            "acc/train: 0.9444271643338518\n",
            "precision/train: 0.9989965884005619\n",
            "recall/train: 0.9036122708295516\n",
            "spec/train: 0.9987911025145068\n",
            "f1/train: 0.9489134578726649\n",
            "--------------------------------------------------------------------------------\n"
          ]
        },
        {
          "name": "stderr",
          "output_type": "stream",
          "text": [
            "100%|██████████| 150/150 [00:33<00:00,  4.46it/s]\n"
          ]
        },
        {
          "name": "stdout",
          "output_type": "stream",
          "text": [
            "Epoch 43\n",
            "--------------------------------------------------------------------------------\n",
            "acc/test: 0.7258351659859671\n",
            "precision/test: 0.7846032683599133\n",
            "recall/test: 0.7233617716463968\n",
            "spec/test: 0.7292079207920792\n",
            "f1/test: 0.752738949754439\n",
            "--------------------------------------------------------------------------------\n"
          ]
        },
        {
          "name": "stderr",
          "output_type": "stream",
          "text": [
            "100%|██████████| 151/151 [00:33<00:00,  4.48it/s]\n"
          ]
        },
        {
          "name": "stdout",
          "output_type": "stream",
          "text": [
            "Epoch 44\n",
            "--------------------------------------------------------------------------------\n",
            "acc/train: 0.9359253499222395\n",
            "precision/train: 0.9977610421331162\n",
            "recall/train: 0.8898166636413142\n",
            "spec/train: 0.9973404255319149\n",
            "f1/train: 0.9407023603914796\n",
            "--------------------------------------------------------------------------------\n"
          ]
        },
        {
          "name": "stderr",
          "output_type": "stream",
          "text": [
            "100%|██████████| 150/150 [00:32<00:00,  4.57it/s]\n"
          ]
        },
        {
          "name": "stdout",
          "output_type": "stream",
          "text": [
            "Epoch 44\n",
            "--------------------------------------------------------------------------------\n",
            "acc/test: 0.725416273955388\n",
            "precision/test: 0.7534679543459175\n",
            "recall/test: 0.7789072426937739\n",
            "spec/test: 0.6524752475247525\n",
            "f1/test: 0.7659764369867906\n",
            "--------------------------------------------------------------------------------\n"
          ]
        },
        {
          "name": "stderr",
          "output_type": "stream",
          "text": [
            "100%|██████████| 151/151 [00:34<00:00,  4.41it/s]\n"
          ]
        },
        {
          "name": "stdout",
          "output_type": "stream",
          "text": [
            "Loss reduced from 0.11560727463455389 to 0.11559138775167875 (45/100)\n",
            "Saving checkpoint to /content/drive/MyDrive/4o-SEMESTRE/IC0009/pratica4/model7/checkpointmodel7_2023-10-28 15:39:53.399344.pth.tar\n",
            "Epoch 45\n",
            "--------------------------------------------------------------------------------\n",
            "acc/train: 0.9401762571280456\n",
            "precision/train: 0.9977795720629794\n",
            "recall/train: 0.8972590306770739\n",
            "spec/train: 0.9973404255319149\n",
            "f1/train: 0.9448532925547165\n",
            "--------------------------------------------------------------------------------\n"
          ]
        },
        {
          "name": "stderr",
          "output_type": "stream",
          "text": [
            "100%|██████████| 150/150 [00:32<00:00,  4.57it/s]\n"
          ]
        },
        {
          "name": "stdout",
          "output_type": "stream",
          "text": [
            "Epoch 45\n",
            "--------------------------------------------------------------------------------\n",
            "acc/test: 0.7258351659859671\n",
            "precision/test: 0.7543550941404188\n",
            "recall/test: 0.7781811581049192\n",
            "spec/test: 0.6544554455445545\n",
            "f1/test: 0.766082916368835\n",
            "--------------------------------------------------------------------------------\n"
          ]
        },
        {
          "name": "stderr",
          "output_type": "stream",
          "text": [
            "100%|██████████| 151/151 [00:34<00:00,  4.40it/s]\n"
          ]
        },
        {
          "name": "stdout",
          "output_type": "stream",
          "text": [
            "Epoch 46\n",
            "--------------------------------------------------------------------------------\n",
            "acc/train: 0.9364437532400207\n",
            "precision/train: 0.996551724137931\n",
            "recall/train: 0.8918133962606644\n",
            "spec/train: 0.995889748549323\n",
            "f1/train: 0.9412779001820099\n",
            "--------------------------------------------------------------------------------\n"
          ]
        },
        {
          "name": "stderr",
          "output_type": "stream",
          "text": [
            "100%|██████████| 150/150 [00:34<00:00,  4.36it/s]\n"
          ]
        },
        {
          "name": "stdout",
          "output_type": "stream",
          "text": [
            "Epoch 46\n",
            "--------------------------------------------------------------------------------\n",
            "acc/test: 0.7232170907948476\n",
            "precision/test: 0.7407594086021505\n",
            "recall/test: 0.8003267380649846\n",
            "spec/test: 0.6180693069306931\n",
            "f1/test: 0.7693918506238548\n",
            "--------------------------------------------------------------------------------\n"
          ]
        },
        {
          "name": "stderr",
          "output_type": "stream",
          "text": [
            "100%|██████████| 151/151 [00:33<00:00,  4.53it/s]\n"
          ]
        },
        {
          "name": "stdout",
          "output_type": "stream",
          "text": [
            "Epoch 47\n",
            "--------------------------------------------------------------------------------\n",
            "acc/train: 0.9370658372213582\n",
            "precision/train: 0.9979683055668428\n",
            "recall/train: 0.8916318751134508\n",
            "spec/train: 0.9975822050290135\n",
            "f1/train: 0.9418080720928003\n",
            "--------------------------------------------------------------------------------\n"
          ]
        },
        {
          "name": "stderr",
          "output_type": "stream",
          "text": [
            "100%|██████████| 150/150 [00:34<00:00,  4.36it/s]\n"
          ]
        },
        {
          "name": "stdout",
          "output_type": "stream",
          "text": [
            "Epoch 47\n",
            "--------------------------------------------------------------------------------\n",
            "acc/test: 0.7300240862917583\n",
            "precision/test: 0.7741814780168381\n",
            "recall/test: 0.7511345071700853\n",
            "spec/test: 0.7012376237623762\n",
            "f1/test: 0.7624838769117375\n",
            "--------------------------------------------------------------------------------\n"
          ]
        },
        {
          "name": "stderr",
          "output_type": "stream",
          "text": [
            "100%|██████████| 151/151 [00:34<00:00,  4.42it/s]\n"
          ]
        },
        {
          "name": "stdout",
          "output_type": "stream",
          "text": [
            "Epoch 48\n",
            "--------------------------------------------------------------------------------\n",
            "acc/train: 0.9327112493519959\n",
            "precision/train: 0.9971358428805237\n",
            "recall/train: 0.884734071519332\n",
            "spec/train: 0.996615087040619\n",
            "f1/train: 0.9375781475425603\n",
            "--------------------------------------------------------------------------------\n"
          ]
        },
        {
          "name": "stderr",
          "output_type": "stream",
          "text": [
            "100%|██████████| 150/150 [00:32<00:00,  4.59it/s]\n"
          ]
        },
        {
          "name": "stdout",
          "output_type": "stream",
          "text": [
            "Epoch 48\n",
            "--------------------------------------------------------------------------------\n",
            "acc/test: 0.7221698607183998\n",
            "precision/test: 0.7269548633184997\n",
            "recall/test: 0.8302777273552369\n",
            "spec/test: 0.5747524752475247\n",
            "f1/test: 0.7751885433437844\n",
            "--------------------------------------------------------------------------------\n"
          ]
        },
        {
          "name": "stderr",
          "output_type": "stream",
          "text": [
            "100%|██████████| 151/151 [00:34<00:00,  4.43it/s]\n"
          ]
        },
        {
          "name": "stdout",
          "output_type": "stream",
          "text": [
            "Epoch 49\n",
            "--------------------------------------------------------------------------------\n",
            "acc/train: 0.9359253499222395\n",
            "precision/train: 0.9967499492179566\n",
            "recall/train: 0.8907242693773825\n",
            "spec/train: 0.9961315280464217\n",
            "f1/train: 0.9407592024539878\n",
            "--------------------------------------------------------------------------------\n"
          ]
        },
        {
          "name": "stderr",
          "output_type": "stream",
          "text": [
            "100%|██████████| 150/150 [00:33<00:00,  4.51it/s]\n"
          ]
        },
        {
          "name": "stdout",
          "output_type": "stream",
          "text": [
            "Epoch 49\n",
            "--------------------------------------------------------------------------------\n",
            "acc/test: 0.7307571473452718\n",
            "precision/test: 0.759632378932485\n",
            "recall/test: 0.7801778907242694\n",
            "spec/test: 0.6633663366336634\n",
            "f1/test: 0.769768066624877\n",
            "--------------------------------------------------------------------------------\n"
          ]
        },
        {
          "name": "stderr",
          "output_type": "stream",
          "text": [
            "100%|██████████| 151/151 [00:33<00:00,  4.51it/s]\n"
          ]
        },
        {
          "name": "stdout",
          "output_type": "stream",
          "text": [
            "Epoch 50\n",
            "--------------------------------------------------------------------------------\n",
            "acc/train: 0.9384136858475894\n",
            "precision/train: 0.9965649626187109\n",
            "recall/train: 0.8952622980577237\n",
            "spec/train: 0.995889748549323\n",
            "f1/train: 0.9432013769363168\n",
            "--------------------------------------------------------------------------------\n"
          ]
        },
        {
          "name": "stderr",
          "output_type": "stream",
          "text": [
            "100%|██████████| 150/150 [00:33<00:00,  4.54it/s]\n"
          ]
        },
        {
          "name": "stdout",
          "output_type": "stream",
          "text": [
            "Epoch 50\n",
            "--------------------------------------------------------------------------------\n",
            "acc/test: 0.7237407058330715\n",
            "precision/test: 0.7380202288177748\n",
            "recall/test: 0.8079506262479579\n",
            "spec/test: 0.6089108910891089\n",
            "f1/test: 0.7714038128249566\n",
            "--------------------------------------------------------------------------------\n"
          ]
        },
        {
          "name": "stderr",
          "output_type": "stream",
          "text": [
            "100%|██████████| 151/151 [00:33<00:00,  4.45it/s]\n"
          ]
        },
        {
          "name": "stdout",
          "output_type": "stream",
          "text": [
            "Loss reduced from 0.11559138775167875 to 0.11395179766495496 (51/100)\n",
            "Saving checkpoint to /content/drive/MyDrive/4o-SEMESTRE/IC0009/pratica4/model7/checkpointmodel7_2023-10-28 15:39:53.399344.pth.tar\n",
            "Epoch 51\n",
            "--------------------------------------------------------------------------------\n",
            "acc/train: 0.9371695178849144\n",
            "precision/train: 0.9985763677038845\n",
            "recall/train: 0.8912688328190235\n",
            "spec/train: 0.9983075435203095\n",
            "f1/train: 0.9418760790331864\n",
            "--------------------------------------------------------------------------------\n"
          ]
        },
        {
          "name": "stderr",
          "output_type": "stream",
          "text": [
            "100%|██████████| 150/150 [00:32<00:00,  4.64it/s]\n"
          ]
        },
        {
          "name": "stdout",
          "output_type": "stream",
          "text": [
            "Epoch 51\n",
            "--------------------------------------------------------------------------------\n",
            "acc/test: 0.7302335323070479\n",
            "precision/test: 0.7734476971844118\n",
            "recall/test: 0.7529497186422218\n",
            "spec/test: 0.6992574257425742\n",
            "f1/test: 0.7630610743193524\n",
            "--------------------------------------------------------------------------------\n"
          ]
        },
        {
          "name": "stderr",
          "output_type": "stream",
          "text": [
            "100%|██████████| 151/151 [00:34<00:00,  4.41it/s]\n"
          ]
        },
        {
          "name": "stdout",
          "output_type": "stream",
          "text": [
            "Loss reduced from 0.11395179766495496 to 0.11144941739293913 (52/100)\n",
            "Saving checkpoint to /content/drive/MyDrive/4o-SEMESTRE/IC0009/pratica4/model7/checkpointmodel7_2023-10-28 15:39:53.399344.pth.tar\n",
            "Epoch 52\n",
            "--------------------------------------------------------------------------------\n",
            "acc/train: 0.9396578538102643\n",
            "precision/train: 0.99878517918607\n",
            "recall/train: 0.8954438192049374\n",
            "spec/train: 0.9985493230174082\n",
            "f1/train: 0.9442955589586525\n",
            "--------------------------------------------------------------------------------\n"
          ]
        },
        {
          "name": "stderr",
          "output_type": "stream",
          "text": [
            "100%|██████████| 150/150 [00:33<00:00,  4.42it/s]\n"
          ]
        },
        {
          "name": "stdout",
          "output_type": "stream",
          "text": [
            "Epoch 52\n",
            "--------------------------------------------------------------------------------\n",
            "acc/test: 0.7170384333438057\n",
            "precision/test: 0.7221782491689093\n",
            "recall/test: 0.8280994735886731\n",
            "spec/test: 0.5655940594059405\n",
            "f1/test: 0.7715203788263149\n",
            "--------------------------------------------------------------------------------\n"
          ]
        },
        {
          "name": "stderr",
          "output_type": "stream",
          "text": [
            "100%|██████████| 151/151 [00:33<00:00,  4.51it/s]\n"
          ]
        },
        {
          "name": "stdout",
          "output_type": "stream",
          "text": [
            "Epoch 53\n",
            "--------------------------------------------------------------------------------\n",
            "acc/train: 0.9398652151373769\n",
            "precision/train: 0.9993920972644377\n",
            "recall/train: 0.8952622980577237\n",
            "spec/train: 0.999274661508704\n",
            "f1/train: 0.9444657219456147\n",
            "--------------------------------------------------------------------------------\n"
          ]
        },
        {
          "name": "stderr",
          "output_type": "stream",
          "text": [
            "100%|██████████| 150/150 [00:33<00:00,  4.46it/s]\n"
          ]
        },
        {
          "name": "stdout",
          "output_type": "stream",
          "text": [
            "Epoch 53\n",
            "--------------------------------------------------------------------------------\n",
            "acc/test: 0.727301288092994\n",
            "precision/test: 0.7752510896342619\n",
            "recall/test: 0.7426030132510437\n",
            "spec/test: 0.7064356435643564\n",
            "f1/test: 0.758575931763397\n",
            "--------------------------------------------------------------------------------\n"
          ]
        },
        {
          "name": "stderr",
          "output_type": "stream",
          "text": [
            "100%|██████████| 151/151 [00:33<00:00,  4.52it/s]\n"
          ]
        },
        {
          "name": "stdout",
          "output_type": "stream",
          "text": [
            "Loss reduced from 0.11144941739293913 to 0.11040671978959975 (54/100)\n",
            "Saving checkpoint to /content/drive/MyDrive/4o-SEMESTRE/IC0009/pratica4/model7/checkpointmodel7_2023-10-28 15:39:53.399344.pth.tar\n",
            "Epoch 54\n",
            "--------------------------------------------------------------------------------\n",
            "acc/train: 0.9364437532400207\n",
            "precision/train: 0.9981684981684982\n",
            "recall/train: 0.8903612270829552\n",
            "spec/train: 0.9978239845261122\n",
            "f1/train: 0.9411877578432313\n",
            "--------------------------------------------------------------------------------\n"
          ]
        },
        {
          "name": "stderr",
          "output_type": "stream",
          "text": [
            "100%|██████████| 150/150 [00:32<00:00,  4.58it/s]\n"
          ]
        },
        {
          "name": "stdout",
          "output_type": "stream",
          "text": [
            "Epoch 54\n",
            "--------------------------------------------------------------------------------\n",
            "acc/test: 0.7248926589171641\n",
            "precision/test: 0.7522759103641457\n",
            "recall/test: 0.7799963695770558\n",
            "spec/test: 0.6497524752475248\n",
            "f1/test: 0.7658853934586934\n",
            "--------------------------------------------------------------------------------\n"
          ]
        },
        {
          "name": "stderr",
          "output_type": "stream",
          "text": [
            "100%|██████████| 151/151 [00:34<00:00,  4.38it/s]\n"
          ]
        },
        {
          "name": "stdout",
          "output_type": "stream",
          "text": [
            "Epoch 55\n",
            "--------------------------------------------------------------------------------\n",
            "acc/train: 0.9401762571280456\n",
            "precision/train: 0.9967767929089444\n",
            "recall/train: 0.8981666364131421\n",
            "spec/train: 0.9961315280464217\n",
            "f1/train: 0.94490594862981\n",
            "--------------------------------------------------------------------------------\n"
          ]
        },
        {
          "name": "stderr",
          "output_type": "stream",
          "text": [
            "100%|██████████| 150/150 [00:32<00:00,  4.58it/s]\n"
          ]
        },
        {
          "name": "stdout",
          "output_type": "stream",
          "text": [
            "Epoch 55\n",
            "--------------------------------------------------------------------------------\n",
            "acc/test: 0.725939888993612\n",
            "precision/test: 0.7529741077676697\n",
            "recall/test: 0.7812670176075512\n",
            "spec/test: 0.6504950495049505\n",
            "f1/test: 0.7668596881959909\n",
            "--------------------------------------------------------------------------------\n"
          ]
        },
        {
          "name": "stderr",
          "output_type": "stream",
          "text": [
            "100%|██████████| 151/151 [00:33<00:00,  4.54it/s]\n"
          ]
        },
        {
          "name": "stdout",
          "output_type": "stream",
          "text": [
            "Epoch 56\n",
            "--------------------------------------------------------------------------------\n",
            "acc/train: 0.938621047174702\n",
            "precision/train: 0.9977728285077951\n",
            "recall/train: 0.8945362134688691\n",
            "spec/train: 0.9973404255319149\n",
            "f1/train: 0.9433384379785605\n",
            "--------------------------------------------------------------------------------\n"
          ]
        },
        {
          "name": "stderr",
          "output_type": "stream",
          "text": [
            "100%|██████████| 150/150 [00:35<00:00,  4.24it/s]\n"
          ]
        },
        {
          "name": "stdout",
          "output_type": "stream",
          "text": [
            "Epoch 56\n",
            "--------------------------------------------------------------------------------\n",
            "acc/test: 0.7255209969630327\n",
            "precision/test: 0.7493093922651933\n",
            "recall/test: 0.7878017789072427\n",
            "spec/test: 0.6405940594059406\n",
            "f1/test: 0.7680736218033801\n",
            "--------------------------------------------------------------------------------\n"
          ]
        },
        {
          "name": "stderr",
          "output_type": "stream",
          "text": [
            "100%|██████████| 151/151 [00:33<00:00,  4.52it/s]\n"
          ]
        },
        {
          "name": "stdout",
          "output_type": "stream",
          "text": [
            "Epoch 57\n",
            "--------------------------------------------------------------------------------\n",
            "acc/train: 0.9388284085018144\n",
            "precision/train: 0.9977737300141671\n",
            "recall/train: 0.8948992557632964\n",
            "spec/train: 0.9973404255319149\n",
            "f1/train: 0.9435406698564592\n",
            "--------------------------------------------------------------------------------\n"
          ]
        },
        {
          "name": "stderr",
          "output_type": "stream",
          "text": [
            "100%|██████████| 150/150 [00:33<00:00,  4.47it/s]\n"
          ]
        },
        {
          "name": "stdout",
          "output_type": "stream",
          "text": [
            "Epoch 57\n",
            "--------------------------------------------------------------------------------\n",
            "acc/test: 0.7284532411770867\n",
            "precision/test: 0.7648982558139535\n",
            "recall/test: 0.7642040297694681\n",
            "spec/test: 0.6797029702970298\n",
            "f1/test: 0.7645509851993098\n",
            "--------------------------------------------------------------------------------\n"
          ]
        },
        {
          "name": "stderr",
          "output_type": "stream",
          "text": [
            "100%|██████████| 151/151 [00:34<00:00,  4.39it/s]\n"
          ]
        },
        {
          "name": "stdout",
          "output_type": "stream",
          "text": [
            "Epoch 58\n",
            "--------------------------------------------------------------------------------\n",
            "acc/train: 0.9396578538102643\n",
            "precision/train: 0.9983815496661946\n",
            "recall/train: 0.8958068614993647\n",
            "spec/train: 0.9980657640232108\n",
            "f1/train: 0.9443168771526981\n",
            "--------------------------------------------------------------------------------\n"
          ]
        },
        {
          "name": "stderr",
          "output_type": "stream",
          "text": [
            "100%|██████████| 150/150 [00:32<00:00,  4.64it/s]\n"
          ]
        },
        {
          "name": "stdout",
          "output_type": "stream",
          "text": [
            "Epoch 58\n",
            "--------------------------------------------------------------------------------\n",
            "acc/test: 0.7269871190700596\n",
            "precision/test: 0.7542046250875963\n",
            "recall/test: 0.7814485387547649\n",
            "spec/test: 0.6527227722772277\n",
            "f1/test: 0.767584915752875\n",
            "--------------------------------------------------------------------------------\n"
          ]
        },
        {
          "name": "stderr",
          "output_type": "stream",
          "text": [
            "100%|██████████| 151/151 [00:34<00:00,  4.33it/s]\n"
          ]
        },
        {
          "name": "stdout",
          "output_type": "stream",
          "text": [
            "Loss reduced from 0.11040671978959975 to 0.10877748482570743 (59/100)\n",
            "Saving checkpoint to /content/drive/MyDrive/4o-SEMESTRE/IC0009/pratica4/model7/checkpointmodel7_2023-10-28 15:39:53.399344.pth.tar\n",
            "Epoch 59\n",
            "--------------------------------------------------------------------------------\n",
            "acc/train: 0.9390357698289269\n",
            "precision/train: 0.9971711456859972\n",
            "recall/train: 0.8958068614993647\n",
            "spec/train: 0.996615087040619\n",
            "f1/train: 0.9437751004016064\n",
            "--------------------------------------------------------------------------------\n"
          ]
        },
        {
          "name": "stderr",
          "output_type": "stream",
          "text": [
            "100%|██████████| 150/150 [00:32<00:00,  4.57it/s]\n"
          ]
        },
        {
          "name": "stdout",
          "output_type": "stream",
          "text": [
            "Epoch 59\n",
            "--------------------------------------------------------------------------------\n",
            "acc/test: 0.7165148183055817\n",
            "precision/test: 0.7191116671879887\n",
            "recall/test: 0.8346342348883645\n",
            "spec/test: 0.5554455445544555\n",
            "f1/test: 0.772578341594556\n",
            "--------------------------------------------------------------------------------\n"
          ]
        },
        {
          "name": "stderr",
          "output_type": "stream",
          "text": [
            "100%|██████████| 151/151 [00:33<00:00,  4.47it/s]\n"
          ]
        },
        {
          "name": "stdout",
          "output_type": "stream",
          "text": [
            "Epoch 60\n",
            "--------------------------------------------------------------------------------\n",
            "acc/train: 0.9379989631933644\n",
            "precision/train: 0.9985786802030456\n",
            "recall/train: 0.8927210019967327\n",
            "spec/train: 0.9983075435203095\n",
            "f1/train: 0.9426873682192831\n",
            "--------------------------------------------------------------------------------\n"
          ]
        },
        {
          "name": "stderr",
          "output_type": "stream",
          "text": [
            "100%|██████████| 150/150 [00:33<00:00,  4.47it/s]\n"
          ]
        },
        {
          "name": "stdout",
          "output_type": "stream",
          "text": [
            "Epoch 60\n",
            "--------------------------------------------------------------------------------\n",
            "acc/test: 0.7249973819248089\n",
            "precision/test: 0.7444463286416823\n",
            "recall/test: 0.7968778362679252\n",
            "spec/test: 0.626980198019802\n",
            "f1/test: 0.7697702963352622\n",
            "--------------------------------------------------------------------------------\n"
          ]
        },
        {
          "name": "stderr",
          "output_type": "stream",
          "text": [
            "100%|██████████| 151/151 [00:34<00:00,  4.42it/s]\n"
          ]
        },
        {
          "name": "stdout",
          "output_type": "stream",
          "text": [
            "Loss reduced from 0.10877748482570743 to 0.10557536339226938 (61/100)\n",
            "Saving checkpoint to /content/drive/MyDrive/4o-SEMESTRE/IC0009/pratica4/model7/checkpointmodel7_2023-10-28 15:39:53.399344.pth.tar\n",
            "Epoch 61\n",
            "--------------------------------------------------------------------------------\n",
            "acc/train: 0.9428719543805081\n",
            "precision/train: 0.997591328783621\n",
            "recall/train: 0.9021601016518425\n",
            "spec/train: 0.9970986460348162\n",
            "f1/train: 0.9474787913449623\n",
            "--------------------------------------------------------------------------------\n"
          ]
        },
        {
          "name": "stderr",
          "output_type": "stream",
          "text": [
            "100%|██████████| 150/150 [00:33<00:00,  4.47it/s]\n"
          ]
        },
        {
          "name": "stdout",
          "output_type": "stream",
          "text": [
            "Epoch 61\n",
            "--------------------------------------------------------------------------------\n",
            "acc/test: 0.7196565085349251\n",
            "precision/test: 0.7315238718116416\n",
            "recall/test: 0.8121256126338718\n",
            "spec/test: 0.5935643564356435\n",
            "f1/test: 0.769720430107527\n",
            "--------------------------------------------------------------------------------\n"
          ]
        },
        {
          "name": "stderr",
          "output_type": "stream",
          "text": [
            "100%|██████████| 151/151 [00:35<00:00,  4.27it/s]\n"
          ]
        },
        {
          "name": "stdout",
          "output_type": "stream",
          "text": [
            "Epoch 62\n",
            "--------------------------------------------------------------------------------\n",
            "acc/train: 0.9405909797822706\n",
            "precision/train: 0.9981832862333468\n",
            "recall/train: 0.8976220729715012\n",
            "spec/train: 0.9978239845261122\n",
            "f1/train: 0.9452355920863997\n",
            "--------------------------------------------------------------------------------\n"
          ]
        },
        {
          "name": "stderr",
          "output_type": "stream",
          "text": [
            "100%|██████████| 150/150 [00:34<00:00,  4.40it/s]\n"
          ]
        },
        {
          "name": "stdout",
          "output_type": "stream",
          "text": [
            "Epoch 62\n",
            "--------------------------------------------------------------------------------\n",
            "acc/test: 0.7237407058330715\n",
            "precision/test: 0.7492620246570585\n",
            "recall/test: 0.7832637502269014\n",
            "spec/test: 0.6425742574257426\n",
            "f1/test: 0.7658856940007099\n",
            "--------------------------------------------------------------------------------\n"
          ]
        },
        {
          "name": "stderr",
          "output_type": "stream",
          "text": [
            "100%|██████████| 151/151 [00:33<00:00,  4.48it/s]\n"
          ]
        },
        {
          "name": "stdout",
          "output_type": "stream",
          "text": [
            "Epoch 63\n",
            "--------------------------------------------------------------------------------\n",
            "acc/train: 0.9394504924831519\n",
            "precision/train: 0.9973742678246819\n",
            "recall/train: 0.8963514249410056\n",
            "spec/train: 0.9968568665377177\n",
            "f1/train: 0.944168260038241\n",
            "--------------------------------------------------------------------------------\n"
          ]
        },
        {
          "name": "stderr",
          "output_type": "stream",
          "text": [
            "100%|██████████| 150/150 [00:33<00:00,  4.43it/s]\n"
          ]
        },
        {
          "name": "stdout",
          "output_type": "stream",
          "text": [
            "Epoch 63\n",
            "--------------------------------------------------------------------------------\n",
            "acc/test: 0.7234265368101371\n",
            "precision/test: 0.7452120383036935\n",
            "recall/test: 0.7910691595570885\n",
            "spec/test: 0.6311881188118812\n",
            "f1/test: 0.7674561944175398\n",
            "--------------------------------------------------------------------------------\n"
          ]
        },
        {
          "name": "stderr",
          "output_type": "stream",
          "text": [
            "100%|██████████| 151/151 [00:33<00:00,  4.45it/s]\n"
          ]
        },
        {
          "name": "stdout",
          "output_type": "stream",
          "text": [
            "Epoch 64\n",
            "--------------------------------------------------------------------------------\n",
            "acc/train: 0.9393468118195957\n",
            "precision/train: 0.997172859450727\n",
            "recall/train: 0.8963514249410056\n",
            "spec/train: 0.996615087040619\n",
            "f1/train: 0.9440780040149125\n",
            "--------------------------------------------------------------------------------\n"
          ]
        },
        {
          "name": "stderr",
          "output_type": "stream",
          "text": [
            "100%|██████████| 150/150 [00:32<00:00,  4.55it/s]\n"
          ]
        },
        {
          "name": "stdout",
          "output_type": "stream",
          "text": [
            "Epoch 64\n",
            "--------------------------------------------------------------------------------\n",
            "acc/test: 0.7240548748560058\n",
            "precision/test: 0.7569742489270386\n",
            "recall/test: 0.7683790161553821\n",
            "spec/test: 0.6636138613861386\n",
            "f1/test: 0.7626339969372128\n",
            "--------------------------------------------------------------------------------\n"
          ]
        },
        {
          "name": "stderr",
          "output_type": "stream",
          "text": [
            "100%|██████████| 151/151 [00:34<00:00,  4.32it/s]\n"
          ]
        },
        {
          "name": "stdout",
          "output_type": "stream",
          "text": [
            "Epoch 65\n",
            "--------------------------------------------------------------------------------\n",
            "acc/train: 0.9368584758942458\n",
            "precision/train: 0.9971590909090909\n",
            "recall/train: 0.8919949174078781\n",
            "spec/train: 0.996615087040619\n",
            "f1/train: 0.9416498993963784\n",
            "--------------------------------------------------------------------------------\n"
          ]
        },
        {
          "name": "stderr",
          "output_type": "stream",
          "text": [
            "100%|██████████| 150/150 [00:32<00:00,  4.61it/s]\n"
          ]
        },
        {
          "name": "stdout",
          "output_type": "stream",
          "text": [
            "Epoch 65\n",
            "--------------------------------------------------------------------------------\n",
            "acc/test: 0.7241595978636507\n",
            "precision/test: 0.7363143185927996\n",
            "recall/test: 0.8130332183699401\n",
            "spec/test: 0.602970297029703\n",
            "f1/test: 0.7727743271221532\n",
            "--------------------------------------------------------------------------------\n"
          ]
        },
        {
          "name": "stderr",
          "output_type": "stream",
          "text": [
            "100%|██████████| 151/151 [00:33<00:00,  4.46it/s]\n"
          ]
        },
        {
          "name": "stdout",
          "output_type": "stream",
          "text": [
            "Epoch 66\n",
            "--------------------------------------------------------------------------------\n",
            "acc/train: 0.9414204250907205\n",
            "precision/train: 0.9983870967741936\n",
            "recall/train: 0.8988927210019967\n",
            "spec/train: 0.9980657640232108\n",
            "f1/train: 0.9460311395548763\n",
            "--------------------------------------------------------------------------------\n"
          ]
        },
        {
          "name": "stderr",
          "output_type": "stream",
          "text": [
            "100%|██████████| 150/150 [00:34<00:00,  4.38it/s]\n"
          ]
        },
        {
          "name": "stdout",
          "output_type": "stream",
          "text": [
            "Epoch 66\n",
            "--------------------------------------------------------------------------------\n",
            "acc/test: 0.7238454288407163\n",
            "precision/test: 0.7443839346494214\n",
            "recall/test: 0.7939734979125068\n",
            "spec/test: 0.6282178217821782\n",
            "f1/test: 0.7683794466403162\n",
            "--------------------------------------------------------------------------------\n"
          ]
        },
        {
          "name": "stderr",
          "output_type": "stream",
          "text": [
            "100%|██████████| 151/151 [00:34<00:00,  4.42it/s]\n"
          ]
        },
        {
          "name": "stdout",
          "output_type": "stream",
          "text": [
            "Loss reduced from 0.10557536339226938 to 0.10146132294113273 (67/100)\n",
            "Saving checkpoint to /content/drive/MyDrive/4o-SEMESTRE/IC0009/pratica4/model7/checkpointmodel7_2023-10-28 15:39:53.399344.pth.tar\n",
            "Epoch 67\n",
            "--------------------------------------------------------------------------------\n",
            "acc/train: 0.9430793157076205\n",
            "precision/train: 0.9989939637826962\n",
            "recall/train: 0.9012524959157742\n",
            "spec/train: 0.9987911025145068\n",
            "f1/train: 0.9476095047237331\n",
            "--------------------------------------------------------------------------------\n"
          ]
        },
        {
          "name": "stderr",
          "output_type": "stream",
          "text": [
            "100%|██████████| 150/150 [00:33<00:00,  4.53it/s]\n"
          ]
        },
        {
          "name": "stdout",
          "output_type": "stream",
          "text": [
            "Epoch 67\n",
            "--------------------------------------------------------------------------------\n",
            "acc/test: 0.7196565085349251\n",
            "precision/test: 0.7179802955665024\n",
            "recall/test: 0.8466146306044654\n",
            "spec/test: 0.5465346534653466\n",
            "f1/test: 0.7770095793419407\n",
            "--------------------------------------------------------------------------------\n"
          ]
        },
        {
          "name": "stderr",
          "output_type": "stream",
          "text": [
            "100%|██████████| 151/151 [00:35<00:00,  4.31it/s]\n"
          ]
        },
        {
          "name": "stdout",
          "output_type": "stream",
          "text": [
            "Epoch 68\n",
            "--------------------------------------------------------------------------------\n",
            "acc/train: 0.9364437532400207\n",
            "precision/train: 0.9973587972368956\n",
            "recall/train: 0.8910873116718098\n",
            "spec/train: 0.9968568665377177\n",
            "f1/train: 0.9412328635797144\n",
            "--------------------------------------------------------------------------------\n"
          ]
        },
        {
          "name": "stderr",
          "output_type": "stream",
          "text": [
            "100%|██████████| 150/150 [00:33<00:00,  4.51it/s]\n"
          ]
        },
        {
          "name": "stdout",
          "output_type": "stream",
          "text": [
            "Epoch 68\n",
            "--------------------------------------------------------------------------------\n",
            "acc/test: 0.7174573253743848\n",
            "precision/test: 0.7275376396308888\n",
            "recall/test: 0.8157560355781448\n",
            "spec/test: 0.5834158415841584\n",
            "f1/test: 0.7691254492555195\n",
            "--------------------------------------------------------------------------------\n"
          ]
        },
        {
          "name": "stderr",
          "output_type": "stream",
          "text": [
            "100%|██████████| 151/151 [00:34<00:00,  4.40it/s]\n"
          ]
        },
        {
          "name": "stdout",
          "output_type": "stream",
          "text": [
            "Epoch 69\n",
            "--------------------------------------------------------------------------------\n",
            "acc/train: 0.9402799377916019\n",
            "precision/train: 0.9963775407526665\n",
            "recall/train: 0.8987111998547831\n",
            "spec/train: 0.9956479690522244\n",
            "f1/train: 0.9450276770376026\n",
            "--------------------------------------------------------------------------------\n"
          ]
        },
        {
          "name": "stderr",
          "output_type": "stream",
          "text": [
            "100%|██████████| 150/150 [00:34<00:00,  4.37it/s]\n"
          ]
        },
        {
          "name": "stdout",
          "output_type": "stream",
          "text": [
            "Epoch 69\n",
            "--------------------------------------------------------------------------------\n",
            "acc/test: 0.7275107341082836\n",
            "precision/test: 0.7668441343859005\n",
            "recall/test: 0.7582138319114177\n",
            "spec/test: 0.6856435643564357\n",
            "f1/test: 0.762504563709383\n",
            "--------------------------------------------------------------------------------\n"
          ]
        },
        {
          "name": "stderr",
          "output_type": "stream",
          "text": [
            "100%|██████████| 151/151 [00:34<00:00,  4.39it/s]\n"
          ]
        },
        {
          "name": "stdout",
          "output_type": "stream",
          "text": [
            "Epoch 70\n",
            "--------------------------------------------------------------------------------\n",
            "acc/train: 0.9388284085018144\n",
            "precision/train: 0.9981770305853758\n",
            "recall/train: 0.8945362134688691\n",
            "spec/train: 0.9978239845261122\n",
            "f1/train: 0.9435190503542026\n",
            "--------------------------------------------------------------------------------\n"
          ]
        },
        {
          "name": "stderr",
          "output_type": "stream",
          "text": [
            "100%|██████████| 150/150 [00:33<00:00,  4.41it/s]\n"
          ]
        },
        {
          "name": "stdout",
          "output_type": "stream",
          "text": [
            "Epoch 70\n",
            "--------------------------------------------------------------------------------\n",
            "acc/test: 0.7183998324431877\n",
            "precision/test: 0.7192164179104478\n",
            "recall/test: 0.8397168270103467\n",
            "spec/test: 0.552970297029703\n",
            "f1/test: 0.7748094799430533\n",
            "--------------------------------------------------------------------------------\n"
          ]
        },
        {
          "name": "stderr",
          "output_type": "stream",
          "text": [
            "100%|██████████| 151/151 [00:35<00:00,  4.24it/s]\n"
          ]
        },
        {
          "name": "stdout",
          "output_type": "stream",
          "text": [
            "Epoch 71\n",
            "--------------------------------------------------------------------------------\n",
            "acc/train: 0.9367547952306895\n",
            "precision/train: 0.9981696156192801\n",
            "recall/train: 0.8909057905245961\n",
            "spec/train: 0.9978239845261122\n",
            "f1/train: 0.9414924227891809\n",
            "--------------------------------------------------------------------------------\n"
          ]
        },
        {
          "name": "stderr",
          "output_type": "stream",
          "text": [
            "100%|██████████| 150/150 [00:33<00:00,  4.46it/s]\n"
          ]
        },
        {
          "name": "stdout",
          "output_type": "stream",
          "text": [
            "Epoch 71\n",
            "--------------------------------------------------------------------------------\n",
            "acc/test: 0.7280343491465074\n",
            "precision/test: 0.7664714494875549\n",
            "recall/test: 0.7602105645307679\n",
            "spec/test: 0.6841584158415842\n",
            "f1/test: 0.7633281691424406\n",
            "--------------------------------------------------------------------------------\n"
          ]
        },
        {
          "name": "stderr",
          "output_type": "stream",
          "text": [
            "100%|██████████| 151/151 [00:35<00:00,  4.26it/s]\n"
          ]
        },
        {
          "name": "stdout",
          "output_type": "stream",
          "text": [
            "Epoch 72\n",
            "--------------------------------------------------------------------------------\n",
            "acc/train: 0.9398652151373769\n",
            "precision/train: 0.9971757111155941\n",
            "recall/train: 0.8972590306770739\n",
            "spec/train: 0.996615087040619\n",
            "f1/train: 0.9445824574813682\n",
            "--------------------------------------------------------------------------------\n"
          ]
        },
        {
          "name": "stderr",
          "output_type": "stream",
          "text": [
            "100%|██████████| 150/150 [00:33<00:00,  4.48it/s]\n"
          ]
        },
        {
          "name": "stdout",
          "output_type": "stream",
          "text": [
            "Epoch 72\n",
            "--------------------------------------------------------------------------------\n",
            "acc/test: 0.7210179076343073\n",
            "precision/test: 0.7380753138075313\n",
            "recall/test: 0.8005082592121983\n",
            "spec/test: 0.6126237623762376\n",
            "f1/test: 0.7680250783699061\n",
            "--------------------------------------------------------------------------------\n"
          ]
        },
        {
          "name": "stderr",
          "output_type": "stream",
          "text": [
            "100%|██████████| 151/151 [00:35<00:00,  4.31it/s]\n"
          ]
        },
        {
          "name": "stdout",
          "output_type": "stream",
          "text": [
            "Epoch 73\n",
            "--------------------------------------------------------------------------------\n",
            "acc/train: 0.9398652151373769\n",
            "precision/train: 0.9979793897757122\n",
            "recall/train: 0.8965329460882193\n",
            "spec/train: 0.9975822050290135\n",
            "f1/train: 0.9445400650219927\n",
            "--------------------------------------------------------------------------------\n"
          ]
        },
        {
          "name": "stderr",
          "output_type": "stream",
          "text": [
            "100%|██████████| 150/150 [00:34<00:00,  4.41it/s]\n"
          ]
        },
        {
          "name": "stdout",
          "output_type": "stream",
          "text": [
            "Epoch 73\n",
            "--------------------------------------------------------------------------------\n",
            "acc/test: 0.7204942925960833\n",
            "precision/test: 0.7337833388212052\n",
            "recall/test: 0.8090397531312398\n",
            "spec/test: 0.5997524752475247\n",
            "f1/test: 0.7695761029094362\n",
            "--------------------------------------------------------------------------------\n"
          ]
        },
        {
          "name": "stderr",
          "output_type": "stream",
          "text": [
            "100%|██████████| 151/151 [00:34<00:00,  4.41it/s]\n"
          ]
        },
        {
          "name": "stdout",
          "output_type": "stream",
          "text": [
            "Epoch 74\n",
            "--------------------------------------------------------------------------------\n",
            "acc/train: 0.9410057024364956\n",
            "precision/train: 0.9981847519160952\n",
            "recall/train: 0.8983481575603558\n",
            "spec/train: 0.9978239845261122\n",
            "f1/train: 0.9456386739275819\n",
            "--------------------------------------------------------------------------------\n"
          ]
        },
        {
          "name": "stderr",
          "output_type": "stream",
          "text": [
            "100%|██████████| 150/150 [00:33<00:00,  4.47it/s]\n"
          ]
        },
        {
          "name": "stdout",
          "output_type": "stream",
          "text": [
            "Epoch 74\n",
            "--------------------------------------------------------------------------------\n",
            "acc/test: 0.7262540580165462\n",
            "precision/test: 0.7626565051714752\n",
            "recall/test: 0.7629333817389726\n",
            "spec/test: 0.6762376237623763\n",
            "f1/test: 0.7627949183303085\n",
            "--------------------------------------------------------------------------------\n"
          ]
        },
        {
          "name": "stderr",
          "output_type": "stream",
          "text": [
            "100%|██████████| 151/151 [00:34<00:00,  4.44it/s]\n"
          ]
        },
        {
          "name": "stdout",
          "output_type": "stream",
          "text": [
            "Epoch 75\n",
            "--------------------------------------------------------------------------------\n",
            "acc/train: 0.9419388284085018\n",
            "precision/train: 0.9969873468567986\n",
            "recall/train: 0.9010709747685606\n",
            "spec/train: 0.9963733075435203\n",
            "f1/train: 0.946605644546148\n",
            "--------------------------------------------------------------------------------\n"
          ]
        },
        {
          "name": "stderr",
          "output_type": "stream",
          "text": [
            "100%|██████████| 150/150 [00:34<00:00,  4.40it/s]\n"
          ]
        },
        {
          "name": "stdout",
          "output_type": "stream",
          "text": [
            "Epoch 75\n",
            "--------------------------------------------------------------------------------\n",
            "acc/test: 0.7241595978636507\n",
            "precision/test: 0.7682403433476395\n",
            "recall/test: 0.7473225630785987\n",
            "spec/test: 0.6925742574257425\n",
            "f1/test: 0.7576370997423629\n",
            "--------------------------------------------------------------------------------\n"
          ]
        },
        {
          "name": "stderr",
          "output_type": "stream",
          "text": [
            "100%|██████████| 151/151 [00:34<00:00,  4.34it/s]\n"
          ]
        },
        {
          "name": "stdout",
          "output_type": "stream",
          "text": [
            "Epoch 76\n",
            "--------------------------------------------------------------------------------\n",
            "acc/train: 0.9433903576982893\n",
            "precision/train: 0.9971949509116409\n",
            "recall/train: 0.9034307496823379\n",
            "spec/train: 0.996615087040619\n",
            "f1/train: 0.948\n",
            "--------------------------------------------------------------------------------\n"
          ]
        },
        {
          "name": "stderr",
          "output_type": "stream",
          "text": [
            "100%|██████████| 150/150 [00:33<00:00,  4.45it/s]\n"
          ]
        },
        {
          "name": "stdout",
          "output_type": "stream",
          "text": [
            "Epoch 76\n",
            "--------------------------------------------------------------------------------\n",
            "acc/test: 0.7258351659859671\n",
            "precision/test: 0.7751760898534171\n",
            "recall/test: 0.7391541114539844\n",
            "spec/test: 0.7076732673267326\n",
            "f1/test: 0.7567366660472031\n",
            "--------------------------------------------------------------------------------\n"
          ]
        },
        {
          "name": "stderr",
          "output_type": "stream",
          "text": [
            "100%|██████████| 151/151 [00:34<00:00,  4.39it/s]\n"
          ]
        },
        {
          "name": "stdout",
          "output_type": "stream",
          "text": [
            "Epoch 77\n",
            "--------------------------------------------------------------------------------\n",
            "acc/train: 0.9372731985484707\n",
            "precision/train: 0.9977669508729192\n",
            "recall/train: 0.8921764385550917\n",
            "spec/train: 0.9973404255319149\n",
            "f1/train: 0.9420220412074749\n",
            "--------------------------------------------------------------------------------\n"
          ]
        },
        {
          "name": "stderr",
          "output_type": "stream",
          "text": [
            "100%|██████████| 150/150 [00:33<00:00,  4.49it/s]\n"
          ]
        },
        {
          "name": "stdout",
          "output_type": "stream",
          "text": [
            "Epoch 77\n",
            "--------------------------------------------------------------------------------\n",
            "acc/test: 0.7190281704890564\n",
            "precision/test: 0.7278297323444051\n",
            "recall/test: 0.8193864585224179\n",
            "spec/test: 0.5821782178217821\n",
            "f1/test: 0.7708991546409358\n",
            "--------------------------------------------------------------------------------\n"
          ]
        },
        {
          "name": "stderr",
          "output_type": "stream",
          "text": [
            "100%|██████████| 151/151 [00:33<00:00,  4.46it/s]\n"
          ]
        },
        {
          "name": "stdout",
          "output_type": "stream",
          "text": [
            "Epoch 78\n",
            "--------------------------------------------------------------------------------\n",
            "acc/train: 0.9366511145671332\n",
            "precision/train: 0.9983719983719984\n",
            "recall/train: 0.8905427482301688\n",
            "spec/train: 0.9980657640232108\n",
            "f1/train: 0.9413796411781638\n",
            "--------------------------------------------------------------------------------\n"
          ]
        },
        {
          "name": "stderr",
          "output_type": "stream",
          "text": [
            "100%|██████████| 150/150 [00:33<00:00,  4.50it/s]\n"
          ]
        },
        {
          "name": "stdout",
          "output_type": "stream",
          "text": [
            "Epoch 78\n",
            "--------------------------------------------------------------------------------\n",
            "acc/test: 0.7212273536495968\n",
            "precision/test: 0.7444616177228233\n",
            "recall/test: 0.7868941731711745\n",
            "spec/test: 0.6316831683168317\n",
            "f1/test: 0.765090010589481\n",
            "--------------------------------------------------------------------------------\n"
          ]
        },
        {
          "name": "stderr",
          "output_type": "stream",
          "text": [
            "100%|██████████| 151/151 [00:33<00:00,  4.47it/s]\n"
          ]
        },
        {
          "name": "stdout",
          "output_type": "stream",
          "text": [
            "Epoch 79\n",
            "--------------------------------------------------------------------------------\n",
            "acc/train: 0.9394504924831519\n",
            "precision/train: 0.998179243374469\n",
            "recall/train: 0.895625340352151\n",
            "spec/train: 0.9978239845261122\n",
            "f1/train: 0.9441255262150785\n",
            "--------------------------------------------------------------------------------\n"
          ]
        },
        {
          "name": "stderr",
          "output_type": "stream",
          "text": [
            "100%|██████████| 150/150 [00:32<00:00,  4.63it/s]\n"
          ]
        },
        {
          "name": "stdout",
          "output_type": "stream",
          "text": [
            "Epoch 79\n",
            "--------------------------------------------------------------------------------\n",
            "acc/test: 0.7227981987642685\n",
            "precision/test: 0.7416413373860182\n",
            "recall/test: 0.7972408785623525\n",
            "spec/test: 0.6212871287128713\n",
            "f1/test: 0.7684367071997199\n",
            "--------------------------------------------------------------------------------\n"
          ]
        },
        {
          "name": "stderr",
          "output_type": "stream",
          "text": [
            "100%|██████████| 151/151 [00:34<00:00,  4.34it/s]\n"
          ]
        },
        {
          "name": "stdout",
          "output_type": "stream",
          "text": [
            "Epoch 80\n",
            "--------------------------------------------------------------------------------\n",
            "acc/train: 0.9389320891653706\n",
            "precision/train: 0.9981773997569866\n",
            "recall/train: 0.8947177346160827\n",
            "spec/train: 0.9978239845261122\n",
            "f1/train: 0.943620178041543\n",
            "--------------------------------------------------------------------------------\n"
          ]
        },
        {
          "name": "stderr",
          "output_type": "stream",
          "text": [
            "100%|██████████| 150/150 [00:32<00:00,  4.59it/s]\n"
          ]
        },
        {
          "name": "stdout",
          "output_type": "stream",
          "text": [
            "Epoch 80\n",
            "--------------------------------------------------------------------------------\n",
            "acc/test: 0.7220651377107551\n",
            "precision/test: 0.7285096846486313\n",
            "recall/test: 0.8261027409693229\n",
            "spec/test: 0.5801980198019802\n",
            "f1/test: 0.7742429397754338\n",
            "--------------------------------------------------------------------------------\n"
          ]
        },
        {
          "name": "stderr",
          "output_type": "stream",
          "text": [
            "100%|██████████| 151/151 [00:34<00:00,  4.44it/s]\n"
          ]
        },
        {
          "name": "stdout",
          "output_type": "stream",
          "text": [
            "Epoch 81\n",
            "--------------------------------------------------------------------------------\n",
            "acc/train: 0.9374805598755832\n",
            "precision/train: 0.9977678571428571\n",
            "recall/train: 0.892539480849519\n",
            "spec/train: 0.9973404255319149\n",
            "f1/train: 0.9422247772348376\n",
            "--------------------------------------------------------------------------------\n"
          ]
        },
        {
          "name": "stderr",
          "output_type": "stream",
          "text": [
            "100%|██████████| 150/150 [00:34<00:00,  4.41it/s]\n"
          ]
        },
        {
          "name": "stdout",
          "output_type": "stream",
          "text": [
            "Epoch 81\n",
            "--------------------------------------------------------------------------------\n",
            "acc/test: 0.7200754005655042\n",
            "precision/test: 0.7387205387205387\n",
            "recall/test: 0.7965147939734979\n",
            "spec/test: 0.6158415841584158\n",
            "f1/test: 0.7665298279325706\n",
            "--------------------------------------------------------------------------------\n"
          ]
        },
        {
          "name": "stderr",
          "output_type": "stream",
          "text": [
            "100%|██████████| 151/151 [00:34<00:00,  4.42it/s]\n"
          ]
        },
        {
          "name": "stdout",
          "output_type": "stream",
          "text": [
            "Loss reduced from 0.10146132294113273 to 0.10127155862699282 (82/100)\n",
            "Saving checkpoint to /content/drive/MyDrive/4o-SEMESTRE/IC0009/pratica4/model7/checkpointmodel7_2023-10-28 15:39:53.399344.pth.tar\n",
            "Epoch 82\n",
            "--------------------------------------------------------------------------------\n",
            "acc/train: 0.9398652151373769\n",
            "precision/train: 0.996574652427967\n",
            "recall/train: 0.8978035941187148\n",
            "spec/train: 0.995889748549323\n",
            "f1/train: 0.9446142093200915\n",
            "--------------------------------------------------------------------------------\n"
          ]
        },
        {
          "name": "stderr",
          "output_type": "stream",
          "text": [
            "100%|██████████| 150/150 [00:33<00:00,  4.45it/s]\n"
          ]
        },
        {
          "name": "stdout",
          "output_type": "stream",
          "text": [
            "Epoch 82\n",
            "--------------------------------------------------------------------------------\n",
            "acc/test: 0.7198659545502147\n",
            "precision/test: 0.7350696748506967\n",
            "recall/test: 0.8043202033036849\n",
            "spec/test: 0.6047029702970297\n",
            "f1/test: 0.7681372973910029\n",
            "--------------------------------------------------------------------------------\n"
          ]
        },
        {
          "name": "stderr",
          "output_type": "stream",
          "text": [
            "100%|██████████| 151/151 [00:34<00:00,  4.32it/s]\n"
          ]
        },
        {
          "name": "stdout",
          "output_type": "stream",
          "text": [
            "Epoch 83\n",
            "--------------------------------------------------------------------------------\n",
            "acc/train: 0.9381026438569207\n",
            "precision/train: 0.9983766233766234\n",
            "recall/train: 0.89308404429116\n",
            "spec/train: 0.9980657640232108\n",
            "f1/train: 0.942799655073297\n",
            "--------------------------------------------------------------------------------\n"
          ]
        },
        {
          "name": "stderr",
          "output_type": "stream",
          "text": [
            "100%|██████████| 150/150 [00:32<00:00,  4.59it/s]\n"
          ]
        },
        {
          "name": "stdout",
          "output_type": "stream",
          "text": [
            "Epoch 83\n",
            "--------------------------------------------------------------------------------\n",
            "acc/test: 0.7146298041679757\n",
            "precision/test: 0.717567989996874\n",
            "recall/test: 0.8333635868578689\n",
            "spec/test: 0.5527227722772278\n",
            "f1/test: 0.7711430251112791\n",
            "--------------------------------------------------------------------------------\n"
          ]
        },
        {
          "name": "stderr",
          "output_type": "stream",
          "text": [
            "100%|██████████| 151/151 [00:34<00:00,  4.42it/s]\n"
          ]
        },
        {
          "name": "stdout",
          "output_type": "stream",
          "text": [
            "Loss reduced from 0.10127155862699282 to 0.10000671769510831 (84/100)\n",
            "Saving checkpoint to /content/drive/MyDrive/4o-SEMESTRE/IC0009/pratica4/model7/checkpointmodel7_2023-10-28 15:39:53.399344.pth.tar\n",
            "Epoch 84\n",
            "--------------------------------------------------------------------------------\n",
            "acc/train: 0.944945567651633\n",
            "precision/train: 0.9989975942261428\n",
            "recall/train: 0.9045198765656199\n",
            "spec/train: 0.9987911025145068\n",
            "f1/train: 0.9494141183195198\n",
            "--------------------------------------------------------------------------------\n"
          ]
        },
        {
          "name": "stderr",
          "output_type": "stream",
          "text": [
            "100%|██████████| 150/150 [00:33<00:00,  4.52it/s]\n"
          ]
        },
        {
          "name": "stdout",
          "output_type": "stream",
          "text": [
            "Epoch 84\n",
            "--------------------------------------------------------------------------------\n",
            "acc/test: 0.7166195413132265\n",
            "precision/test: 0.7312324698894572\n",
            "recall/test: 0.8045017244508985\n",
            "spec/test: 0.5967821782178218\n",
            "f1/test: 0.7661192739844426\n",
            "--------------------------------------------------------------------------------\n"
          ]
        },
        {
          "name": "stderr",
          "output_type": "stream",
          "text": [
            "100%|██████████| 151/151 [00:33<00:00,  4.46it/s]\n"
          ]
        },
        {
          "name": "stdout",
          "output_type": "stream",
          "text": [
            "Epoch 85\n",
            "--------------------------------------------------------------------------------\n",
            "acc/train: 0.9397615344738206\n",
            "precision/train: 0.9993919740575598\n",
            "recall/train: 0.89508077691051\n",
            "spec/train: 0.999274661508704\n",
            "f1/train: 0.9443646461744708\n",
            "--------------------------------------------------------------------------------\n"
          ]
        },
        {
          "name": "stderr",
          "output_type": "stream",
          "text": [
            "100%|██████████| 150/150 [00:34<00:00,  4.36it/s]\n"
          ]
        },
        {
          "name": "stdout",
          "output_type": "stream",
          "text": [
            "Epoch 85\n",
            "--------------------------------------------------------------------------------\n",
            "acc/test: 0.7101267148392502\n",
            "precision/test: 0.7055647217639118\n",
            "recall/test: 0.8538754764930114\n",
            "spec/test: 0.5141089108910891\n",
            "f1/test: 0.7726675427069646\n",
            "--------------------------------------------------------------------------------\n"
          ]
        },
        {
          "name": "stderr",
          "output_type": "stream",
          "text": [
            "100%|██████████| 151/151 [00:34<00:00,  4.42it/s]\n"
          ]
        },
        {
          "name": "stdout",
          "output_type": "stream",
          "text": [
            "Epoch 86\n",
            "--------------------------------------------------------------------------------\n",
            "acc/train: 0.9388284085018144\n",
            "precision/train: 0.9975723244992919\n",
            "recall/train: 0.89508077691051\n",
            "spec/train: 0.9970986460348162\n",
            "f1/train: 0.9435514734022196\n",
            "--------------------------------------------------------------------------------\n"
          ]
        },
        {
          "name": "stderr",
          "output_type": "stream",
          "text": [
            "100%|██████████| 150/150 [00:33<00:00,  4.48it/s]\n"
          ]
        },
        {
          "name": "stdout",
          "output_type": "stream",
          "text": [
            "Epoch 86\n",
            "--------------------------------------------------------------------------------\n",
            "acc/test: 0.7231123677872029\n",
            "precision/test: 0.7344900965788181\n",
            "recall/test: 0.8144853875476493\n",
            "spec/test: 0.5985148514851485\n",
            "f1/test: 0.7724221036322948\n",
            "--------------------------------------------------------------------------------\n"
          ]
        },
        {
          "name": "stderr",
          "output_type": "stream",
          "text": [
            "100%|██████████| 151/151 [00:34<00:00,  4.32it/s]\n"
          ]
        },
        {
          "name": "stdout",
          "output_type": "stream",
          "text": [
            "Loss reduced from 0.10000671769510831 to 0.09876575542996262 (87/100)\n",
            "Saving checkpoint to /content/drive/MyDrive/4o-SEMESTRE/IC0009/pratica4/model7/checkpointmodel7_2023-10-28 15:39:53.399344.pth.tar\n",
            "Epoch 87\n",
            "--------------------------------------------------------------------------------\n",
            "acc/train: 0.9409020217729394\n",
            "precision/train: 0.9973816717019134\n",
            "recall/train: 0.8988927210019967\n",
            "spec/train: 0.9968568665377177\n",
            "f1/train: 0.9455795302654191\n",
            "--------------------------------------------------------------------------------\n"
          ]
        },
        {
          "name": "stderr",
          "output_type": "stream",
          "text": [
            "100%|██████████| 150/150 [00:33<00:00,  4.46it/s]\n"
          ]
        },
        {
          "name": "stdout",
          "output_type": "stream",
          "text": [
            "Epoch 87\n",
            "--------------------------------------------------------------------------------\n",
            "acc/test: 0.714525081160331\n",
            "precision/test: 0.71965272296764\n",
            "recall/test: 0.8275549101470321\n",
            "spec/test: 0.5603960396039604\n",
            "f1/test: 0.7698412698412699\n",
            "--------------------------------------------------------------------------------\n"
          ]
        },
        {
          "name": "stderr",
          "output_type": "stream",
          "text": [
            "100%|██████████| 151/151 [00:34<00:00,  4.38it/s]\n"
          ]
        },
        {
          "name": "stdout",
          "output_type": "stream",
          "text": [
            "Epoch 88\n",
            "--------------------------------------------------------------------------------\n",
            "acc/train: 0.9398652151373769\n",
            "precision/train: 0.9979793897757122\n",
            "recall/train: 0.8965329460882193\n",
            "spec/train: 0.9975822050290135\n",
            "f1/train: 0.9445400650219927\n",
            "--------------------------------------------------------------------------------\n"
          ]
        },
        {
          "name": "stderr",
          "output_type": "stream",
          "text": [
            "100%|██████████| 150/150 [00:33<00:00,  4.44it/s]\n"
          ]
        },
        {
          "name": "stdout",
          "output_type": "stream",
          "text": [
            "Epoch 88\n",
            "--------------------------------------------------------------------------------\n",
            "acc/test: 0.7190281704890564\n",
            "precision/test: 0.731184554973822\n",
            "recall/test: 0.8112180068978035\n",
            "spec/test: 0.5933168316831683\n",
            "f1/test: 0.7691248601669392\n",
            "--------------------------------------------------------------------------------\n"
          ]
        },
        {
          "name": "stderr",
          "output_type": "stream",
          "text": [
            "100%|██████████| 151/151 [00:33<00:00,  4.47it/s]\n"
          ]
        },
        {
          "name": "stdout",
          "output_type": "stream",
          "text": [
            "Epoch 89\n",
            "--------------------------------------------------------------------------------\n",
            "acc/train: 0.9382063245204769\n",
            "precision/train: 0.9977710233029382\n",
            "recall/train: 0.8938101288800145\n",
            "spec/train: 0.9973404255319149\n",
            "f1/train: 0.9429337418613558\n",
            "--------------------------------------------------------------------------------\n"
          ]
        },
        {
          "name": "stderr",
          "output_type": "stream",
          "text": [
            "100%|██████████| 150/150 [00:34<00:00,  4.39it/s]\n"
          ]
        },
        {
          "name": "stdout",
          "output_type": "stream",
          "text": [
            "Epoch 89\n",
            "--------------------------------------------------------------------------------\n",
            "acc/test: 0.7239501518483611\n",
            "precision/test: 0.7520617652219688\n",
            "recall/test: 0.7779996369577056\n",
            "spec/test: 0.6502475247524753\n",
            "f1/test: 0.7648108493932905\n",
            "--------------------------------------------------------------------------------\n"
          ]
        },
        {
          "name": "stderr",
          "output_type": "stream",
          "text": [
            "100%|██████████| 151/151 [00:33<00:00,  4.47it/s]\n"
          ]
        },
        {
          "name": "stdout",
          "output_type": "stream",
          "text": [
            "Epoch 90\n",
            "--------------------------------------------------------------------------------\n",
            "acc/train: 0.9389320891653706\n",
            "precision/train: 0.9975728155339806\n",
            "recall/train: 0.8952622980577237\n",
            "spec/train: 0.9970986460348162\n",
            "f1/train: 0.9436525399406869\n",
            "--------------------------------------------------------------------------------\n"
          ]
        },
        {
          "name": "stderr",
          "output_type": "stream",
          "text": [
            "100%|██████████| 150/150 [00:33<00:00,  4.48it/s]\n"
          ]
        },
        {
          "name": "stdout",
          "output_type": "stream",
          "text": [
            "Epoch 90\n",
            "--------------------------------------------------------------------------------\n",
            "acc/test: 0.7257304429783223\n",
            "precision/test: 0.7606421356421357\n",
            "recall/test: 0.7654746777999637\n",
            "spec/test: 0.6715346534653466\n",
            "f1/test: 0.7630507554510088\n",
            "--------------------------------------------------------------------------------\n"
          ]
        },
        {
          "name": "stderr",
          "output_type": "stream",
          "text": [
            "100%|██████████| 151/151 [00:35<00:00,  4.26it/s]\n"
          ]
        },
        {
          "name": "stdout",
          "output_type": "stream",
          "text": [
            "Epoch 91\n",
            "--------------------------------------------------------------------------------\n",
            "acc/train: 0.9403836184551582\n",
            "precision/train: 0.9987868985038415\n",
            "recall/train: 0.8967144672354329\n",
            "spec/train: 0.9985493230174082\n",
            "f1/train: 0.9450023912003827\n",
            "--------------------------------------------------------------------------------\n"
          ]
        },
        {
          "name": "stderr",
          "output_type": "stream",
          "text": [
            "100%|██████████| 150/150 [00:33<00:00,  4.51it/s]\n"
          ]
        },
        {
          "name": "stdout",
          "output_type": "stream",
          "text": [
            "Epoch 91\n",
            "--------------------------------------------------------------------------------\n",
            "acc/test: 0.721122630641952\n",
            "precision/test: 0.7328968903436989\n",
            "recall/test: 0.8128516972227264\n",
            "spec/test: 0.596039603960396\n",
            "f1/test: 0.7708064377313021\n",
            "--------------------------------------------------------------------------------\n"
          ]
        },
        {
          "name": "stderr",
          "output_type": "stream",
          "text": [
            "100%|██████████| 151/151 [00:34<00:00,  4.37it/s]\n"
          ]
        },
        {
          "name": "stdout",
          "output_type": "stream",
          "text": [
            "Epoch 92\n",
            "--------------------------------------------------------------------------------\n",
            "acc/train: 0.9388284085018144\n",
            "precision/train: 0.9989855954554676\n",
            "recall/train: 0.8938101288800145\n",
            "spec/train: 0.9987911025145068\n",
            "f1/train: 0.9434757616401609\n",
            "--------------------------------------------------------------------------------\n"
          ]
        },
        {
          "name": "stderr",
          "output_type": "stream",
          "text": [
            "100%|██████████| 150/150 [00:32<00:00,  4.57it/s]\n"
          ]
        },
        {
          "name": "stdout",
          "output_type": "stream",
          "text": [
            "Epoch 92\n",
            "--------------------------------------------------------------------------------\n",
            "acc/test: 0.7189234474814117\n",
            "precision/test: 0.7318234039061218\n",
            "recall/test: 0.8094027954256671\n",
            "spec/test: 0.5955445544554455\n",
            "f1/test: 0.7686605757627996\n",
            "--------------------------------------------------------------------------------\n"
          ]
        },
        {
          "name": "stderr",
          "output_type": "stream",
          "text": [
            "100%|██████████| 151/151 [00:34<00:00,  4.43it/s]\n"
          ]
        },
        {
          "name": "stdout",
          "output_type": "stream",
          "text": [
            "Epoch 93\n",
            "--------------------------------------------------------------------------------\n",
            "acc/train: 0.9393468118195957\n",
            "precision/train: 0.9987844408427877\n",
            "recall/train: 0.8948992557632964\n",
            "spec/train: 0.9985493230174082\n",
            "f1/train: 0.9439923408329344\n",
            "--------------------------------------------------------------------------------\n"
          ]
        },
        {
          "name": "stderr",
          "output_type": "stream",
          "text": [
            "100%|██████████| 150/150 [00:33<00:00,  4.42it/s]\n"
          ]
        },
        {
          "name": "stdout",
          "output_type": "stream",
          "text": [
            "Epoch 93\n",
            "--------------------------------------------------------------------------------\n",
            "acc/test: 0.7152581422138444\n",
            "precision/test: 0.7185835161391413\n",
            "recall/test: 0.8324559811218006\n",
            "spec/test: 0.5554455445544555\n",
            "f1/test: 0.7713396686569673\n",
            "--------------------------------------------------------------------------------\n"
          ]
        },
        {
          "name": "stderr",
          "output_type": "stream",
          "text": [
            "100%|██████████| 151/151 [00:34<00:00,  4.36it/s]\n"
          ]
        },
        {
          "name": "stdout",
          "output_type": "stream",
          "text": [
            "Loss reduced from 0.09876575542996262 to 0.09779391474775131 (94/100)\n",
            "Saving checkpoint to /content/drive/MyDrive/4o-SEMESTRE/IC0009/pratica4/model7/checkpointmodel7_2023-10-28 15:39:53.399344.pth.tar\n",
            "Epoch 94\n",
            "--------------------------------------------------------------------------------\n",
            "acc/train: 0.9406946604458268\n",
            "precision/train: 0.9977818108489614\n",
            "recall/train: 0.8981666364131421\n",
            "spec/train: 0.9973404255319149\n",
            "f1/train: 0.9453572793274743\n",
            "--------------------------------------------------------------------------------\n"
          ]
        },
        {
          "name": "stderr",
          "output_type": "stream",
          "text": [
            "100%|██████████| 150/150 [00:33<00:00,  4.49it/s]\n"
          ]
        },
        {
          "name": "stdout",
          "output_type": "stream",
          "text": [
            "Epoch 94\n",
            "--------------------------------------------------------------------------------\n",
            "acc/test: 0.7185045554508326\n",
            "precision/test: 0.7262955238248034\n",
            "recall/test: 0.8217462334361954\n",
            "spec/test: 0.5777227722772277\n",
            "f1/test: 0.771078180889116\n",
            "--------------------------------------------------------------------------------\n"
          ]
        },
        {
          "name": "stderr",
          "output_type": "stream",
          "text": [
            "100%|██████████| 151/151 [00:34<00:00,  4.33it/s]\n"
          ]
        },
        {
          "name": "stdout",
          "output_type": "stream",
          "text": [
            "Epoch 95\n",
            "--------------------------------------------------------------------------------\n",
            "acc/train: 0.9423535510627268\n",
            "precision/train: 0.9973890339425587\n",
            "recall/train: 0.9014340170629879\n",
            "spec/train: 0.9968568665377177\n",
            "f1/train: 0.9469870327993898\n",
            "--------------------------------------------------------------------------------\n"
          ]
        },
        {
          "name": "stderr",
          "output_type": "stream",
          "text": [
            "100%|██████████| 150/150 [00:33<00:00,  4.51it/s]\n"
          ]
        },
        {
          "name": "stdout",
          "output_type": "stream",
          "text": [
            "Epoch 95\n",
            "--------------------------------------------------------------------------------\n",
            "acc/test: 0.714525081160331\n",
            "precision/test: 0.7136496238292646\n",
            "recall/test: 0.843710292249047\n",
            "spec/test: 0.5383663366336634\n",
            "f1/test: 0.7732490434203959\n",
            "--------------------------------------------------------------------------------\n"
          ]
        },
        {
          "name": "stderr",
          "output_type": "stream",
          "text": [
            "100%|██████████| 151/151 [00:34<00:00,  4.41it/s]\n"
          ]
        },
        {
          "name": "stdout",
          "output_type": "stream",
          "text": [
            "Epoch 96\n",
            "--------------------------------------------------------------------------------\n",
            "acc/train: 0.9363400725764645\n",
            "precision/train: 0.9979654120040692\n",
            "recall/train: 0.8903612270829552\n",
            "spec/train: 0.9975822050290135\n",
            "f1/train: 0.9410974673829624\n",
            "--------------------------------------------------------------------------------\n"
          ]
        },
        {
          "name": "stderr",
          "output_type": "stream",
          "text": [
            "100%|██████████| 150/150 [00:33<00:00,  4.43it/s]\n"
          ]
        },
        {
          "name": "stdout",
          "output_type": "stream",
          "text": [
            "Epoch 96\n",
            "--------------------------------------------------------------------------------\n",
            "acc/test: 0.7216462456801759\n",
            "precision/test: 0.7465836360491265\n",
            "recall/test: 0.7834452713741151\n",
            "spec/test: 0.6373762376237624\n",
            "f1/test: 0.7645704162976086\n",
            "--------------------------------------------------------------------------------\n"
          ]
        },
        {
          "name": "stderr",
          "output_type": "stream",
          "text": [
            "100%|██████████| 151/151 [00:34<00:00,  4.41it/s]\n"
          ]
        },
        {
          "name": "stdout",
          "output_type": "stream",
          "text": [
            "Loss reduced from 0.09779391474775131 to 0.09633372738858723 (97/100)\n",
            "Saving checkpoint to /content/drive/MyDrive/4o-SEMESTRE/IC0009/pratica4/model7/checkpointmodel7_2023-10-28 15:39:53.399344.pth.tar\n",
            "Epoch 97\n",
            "--------------------------------------------------------------------------------\n",
            "acc/train: 0.9412130637636081\n",
            "precision/train: 0.998587570621469\n",
            "recall/train: 0.8983481575603558\n",
            "spec/train: 0.9983075435203095\n",
            "f1/train: 0.9458193979933112\n",
            "--------------------------------------------------------------------------------\n"
          ]
        },
        {
          "name": "stderr",
          "output_type": "stream",
          "text": [
            "100%|██████████| 150/150 [00:34<00:00,  4.38it/s]\n"
          ]
        },
        {
          "name": "stdout",
          "output_type": "stream",
          "text": [
            "Epoch 97\n",
            "--------------------------------------------------------------------------------\n",
            "acc/test: 0.7177714943973191\n",
            "precision/test: 0.728112840466926\n",
            "recall/test: 0.8152114721365039\n",
            "spec/test: 0.5849009900990099\n",
            "f1/test: 0.7692044189432217\n",
            "--------------------------------------------------------------------------------\n"
          ]
        },
        {
          "name": "stderr",
          "output_type": "stream",
          "text": [
            "100%|██████████| 151/151 [00:34<00:00,  4.42it/s]\n"
          ]
        },
        {
          "name": "stdout",
          "output_type": "stream",
          "text": [
            "Loss reduced from 0.09633372738858723 to 0.09522529783973235 (98/100)\n",
            "Saving checkpoint to /content/drive/MyDrive/4o-SEMESTRE/IC0009/pratica4/model7/checkpointmodel7_2023-10-28 15:39:53.399344.pth.tar\n",
            "Epoch 98\n",
            "--------------------------------------------------------------------------------\n",
            "acc/train: 0.9405909797822706\n",
            "precision/train: 0.9981832862333468\n",
            "recall/train: 0.8976220729715012\n",
            "spec/train: 0.9978239845261122\n",
            "f1/train: 0.9452355920863997\n",
            "--------------------------------------------------------------------------------\n"
          ]
        },
        {
          "name": "stderr",
          "output_type": "stream",
          "text": [
            "100%|██████████| 150/150 [00:33<00:00,  4.52it/s]\n"
          ]
        },
        {
          "name": "stdout",
          "output_type": "stream",
          "text": [
            "Epoch 98\n",
            "--------------------------------------------------------------------------------\n",
            "acc/test: 0.7125353440150801\n",
            "precision/test: 0.7200636942675159\n",
            "recall/test: 0.820838627700127\n",
            "spec/test: 0.5648514851485148\n",
            "f1/test: 0.7671558232250403\n",
            "--------------------------------------------------------------------------------\n"
          ]
        },
        {
          "name": "stderr",
          "output_type": "stream",
          "text": [
            "100%|██████████| 151/151 [00:34<00:00,  4.39it/s]\n"
          ]
        },
        {
          "name": "stdout",
          "output_type": "stream",
          "text": [
            "Epoch 99\n",
            "--------------------------------------------------------------------------------\n",
            "acc/train: 0.9388284085018144\n",
            "precision/train: 0.9981770305853758\n",
            "recall/train: 0.8945362134688691\n",
            "spec/train: 0.9978239845261122\n",
            "f1/train: 0.9435190503542026\n",
            "--------------------------------------------------------------------------------\n"
          ]
        },
        {
          "name": "stderr",
          "output_type": "stream",
          "text": [
            "100%|██████████| 150/150 [00:33<00:00,  4.53it/s]\n"
          ]
        },
        {
          "name": "stdout",
          "output_type": "stream",
          "text": [
            "Epoch 99\n",
            "--------------------------------------------------------------------------------\n",
            "acc/test: 0.7090794847628024\n",
            "precision/test: 0.7066121954909971\n",
            "recall/test: 0.8477037574877473\n",
            "spec/test: 0.5200495049504951\n",
            "f1/test: 0.7707542498762172\n",
            "--------------------------------------------------------------------------------\n"
          ]
        },
        {
          "name": "stderr",
          "output_type": "stream",
          "text": [
            "100%|██████████| 151/151 [00:33<00:00,  4.45it/s]\n"
          ]
        },
        {
          "name": "stdout",
          "output_type": "stream",
          "text": [
            "Epoch 100\n",
            "--------------------------------------------------------------------------------\n",
            "acc/train: 0.9407983411093831\n",
            "precision/train: 0.9971808296415626\n",
            "recall/train: 0.8988927210019967\n",
            "spec/train: 0.996615087040619\n",
            "f1/train: 0.9454892601431981\n",
            "--------------------------------------------------------------------------------\n"
          ]
        },
        {
          "name": "stderr",
          "output_type": "stream",
          "text": [
            "100%|██████████| 150/150 [00:33<00:00,  4.43it/s]"
          ]
        },
        {
          "name": "stdout",
          "output_type": "stream",
          "text": [
            "Epoch 100\n",
            "--------------------------------------------------------------------------------\n",
            "acc/test: 0.7157817572520683\n",
            "precision/test: 0.7283123672602516\n",
            "recall/test: 0.8092212742784535\n",
            "spec/test: 0.5883663366336633\n",
            "f1/test: 0.7666380051590714\n",
            "--------------------------------------------------------------------------------\n",
            "-------------------- Best epoch (according to F1 score): 84 --------------------\n"
          ]
        },
        {
          "name": "stderr",
          "output_type": "stream",
          "text": [
            "\n"
          ]
        }
      ],
      "source": [
        "meter, test_meter = train_loop(model,\n",
        "                               trainloader,\n",
        "                               testloader,\n",
        "                               epochs,\n",
        "                               criterion,\n",
        "                               optim,\n",
        "                               device,\n",
        "                               checkpoint_path,\n",
        "                               log_path,\n",
        "                               scheduler=scheduler)\n",
        "\n",
        "print(f\" Best epoch (according to F1 score): {np.argmax(meter.history['f1_score']) + 1} \".center(80, '-'))"
      ]
    },
    {
      "cell_type": "code",
      "execution_count": null,
      "metadata": {
        "colab": {
          "base_uri": "https://localhost:8080/",
          "height": 1000
        },
        "id": "smik3ylreh7B",
        "outputId": "7043f770-f7b6-4b6b-ee92-9c7dd1ca9f06"
      },
      "outputs": [
        {
          "data": {
            "image/png": "[encoded data removed]",
            "text/plain": [
              "<Figure size 640x480 with 1 Axes>"
            ]
          },
          "metadata": {},
          "output_type": "display_data"
        },
        {
          "data": {
            "image/png": "[encoded data removed]",
            "text/plain": [
              "<Figure size 640x480 with 1 Axes>"
            ]
          },
          "metadata": {},
          "output_type": "display_data"
        },
        {
          "data": {
            "image/png": "[encoded data removed]",
            "text/plain": [
              "<Figure size 640x480 with 1 Axes>"
            ]
          },
          "metadata": {},
          "output_type": "display_data"
        }
      ],
      "source": [
        "## Plotting\n",
        "import matplotlib.pyplot as plt\n",
        "\n",
        "plt.ylim(0.0, 1.0)\n",
        "plt.yticks(np.arange(0.0, 1.0 + 0.1, 0.1))\n",
        "\n",
        "for m in (\"acc\", \"precision\", \"recall\", \"specificity\", \"f1_score\"):\n",
        "    plt.plot(list(range(1, epochs + 1)), meter.history[m], label=f\"{m}/train\")\n",
        "\n",
        "plt.legend(loc=\"lower left\")\n",
        "plt.savefig(plot_path[0])\n",
        "plt.show()\n",
        "\n",
        "plt.ylim(0.0, 1.0)\n",
        "plt.yticks(np.arange(0.0, 1.0 + 0.1, 0.1))\n",
        "\n",
        "for m in (\"acc\", \"precision\", \"recall\", \"specificity\", \"f1_score\"):\n",
        "    plt.plot(list(range(1, epochs + 1)), test_meter.history[m], label=f\"{m}/test\")\n",
        "\n",
        "plt.legend(loc=\"lower left\")\n",
        "plt.savefig(plot_path[1])\n",
        "plt.show()\n",
        "\n",
        "plt.ylim(0.0, 1.0)\n",
        "plt.yticks(np.arange(0.0, 1.0 + 0.1, 0.1))\n",
        "\n",
        "plt.plot(list(range(1, epochs + 1)), meter.history[\"f1_score\"], label=f\"f1/train\")\n",
        "plt.plot(list(range(1, epochs + 1)), test_meter.history[\"f1_score\"], label=f\"f1/test\")\n",
        "\n",
        "plt.legend(loc=\"lower left\")\n",
        "plt.savefig(plot_path[2])\n",
        "plt.show()\n"
      ]
    },
    {
      "attachments": {},
      "cell_type": "markdown",
      "metadata": {
        "id": "W3mRsM2r5zAI"
      },
      "source": [
        " ## Inference in test dataset\n"
      ]
    },
    {
      "cell_type": "code",
      "execution_count": null,
      "metadata": {
        "colab": {
          "base_uri": "https://localhost:8080/"
        },
        "id": "wMoL1Jco5zAI",
        "outputId": "1dfd7fb5-b466-40b4-fe4f-b33b608b67cb"
      },
      "outputs": [
        {
          "name": "stderr",
          "output_type": "stream",
          "text": [
            "100%|██████████| 150/150 [00:32<00:00,  4.61it/s]"
          ]
        },
        {
          "name": "stdout",
          "output_type": "stream",
          "text": [
            "Inference (test metrics)\n",
            "--------------------------------------------------------------------------------\n",
            "acc/test: 0.7157817572520683\n",
            "precision/test: 0.7283123672602516\n",
            "recall/test: 0.8092212742784535\n",
            "spec/test: 0.5883663366336633\n",
            "f1/test: 0.7666380051590714\n",
            "--------------------------------------------------------------------------------\n"
          ]
        },
        {
          "name": "stderr",
          "output_type": "stream",
          "text": [
            "\n"
          ]
        }
      ],
      "source": [
        "test_meter = Meter()\n",
        "test_writer = Writer(log_path, overwrite=False)\n",
        "\n",
        "## Evaluation mode\n",
        "model.eval()\n",
        "with torch.no_grad():\n",
        "    for feat, labels in tqdm(testloader, total=len(testloader)):\n",
        "        feat = feat.to(device)\n",
        "        labels = labels.to(device)\n",
        "        out = model(feat)\n",
        "        test_meter.update(out, labels)\n",
        "\n",
        "print(\"Inference (test metrics)\")\n",
        "test_writer.file.write(\"Inference (test metrics)\\n\")\n",
        "test_writer.print_info(test_meter, 0, mode=\"test\", inference=True)\n",
        "test_writer.end_writer()"
      ]
    },
    {
      "attachments": {},
      "cell_type": "markdown",
      "metadata": {
        "id": "TE2p-kShtxk8"
      },
      "source": [
        "## Loading checkpoints and calculation PR and ROC"
      ]
    },
    {
      "cell_type": "code",
      "execution_count": null,
      "metadata": {
        "id": "KtiZ4fimrj5T"
      },
      "outputs": [],
      "source": [
        "## plotting precision vs recall curve\n",
        "def plot_curve(metric1,\n",
        "               metric2,\n",
        "               metric1_name: str,\n",
        "               metric2_name: str,\n",
        "               model: MLP,\n",
        "               resolution: int = 200,\n",
        "               savepath : str = None):\n",
        "    import matplotlib.pyplot as plt\n",
        "\n",
        "    m1_list = []\n",
        "    m2_list = []\n",
        "    out_batches = []\n",
        "    label_batches = []\n",
        "    plot_meter = Meter()\n",
        "\n",
        "    model.eval()\n",
        "    with torch.no_grad():\n",
        "        for feat, label in tqdm(testloader, total=len(testloader)):\n",
        "            feat = feat.to(device)\n",
        "            label = label.to(device)\n",
        "            out = model(feat)\n",
        "            out_batches.append(out)\n",
        "            label_batches.append(label)\n",
        "\n",
        "    for i in range(resolution):\n",
        "        threshold = (i / resolution)\n",
        "        plot_meter.reset()\n",
        "        for out, labels in zip(out_batches, label_batches):\n",
        "            plot_meter.update(out, labels, threshold)\n",
        "        m1_list.append(metric1(plot_meter))\n",
        "        m2_list.append(metric2(plot_meter))\n",
        "\n",
        "    plot_meter.reset()\n",
        "    for out, labels in zip(out_batches, label_batches):\n",
        "        plot_meter.update(out, labels, 0.5)\n",
        "    print(f\"Acc: {plot_meter.acc()}\")\n",
        "\n",
        "    idx = np.lexsort((m1_list, m2_list))\n",
        "\n",
        "\n",
        "    plt.xticks(np.arange(0.0, 1.0 + 0.1, 0.1))\n",
        "    plt.yticks(np.arange(0.0, 1.0 + 0.1, 0.1))\n",
        "    plt.ylim(0.0, 1.0)\n",
        "    plt.plot([m1_list[i] for i in idx], [m2_list[i] for i in idx])\n",
        "    plt.xlabel(metric1_name)\n",
        "    plt.ylabel(metric2_name)\n",
        "\n",
        "    if savepath is not None:\n",
        "        print(f\"Saving to {savepath}\")\n",
        "        plt.savefig(savepath)\n",
        "    plt.show()"
      ]
    },
    {
      "cell_type": "code",
      "execution_count": null,
      "metadata": {
        "id": "dbnZSjdOwKQo"
      },
      "outputs": [],
      "source": [
        "# trainloader = DataLoader(train_dataset,\n",
        "#                           batch_size=batch_size,\n",
        "#                           shuffle=shuffle,\n",
        "#                           num_workers=num_workers)\n",
        "# testloader = DataLoader(test_dataset,\n",
        "#                         batch_size=batch_size,\n",
        "#                         shuffle=shuffle,\n",
        "#                         num_workers=num_workers)"
      ]
    },
    {
      "cell_type": "code",
      "execution_count": null,
      "metadata": {
        "id": "gKtjSmd0wfe7"
      },
      "outputs": [],
      "source": [
        "model = MLP(feat_dim, layers, dropouts, leak)\n",
        "model.load_state_dict(torch.load(checkpoint_path))\n",
        "model = model.to(device)"
      ]
    },
    {
      "cell_type": "code",
      "execution_count": null,
      "metadata": {
        "colab": {
          "base_uri": "https://localhost:8080/",
          "height": 997
        },
        "id": "I52_PoxZySYZ",
        "outputId": "441221a9-6b93-4411-ef78-2e9d396651a8"
      },
      "outputs": [
        {
          "name": "stderr",
          "output_type": "stream",
          "text": [
            "100%|██████████| 150/150 [00:32<00:00,  4.55it/s]\n"
          ]
        },
        {
          "name": "stdout",
          "output_type": "stream",
          "text": [
            "Acc: 0.7125353440150801\n",
            "Saving to /content/drive/MyDrive/4o-SEMESTRE/IC0009/pratica4/model7/roc_mlp_model7_2023-10-28 15:39:53.399024.pdf\n"
          ]
        },
        {
          "data": {
            "image/png": "[encoded data removed]",
            "text/plain": [
              "<Figure size 640x480 with 1 Axes>"
            ]
          },
          "metadata": {},
          "output_type": "display_data"
        },
        {
          "name": "stderr",
          "output_type": "stream",
          "text": [
            "100%|██████████| 150/150 [00:33<00:00,  4.53it/s]\n"
          ]
        },
        {
          "name": "stdout",
          "output_type": "stream",
          "text": [
            "Acc: 0.7125353440150801\n",
            "Saving to /content/drive/MyDrive/4o-SEMESTRE/IC0009/pratica4/model7/pr_path_model7_2023-10-28 15:39:53.399101.pdf\n"
          ]
        },
        {
          "data": {
            "image/png": "[encoded data removed]",
            "text/plain": [
              "<Figure size 640x480 with 1 Axes>"
            ]
          },
          "metadata": {},
          "output_type": "display_data"
        }
      ],
      "source": [
        "fpr = lambda meter: meter.FP / (meter.FP + meter.TN)\n",
        "plot_curve(fpr, Meter.recall,\n",
        "           \"False positive rate (FPR)\",\n",
        "           \"True positive rate (TPR/recall)\",\n",
        "           model,\n",
        "           roc_resolution,\n",
        "           roc_path)\n",
        "plot_curve(Meter.recall, Meter.precision,\n",
        "           \"Precision\",\n",
        "           \"Recall\",\n",
        "           model,\n",
        "           pr_resolution,\n",
        "           pr_path)"
      ]
    }
  ],
  "metadata": {
    "accelerator": "GPU",
    "colab": {
      "gpuType": "T4",
      "provenance": []
    },
    "kernelspec": {
      "display_name": "Python 3",
      "name": "python3"
    },
    "language_info": {
      "name": "python"
    },
    "orig_nbformat": 4
  },
  "nbformat": 4,
  "nbformat_minor": 0
}
